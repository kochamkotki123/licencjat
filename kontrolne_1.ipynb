{
  "nbformat": 4,
  "nbformat_minor": 0,
  "metadata": {
    "colab": {
      "provenance": []
    },
    "kernelspec": {
      "name": "python3",
      "display_name": "Python 3"
    },
    "language_info": {
      "name": "python"
    }
  },
  "cells": [
    {
      "cell_type": "code",
      "execution_count": 1,
      "metadata": {
        "id": "KbqWRaUE-hp8"
      },
      "outputs": [],
      "source": [
        "import numpy as np\n",
        "import matplotlib.pyplot as plt\n",
        "import tensorflow as tf\n",
        "import pandas as pd\n",
        "import os\n",
        "os.environ[\"KMP_DUPLICATE_LIB_OK\"]=\"TRUE\"\n",
        "os.environ['CUDA_VISIBLE_DEVICES'] = '-1'\n",
        "from tensorflow.keras.callbacks import EarlyStopping\n",
        "from tensorflow.keras.models import Sequential\n",
        "from tensorflow.keras.layers import Dense, Dropout\n",
        "from tensorflow.keras.layers import BatchNormalization\n",
        "\n",
        "es = EarlyStopping(monitor = \"val_loss\", mode = \"min\", patience = 5)\n",
        "\n",
        "EPOCHS = 1000"
      ]
    },
    {
      "cell_type": "code",
      "source": [
        "import pandas as pd\n",
        "\n",
        "try:\n",
        "    df = pd.read_csv('file.csv', sep=\",\", on_bad_lines='skip')  # Skip bad lines\n",
        "    print(\"CSV file read successfully, skipping problematic lines.\")\n",
        "except pd.errors.ParserError as e:\n",
        "    print(f\"Error reading CSV: {e}\")\n",
        "    # Find problematic lines (this might print multiple lines)\n",
        "    with open('file.csv', 'r') as f:\n",
        "        for i, line in enumerate(f):\n",
        "            if len(line.split(',')) != 4:  # Assuming expected number of fields is 4\n",
        "                print(f\"Problematic line ({i+1}): {line}\")"
      ],
      "metadata": {
        "colab": {
          "base_uri": "https://localhost:8080/"
        },
        "id": "VUD7XFQtIvmj",
        "outputId": "d64d2ee0-24fa-426f-f861-2fba537486f4"
      },
      "execution_count": 13,
      "outputs": [
        {
          "output_type": "stream",
          "name": "stdout",
          "text": [
            "CSV file read successfully, skipping problematic lines.\n"
          ]
        }
      ]
    },
    {
      "cell_type": "code",
      "source": [
        "df = df.drop('Unnamed: 0', axis=1)"
      ],
      "metadata": {
        "id": "bejOtK0zO-xJ"
      },
      "execution_count": 15,
      "outputs": []
    },
    {
      "cell_type": "code",
      "source": [
        "df"
      ],
      "metadata": {
        "colab": {
          "base_uri": "https://localhost:8080/",
          "height": 423
        },
        "id": "9fDEaXLcQNit",
        "outputId": "a84baa5b-be01-4899-f9fc-8184da97d5a6"
      },
      "execution_count": 16,
      "outputs": [
        {
          "output_type": "execute_result",
          "data": {
            "text/plain": [
              "                                                  title  \\\n",
              "0                              Essentially Lanthimosian   \n",
              "1                             Classic cynical lanthimos   \n",
              "2     It's a refreshing new chapter to Yorgos' filmo...   \n",
              "3                                                Review   \n",
              "4            Lanthimos & Filippou: A Unique Kind of Duo   \n",
              "...                                                 ...   \n",
              "5240                  Brings back the kid in all of us.   \n",
              "5241                           Fun, deep and impactful.   \n",
              "5242                           A fun and emotional time   \n",
              "5243                 Good movie but not for little kids   \n",
              "5244               Glad I didn't have a kid see me cry.   \n",
              "\n",
              "                                                 review rating  \n",
              "0     Over the last twenty years, Yorgos Lanthimos h...   8/10  \n",
              "1     This feels like the summer movie for lanthimos...   8/10  \n",
              "2     \"Kinds of Kindness\" is Yorgos' latest cinemati...   8/10  \n",
              "3     Concerning the first story, I think that it pa...  10/10  \n",
              "4     Yorgos Lanthimos returns with a vengeance, del...   7/10  \n",
              "...                                                 ...    ...  \n",
              "5240  You ever have an imaginary friend? An \"IF\"? Mo...  10/10  \n",
              "5241  This movie touched the deepest part of my hear...  10/10  \n",
              "5242  POSITIVES:1) The two lead performances are bot...   8/10  \n",
              "5243  I really enjoyed this movie. BUT, I think a lo...   9/10  \n",
              "5244  I heard this movie was evoking emotion so I he...  10/10  \n",
              "\n",
              "[5245 rows x 3 columns]"
            ],
            "text/html": [
              "\n",
              "  <div id=\"df-bcd6940f-5f49-464b-be11-2af8a41ab973\" class=\"colab-df-container\">\n",
              "    <div>\n",
              "<style scoped>\n",
              "    .dataframe tbody tr th:only-of-type {\n",
              "        vertical-align: middle;\n",
              "    }\n",
              "\n",
              "    .dataframe tbody tr th {\n",
              "        vertical-align: top;\n",
              "    }\n",
              "\n",
              "    .dataframe thead th {\n",
              "        text-align: right;\n",
              "    }\n",
              "</style>\n",
              "<table border=\"1\" class=\"dataframe\">\n",
              "  <thead>\n",
              "    <tr style=\"text-align: right;\">\n",
              "      <th></th>\n",
              "      <th>title</th>\n",
              "      <th>review</th>\n",
              "      <th>rating</th>\n",
              "    </tr>\n",
              "  </thead>\n",
              "  <tbody>\n",
              "    <tr>\n",
              "      <th>0</th>\n",
              "      <td>Essentially Lanthimosian</td>\n",
              "      <td>Over the last twenty years, Yorgos Lanthimos h...</td>\n",
              "      <td>8/10</td>\n",
              "    </tr>\n",
              "    <tr>\n",
              "      <th>1</th>\n",
              "      <td>Classic cynical lanthimos</td>\n",
              "      <td>This feels like the summer movie for lanthimos...</td>\n",
              "      <td>8/10</td>\n",
              "    </tr>\n",
              "    <tr>\n",
              "      <th>2</th>\n",
              "      <td>It's a refreshing new chapter to Yorgos' filmo...</td>\n",
              "      <td>\"Kinds of Kindness\" is Yorgos' latest cinemati...</td>\n",
              "      <td>8/10</td>\n",
              "    </tr>\n",
              "    <tr>\n",
              "      <th>3</th>\n",
              "      <td>Review</td>\n",
              "      <td>Concerning the first story, I think that it pa...</td>\n",
              "      <td>10/10</td>\n",
              "    </tr>\n",
              "    <tr>\n",
              "      <th>4</th>\n",
              "      <td>Lanthimos &amp; Filippou: A Unique Kind of Duo</td>\n",
              "      <td>Yorgos Lanthimos returns with a vengeance, del...</td>\n",
              "      <td>7/10</td>\n",
              "    </tr>\n",
              "    <tr>\n",
              "      <th>...</th>\n",
              "      <td>...</td>\n",
              "      <td>...</td>\n",
              "      <td>...</td>\n",
              "    </tr>\n",
              "    <tr>\n",
              "      <th>5240</th>\n",
              "      <td>Brings back the kid in all of us.</td>\n",
              "      <td>You ever have an imaginary friend? An \"IF\"? Mo...</td>\n",
              "      <td>10/10</td>\n",
              "    </tr>\n",
              "    <tr>\n",
              "      <th>5241</th>\n",
              "      <td>Fun, deep and impactful.</td>\n",
              "      <td>This movie touched the deepest part of my hear...</td>\n",
              "      <td>10/10</td>\n",
              "    </tr>\n",
              "    <tr>\n",
              "      <th>5242</th>\n",
              "      <td>A fun and emotional time</td>\n",
              "      <td>POSITIVES:1) The two lead performances are bot...</td>\n",
              "      <td>8/10</td>\n",
              "    </tr>\n",
              "    <tr>\n",
              "      <th>5243</th>\n",
              "      <td>Good movie but not for little kids</td>\n",
              "      <td>I really enjoyed this movie. BUT, I think a lo...</td>\n",
              "      <td>9/10</td>\n",
              "    </tr>\n",
              "    <tr>\n",
              "      <th>5244</th>\n",
              "      <td>Glad I didn't have a kid see me cry.</td>\n",
              "      <td>I heard this movie was evoking emotion so I he...</td>\n",
              "      <td>10/10</td>\n",
              "    </tr>\n",
              "  </tbody>\n",
              "</table>\n",
              "<p>5245 rows × 3 columns</p>\n",
              "</div>\n",
              "    <div class=\"colab-df-buttons\">\n",
              "\n",
              "  <div class=\"colab-df-container\">\n",
              "    <button class=\"colab-df-convert\" onclick=\"convertToInteractive('df-bcd6940f-5f49-464b-be11-2af8a41ab973')\"\n",
              "            title=\"Convert this dataframe to an interactive table.\"\n",
              "            style=\"display:none;\">\n",
              "\n",
              "  <svg xmlns=\"http://www.w3.org/2000/svg\" height=\"24px\" viewBox=\"0 -960 960 960\">\n",
              "    <path d=\"M120-120v-720h720v720H120Zm60-500h600v-160H180v160Zm220 220h160v-160H400v160Zm0 220h160v-160H400v160ZM180-400h160v-160H180v160Zm440 0h160v-160H620v160ZM180-180h160v-160H180v160Zm440 0h160v-160H620v160Z\"/>\n",
              "  </svg>\n",
              "    </button>\n",
              "\n",
              "  <style>\n",
              "    .colab-df-container {\n",
              "      display:flex;\n",
              "      gap: 12px;\n",
              "    }\n",
              "\n",
              "    .colab-df-convert {\n",
              "      background-color: #E8F0FE;\n",
              "      border: none;\n",
              "      border-radius: 50%;\n",
              "      cursor: pointer;\n",
              "      display: none;\n",
              "      fill: #1967D2;\n",
              "      height: 32px;\n",
              "      padding: 0 0 0 0;\n",
              "      width: 32px;\n",
              "    }\n",
              "\n",
              "    .colab-df-convert:hover {\n",
              "      background-color: #E2EBFA;\n",
              "      box-shadow: 0px 1px 2px rgba(60, 64, 67, 0.3), 0px 1px 3px 1px rgba(60, 64, 67, 0.15);\n",
              "      fill: #174EA6;\n",
              "    }\n",
              "\n",
              "    .colab-df-buttons div {\n",
              "      margin-bottom: 4px;\n",
              "    }\n",
              "\n",
              "    [theme=dark] .colab-df-convert {\n",
              "      background-color: #3B4455;\n",
              "      fill: #D2E3FC;\n",
              "    }\n",
              "\n",
              "    [theme=dark] .colab-df-convert:hover {\n",
              "      background-color: #434B5C;\n",
              "      box-shadow: 0px 1px 3px 1px rgba(0, 0, 0, 0.15);\n",
              "      filter: drop-shadow(0px 1px 2px rgba(0, 0, 0, 0.3));\n",
              "      fill: #FFFFFF;\n",
              "    }\n",
              "  </style>\n",
              "\n",
              "    <script>\n",
              "      const buttonEl =\n",
              "        document.querySelector('#df-bcd6940f-5f49-464b-be11-2af8a41ab973 button.colab-df-convert');\n",
              "      buttonEl.style.display =\n",
              "        google.colab.kernel.accessAllowed ? 'block' : 'none';\n",
              "\n",
              "      async function convertToInteractive(key) {\n",
              "        const element = document.querySelector('#df-bcd6940f-5f49-464b-be11-2af8a41ab973');\n",
              "        const dataTable =\n",
              "          await google.colab.kernel.invokeFunction('convertToInteractive',\n",
              "                                                    [key], {});\n",
              "        if (!dataTable) return;\n",
              "\n",
              "        const docLinkHtml = 'Like what you see? Visit the ' +\n",
              "          '<a target=\"_blank\" href=https://colab.research.google.com/notebooks/data_table.ipynb>data table notebook</a>'\n",
              "          + ' to learn more about interactive tables.';\n",
              "        element.innerHTML = '';\n",
              "        dataTable['output_type'] = 'display_data';\n",
              "        await google.colab.output.renderOutput(dataTable, element);\n",
              "        const docLink = document.createElement('div');\n",
              "        docLink.innerHTML = docLinkHtml;\n",
              "        element.appendChild(docLink);\n",
              "      }\n",
              "    </script>\n",
              "  </div>\n",
              "\n",
              "\n",
              "<div id=\"df-e5d02df1-4e3a-439a-8e84-6f2a4972a0d8\">\n",
              "  <button class=\"colab-df-quickchart\" onclick=\"quickchart('df-e5d02df1-4e3a-439a-8e84-6f2a4972a0d8')\"\n",
              "            title=\"Suggest charts\"\n",
              "            style=\"display:none;\">\n",
              "\n",
              "<svg xmlns=\"http://www.w3.org/2000/svg\" height=\"24px\"viewBox=\"0 0 24 24\"\n",
              "     width=\"24px\">\n",
              "    <g>\n",
              "        <path d=\"M19 3H5c-1.1 0-2 .9-2 2v14c0 1.1.9 2 2 2h14c1.1 0 2-.9 2-2V5c0-1.1-.9-2-2-2zM9 17H7v-7h2v7zm4 0h-2V7h2v10zm4 0h-2v-4h2v4z\"/>\n",
              "    </g>\n",
              "</svg>\n",
              "  </button>\n",
              "\n",
              "<style>\n",
              "  .colab-df-quickchart {\n",
              "      --bg-color: #E8F0FE;\n",
              "      --fill-color: #1967D2;\n",
              "      --hover-bg-color: #E2EBFA;\n",
              "      --hover-fill-color: #174EA6;\n",
              "      --disabled-fill-color: #AAA;\n",
              "      --disabled-bg-color: #DDD;\n",
              "  }\n",
              "\n",
              "  [theme=dark] .colab-df-quickchart {\n",
              "      --bg-color: #3B4455;\n",
              "      --fill-color: #D2E3FC;\n",
              "      --hover-bg-color: #434B5C;\n",
              "      --hover-fill-color: #FFFFFF;\n",
              "      --disabled-bg-color: #3B4455;\n",
              "      --disabled-fill-color: #666;\n",
              "  }\n",
              "\n",
              "  .colab-df-quickchart {\n",
              "    background-color: var(--bg-color);\n",
              "    border: none;\n",
              "    border-radius: 50%;\n",
              "    cursor: pointer;\n",
              "    display: none;\n",
              "    fill: var(--fill-color);\n",
              "    height: 32px;\n",
              "    padding: 0;\n",
              "    width: 32px;\n",
              "  }\n",
              "\n",
              "  .colab-df-quickchart:hover {\n",
              "    background-color: var(--hover-bg-color);\n",
              "    box-shadow: 0 1px 2px rgba(60, 64, 67, 0.3), 0 1px 3px 1px rgba(60, 64, 67, 0.15);\n",
              "    fill: var(--button-hover-fill-color);\n",
              "  }\n",
              "\n",
              "  .colab-df-quickchart-complete:disabled,\n",
              "  .colab-df-quickchart-complete:disabled:hover {\n",
              "    background-color: var(--disabled-bg-color);\n",
              "    fill: var(--disabled-fill-color);\n",
              "    box-shadow: none;\n",
              "  }\n",
              "\n",
              "  .colab-df-spinner {\n",
              "    border: 2px solid var(--fill-color);\n",
              "    border-color: transparent;\n",
              "    border-bottom-color: var(--fill-color);\n",
              "    animation:\n",
              "      spin 1s steps(1) infinite;\n",
              "  }\n",
              "\n",
              "  @keyframes spin {\n",
              "    0% {\n",
              "      border-color: transparent;\n",
              "      border-bottom-color: var(--fill-color);\n",
              "      border-left-color: var(--fill-color);\n",
              "    }\n",
              "    20% {\n",
              "      border-color: transparent;\n",
              "      border-left-color: var(--fill-color);\n",
              "      border-top-color: var(--fill-color);\n",
              "    }\n",
              "    30% {\n",
              "      border-color: transparent;\n",
              "      border-left-color: var(--fill-color);\n",
              "      border-top-color: var(--fill-color);\n",
              "      border-right-color: var(--fill-color);\n",
              "    }\n",
              "    40% {\n",
              "      border-color: transparent;\n",
              "      border-right-color: var(--fill-color);\n",
              "      border-top-color: var(--fill-color);\n",
              "    }\n",
              "    60% {\n",
              "      border-color: transparent;\n",
              "      border-right-color: var(--fill-color);\n",
              "    }\n",
              "    80% {\n",
              "      border-color: transparent;\n",
              "      border-right-color: var(--fill-color);\n",
              "      border-bottom-color: var(--fill-color);\n",
              "    }\n",
              "    90% {\n",
              "      border-color: transparent;\n",
              "      border-bottom-color: var(--fill-color);\n",
              "    }\n",
              "  }\n",
              "</style>\n",
              "\n",
              "  <script>\n",
              "    async function quickchart(key) {\n",
              "      const quickchartButtonEl =\n",
              "        document.querySelector('#' + key + ' button');\n",
              "      quickchartButtonEl.disabled = true;  // To prevent multiple clicks.\n",
              "      quickchartButtonEl.classList.add('colab-df-spinner');\n",
              "      try {\n",
              "        const charts = await google.colab.kernel.invokeFunction(\n",
              "            'suggestCharts', [key], {});\n",
              "      } catch (error) {\n",
              "        console.error('Error during call to suggestCharts:', error);\n",
              "      }\n",
              "      quickchartButtonEl.classList.remove('colab-df-spinner');\n",
              "      quickchartButtonEl.classList.add('colab-df-quickchart-complete');\n",
              "    }\n",
              "    (() => {\n",
              "      let quickchartButtonEl =\n",
              "        document.querySelector('#df-e5d02df1-4e3a-439a-8e84-6f2a4972a0d8 button');\n",
              "      quickchartButtonEl.style.display =\n",
              "        google.colab.kernel.accessAllowed ? 'block' : 'none';\n",
              "    })();\n",
              "  </script>\n",
              "</div>\n",
              "\n",
              "  <div id=\"id_15b30b81-a486-4076-8651-3b6b5187d883\">\n",
              "    <style>\n",
              "      .colab-df-generate {\n",
              "        background-color: #E8F0FE;\n",
              "        border: none;\n",
              "        border-radius: 50%;\n",
              "        cursor: pointer;\n",
              "        display: none;\n",
              "        fill: #1967D2;\n",
              "        height: 32px;\n",
              "        padding: 0 0 0 0;\n",
              "        width: 32px;\n",
              "      }\n",
              "\n",
              "      .colab-df-generate:hover {\n",
              "        background-color: #E2EBFA;\n",
              "        box-shadow: 0px 1px 2px rgba(60, 64, 67, 0.3), 0px 1px 3px 1px rgba(60, 64, 67, 0.15);\n",
              "        fill: #174EA6;\n",
              "      }\n",
              "\n",
              "      [theme=dark] .colab-df-generate {\n",
              "        background-color: #3B4455;\n",
              "        fill: #D2E3FC;\n",
              "      }\n",
              "\n",
              "      [theme=dark] .colab-df-generate:hover {\n",
              "        background-color: #434B5C;\n",
              "        box-shadow: 0px 1px 3px 1px rgba(0, 0, 0, 0.15);\n",
              "        filter: drop-shadow(0px 1px 2px rgba(0, 0, 0, 0.3));\n",
              "        fill: #FFFFFF;\n",
              "      }\n",
              "    </style>\n",
              "    <button class=\"colab-df-generate\" onclick=\"generateWithVariable('df')\"\n",
              "            title=\"Generate code using this dataframe.\"\n",
              "            style=\"display:none;\">\n",
              "\n",
              "  <svg xmlns=\"http://www.w3.org/2000/svg\" height=\"24px\"viewBox=\"0 0 24 24\"\n",
              "       width=\"24px\">\n",
              "    <path d=\"M7,19H8.4L18.45,9,17,7.55,7,17.6ZM5,21V16.75L18.45,3.32a2,2,0,0,1,2.83,0l1.4,1.43a1.91,1.91,0,0,1,.58,1.4,1.91,1.91,0,0,1-.58,1.4L9.25,21ZM18.45,9,17,7.55Zm-12,3A5.31,5.31,0,0,0,4.9,8.1,5.31,5.31,0,0,0,1,6.5,5.31,5.31,0,0,0,4.9,4.9,5.31,5.31,0,0,0,6.5,1,5.31,5.31,0,0,0,8.1,4.9,5.31,5.31,0,0,0,12,6.5,5.46,5.46,0,0,0,6.5,12Z\"/>\n",
              "  </svg>\n",
              "    </button>\n",
              "    <script>\n",
              "      (() => {\n",
              "      const buttonEl =\n",
              "        document.querySelector('#id_15b30b81-a486-4076-8651-3b6b5187d883 button.colab-df-generate');\n",
              "      buttonEl.style.display =\n",
              "        google.colab.kernel.accessAllowed ? 'block' : 'none';\n",
              "\n",
              "      buttonEl.onclick = () => {\n",
              "        google.colab.notebook.generateWithVariable('df');\n",
              "      }\n",
              "      })();\n",
              "    </script>\n",
              "  </div>\n",
              "\n",
              "    </div>\n",
              "  </div>\n"
            ],
            "application/vnd.google.colaboratory.intrinsic+json": {
              "type": "dataframe",
              "variable_name": "df",
              "summary": "{\n  \"name\": \"df\",\n  \"rows\": 5245,\n  \"fields\": [\n    {\n      \"column\": \"title\",\n      \"properties\": {\n        \"dtype\": \"string\",\n        \"num_unique_values\": 4808,\n        \"samples\": [\n          \"Honest review\",\n          \"Did I enjoy it? Yes, very much so\",\n          \"one word: Noisy.\"\n        ],\n        \"semantic_type\": \"\",\n        \"description\": \"\"\n      }\n    },\n    {\n      \"column\": \"review\",\n      \"properties\": {\n        \"dtype\": \"string\",\n        \"num_unique_values\": 4965,\n        \"samples\": [\n          \"How often these days can you say a sequel surpasses the first film? Now I understand that this is technically a second part of one whole story however the depth and scale of this film is remarkable that deserves commendation to all involved who have pushed it beyond the first film in every way. It is truly a masterpiece - a film that will be talked about for generations and one that will undoubtedly become a classic of cinema. A book that many thought would be impossible to fully convey through film has finally had its triumph on the big screen thanks to the mastermind that is Denis Villenevue.\",\n          \"A half century ago, some bikers liked to hang out, belt down brews, bang broads, and hang out some more. Danny Lyon (Mike Faist) is a college boy writing a book about a midwestern gang, which slowly evolves into a criminal enterprise like the Mafia. Most of his interviews are with Kathy (Jodie Comer), who marries Bennie (Austin Butler). Johnny (Tom Hardy) is the careworn leader of the club, who sees Benny as a worthy successor; Michael Shannon offers solid support as well. This is a long way from from the \\\"peace, love, good vibes\\\" in \\\"Easy Rider\\\" (1969); here we get the lower orders who wanted bombs, not Brahms. Writer/director Jeff Nichols does a fine job bringing Danny Lyon's book to the screen. I sense an Oscar nomination in Comer's near future.\",\n          \"I am very happy that my favourite Mahabharata character is in the movie.The first 20 minutes story and first fight has been dragged and it's boring. But after that, story takes on you. It will get intriguing and one by one main characters will be introduced accordingly with a good entry scenes.A very good graphics can be compared to a Hollywood range. Big B and Rebel star acting with a Deepika's mixture is just wow.Saswat chaterjee has very well played a villain role curious to see how Kamal will take on the next part.A very good sci-fi thriller movie in Indian cinema. Definitely worth watching.\"\n        ],\n        \"semantic_type\": \"\",\n        \"description\": \"\"\n      }\n    },\n    {\n      \"column\": \"rating\",\n      \"properties\": {\n        \"dtype\": \"category\",\n        \"num_unique_values\": 22,\n        \"samples\": [\n          \"8/10\",\n          \"7/10;;;;;;\",\n          \"3/10\"\n        ],\n        \"semantic_type\": \"\",\n        \"description\": \"\"\n      }\n    }\n  ]\n}"
            }
          },
          "metadata": {},
          "execution_count": 16
        }
      ]
    },
    {
      "cell_type": "code",
      "source": [
        "df['review'][88]"
      ],
      "metadata": {
        "colab": {
          "base_uri": "https://localhost:8080/",
          "height": 140
        },
        "id": "kX5zWJ0QtMHT",
        "outputId": "6a7e7468-4e64-4925-a90b-b40e35c38af3"
      },
      "execution_count": 17,
      "outputs": [
        {
          "output_type": "execute_result",
          "data": {
            "text/plain": [
              "'This was a solid WWII film that just wants to have fun, and I have a place in my heart for films like that. Its great cast distracts from the weak characterization in the script. Standouts are Henry Cavill (of course), Eiza Gonzales and Alan Ritchson. It\\'s a very plot driven movie, but the plot is interesting (especially considering it is loosely based on real events). If the script made us care more about the people, this would have been great movie. Instead everyone comes off as \"movie characters;\" I\\'m sure the actual people involved were far more interesting than that. In some ways, the movie highlights a fascinating mission from WWII while doing a disservice to the men involved.Those script issues aside, the movie\\'s direction and tone are very fun. There\\'s a great musical sequence I very much enjoyed and I did find myself invested in the mission as the third act neared. Don\\'t expect to be on the edge of your seat as this is less about suspense and all about style. But it was a fun time at the theater and I think it\\'s worth seeing for that alone.Side note: YMMV but save for a bloody moment or two, it\\'s far less graphic than the R rating may lead you to believe.'"
            ],
            "application/vnd.google.colaboratory.intrinsic+json": {
              "type": "string"
            }
          },
          "metadata": {},
          "execution_count": 17
        }
      ]
    },
    {
      "cell_type": "code",
      "source": [
        "import re\n",
        "import string\n",
        "import nltk\n",
        "from nltk.corpus import stopwords\n",
        "from nltk.stem import WordNetLemmatizer\n",
        "from nltk.stem.porter import *\n",
        "from tqdm import tqdm\n",
        "from nltk import sent_tokenize,word_tokenize\n",
        "\n",
        "nltk.download('stopwords')\n",
        "nltk.download('punkt')\n",
        "nltk.download('wordnet')\n",
        "nltk.download('omw-1.4')"
      ],
      "metadata": {
        "colab": {
          "base_uri": "https://localhost:8080/"
        },
        "id": "s9jktLj0RE2K",
        "outputId": "b90bfd58-f7a6-434d-bf55-9c967c6b18a5"
      },
      "execution_count": 18,
      "outputs": [
        {
          "output_type": "stream",
          "name": "stderr",
          "text": [
            "[nltk_data] Downloading package stopwords to /root/nltk_data...\n",
            "[nltk_data]   Unzipping corpora/stopwords.zip.\n",
            "[nltk_data] Downloading package punkt to /root/nltk_data...\n",
            "[nltk_data]   Unzipping tokenizers/punkt.zip.\n",
            "[nltk_data] Downloading package wordnet to /root/nltk_data...\n",
            "[nltk_data] Downloading package omw-1.4 to /root/nltk_data...\n"
          ]
        },
        {
          "output_type": "execute_result",
          "data": {
            "text/plain": [
              "True"
            ]
          },
          "metadata": {},
          "execution_count": 18
        }
      ]
    },
    {
      "cell_type": "code",
      "source": [
        "main = []\n",
        "\n",
        "# Storing all punctuations using RE library like !;,\"% etc\n",
        "re_puncs = re.compile('[%s]' % re.escape(string.punctuation))\n",
        "# Storing all stop words like a, an, the, when, there, this etc\n",
        "stop_word  = set(stopwords.words('english'))\n",
        "stop_word.add(\"im\")\n",
        "# print(stop_word)\n"
      ],
      "metadata": {
        "id": "unexSO72RQiG"
      },
      "execution_count": 19,
      "outputs": []
    },
    {
      "cell_type": "code",
      "source": [
        "sentences_listed = [str(line).split(\" \") for line in df['review']]\n",
        "\n",
        "import gensim\n",
        "\n",
        "word_model = gensim.models.Word2Vec(sentences = sentences_listed, vector_size = 100)\n",
        "words = list(word_model.wv.key_to_index)\n",
        "print(len(words))"
      ],
      "metadata": {
        "colab": {
          "base_uri": "https://localhost:8080/"
        },
        "id": "uLp5QsLaRdVz",
        "outputId": "d8f77d55-a72a-4175-d36f-baedae3ab2bd"
      },
      "execution_count": 21,
      "outputs": [
        {
          "output_type": "stream",
          "name": "stdout",
          "text": [
            "12568\n"
          ]
        }
      ]
    },
    {
      "cell_type": "code",
      "source": [
        "!pip install gensim"
      ],
      "metadata": {
        "colab": {
          "base_uri": "https://localhost:8080/"
        },
        "id": "3G34SZxiRjNl",
        "outputId": "57ec6d37-292b-40b0-a7f7-bd0322e18658"
      },
      "execution_count": 22,
      "outputs": [
        {
          "output_type": "stream",
          "name": "stdout",
          "text": [
            "Requirement already satisfied: gensim in /usr/local/lib/python3.10/dist-packages (4.3.2)\n",
            "Requirement already satisfied: numpy>=1.18.5 in /usr/local/lib/python3.10/dist-packages (from gensim) (1.25.2)\n",
            "Requirement already satisfied: scipy>=1.7.0 in /usr/local/lib/python3.10/dist-packages (from gensim) (1.11.4)\n",
            "Requirement already satisfied: smart-open>=1.8.1 in /usr/local/lib/python3.10/dist-packages (from gensim) (7.0.4)\n",
            "Requirement already satisfied: wrapt in /usr/local/lib/python3.10/dist-packages (from smart-open>=1.8.1->gensim) (1.14.1)\n"
          ]
        }
      ]
    },
    {
      "cell_type": "code",
      "source": [
        "# Making Lemmatizing object\n",
        "lem = WordNetLemmatizer()\n",
        "# Using Porter Stemmer\n",
        "p_stem = PorterStemmer()\n",
        "\n",
        "# Traversing whole dataset\n",
        "for i in tqdm(range(len(df['review']))):\n",
        "    # Tokenization\n",
        "    tokens = word_tokenize(str(df['review'][i]))\n",
        "    # Converting all characters to lower case\n",
        "    tokens = [w.lower() for w in tokens]\n",
        "    # Remove all punctuations from sentenses\n",
        "    tokens = [re_puncs.sub('', w) for w in tokens]\n",
        "    # Checking all words is alphabets or not\n",
        "    tokens = [i for i in tokens if i.isalpha()]\n",
        "    # Removing all stop words from the sentenses\n",
        "    tokens = [w for w in tokens if w not in stop_word]\n",
        "    # Doing Lemmatizing of words\n",
        "    tokens = [lem.lemmatize(w) for w in tokens]\n",
        "    # Stemming process\n",
        "    tokens = [p_stem.stem(w) for w in tokens]\n",
        "    # Finally convert to string\n",
        "    r = ' '.join(tokens)\n",
        "    # Storing the final string into main list\n",
        "    main.append(r)\n"
      ],
      "metadata": {
        "colab": {
          "base_uri": "https://localhost:8080/"
        },
        "id": "R7A1wClxRzER",
        "outputId": "16e4e3af-008a-48e7-c01d-d2208455e79a"
      },
      "execution_count": 23,
      "outputs": [
        {
          "output_type": "stream",
          "name": "stderr",
          "text": [
            "100%|██████████| 5245/5245 [00:47<00:00, 110.93it/s]\n"
          ]
        }
      ]
    },
    {
      "cell_type": "code",
      "source": [
        "df['translated'] = main"
      ],
      "metadata": {
        "id": "IIIkhxzKXEwI"
      },
      "execution_count": 24,
      "outputs": []
    },
    {
      "cell_type": "code",
      "source": [
        "df"
      ],
      "metadata": {
        "colab": {
          "base_uri": "https://localhost:8080/",
          "height": 475
        },
        "id": "mhxJj5zWXYiC",
        "outputId": "c06b9cdb-9c89-46d7-ae5b-0e0057923515"
      },
      "execution_count": 25,
      "outputs": [
        {
          "output_type": "execute_result",
          "data": {
            "text/plain": [
              "                                                  title  \\\n",
              "0                              Essentially Lanthimosian   \n",
              "1                             Classic cynical lanthimos   \n",
              "2     It's a refreshing new chapter to Yorgos' filmo...   \n",
              "3                                                Review   \n",
              "4            Lanthimos & Filippou: A Unique Kind of Duo   \n",
              "...                                                 ...   \n",
              "5240                  Brings back the kid in all of us.   \n",
              "5241                           Fun, deep and impactful.   \n",
              "5242                           A fun and emotional time   \n",
              "5243                 Good movie but not for little kids   \n",
              "5244               Glad I didn't have a kid see me cry.   \n",
              "\n",
              "                                                 review rating  \\\n",
              "0     Over the last twenty years, Yorgos Lanthimos h...   8/10   \n",
              "1     This feels like the summer movie for lanthimos...   8/10   \n",
              "2     \"Kinds of Kindness\" is Yorgos' latest cinemati...   8/10   \n",
              "3     Concerning the first story, I think that it pa...  10/10   \n",
              "4     Yorgos Lanthimos returns with a vengeance, del...   7/10   \n",
              "...                                                 ...    ...   \n",
              "5240  You ever have an imaginary friend? An \"IF\"? Mo...  10/10   \n",
              "5241  This movie touched the deepest part of my hear...  10/10   \n",
              "5242  POSITIVES:1) The two lead performances are bot...   8/10   \n",
              "5243  I really enjoyed this movie. BUT, I think a lo...   9/10   \n",
              "5244  I heard this movie was evoking emotion so I he...  10/10   \n",
              "\n",
              "                                             translated  \n",
              "0     last twenti year yorgo lanthimo cultiv approac...  \n",
              "1     feel like summer movi lanthimo fan piec art le...  \n",
              "2     kind kind yorgo latest cinemat achiev self awa...  \n",
              "3     concern first stori think paint pictur scare m...  \n",
              "4     yorgo lanthimo return vengeanc deliv film feel...  \n",
              "...                                                 ...  \n",
              "5240  ever imaginari friend u young kid one two mani...  \n",
              "5241  movi touch deepest part heart remind like kid ...  \n",
              "5242  two lead perform good bea cal realli engag ful...  \n",
              "5243  realli enjoy movi think lot parent small child...  \n",
              "5244  heard movi evok emot held know life happen nee...  \n",
              "\n",
              "[5245 rows x 4 columns]"
            ],
            "text/html": [
              "\n",
              "  <div id=\"df-864ec896-791c-421e-9f6b-7381c990187b\" class=\"colab-df-container\">\n",
              "    <div>\n",
              "<style scoped>\n",
              "    .dataframe tbody tr th:only-of-type {\n",
              "        vertical-align: middle;\n",
              "    }\n",
              "\n",
              "    .dataframe tbody tr th {\n",
              "        vertical-align: top;\n",
              "    }\n",
              "\n",
              "    .dataframe thead th {\n",
              "        text-align: right;\n",
              "    }\n",
              "</style>\n",
              "<table border=\"1\" class=\"dataframe\">\n",
              "  <thead>\n",
              "    <tr style=\"text-align: right;\">\n",
              "      <th></th>\n",
              "      <th>title</th>\n",
              "      <th>review</th>\n",
              "      <th>rating</th>\n",
              "      <th>translated</th>\n",
              "    </tr>\n",
              "  </thead>\n",
              "  <tbody>\n",
              "    <tr>\n",
              "      <th>0</th>\n",
              "      <td>Essentially Lanthimosian</td>\n",
              "      <td>Over the last twenty years, Yorgos Lanthimos h...</td>\n",
              "      <td>8/10</td>\n",
              "      <td>last twenti year yorgo lanthimo cultiv approac...</td>\n",
              "    </tr>\n",
              "    <tr>\n",
              "      <th>1</th>\n",
              "      <td>Classic cynical lanthimos</td>\n",
              "      <td>This feels like the summer movie for lanthimos...</td>\n",
              "      <td>8/10</td>\n",
              "      <td>feel like summer movi lanthimo fan piec art le...</td>\n",
              "    </tr>\n",
              "    <tr>\n",
              "      <th>2</th>\n",
              "      <td>It's a refreshing new chapter to Yorgos' filmo...</td>\n",
              "      <td>\"Kinds of Kindness\" is Yorgos' latest cinemati...</td>\n",
              "      <td>8/10</td>\n",
              "      <td>kind kind yorgo latest cinemat achiev self awa...</td>\n",
              "    </tr>\n",
              "    <tr>\n",
              "      <th>3</th>\n",
              "      <td>Review</td>\n",
              "      <td>Concerning the first story, I think that it pa...</td>\n",
              "      <td>10/10</td>\n",
              "      <td>concern first stori think paint pictur scare m...</td>\n",
              "    </tr>\n",
              "    <tr>\n",
              "      <th>4</th>\n",
              "      <td>Lanthimos &amp; Filippou: A Unique Kind of Duo</td>\n",
              "      <td>Yorgos Lanthimos returns with a vengeance, del...</td>\n",
              "      <td>7/10</td>\n",
              "      <td>yorgo lanthimo return vengeanc deliv film feel...</td>\n",
              "    </tr>\n",
              "    <tr>\n",
              "      <th>...</th>\n",
              "      <td>...</td>\n",
              "      <td>...</td>\n",
              "      <td>...</td>\n",
              "      <td>...</td>\n",
              "    </tr>\n",
              "    <tr>\n",
              "      <th>5240</th>\n",
              "      <td>Brings back the kid in all of us.</td>\n",
              "      <td>You ever have an imaginary friend? An \"IF\"? Mo...</td>\n",
              "      <td>10/10</td>\n",
              "      <td>ever imaginari friend u young kid one two mani...</td>\n",
              "    </tr>\n",
              "    <tr>\n",
              "      <th>5241</th>\n",
              "      <td>Fun, deep and impactful.</td>\n",
              "      <td>This movie touched the deepest part of my hear...</td>\n",
              "      <td>10/10</td>\n",
              "      <td>movi touch deepest part heart remind like kid ...</td>\n",
              "    </tr>\n",
              "    <tr>\n",
              "      <th>5242</th>\n",
              "      <td>A fun and emotional time</td>\n",
              "      <td>POSITIVES:1) The two lead performances are bot...</td>\n",
              "      <td>8/10</td>\n",
              "      <td>two lead perform good bea cal realli engag ful...</td>\n",
              "    </tr>\n",
              "    <tr>\n",
              "      <th>5243</th>\n",
              "      <td>Good movie but not for little kids</td>\n",
              "      <td>I really enjoyed this movie. BUT, I think a lo...</td>\n",
              "      <td>9/10</td>\n",
              "      <td>realli enjoy movi think lot parent small child...</td>\n",
              "    </tr>\n",
              "    <tr>\n",
              "      <th>5244</th>\n",
              "      <td>Glad I didn't have a kid see me cry.</td>\n",
              "      <td>I heard this movie was evoking emotion so I he...</td>\n",
              "      <td>10/10</td>\n",
              "      <td>heard movi evok emot held know life happen nee...</td>\n",
              "    </tr>\n",
              "  </tbody>\n",
              "</table>\n",
              "<p>5245 rows × 4 columns</p>\n",
              "</div>\n",
              "    <div class=\"colab-df-buttons\">\n",
              "\n",
              "  <div class=\"colab-df-container\">\n",
              "    <button class=\"colab-df-convert\" onclick=\"convertToInteractive('df-864ec896-791c-421e-9f6b-7381c990187b')\"\n",
              "            title=\"Convert this dataframe to an interactive table.\"\n",
              "            style=\"display:none;\">\n",
              "\n",
              "  <svg xmlns=\"http://www.w3.org/2000/svg\" height=\"24px\" viewBox=\"0 -960 960 960\">\n",
              "    <path d=\"M120-120v-720h720v720H120Zm60-500h600v-160H180v160Zm220 220h160v-160H400v160Zm0 220h160v-160H400v160ZM180-400h160v-160H180v160Zm440 0h160v-160H620v160ZM180-180h160v-160H180v160Zm440 0h160v-160H620v160Z\"/>\n",
              "  </svg>\n",
              "    </button>\n",
              "\n",
              "  <style>\n",
              "    .colab-df-container {\n",
              "      display:flex;\n",
              "      gap: 12px;\n",
              "    }\n",
              "\n",
              "    .colab-df-convert {\n",
              "      background-color: #E8F0FE;\n",
              "      border: none;\n",
              "      border-radius: 50%;\n",
              "      cursor: pointer;\n",
              "      display: none;\n",
              "      fill: #1967D2;\n",
              "      height: 32px;\n",
              "      padding: 0 0 0 0;\n",
              "      width: 32px;\n",
              "    }\n",
              "\n",
              "    .colab-df-convert:hover {\n",
              "      background-color: #E2EBFA;\n",
              "      box-shadow: 0px 1px 2px rgba(60, 64, 67, 0.3), 0px 1px 3px 1px rgba(60, 64, 67, 0.15);\n",
              "      fill: #174EA6;\n",
              "    }\n",
              "\n",
              "    .colab-df-buttons div {\n",
              "      margin-bottom: 4px;\n",
              "    }\n",
              "\n",
              "    [theme=dark] .colab-df-convert {\n",
              "      background-color: #3B4455;\n",
              "      fill: #D2E3FC;\n",
              "    }\n",
              "\n",
              "    [theme=dark] .colab-df-convert:hover {\n",
              "      background-color: #434B5C;\n",
              "      box-shadow: 0px 1px 3px 1px rgba(0, 0, 0, 0.15);\n",
              "      filter: drop-shadow(0px 1px 2px rgba(0, 0, 0, 0.3));\n",
              "      fill: #FFFFFF;\n",
              "    }\n",
              "  </style>\n",
              "\n",
              "    <script>\n",
              "      const buttonEl =\n",
              "        document.querySelector('#df-864ec896-791c-421e-9f6b-7381c990187b button.colab-df-convert');\n",
              "      buttonEl.style.display =\n",
              "        google.colab.kernel.accessAllowed ? 'block' : 'none';\n",
              "\n",
              "      async function convertToInteractive(key) {\n",
              "        const element = document.querySelector('#df-864ec896-791c-421e-9f6b-7381c990187b');\n",
              "        const dataTable =\n",
              "          await google.colab.kernel.invokeFunction('convertToInteractive',\n",
              "                                                    [key], {});\n",
              "        if (!dataTable) return;\n",
              "\n",
              "        const docLinkHtml = 'Like what you see? Visit the ' +\n",
              "          '<a target=\"_blank\" href=https://colab.research.google.com/notebooks/data_table.ipynb>data table notebook</a>'\n",
              "          + ' to learn more about interactive tables.';\n",
              "        element.innerHTML = '';\n",
              "        dataTable['output_type'] = 'display_data';\n",
              "        await google.colab.output.renderOutput(dataTable, element);\n",
              "        const docLink = document.createElement('div');\n",
              "        docLink.innerHTML = docLinkHtml;\n",
              "        element.appendChild(docLink);\n",
              "      }\n",
              "    </script>\n",
              "  </div>\n",
              "\n",
              "\n",
              "<div id=\"df-388b26d6-21ae-48ae-86a9-71342d499d67\">\n",
              "  <button class=\"colab-df-quickchart\" onclick=\"quickchart('df-388b26d6-21ae-48ae-86a9-71342d499d67')\"\n",
              "            title=\"Suggest charts\"\n",
              "            style=\"display:none;\">\n",
              "\n",
              "<svg xmlns=\"http://www.w3.org/2000/svg\" height=\"24px\"viewBox=\"0 0 24 24\"\n",
              "     width=\"24px\">\n",
              "    <g>\n",
              "        <path d=\"M19 3H5c-1.1 0-2 .9-2 2v14c0 1.1.9 2 2 2h14c1.1 0 2-.9 2-2V5c0-1.1-.9-2-2-2zM9 17H7v-7h2v7zm4 0h-2V7h2v10zm4 0h-2v-4h2v4z\"/>\n",
              "    </g>\n",
              "</svg>\n",
              "  </button>\n",
              "\n",
              "<style>\n",
              "  .colab-df-quickchart {\n",
              "      --bg-color: #E8F0FE;\n",
              "      --fill-color: #1967D2;\n",
              "      --hover-bg-color: #E2EBFA;\n",
              "      --hover-fill-color: #174EA6;\n",
              "      --disabled-fill-color: #AAA;\n",
              "      --disabled-bg-color: #DDD;\n",
              "  }\n",
              "\n",
              "  [theme=dark] .colab-df-quickchart {\n",
              "      --bg-color: #3B4455;\n",
              "      --fill-color: #D2E3FC;\n",
              "      --hover-bg-color: #434B5C;\n",
              "      --hover-fill-color: #FFFFFF;\n",
              "      --disabled-bg-color: #3B4455;\n",
              "      --disabled-fill-color: #666;\n",
              "  }\n",
              "\n",
              "  .colab-df-quickchart {\n",
              "    background-color: var(--bg-color);\n",
              "    border: none;\n",
              "    border-radius: 50%;\n",
              "    cursor: pointer;\n",
              "    display: none;\n",
              "    fill: var(--fill-color);\n",
              "    height: 32px;\n",
              "    padding: 0;\n",
              "    width: 32px;\n",
              "  }\n",
              "\n",
              "  .colab-df-quickchart:hover {\n",
              "    background-color: var(--hover-bg-color);\n",
              "    box-shadow: 0 1px 2px rgba(60, 64, 67, 0.3), 0 1px 3px 1px rgba(60, 64, 67, 0.15);\n",
              "    fill: var(--button-hover-fill-color);\n",
              "  }\n",
              "\n",
              "  .colab-df-quickchart-complete:disabled,\n",
              "  .colab-df-quickchart-complete:disabled:hover {\n",
              "    background-color: var(--disabled-bg-color);\n",
              "    fill: var(--disabled-fill-color);\n",
              "    box-shadow: none;\n",
              "  }\n",
              "\n",
              "  .colab-df-spinner {\n",
              "    border: 2px solid var(--fill-color);\n",
              "    border-color: transparent;\n",
              "    border-bottom-color: var(--fill-color);\n",
              "    animation:\n",
              "      spin 1s steps(1) infinite;\n",
              "  }\n",
              "\n",
              "  @keyframes spin {\n",
              "    0% {\n",
              "      border-color: transparent;\n",
              "      border-bottom-color: var(--fill-color);\n",
              "      border-left-color: var(--fill-color);\n",
              "    }\n",
              "    20% {\n",
              "      border-color: transparent;\n",
              "      border-left-color: var(--fill-color);\n",
              "      border-top-color: var(--fill-color);\n",
              "    }\n",
              "    30% {\n",
              "      border-color: transparent;\n",
              "      border-left-color: var(--fill-color);\n",
              "      border-top-color: var(--fill-color);\n",
              "      border-right-color: var(--fill-color);\n",
              "    }\n",
              "    40% {\n",
              "      border-color: transparent;\n",
              "      border-right-color: var(--fill-color);\n",
              "      border-top-color: var(--fill-color);\n",
              "    }\n",
              "    60% {\n",
              "      border-color: transparent;\n",
              "      border-right-color: var(--fill-color);\n",
              "    }\n",
              "    80% {\n",
              "      border-color: transparent;\n",
              "      border-right-color: var(--fill-color);\n",
              "      border-bottom-color: var(--fill-color);\n",
              "    }\n",
              "    90% {\n",
              "      border-color: transparent;\n",
              "      border-bottom-color: var(--fill-color);\n",
              "    }\n",
              "  }\n",
              "</style>\n",
              "\n",
              "  <script>\n",
              "    async function quickchart(key) {\n",
              "      const quickchartButtonEl =\n",
              "        document.querySelector('#' + key + ' button');\n",
              "      quickchartButtonEl.disabled = true;  // To prevent multiple clicks.\n",
              "      quickchartButtonEl.classList.add('colab-df-spinner');\n",
              "      try {\n",
              "        const charts = await google.colab.kernel.invokeFunction(\n",
              "            'suggestCharts', [key], {});\n",
              "      } catch (error) {\n",
              "        console.error('Error during call to suggestCharts:', error);\n",
              "      }\n",
              "      quickchartButtonEl.classList.remove('colab-df-spinner');\n",
              "      quickchartButtonEl.classList.add('colab-df-quickchart-complete');\n",
              "    }\n",
              "    (() => {\n",
              "      let quickchartButtonEl =\n",
              "        document.querySelector('#df-388b26d6-21ae-48ae-86a9-71342d499d67 button');\n",
              "      quickchartButtonEl.style.display =\n",
              "        google.colab.kernel.accessAllowed ? 'block' : 'none';\n",
              "    })();\n",
              "  </script>\n",
              "</div>\n",
              "\n",
              "  <div id=\"id_8d6df142-6be7-4ea0-8d9b-770f817b72be\">\n",
              "    <style>\n",
              "      .colab-df-generate {\n",
              "        background-color: #E8F0FE;\n",
              "        border: none;\n",
              "        border-radius: 50%;\n",
              "        cursor: pointer;\n",
              "        display: none;\n",
              "        fill: #1967D2;\n",
              "        height: 32px;\n",
              "        padding: 0 0 0 0;\n",
              "        width: 32px;\n",
              "      }\n",
              "\n",
              "      .colab-df-generate:hover {\n",
              "        background-color: #E2EBFA;\n",
              "        box-shadow: 0px 1px 2px rgba(60, 64, 67, 0.3), 0px 1px 3px 1px rgba(60, 64, 67, 0.15);\n",
              "        fill: #174EA6;\n",
              "      }\n",
              "\n",
              "      [theme=dark] .colab-df-generate {\n",
              "        background-color: #3B4455;\n",
              "        fill: #D2E3FC;\n",
              "      }\n",
              "\n",
              "      [theme=dark] .colab-df-generate:hover {\n",
              "        background-color: #434B5C;\n",
              "        box-shadow: 0px 1px 3px 1px rgba(0, 0, 0, 0.15);\n",
              "        filter: drop-shadow(0px 1px 2px rgba(0, 0, 0, 0.3));\n",
              "        fill: #FFFFFF;\n",
              "      }\n",
              "    </style>\n",
              "    <button class=\"colab-df-generate\" onclick=\"generateWithVariable('df')\"\n",
              "            title=\"Generate code using this dataframe.\"\n",
              "            style=\"display:none;\">\n",
              "\n",
              "  <svg xmlns=\"http://www.w3.org/2000/svg\" height=\"24px\"viewBox=\"0 0 24 24\"\n",
              "       width=\"24px\">\n",
              "    <path d=\"M7,19H8.4L18.45,9,17,7.55,7,17.6ZM5,21V16.75L18.45,3.32a2,2,0,0,1,2.83,0l1.4,1.43a1.91,1.91,0,0,1,.58,1.4,1.91,1.91,0,0,1-.58,1.4L9.25,21ZM18.45,9,17,7.55Zm-12,3A5.31,5.31,0,0,0,4.9,8.1,5.31,5.31,0,0,0,1,6.5,5.31,5.31,0,0,0,4.9,4.9,5.31,5.31,0,0,0,6.5,1,5.31,5.31,0,0,0,8.1,4.9,5.31,5.31,0,0,0,12,6.5,5.46,5.46,0,0,0,6.5,12Z\"/>\n",
              "  </svg>\n",
              "    </button>\n",
              "    <script>\n",
              "      (() => {\n",
              "      const buttonEl =\n",
              "        document.querySelector('#id_8d6df142-6be7-4ea0-8d9b-770f817b72be button.colab-df-generate');\n",
              "      buttonEl.style.display =\n",
              "        google.colab.kernel.accessAllowed ? 'block' : 'none';\n",
              "\n",
              "      buttonEl.onclick = () => {\n",
              "        google.colab.notebook.generateWithVariable('df');\n",
              "      }\n",
              "      })();\n",
              "    </script>\n",
              "  </div>\n",
              "\n",
              "    </div>\n",
              "  </div>\n"
            ],
            "application/vnd.google.colaboratory.intrinsic+json": {
              "type": "dataframe",
              "variable_name": "df",
              "summary": "{\n  \"name\": \"df\",\n  \"rows\": 5245,\n  \"fields\": [\n    {\n      \"column\": \"title\",\n      \"properties\": {\n        \"dtype\": \"string\",\n        \"num_unique_values\": 4808,\n        \"samples\": [\n          \"Honest review\",\n          \"Did I enjoy it? Yes, very much so\",\n          \"one word: Noisy.\"\n        ],\n        \"semantic_type\": \"\",\n        \"description\": \"\"\n      }\n    },\n    {\n      \"column\": \"review\",\n      \"properties\": {\n        \"dtype\": \"string\",\n        \"num_unique_values\": 4965,\n        \"samples\": [\n          \"How often these days can you say a sequel surpasses the first film? Now I understand that this is technically a second part of one whole story however the depth and scale of this film is remarkable that deserves commendation to all involved who have pushed it beyond the first film in every way. It is truly a masterpiece - a film that will be talked about for generations and one that will undoubtedly become a classic of cinema. A book that many thought would be impossible to fully convey through film has finally had its triumph on the big screen thanks to the mastermind that is Denis Villenevue.\",\n          \"A half century ago, some bikers liked to hang out, belt down brews, bang broads, and hang out some more. Danny Lyon (Mike Faist) is a college boy writing a book about a midwestern gang, which slowly evolves into a criminal enterprise like the Mafia. Most of his interviews are with Kathy (Jodie Comer), who marries Bennie (Austin Butler). Johnny (Tom Hardy) is the careworn leader of the club, who sees Benny as a worthy successor; Michael Shannon offers solid support as well. This is a long way from from the \\\"peace, love, good vibes\\\" in \\\"Easy Rider\\\" (1969); here we get the lower orders who wanted bombs, not Brahms. Writer/director Jeff Nichols does a fine job bringing Danny Lyon's book to the screen. I sense an Oscar nomination in Comer's near future.\",\n          \"I am very happy that my favourite Mahabharata character is in the movie.The first 20 minutes story and first fight has been dragged and it's boring. But after that, story takes on you. It will get intriguing and one by one main characters will be introduced accordingly with a good entry scenes.A very good graphics can be compared to a Hollywood range. Big B and Rebel star acting with a Deepika's mixture is just wow.Saswat chaterjee has very well played a villain role curious to see how Kamal will take on the next part.A very good sci-fi thriller movie in Indian cinema. Definitely worth watching.\"\n        ],\n        \"semantic_type\": \"\",\n        \"description\": \"\"\n      }\n    },\n    {\n      \"column\": \"rating\",\n      \"properties\": {\n        \"dtype\": \"category\",\n        \"num_unique_values\": 22,\n        \"samples\": [\n          \"8/10\",\n          \"7/10;;;;;;\",\n          \"3/10\"\n        ],\n        \"semantic_type\": \"\",\n        \"description\": \"\"\n      }\n    },\n    {\n      \"column\": \"translated\",\n      \"properties\": {\n        \"dtype\": \"string\",\n        \"num_unique_values\": 4961,\n        \"samples\": [\n          \"subpar narr set uninspir charact disjoint screenwrit hinder actual potenti imped allur premis dampen truer prospectsit neither work spectacl compel tale retribut apart impress grandeur product huge scope found littl enjoy herealthough ador anya taylorjoy chri hemsworth perform charact fail make last impress specif latter one feel portray far convinc antagonist bad time el royal spring mind\",\n          \"half centuri ago biker like hang belt brew bang broad hang danni lyon mike faist colleg boy write book midwestern gang slowli evolv crimin enterpris like mafia interview kathi jodi comer marri benni austin butler johnni tom hardi careworn leader club see benni worthi successor michael shannon offer solid support well long way peac love good vibe easi rider get lower order want bomb brahm writerdirector jeff nichol fine job bring danni lyon book screen sens oscar nomin comer near futur\",\n          \"happi favourit mahabharata charact movieth first minut stori first fight drag bore stori take get intrigu one one main charact introduc accordingli good entri scenesa good graphic compar hollywood rang big b rebel star act deepika mixtur wowsaswat chaterje well play villain role curiou see kamal take next parta good scifi thriller movi indian cinema definit worth watch\"\n        ],\n        \"semantic_type\": \"\",\n        \"description\": \"\"\n      }\n    }\n  ]\n}"
            }
          },
          "metadata": {},
          "execution_count": 25
        }
      ]
    },
    {
      "cell_type": "code",
      "source": [
        "#df['translated'][88]"
      ],
      "metadata": {
        "id": "fgyUvMFjXZNf"
      },
      "execution_count": 26,
      "outputs": []
    },
    {
      "cell_type": "code",
      "source": [
        "from tensorflow.keras.preprocessing.text import Tokenizer\n",
        "tokenizer = Tokenizer()\n",
        "tokenizer.fit_on_texts(df['translated'])"
      ],
      "metadata": {
        "id": "1hbFw70fXgkf"
      },
      "execution_count": 27,
      "outputs": []
    },
    {
      "cell_type": "code",
      "source": [
        "print(len(tokenizer.word_counts))"
      ],
      "metadata": {
        "colab": {
          "base_uri": "https://localhost:8080/"
        },
        "id": "8G3f1_VWXnW7",
        "outputId": "22444aa6-ddaa-4895-cf5f-ab673f146133"
      },
      "execution_count": 28,
      "outputs": [
        {
          "output_type": "stream",
          "name": "stdout",
          "text": [
            "27122\n"
          ]
        }
      ]
    },
    {
      "cell_type": "code",
      "source": [
        "counter = 0\n",
        "for key, value in tokenizer.word_counts.items():\n",
        "    if value > 2400:\n",
        "        print(key, value)\n",
        "        counter+=1\n",
        "\n",
        "print(counter)"
      ],
      "metadata": {
        "colab": {
          "base_uri": "https://localhost:8080/"
        },
        "id": "4dQJQs2_XqfK",
        "outputId": "61b87ad3-53e1-4868-908e-bd94b41b001b"
      },
      "execution_count": 29,
      "outputs": [
        {
          "output_type": "stream",
          "name": "stdout",
          "text": [
            "like 4904\n",
            "one 4326\n",
            "film 8747\n",
            "charact 4539\n",
            "stori 3860\n",
            "make 3035\n",
            "see 2635\n",
            "good 3232\n",
            "nt 6473\n",
            "feel 2530\n",
            "movi 12384\n",
            "scene 2473\n",
            "realli 2707\n",
            "time 2924\n",
            "emot 2710\n",
            "watch 3139\n",
            "action 2764\n",
            "17\n"
          ]
        }
      ]
    },
    {
      "cell_type": "markdown",
      "source": [
        "**grupa 1** scary/scared, afraid, fright(ened), alarmed, shocked, horror/horrified, threatening, hair-rising, horrendous"
      ],
      "metadata": {
        "id": "L4BmL1Vgy071"
      }
    },
    {
      "cell_type": "code",
      "source": [
        "count1 = 0\n",
        "num=tokenizer.word_counts['scari']\n",
        "print(num)\n",
        "count1+=num"
      ],
      "metadata": {
        "colab": {
          "base_uri": "https://localhost:8080/"
        },
        "id": "rlwjuQAZwA43",
        "outputId": "56a4cd45-8135-4725-8692-ea709a9082e8"
      },
      "execution_count": 30,
      "outputs": [
        {
          "output_type": "stream",
          "name": "stdout",
          "text": [
            "94\n"
          ]
        }
      ]
    },
    {
      "cell_type": "code",
      "source": [
        "num=tokenizer.word_counts['scare']\n",
        "print(num)\n",
        "count1+=num"
      ],
      "metadata": {
        "colab": {
          "base_uri": "https://localhost:8080/"
        },
        "id": "SwcI0o3-xsxX",
        "outputId": "28659455-24d2-4ee1-e28c-9b73c395e4fd"
      },
      "execution_count": 31,
      "outputs": [
        {
          "output_type": "stream",
          "name": "stdout",
          "text": [
            "127\n"
          ]
        }
      ]
    },
    {
      "cell_type": "code",
      "source": [
        "num=tokenizer.word_counts['afraid']\n",
        "print(num)\n",
        "count1+=num"
      ],
      "metadata": {
        "colab": {
          "base_uri": "https://localhost:8080/"
        },
        "id": "SNLEwCVIx998",
        "outputId": "e1866abd-4d17-4274-f44a-4afedbc54e55"
      },
      "execution_count": 32,
      "outputs": [
        {
          "output_type": "stream",
          "name": "stdout",
          "text": [
            "29\n"
          ]
        }
      ]
    },
    {
      "cell_type": "code",
      "source": [
        "num=tokenizer.word_counts['fright']\n",
        "print(num)\n",
        "count1+=num"
      ],
      "metadata": {
        "colab": {
          "base_uri": "https://localhost:8080/"
        },
        "id": "ZK1_JbpyzaNW",
        "outputId": "7853487a-388e-462e-ba88-02ee7259a001"
      },
      "execution_count": 33,
      "outputs": [
        {
          "output_type": "stream",
          "name": "stdout",
          "text": [
            "5\n"
          ]
        }
      ]
    },
    {
      "cell_type": "code",
      "source": [
        "num=tokenizer.word_counts['frighten']\n",
        "print(num)\n",
        "count1+=num"
      ],
      "metadata": {
        "colab": {
          "base_uri": "https://localhost:8080/"
        },
        "id": "bmwClQWuzlur",
        "outputId": "03e28929-99f8-430f-9049-aded06f10d02"
      },
      "execution_count": 34,
      "outputs": [
        {
          "output_type": "stream",
          "name": "stdout",
          "text": [
            "21\n"
          ]
        }
      ]
    },
    {
      "cell_type": "code",
      "source": [
        "num=tokenizer.word_counts['alarm']\n",
        "print(num)\n",
        "count1+=num"
      ],
      "metadata": {
        "colab": {
          "base_uri": "https://localhost:8080/"
        },
        "id": "mLC0qs16zuh6",
        "outputId": "2408e7c0-c581-4832-fe17-ed4dd69039fc"
      },
      "execution_count": 35,
      "outputs": [
        {
          "output_type": "stream",
          "name": "stdout",
          "text": [
            "16\n"
          ]
        }
      ]
    },
    {
      "cell_type": "code",
      "source": [
        "num=tokenizer.word_counts['shock']\n",
        "print(num)\n",
        "count1+=num"
      ],
      "metadata": {
        "colab": {
          "base_uri": "https://localhost:8080/"
        },
        "id": "FOS-Fucsz3yZ",
        "outputId": "3c60f8ba-f3f9-4d14-dd10-01985e2902fe"
      },
      "execution_count": 36,
      "outputs": [
        {
          "output_type": "stream",
          "name": "stdout",
          "text": [
            "104\n"
          ]
        }
      ]
    },
    {
      "cell_type": "code",
      "source": [
        "num=tokenizer.word_counts['horrifi']\n",
        "print(num)\n",
        "count1+=num"
      ],
      "metadata": {
        "colab": {
          "base_uri": "https://localhost:8080/"
        },
        "id": "xYfuNhK_z7rr",
        "outputId": "81d3f771-63bd-41c8-ccf3-c8537276979e"
      },
      "execution_count": 37,
      "outputs": [
        {
          "output_type": "stream",
          "name": "stdout",
          "text": [
            "9\n"
          ]
        }
      ]
    },
    {
      "cell_type": "code",
      "source": [
        "num=tokenizer.word_counts['horrif']\n",
        "print(num)\n",
        "count1+=num"
      ],
      "metadata": {
        "colab": {
          "base_uri": "https://localhost:8080/"
        },
        "id": "mVj9X9vm0GNy",
        "outputId": "287df11a-fa77-4632-f14f-bfb98b734c0b"
      },
      "execution_count": 38,
      "outputs": [
        {
          "output_type": "stream",
          "name": "stdout",
          "text": [
            "20\n"
          ]
        }
      ]
    },
    {
      "cell_type": "code",
      "source": [
        "num=tokenizer.word_counts['threaten']\n",
        "print(num)\n",
        "count1+=num"
      ],
      "metadata": {
        "colab": {
          "base_uri": "https://localhost:8080/"
        },
        "id": "plytxXNS0R0L",
        "outputId": "9e2e5655-70eb-436a-fdaf-d283e8f009f7"
      },
      "execution_count": 39,
      "outputs": [
        {
          "output_type": "stream",
          "name": "stdout",
          "text": [
            "28\n"
          ]
        }
      ]
    },
    {
      "cell_type": "code",
      "source": [
        "num=tokenizer.word_counts['horrend']\n",
        "print(num)\n",
        "count1+=num"
      ],
      "metadata": {
        "colab": {
          "base_uri": "https://localhost:8080/"
        },
        "id": "ujSY-2YX0fEm",
        "outputId": "0aa6375d-0b97-4a38-8132-206631ed3138"
      },
      "execution_count": 40,
      "outputs": [
        {
          "output_type": "stream",
          "name": "stdout",
          "text": [
            "11\n"
          ]
        }
      ]
    },
    {
      "cell_type": "code",
      "source": [
        "print('WYNIK DLA GRUPY PIERWSZEJ TOOOOO',count1)"
      ],
      "metadata": {
        "colab": {
          "base_uri": "https://localhost:8080/"
        },
        "id": "6QQyJQ8l0hHi",
        "outputId": "9215a404-b254-4957-ffda-db2d5e4aa9a4"
      },
      "execution_count": 41,
      "outputs": [
        {
          "output_type": "stream",
          "name": "stdout",
          "text": [
            "WYNIK DLA GRUPY PIERWSZEJ TOOOOO 464\n"
          ]
        }
      ]
    },
    {
      "cell_type": "markdown",
      "source": [
        "**grupa 2** fear, petrified, terror/terrified, distress, helpless(ness), anxiety/anxious, worried, apprehension, creepy, uneasy, disturbing, chilling, eerie, spooky(?), intimidating, overwhelming, unnerving"
      ],
      "metadata": {
        "id": "kXlSPtUN1OFf"
      }
    },
    {
      "cell_type": "code",
      "source": [
        "count2 = 0\n",
        "num=tokenizer.word_counts['fear']\n",
        "print(num)\n",
        "count2+=num"
      ],
      "metadata": {
        "colab": {
          "base_uri": "https://localhost:8080/"
        },
        "id": "mU95N0Mq024T",
        "outputId": "af4d8e6b-da8c-41d2-a7af-e7c9f3a3e0b8"
      },
      "execution_count": 42,
      "outputs": [
        {
          "output_type": "stream",
          "name": "stdout",
          "text": [
            "328\n"
          ]
        }
      ]
    },
    {
      "cell_type": "code",
      "source": [
        "num=tokenizer.word_counts['petrifi']\n",
        "print(num)\n",
        "count2+=num"
      ],
      "metadata": {
        "colab": {
          "base_uri": "https://localhost:8080/"
        },
        "id": "fNSGeGBs1ZOT",
        "outputId": "734ed554-487d-47a3-d4fb-311416ac33fc"
      },
      "execution_count": 43,
      "outputs": [
        {
          "output_type": "stream",
          "name": "stdout",
          "text": [
            "1\n"
          ]
        }
      ]
    },
    {
      "cell_type": "code",
      "source": [
        "num=tokenizer.word_counts['terror']\n",
        "print(num)\n",
        "count2+=num"
      ],
      "metadata": {
        "colab": {
          "base_uri": "https://localhost:8080/"
        },
        "id": "ZUcRFEzw1wIW",
        "outputId": "231db33a-1ba2-4ea7-ca44-11673a8d3339"
      },
      "execution_count": 44,
      "outputs": [
        {
          "output_type": "stream",
          "name": "stdout",
          "text": [
            "39\n"
          ]
        }
      ]
    },
    {
      "cell_type": "code",
      "source": [
        "num=tokenizer.word_counts['terrifi']\n",
        "print(num)\n",
        "count2+=num"
      ],
      "metadata": {
        "colab": {
          "base_uri": "https://localhost:8080/"
        },
        "id": "PBsa91CU1Ymg",
        "outputId": "99ccd0f9-4c32-48bc-c7e5-eb30a34ac6b6"
      },
      "execution_count": 45,
      "outputs": [
        {
          "output_type": "stream",
          "name": "stdout",
          "text": [
            "49\n"
          ]
        }
      ]
    },
    {
      "cell_type": "code",
      "source": [
        "num=tokenizer.word_counts['distress']\n",
        "print(num)\n",
        "count2+=num"
      ],
      "metadata": {
        "colab": {
          "base_uri": "https://localhost:8080/"
        },
        "id": "M2hiXKpu12rP",
        "outputId": "ccd134c9-369c-42b4-a956-8ecdb8b09f71"
      },
      "execution_count": 46,
      "outputs": [
        {
          "output_type": "stream",
          "name": "stdout",
          "text": [
            "8\n"
          ]
        }
      ]
    },
    {
      "cell_type": "code",
      "source": [
        "num=tokenizer.word_counts['helpless']\n",
        "print(num)\n",
        "count2+=num"
      ],
      "metadata": {
        "colab": {
          "base_uri": "https://localhost:8080/"
        },
        "id": "XGAea3D215JL",
        "outputId": "2514ddf8-a7fe-4b79-fbbf-85d503770a78"
      },
      "execution_count": 47,
      "outputs": [
        {
          "output_type": "stream",
          "name": "stdout",
          "text": [
            "4\n"
          ]
        }
      ]
    },
    {
      "cell_type": "code",
      "source": [
        "num=tokenizer.word_counts['anxious']\n",
        "print(num)\n",
        "count2+=num"
      ],
      "metadata": {
        "colab": {
          "base_uri": "https://localhost:8080/"
        },
        "id": "dHpwoOL119Cp",
        "outputId": "208e9ab7-40a1-4596-db59-65562714c0c9"
      },
      "execution_count": 48,
      "outputs": [
        {
          "output_type": "stream",
          "name": "stdout",
          "text": [
            "1\n"
          ]
        }
      ]
    },
    {
      "cell_type": "code",
      "source": [
        "num=tokenizer.word_counts['worri']\n",
        "print(num)\n",
        "count2+=num"
      ],
      "metadata": {
        "colab": {
          "base_uri": "https://localhost:8080/"
        },
        "id": "VbwAT88i1_-6",
        "outputId": "c5d31a94-9ae9-4292-f896-8427edf0c61f"
      },
      "execution_count": 49,
      "outputs": [
        {
          "output_type": "stream",
          "name": "stdout",
          "text": [
            "95\n"
          ]
        }
      ]
    },
    {
      "cell_type": "code",
      "source": [
        "num=tokenizer.word_counts['creepy']\n",
        "print(num)\n",
        "count2+=num"
      ],
      "metadata": {
        "colab": {
          "base_uri": "https://localhost:8080/",
          "height": 176
        },
        "id": "MGr5YmmV2HiS",
        "outputId": "3d921080-4bbb-44ac-b9c6-349bff256a3b"
      },
      "execution_count": 50,
      "outputs": [
        {
          "output_type": "error",
          "ename": "KeyError",
          "evalue": "'creepy'",
          "traceback": [
            "\u001b[0;31m---------------------------------------------------------------------------\u001b[0m",
            "\u001b[0;31mKeyError\u001b[0m                                  Traceback (most recent call last)",
            "\u001b[0;32m<ipython-input-50-e53091f79cc0>\u001b[0m in \u001b[0;36m<cell line: 1>\u001b[0;34m()\u001b[0m\n\u001b[0;32m----> 1\u001b[0;31m \u001b[0mnum\u001b[0m\u001b[0;34m=\u001b[0m\u001b[0mtokenizer\u001b[0m\u001b[0;34m.\u001b[0m\u001b[0mword_counts\u001b[0m\u001b[0;34m[\u001b[0m\u001b[0;34m'creepy'\u001b[0m\u001b[0;34m]\u001b[0m\u001b[0;34m\u001b[0m\u001b[0;34m\u001b[0m\u001b[0m\n\u001b[0m\u001b[1;32m      2\u001b[0m \u001b[0mprint\u001b[0m\u001b[0;34m(\u001b[0m\u001b[0mnum\u001b[0m\u001b[0;34m)\u001b[0m\u001b[0;34m\u001b[0m\u001b[0;34m\u001b[0m\u001b[0m\n\u001b[1;32m      3\u001b[0m \u001b[0mcount2\u001b[0m\u001b[0;34m+=\u001b[0m\u001b[0mnum\u001b[0m\u001b[0;34m\u001b[0m\u001b[0;34m\u001b[0m\u001b[0m\n",
            "\u001b[0;31mKeyError\u001b[0m: 'creepy'"
          ]
        }
      ]
    },
    {
      "cell_type": "code",
      "source": [
        "num=tokenizer.word_counts['creepi']\n",
        "print(num)\n",
        "count2+=num"
      ],
      "metadata": {
        "id": "inytD3TE2MYc"
      },
      "execution_count": null,
      "outputs": []
    },
    {
      "cell_type": "code",
      "source": [
        "num=tokenizer.word_counts['uneasi']\n",
        "print(num)\n",
        "count2+=num"
      ],
      "metadata": {
        "id": "fILf7ix02Uhc"
      },
      "execution_count": null,
      "outputs": []
    },
    {
      "cell_type": "code",
      "source": [
        "num=tokenizer.word_counts['disturb']\n",
        "print(num)\n",
        "count2+=num"
      ],
      "metadata": {
        "colab": {
          "base_uri": "https://localhost:8080/"
        },
        "id": "oRedor7a2ZP5",
        "outputId": "d09ee72b-095d-44ff-c06b-7b2c56eb33f4"
      },
      "execution_count": 51,
      "outputs": [
        {
          "output_type": "stream",
          "name": "stdout",
          "text": [
            "41\n"
          ]
        }
      ]
    },
    {
      "cell_type": "code",
      "source": [
        "num=tokenizer.word_counts['chilli']\n",
        "print(num)\n",
        "count2+=num"
      ],
      "metadata": {
        "colab": {
          "base_uri": "https://localhost:8080/"
        },
        "id": "lzagj3xj2eHf",
        "outputId": "270d6de0-efed-4cd6-9d03-534d553808a2"
      },
      "execution_count": 52,
      "outputs": [
        {
          "output_type": "stream",
          "name": "stdout",
          "text": [
            "1\n"
          ]
        }
      ]
    },
    {
      "cell_type": "code",
      "source": [
        "num=tokenizer.word_counts['eeri']\n",
        "print(num)\n",
        "count2+=num"
      ],
      "metadata": {
        "colab": {
          "base_uri": "https://localhost:8080/"
        },
        "id": "9AZLqt0P2f6_",
        "outputId": "4dadf775-7573-42eb-ba4b-226e028379bf"
      },
      "execution_count": 53,
      "outputs": [
        {
          "output_type": "stream",
          "name": "stdout",
          "text": [
            "31\n"
          ]
        }
      ]
    },
    {
      "cell_type": "code",
      "source": [
        "num=tokenizer.word_counts['overwhelm']\n",
        "print(num)\n",
        "count2+=num"
      ],
      "metadata": {
        "colab": {
          "base_uri": "https://localhost:8080/"
        },
        "id": "CTsgh3XS2lLL",
        "outputId": "62f3a49e-4376-43c1-e6bf-39ebc37401fc"
      },
      "execution_count": 54,
      "outputs": [
        {
          "output_type": "stream",
          "name": "stdout",
          "text": [
            "66\n"
          ]
        }
      ]
    },
    {
      "cell_type": "code",
      "source": [
        "num=tokenizer.word_counts['overwhelming']\n",
        "print(num)\n",
        "count2+=num"
      ],
      "metadata": {
        "colab": {
          "base_uri": "https://localhost:8080/",
          "height": 176
        },
        "id": "-U5nt36W2p8r",
        "outputId": "1beff1ea-bce6-452b-c89a-665027af9f4a"
      },
      "execution_count": 55,
      "outputs": [
        {
          "output_type": "error",
          "ename": "KeyError",
          "evalue": "'overwhelming'",
          "traceback": [
            "\u001b[0;31m---------------------------------------------------------------------------\u001b[0m",
            "\u001b[0;31mKeyError\u001b[0m                                  Traceback (most recent call last)",
            "\u001b[0;32m<ipython-input-55-5dc5fb98200d>\u001b[0m in \u001b[0;36m<cell line: 1>\u001b[0;34m()\u001b[0m\n\u001b[0;32m----> 1\u001b[0;31m \u001b[0mnum\u001b[0m\u001b[0;34m=\u001b[0m\u001b[0mtokenizer\u001b[0m\u001b[0;34m.\u001b[0m\u001b[0mword_counts\u001b[0m\u001b[0;34m[\u001b[0m\u001b[0;34m'overwhelming'\u001b[0m\u001b[0;34m]\u001b[0m\u001b[0;34m\u001b[0m\u001b[0;34m\u001b[0m\u001b[0m\n\u001b[0m\u001b[1;32m      2\u001b[0m \u001b[0mprint\u001b[0m\u001b[0;34m(\u001b[0m\u001b[0mnum\u001b[0m\u001b[0;34m)\u001b[0m\u001b[0;34m\u001b[0m\u001b[0;34m\u001b[0m\u001b[0m\n\u001b[1;32m      3\u001b[0m \u001b[0mcount2\u001b[0m\u001b[0;34m+=\u001b[0m\u001b[0mnum\u001b[0m\u001b[0;34m\u001b[0m\u001b[0;34m\u001b[0m\u001b[0m\n",
            "\u001b[0;31mKeyError\u001b[0m: 'overwhelming'"
          ]
        }
      ]
    },
    {
      "cell_type": "code",
      "source": [
        "print('WYNIK DLA GRUPY DRUGIEJ TOOOOO',count2)"
      ],
      "metadata": {
        "colab": {
          "base_uri": "https://localhost:8080/"
        },
        "id": "glE4IiZL200R",
        "outputId": "ba2990d0-d848-42f6-e0d4-5e969a66eac1"
      },
      "execution_count": 56,
      "outputs": [
        {
          "output_type": "stream",
          "name": "stdout",
          "text": [
            "WYNIK DLA GRUPY DRUGIEJ TOOOOO 664\n"
          ]
        }
      ]
    },
    {
      "cell_type": "markdown",
      "source": [
        "**SKOJARZONKA**"
      ],
      "metadata": {
        "id": "o99qe4Z29ykK"
      }
    },
    {
      "cell_type": "code",
      "source": [
        "#word_model.wv.most_similar(\"death\")"
      ],
      "metadata": {
        "id": "mdKIZNvP7pb4"
      },
      "execution_count": 59,
      "outputs": []
    },
    {
      "cell_type": "code",
      "source": [
        "#word_model.wv.most_similar(\"ghost\")"
      ],
      "metadata": {
        "id": "ddvqe7O-90MB"
      },
      "execution_count": 60,
      "outputs": []
    },
    {
      "cell_type": "code",
      "source": [
        "word_model.wv.most_similar(\"horror\")"
      ],
      "metadata": {
        "id": "mvW0OWDa-Flp"
      },
      "execution_count": null,
      "outputs": []
    },
    {
      "cell_type": "code",
      "source": [
        "word_model.wv.most_similar(\"kill\")"
      ],
      "metadata": {
        "id": "KinpCMTi-blV"
      },
      "execution_count": null,
      "outputs": []
    },
    {
      "cell_type": "code",
      "source": [
        "word_model.wv.most_similar(\"place\")"
      ],
      "metadata": {
        "id": "YLy7XpcB-mlv"
      },
      "execution_count": null,
      "outputs": []
    },
    {
      "cell_type": "code",
      "source": [
        "word_model.wv.most_similar(\"body\")"
      ],
      "metadata": {
        "id": "dYGtYsxx_HIP"
      },
      "execution_count": null,
      "outputs": []
    },
    {
      "cell_type": "code",
      "source": [
        "word_model.wv.most_similar(\"ending\")"
      ],
      "metadata": {
        "id": "fqaL1sFx_QWw"
      },
      "execution_count": null,
      "outputs": []
    },
    {
      "cell_type": "code",
      "source": [
        "word_model.wv.most_similar(\"gore\")"
      ],
      "metadata": {
        "id": "PBNoSzzm_dQD"
      },
      "execution_count": null,
      "outputs": []
    },
    {
      "cell_type": "code",
      "source": [],
      "metadata": {
        "id": "qDeUv8GsBYTM"
      },
      "execution_count": null,
      "outputs": []
    }
  ]
}