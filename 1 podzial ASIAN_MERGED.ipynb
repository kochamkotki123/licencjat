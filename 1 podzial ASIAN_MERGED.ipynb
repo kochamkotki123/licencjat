{
  "nbformat": 4,
  "nbformat_minor": 0,
  "metadata": {
    "colab": {
      "provenance": []
    },
    "kernelspec": {
      "name": "python3",
      "display_name": "Python 3"
    },
    "language_info": {
      "name": "python"
    }
  },
  "cells": [
    {
      "cell_type": "code",
      "execution_count": 61,
      "metadata": {
        "id": "KbqWRaUE-hp8"
      },
      "outputs": [],
      "source": [
        "import numpy as np\n",
        "import matplotlib.pyplot as plt\n",
        "import tensorflow as tf\n",
        "import pandas as pd\n",
        "import os\n",
        "os.environ[\"KMP_DUPLICATE_LIB_OK\"]=\"TRUE\"\n",
        "os.environ['CUDA_VISIBLE_DEVICES'] = '-1'\n",
        "from tensorflow.keras.callbacks import EarlyStopping\n",
        "from tensorflow.keras.models import Sequential\n",
        "from tensorflow.keras.layers import Dense, Dropout\n",
        "from tensorflow.keras.layers import BatchNormalization\n",
        "\n",
        "es = EarlyStopping(monitor = \"val_loss\", mode = \"min\", patience = 5)\n",
        "\n",
        "EPOCHS = 1000"
      ]
    },
    {
      "cell_type": "code",
      "source": [
        "df = pd.read_csv('asian_merged.csv', sep=\",\")"
      ],
      "metadata": {
        "id": "RIFh9K_JK_K5"
      },
      "execution_count": 62,
      "outputs": []
    },
    {
      "cell_type": "code",
      "source": [
        "df = df.drop('Unnamed: 0', axis=1)"
      ],
      "metadata": {
        "id": "bejOtK0zO-xJ"
      },
      "execution_count": 64,
      "outputs": []
    },
    {
      "cell_type": "code",
      "source": [
        "df"
      ],
      "metadata": {
        "colab": {
          "base_uri": "https://localhost:8080/",
          "height": 423
        },
        "id": "9fDEaXLcQNit",
        "outputId": "76228be2-73c7-4782-f148-8f55d4e6859c"
      },
      "execution_count": 65,
      "outputs": [
        {
          "output_type": "execute_result",
          "data": {
            "text/plain": [
              "                                                  title  \\\n",
              "0           Don't dare blink as you may miss something.   \n",
              "1              Excellent horror film with a weak ending   \n",
              "2          A Corneal Transplant from the Twilight Zone.   \n",
              "3     One of the year's best horror movies, though t...   \n",
              "4                                     Good and scary!!!   \n",
              "...                                                 ...   \n",
              "1480                             A rewarding experience   \n",
              "1481                 Creepy, Cringe, Disturbing,Twisted   \n",
              "1482       It will make you scream like a teenage girl.   \n",
              "1483                             Not as good as I hoped   \n",
              "1484            A genuinely psychologically scary film!   \n",
              "\n",
              "                                                 review rating  \n",
              "0     Wong Kar Mun went blind at the age of two, 18 ...   9/10  \n",
              "1     Mun (Angelica Lee) is a young woman who has be...   7/10  \n",
              "2     This is not the first time that a movie where ...   8/10  \n",
              "3     Even the website of this movie gave me the cre...   8/10  \n",
              "4     Of all the horror movie genres in existence, g...  10/10  \n",
              "...                                                 ...    ...  \n",
              "1480  A Tale Of Two Sisters is a heart-wrenching sto...  10/10  \n",
              "1481  Endless expectation for something to happen. C...   6/10  \n",
              "1482  I saw this movie while I was in London a few m...   9/10  \n",
              "1483  I watched this film as part of the EXTREME ASI...  10/10  \n",
              "1484  What can I say? I loved it! And those who know...  10/10  \n",
              "\n",
              "[1485 rows x 3 columns]"
            ],
            "text/html": [
              "\n",
              "  <div id=\"df-68cd456f-f820-464c-996b-a336b5a1d5f8\" class=\"colab-df-container\">\n",
              "    <div>\n",
              "<style scoped>\n",
              "    .dataframe tbody tr th:only-of-type {\n",
              "        vertical-align: middle;\n",
              "    }\n",
              "\n",
              "    .dataframe tbody tr th {\n",
              "        vertical-align: top;\n",
              "    }\n",
              "\n",
              "    .dataframe thead th {\n",
              "        text-align: right;\n",
              "    }\n",
              "</style>\n",
              "<table border=\"1\" class=\"dataframe\">\n",
              "  <thead>\n",
              "    <tr style=\"text-align: right;\">\n",
              "      <th></th>\n",
              "      <th>title</th>\n",
              "      <th>review</th>\n",
              "      <th>rating</th>\n",
              "    </tr>\n",
              "  </thead>\n",
              "  <tbody>\n",
              "    <tr>\n",
              "      <th>0</th>\n",
              "      <td>Don't dare blink as you may miss something.</td>\n",
              "      <td>Wong Kar Mun went blind at the age of two, 18 ...</td>\n",
              "      <td>9/10</td>\n",
              "    </tr>\n",
              "    <tr>\n",
              "      <th>1</th>\n",
              "      <td>Excellent horror film with a weak ending</td>\n",
              "      <td>Mun (Angelica Lee) is a young woman who has be...</td>\n",
              "      <td>7/10</td>\n",
              "    </tr>\n",
              "    <tr>\n",
              "      <th>2</th>\n",
              "      <td>A Corneal Transplant from the Twilight Zone.</td>\n",
              "      <td>This is not the first time that a movie where ...</td>\n",
              "      <td>8/10</td>\n",
              "    </tr>\n",
              "    <tr>\n",
              "      <th>3</th>\n",
              "      <td>One of the year's best horror movies, though t...</td>\n",
              "      <td>Even the website of this movie gave me the cre...</td>\n",
              "      <td>8/10</td>\n",
              "    </tr>\n",
              "    <tr>\n",
              "      <th>4</th>\n",
              "      <td>Good and scary!!!</td>\n",
              "      <td>Of all the horror movie genres in existence, g...</td>\n",
              "      <td>10/10</td>\n",
              "    </tr>\n",
              "    <tr>\n",
              "      <th>...</th>\n",
              "      <td>...</td>\n",
              "      <td>...</td>\n",
              "      <td>...</td>\n",
              "    </tr>\n",
              "    <tr>\n",
              "      <th>1480</th>\n",
              "      <td>A rewarding experience</td>\n",
              "      <td>A Tale Of Two Sisters is a heart-wrenching sto...</td>\n",
              "      <td>10/10</td>\n",
              "    </tr>\n",
              "    <tr>\n",
              "      <th>1481</th>\n",
              "      <td>Creepy, Cringe, Disturbing,Twisted</td>\n",
              "      <td>Endless expectation for something to happen. C...</td>\n",
              "      <td>6/10</td>\n",
              "    </tr>\n",
              "    <tr>\n",
              "      <th>1482</th>\n",
              "      <td>It will make you scream like a teenage girl.</td>\n",
              "      <td>I saw this movie while I was in London a few m...</td>\n",
              "      <td>9/10</td>\n",
              "    </tr>\n",
              "    <tr>\n",
              "      <th>1483</th>\n",
              "      <td>Not as good as I hoped</td>\n",
              "      <td>I watched this film as part of the EXTREME ASI...</td>\n",
              "      <td>10/10</td>\n",
              "    </tr>\n",
              "    <tr>\n",
              "      <th>1484</th>\n",
              "      <td>A genuinely psychologically scary film!</td>\n",
              "      <td>What can I say? I loved it! And those who know...</td>\n",
              "      <td>10/10</td>\n",
              "    </tr>\n",
              "  </tbody>\n",
              "</table>\n",
              "<p>1485 rows × 3 columns</p>\n",
              "</div>\n",
              "    <div class=\"colab-df-buttons\">\n",
              "\n",
              "  <div class=\"colab-df-container\">\n",
              "    <button class=\"colab-df-convert\" onclick=\"convertToInteractive('df-68cd456f-f820-464c-996b-a336b5a1d5f8')\"\n",
              "            title=\"Convert this dataframe to an interactive table.\"\n",
              "            style=\"display:none;\">\n",
              "\n",
              "  <svg xmlns=\"http://www.w3.org/2000/svg\" height=\"24px\" viewBox=\"0 -960 960 960\">\n",
              "    <path d=\"M120-120v-720h720v720H120Zm60-500h600v-160H180v160Zm220 220h160v-160H400v160Zm0 220h160v-160H400v160ZM180-400h160v-160H180v160Zm440 0h160v-160H620v160ZM180-180h160v-160H180v160Zm440 0h160v-160H620v160Z\"/>\n",
              "  </svg>\n",
              "    </button>\n",
              "\n",
              "  <style>\n",
              "    .colab-df-container {\n",
              "      display:flex;\n",
              "      gap: 12px;\n",
              "    }\n",
              "\n",
              "    .colab-df-convert {\n",
              "      background-color: #E8F0FE;\n",
              "      border: none;\n",
              "      border-radius: 50%;\n",
              "      cursor: pointer;\n",
              "      display: none;\n",
              "      fill: #1967D2;\n",
              "      height: 32px;\n",
              "      padding: 0 0 0 0;\n",
              "      width: 32px;\n",
              "    }\n",
              "\n",
              "    .colab-df-convert:hover {\n",
              "      background-color: #E2EBFA;\n",
              "      box-shadow: 0px 1px 2px rgba(60, 64, 67, 0.3), 0px 1px 3px 1px rgba(60, 64, 67, 0.15);\n",
              "      fill: #174EA6;\n",
              "    }\n",
              "\n",
              "    .colab-df-buttons div {\n",
              "      margin-bottom: 4px;\n",
              "    }\n",
              "\n",
              "    [theme=dark] .colab-df-convert {\n",
              "      background-color: #3B4455;\n",
              "      fill: #D2E3FC;\n",
              "    }\n",
              "\n",
              "    [theme=dark] .colab-df-convert:hover {\n",
              "      background-color: #434B5C;\n",
              "      box-shadow: 0px 1px 3px 1px rgba(0, 0, 0, 0.15);\n",
              "      filter: drop-shadow(0px 1px 2px rgba(0, 0, 0, 0.3));\n",
              "      fill: #FFFFFF;\n",
              "    }\n",
              "  </style>\n",
              "\n",
              "    <script>\n",
              "      const buttonEl =\n",
              "        document.querySelector('#df-68cd456f-f820-464c-996b-a336b5a1d5f8 button.colab-df-convert');\n",
              "      buttonEl.style.display =\n",
              "        google.colab.kernel.accessAllowed ? 'block' : 'none';\n",
              "\n",
              "      async function convertToInteractive(key) {\n",
              "        const element = document.querySelector('#df-68cd456f-f820-464c-996b-a336b5a1d5f8');\n",
              "        const dataTable =\n",
              "          await google.colab.kernel.invokeFunction('convertToInteractive',\n",
              "                                                    [key], {});\n",
              "        if (!dataTable) return;\n",
              "\n",
              "        const docLinkHtml = 'Like what you see? Visit the ' +\n",
              "          '<a target=\"_blank\" href=https://colab.research.google.com/notebooks/data_table.ipynb>data table notebook</a>'\n",
              "          + ' to learn more about interactive tables.';\n",
              "        element.innerHTML = '';\n",
              "        dataTable['output_type'] = 'display_data';\n",
              "        await google.colab.output.renderOutput(dataTable, element);\n",
              "        const docLink = document.createElement('div');\n",
              "        docLink.innerHTML = docLinkHtml;\n",
              "        element.appendChild(docLink);\n",
              "      }\n",
              "    </script>\n",
              "  </div>\n",
              "\n",
              "\n",
              "<div id=\"df-23e6ffec-d579-477a-b749-2243ac90a810\">\n",
              "  <button class=\"colab-df-quickchart\" onclick=\"quickchart('df-23e6ffec-d579-477a-b749-2243ac90a810')\"\n",
              "            title=\"Suggest charts\"\n",
              "            style=\"display:none;\">\n",
              "\n",
              "<svg xmlns=\"http://www.w3.org/2000/svg\" height=\"24px\"viewBox=\"0 0 24 24\"\n",
              "     width=\"24px\">\n",
              "    <g>\n",
              "        <path d=\"M19 3H5c-1.1 0-2 .9-2 2v14c0 1.1.9 2 2 2h14c1.1 0 2-.9 2-2V5c0-1.1-.9-2-2-2zM9 17H7v-7h2v7zm4 0h-2V7h2v10zm4 0h-2v-4h2v4z\"/>\n",
              "    </g>\n",
              "</svg>\n",
              "  </button>\n",
              "\n",
              "<style>\n",
              "  .colab-df-quickchart {\n",
              "      --bg-color: #E8F0FE;\n",
              "      --fill-color: #1967D2;\n",
              "      --hover-bg-color: #E2EBFA;\n",
              "      --hover-fill-color: #174EA6;\n",
              "      --disabled-fill-color: #AAA;\n",
              "      --disabled-bg-color: #DDD;\n",
              "  }\n",
              "\n",
              "  [theme=dark] .colab-df-quickchart {\n",
              "      --bg-color: #3B4455;\n",
              "      --fill-color: #D2E3FC;\n",
              "      --hover-bg-color: #434B5C;\n",
              "      --hover-fill-color: #FFFFFF;\n",
              "      --disabled-bg-color: #3B4455;\n",
              "      --disabled-fill-color: #666;\n",
              "  }\n",
              "\n",
              "  .colab-df-quickchart {\n",
              "    background-color: var(--bg-color);\n",
              "    border: none;\n",
              "    border-radius: 50%;\n",
              "    cursor: pointer;\n",
              "    display: none;\n",
              "    fill: var(--fill-color);\n",
              "    height: 32px;\n",
              "    padding: 0;\n",
              "    width: 32px;\n",
              "  }\n",
              "\n",
              "  .colab-df-quickchart:hover {\n",
              "    background-color: var(--hover-bg-color);\n",
              "    box-shadow: 0 1px 2px rgba(60, 64, 67, 0.3), 0 1px 3px 1px rgba(60, 64, 67, 0.15);\n",
              "    fill: var(--button-hover-fill-color);\n",
              "  }\n",
              "\n",
              "  .colab-df-quickchart-complete:disabled,\n",
              "  .colab-df-quickchart-complete:disabled:hover {\n",
              "    background-color: var(--disabled-bg-color);\n",
              "    fill: var(--disabled-fill-color);\n",
              "    box-shadow: none;\n",
              "  }\n",
              "\n",
              "  .colab-df-spinner {\n",
              "    border: 2px solid var(--fill-color);\n",
              "    border-color: transparent;\n",
              "    border-bottom-color: var(--fill-color);\n",
              "    animation:\n",
              "      spin 1s steps(1) infinite;\n",
              "  }\n",
              "\n",
              "  @keyframes spin {\n",
              "    0% {\n",
              "      border-color: transparent;\n",
              "      border-bottom-color: var(--fill-color);\n",
              "      border-left-color: var(--fill-color);\n",
              "    }\n",
              "    20% {\n",
              "      border-color: transparent;\n",
              "      border-left-color: var(--fill-color);\n",
              "      border-top-color: var(--fill-color);\n",
              "    }\n",
              "    30% {\n",
              "      border-color: transparent;\n",
              "      border-left-color: var(--fill-color);\n",
              "      border-top-color: var(--fill-color);\n",
              "      border-right-color: var(--fill-color);\n",
              "    }\n",
              "    40% {\n",
              "      border-color: transparent;\n",
              "      border-right-color: var(--fill-color);\n",
              "      border-top-color: var(--fill-color);\n",
              "    }\n",
              "    60% {\n",
              "      border-color: transparent;\n",
              "      border-right-color: var(--fill-color);\n",
              "    }\n",
              "    80% {\n",
              "      border-color: transparent;\n",
              "      border-right-color: var(--fill-color);\n",
              "      border-bottom-color: var(--fill-color);\n",
              "    }\n",
              "    90% {\n",
              "      border-color: transparent;\n",
              "      border-bottom-color: var(--fill-color);\n",
              "    }\n",
              "  }\n",
              "</style>\n",
              "\n",
              "  <script>\n",
              "    async function quickchart(key) {\n",
              "      const quickchartButtonEl =\n",
              "        document.querySelector('#' + key + ' button');\n",
              "      quickchartButtonEl.disabled = true;  // To prevent multiple clicks.\n",
              "      quickchartButtonEl.classList.add('colab-df-spinner');\n",
              "      try {\n",
              "        const charts = await google.colab.kernel.invokeFunction(\n",
              "            'suggestCharts', [key], {});\n",
              "      } catch (error) {\n",
              "        console.error('Error during call to suggestCharts:', error);\n",
              "      }\n",
              "      quickchartButtonEl.classList.remove('colab-df-spinner');\n",
              "      quickchartButtonEl.classList.add('colab-df-quickchart-complete');\n",
              "    }\n",
              "    (() => {\n",
              "      let quickchartButtonEl =\n",
              "        document.querySelector('#df-23e6ffec-d579-477a-b749-2243ac90a810 button');\n",
              "      quickchartButtonEl.style.display =\n",
              "        google.colab.kernel.accessAllowed ? 'block' : 'none';\n",
              "    })();\n",
              "  </script>\n",
              "</div>\n",
              "    </div>\n",
              "  </div>\n"
            ],
            "application/vnd.google.colaboratory.intrinsic+json": {
              "type": "dataframe",
              "variable_name": "df",
              "summary": "{\n  \"name\": \"df\",\n  \"rows\": 1485,\n  \"fields\": [\n    {\n      \"column\": \"title\",\n      \"properties\": {\n        \"dtype\": \"string\",\n        \"num_unique_values\": 1469,\n        \"samples\": [\n          \"stunning piece of art\",\n          \"Dark Water\",\n          \"A beautiful horror movie with heart and haunts\"\n        ],\n        \"semantic_type\": \"\",\n        \"description\": \"\"\n      }\n    },\n    {\n      \"column\": \"review\",\n      \"properties\": {\n        \"dtype\": \"string\",\n        \"num_unique_values\": 1485,\n        \"samples\": [\n          \"I finally rented the Pang Brother's The Eye. IMO, The Eye has gotten a little more hype than it deserves. Not to say its a bad film, but its not the scariest thing you'll ever see from Asian Horror (like Ringu, Ju-on, Odishon). The elevator and calligraphy scenes provided the scares and the explosive ending helped increase its appeal. But in retrospect, the Eye 2 was a better thriller as Qi Shu portrayed her lead role much better than Angelica Lee. The Eye is okay for 1 viewing. But judge for yourself to see if it lives up to its hype. Note: I'm not exactly sure about a 2007 Cruise's version, and especially the casting choice of Jessica Alba. She's got great screen appeal but not necessarily the range. Maybe Cruise can offer a big budget for scarier couch jumping ghosts.\",\n          \"Simply put, excellent. Scary throughout, entertaining throughout. Would recommend this film to any fan of the horror genre. ESPECIALLY Hitomi's sequence. The elevator and bed scene are both iconic and horrifying. 10/10, watch this scary movie.\",\n          \"I finally got around to seeing this movie last night (Halloween!) and found it enjoyable, but a little disappointing after all that I had heard about it. However I woke up this morning thinking about the plot and feeling genuinely uneasy about the open cupboard door in my bedroom so it definitely did its job to some extent.After checking in here and reading so many reviewers' comparison of this film to 'Videodrome' I'd also like to point out its similarities to a classic old b/w horror called 'Night Of The Demon' (1957). That film features a paper inscribed with runes which will a short time later lead to the horrible death of anyone who finds it in their possession.Similar, then, to the videotape conceit of 'Ringu'; however, the protagonist in 'Night Of The Demon' is highly sceptical of the supernatural and the film follows his gradual conversion as he realises the true horror of the fate that approaches him. Personally I found this idea more interesting and more realistic than the bland acceptance of the supernatural exhibited by the characters in 'Ringu'.So if you enjoyed 'Ringu', check out 'Night Of The Demon', a creaky horror classic! (But steer clear of the US edit re-titled 'Curse Of The Demon', which removed much of the vital exposition.)\"\n        ],\n        \"semantic_type\": \"\",\n        \"description\": \"\"\n      }\n    },\n    {\n      \"column\": \"rating\",\n      \"properties\": {\n        \"dtype\": \"category\",\n        \"num_unique_values\": 10,\n        \"samples\": [\n          \"1/10\",\n          \"7/10\",\n          \"5/10\"\n        ],\n        \"semantic_type\": \"\",\n        \"description\": \"\"\n      }\n    }\n  ]\n}"
            }
          },
          "metadata": {},
          "execution_count": 65
        }
      ]
    },
    {
      "cell_type": "code",
      "source": [
        "df['review'][88]"
      ],
      "metadata": {
        "colab": {
          "base_uri": "https://localhost:8080/",
          "height": 140
        },
        "id": "kX5zWJ0QtMHT",
        "outputId": "470e1661-afb7-4d6e-ebf0-f67e6bd7e6e2"
      },
      "execution_count": 66,
      "outputs": [
        {
          "output_type": "execute_result",
          "data": {
            "text/plain": [
              "'Let\\'s put aside the fact that this film has some creepy moments but zero actual scares. Sorry, I jumped all throughout The Grudge and I knew while I was jumping that it was a terrible film. This didn\\'t scare me. Noroi? Crapped my pants. This? I was laughing two thirds of the way through. Why?Because I just might nominate this film for most contrived ending of all time. Even disregarding the sheer amount of plot devices this film borrowed (Angel Heart and Jacob\\'s Ladder are all over this film), the last third was absolutely dumbfounding. My jaw was on the floor from the sheer melodrama of it all. I saw this film on lists with Ju-on, Ringu, and a few other notable J-scarers, but boy, if this scared you, Ringu will literally kill you. For the record, Ringu didn\\'t scare me either. Not like the American remake did. But that\\'s a whole other can of worms.The Eye suffers from a serious dollop of schmaltz. Romantic subplot? Check. Ridiculously cheery classical piano music? Check. A \"things are back to normal and I\\'ve gone through a lot but learned even more and everything\\'s fine now\" ending? Check.And hey presto, to top the whole thing off, a story with more plot holes than a cemetery after a tornado. And these aren\\'t plot holes that film enthusiasts (not buffs, that denotes some sort of effort) will only catch and not the average viewer. You\\'d have to be awfully close to blind yourself to not be asking yourself some serious questions at the end of this film. Like, \"What\\'d they use to make those fire effects, MS Paint?\" or \"Was the test audience for this movie a bunch of old women that said something along the lines of \\'You really oughta include a series of flashback shots interleaved with shots of the present so that viewers won\\'t get confused as to the already-obvious story arc similarities\\'?\"Not a good horror movie, not a good thriller. If you want to look at it as a film about a woman struggling post eye surgery that was actually insane the whole time, maybe that\\'s a better film.'"
            ],
            "application/vnd.google.colaboratory.intrinsic+json": {
              "type": "string"
            }
          },
          "metadata": {},
          "execution_count": 66
        }
      ]
    },
    {
      "cell_type": "code",
      "source": [
        "import re\n",
        "import string\n",
        "import nltk\n",
        "from nltk.corpus import stopwords\n",
        "from nltk.stem import WordNetLemmatizer\n",
        "from nltk.stem.porter import *\n",
        "from tqdm import tqdm\n",
        "from nltk import sent_tokenize,word_tokenize\n",
        "\n",
        "nltk.download('stopwords')\n",
        "nltk.download('punkt')\n",
        "nltk.download('wordnet')\n",
        "nltk.download('omw-1.4')"
      ],
      "metadata": {
        "colab": {
          "base_uri": "https://localhost:8080/"
        },
        "id": "s9jktLj0RE2K",
        "outputId": "738959d2-4afd-4fc6-8ba1-b00c6723411a"
      },
      "execution_count": 67,
      "outputs": [
        {
          "output_type": "stream",
          "name": "stderr",
          "text": [
            "[nltk_data] Downloading package stopwords to /root/nltk_data...\n",
            "[nltk_data]   Package stopwords is already up-to-date!\n",
            "[nltk_data] Downloading package punkt to /root/nltk_data...\n",
            "[nltk_data]   Package punkt is already up-to-date!\n",
            "[nltk_data] Downloading package wordnet to /root/nltk_data...\n",
            "[nltk_data]   Package wordnet is already up-to-date!\n",
            "[nltk_data] Downloading package omw-1.4 to /root/nltk_data...\n",
            "[nltk_data]   Package omw-1.4 is already up-to-date!\n"
          ]
        },
        {
          "output_type": "execute_result",
          "data": {
            "text/plain": [
              "True"
            ]
          },
          "metadata": {},
          "execution_count": 67
        }
      ]
    },
    {
      "cell_type": "code",
      "source": [
        "main = []\n",
        "\n",
        "# Storing all punctuations using RE library like !;,\"% etc\n",
        "re_puncs = re.compile('[%s]' % re.escape(string.punctuation))\n",
        "# Storing all stop words like a, an, the, when, there, this etc\n",
        "stop_word  = set(stopwords.words('english'))\n",
        "stop_word.add(\"im\")\n",
        "# print(stop_word)\n"
      ],
      "metadata": {
        "id": "unexSO72RQiG"
      },
      "execution_count": 68,
      "outputs": []
    },
    {
      "cell_type": "code",
      "source": [
        "sentences_listed = [line.split(\" \") for line in df['review']]\n",
        "\n",
        "import gensim\n",
        "\n",
        "word_model = gensim.models.Word2Vec(sentences = sentences_listed, vector_size = 100)\n",
        "words = list(word_model.wv.key_to_index)\n",
        "print(len(words))"
      ],
      "metadata": {
        "colab": {
          "base_uri": "https://localhost:8080/"
        },
        "id": "uLp5QsLaRdVz",
        "outputId": "447f1fb8-0ae6-4929-9f07-e7f342d9b264"
      },
      "execution_count": 69,
      "outputs": [
        {
          "output_type": "stream",
          "name": "stdout",
          "text": [
            "5342\n"
          ]
        }
      ]
    },
    {
      "cell_type": "code",
      "source": [
        "!pip install gensim"
      ],
      "metadata": {
        "colab": {
          "base_uri": "https://localhost:8080/"
        },
        "id": "3G34SZxiRjNl",
        "outputId": "294a089b-76d4-4e6d-9e41-ac7f3194e127"
      },
      "execution_count": 70,
      "outputs": [
        {
          "output_type": "stream",
          "name": "stdout",
          "text": [
            "Requirement already satisfied: gensim in /usr/local/lib/python3.10/dist-packages (4.3.2)\n",
            "Requirement already satisfied: numpy>=1.18.5 in /usr/local/lib/python3.10/dist-packages (from gensim) (1.25.2)\n",
            "Requirement already satisfied: scipy>=1.7.0 in /usr/local/lib/python3.10/dist-packages (from gensim) (1.11.4)\n",
            "Requirement already satisfied: smart-open>=1.8.1 in /usr/local/lib/python3.10/dist-packages (from gensim) (6.4.0)\n"
          ]
        }
      ]
    },
    {
      "cell_type": "code",
      "source": [
        "word_model.wv.most_similar(\"actress\")"
      ],
      "metadata": {
        "colab": {
          "base_uri": "https://localhost:8080/"
        },
        "id": "GPgFjxCBRnhF",
        "outputId": "15546880-bf8e-4e7f-aad6-7eedbcd964c6"
      },
      "execution_count": 71,
      "outputs": [
        {
          "output_type": "execute_result",
          "data": {
            "text/plain": [
              "[('Angelica', 0.9961642026901245),\n",
              " ('moving', 0.9956340193748474),\n",
              " ('telling', 0.9948765635490417),\n",
              " ('role', 0.9940662980079651),\n",
              " ('sets', 0.9936408400535583),\n",
              " (\"She's\", 0.9934767484664917),\n",
              " ('.', 0.9933796525001526),\n",
              " ('working', 0.9930374026298523),\n",
              " ('conveying', 0.9928699135780334),\n",
              " ('legend', 0.9926580786705017)]"
            ]
          },
          "metadata": {},
          "execution_count": 71
        }
      ]
    },
    {
      "cell_type": "code",
      "source": [
        "word_model.wv.most_similar(\"death\")"
      ],
      "metadata": {
        "colab": {
          "base_uri": "https://localhost:8080/"
        },
        "id": "A6IfkeLNRqFA",
        "outputId": "a4a1db41-5b0a-4dfa-bf91-4042688b5daf"
      },
      "execution_count": 72,
      "outputs": [
        {
          "output_type": "execute_result",
          "data": {
            "text/plain": [
              "[('donor', 0.994712233543396),\n",
              " ('investigate', 0.9944313764572144),\n",
              " ('visions', 0.993080198764801),\n",
              " ('victims', 0.9923332333564758),\n",
              " ('calls', 0.9919072389602661),\n",
              " ('hospital', 0.9918200969696045),\n",
              " ('home,', 0.9914587736129761),\n",
              " ('killed', 0.9912410378456116),\n",
              " ('solve', 0.9911643862724304),\n",
              " ('died', 0.9908338189125061)]"
            ]
          },
          "metadata": {},
          "execution_count": 72
        }
      ]
    },
    {
      "cell_type": "code",
      "source": [
        "word_model.wv.most_similar(\"scary\")"
      ],
      "metadata": {
        "colab": {
          "base_uri": "https://localhost:8080/"
        },
        "id": "aHYhXMc0RvDF",
        "outputId": "fc25690f-d5e6-4595-9d28-561e0fe20fab"
      },
      "execution_count": 73,
      "outputs": [
        {
          "output_type": "execute_result",
          "data": {
            "text/plain": [
              "[('quite', 0.9615159034729004),\n",
              " ('good', 0.9479793906211853),\n",
              " ('scary.', 0.9355578422546387),\n",
              " ('pretty', 0.9294544458389282),\n",
              " ('done', 0.9261035323143005),\n",
              " ('but', 0.9260631203651428),\n",
              " (\"it's\", 0.9231249094009399),\n",
              " ('remotely', 0.9192637801170349),\n",
              " ('perfect,', 0.9183173179626465),\n",
              " ('bad', 0.9171686172485352)]"
            ]
          },
          "metadata": {},
          "execution_count": 73
        }
      ]
    },
    {
      "cell_type": "code",
      "source": [
        "# Making Lemmatizing object\n",
        "lem = WordNetLemmatizer()\n",
        "# Using Porter Stemmer\n",
        "p_stem = PorterStemmer()\n",
        "\n",
        "# Traversing whole dataset\n",
        "for i in tqdm(range(len(df['review']))):\n",
        "    # Tokenization\n",
        "    tokens = word_tokenize(str(df['review'][i]))\n",
        "    # Converting all characters to lower case\n",
        "    tokens = [w.lower() for w in tokens]\n",
        "    # Remove all punctuations from sentenses\n",
        "    tokens = [re_puncs.sub('', w) for w in tokens]\n",
        "    # Checking all words is alphabets or not\n",
        "    tokens = [i for i in tokens if i.isalpha()]\n",
        "    # Removing all stop words from the sentenses\n",
        "    tokens = [w for w in tokens if w not in stop_word]\n",
        "    # Doing Lemmatizing of words\n",
        "    tokens = [lem.lemmatize(w) for w in tokens]\n",
        "    # Stemming process\n",
        "    tokens = [p_stem.stem(w) for w in tokens]\n",
        "    # Finally convert to string\n",
        "    r = ' '.join(tokens)\n",
        "    # Storing the final string into main list\n",
        "    main.append(r)\n"
      ],
      "metadata": {
        "colab": {
          "base_uri": "https://localhost:8080/"
        },
        "id": "R7A1wClxRzER",
        "outputId": "41373918-336a-42a4-c5ca-96dcfbf998f4"
      },
      "execution_count": 74,
      "outputs": [
        {
          "output_type": "stream",
          "name": "stderr",
          "text": [
            "100%|██████████| 1485/1485 [00:15<00:00, 93.10it/s]\n"
          ]
        }
      ]
    },
    {
      "cell_type": "code",
      "source": [
        "df['translated'] = main"
      ],
      "metadata": {
        "id": "IIIkhxzKXEwI"
      },
      "execution_count": 75,
      "outputs": []
    },
    {
      "cell_type": "code",
      "source": [
        "df"
      ],
      "metadata": {
        "colab": {
          "base_uri": "https://localhost:8080/",
          "height": 493
        },
        "id": "mhxJj5zWXYiC",
        "outputId": "f62f7945-c20d-4490-d92e-ec20da1f0b3d"
      },
      "execution_count": 76,
      "outputs": [
        {
          "output_type": "execute_result",
          "data": {
            "text/plain": [
              "                                                  title  \\\n",
              "0           Don't dare blink as you may miss something.   \n",
              "1              Excellent horror film with a weak ending   \n",
              "2          A Corneal Transplant from the Twilight Zone.   \n",
              "3     One of the year's best horror movies, though t...   \n",
              "4                                     Good and scary!!!   \n",
              "...                                                 ...   \n",
              "1480                             A rewarding experience   \n",
              "1481                 Creepy, Cringe, Disturbing,Twisted   \n",
              "1482       It will make you scream like a teenage girl.   \n",
              "1483                             Not as good as I hoped   \n",
              "1484            A genuinely psychologically scary film!   \n",
              "\n",
              "                                                 review rating  \\\n",
              "0     Wong Kar Mun went blind at the age of two, 18 ...   9/10   \n",
              "1     Mun (Angelica Lee) is a young woman who has be...   7/10   \n",
              "2     This is not the first time that a movie where ...   8/10   \n",
              "3     Even the website of this movie gave me the cre...   8/10   \n",
              "4     Of all the horror movie genres in existence, g...  10/10   \n",
              "...                                                 ...    ...   \n",
              "1480  A Tale Of Two Sisters is a heart-wrenching sto...  10/10   \n",
              "1481  Endless expectation for something to happen. C...   6/10   \n",
              "1482  I saw this movie while I was in London a few m...   9/10   \n",
              "1483  I watched this film as part of the EXTREME ASI...  10/10   \n",
              "1484  What can I say? I loved it! And those who know...  10/10   \n",
              "\n",
              "                                             translated  \n",
              "0     wong kar mun went blind age two year later und...  \n",
              "1     mun angelica lee young woman blind sinc two ye...  \n",
              "2     first time movi main charact get corneal trans...  \n",
              "3     even websit movi gave creep turn one scariest ...  \n",
              "4     horror movi genr exist ghost stori alway perso...  \n",
              "...                                                 ...  \n",
              "1480  tale two sister heartwrench stori psycholog ho...  \n",
              "1481  endless expect someth happen cring random stuf...  \n",
              "1482  saw movi london month back nt know anyth movi ...  \n",
              "1483  watch film part extrem asia season local cinem...  \n",
              "1484  say love know know love filmsi saw movi antici...  \n",
              "\n",
              "[1485 rows x 4 columns]"
            ],
            "text/html": [
              "\n",
              "  <div id=\"df-a2ad2872-dde6-432c-b136-2b33b3772e3f\" class=\"colab-df-container\">\n",
              "    <div>\n",
              "<style scoped>\n",
              "    .dataframe tbody tr th:only-of-type {\n",
              "        vertical-align: middle;\n",
              "    }\n",
              "\n",
              "    .dataframe tbody tr th {\n",
              "        vertical-align: top;\n",
              "    }\n",
              "\n",
              "    .dataframe thead th {\n",
              "        text-align: right;\n",
              "    }\n",
              "</style>\n",
              "<table border=\"1\" class=\"dataframe\">\n",
              "  <thead>\n",
              "    <tr style=\"text-align: right;\">\n",
              "      <th></th>\n",
              "      <th>title</th>\n",
              "      <th>review</th>\n",
              "      <th>rating</th>\n",
              "      <th>translated</th>\n",
              "    </tr>\n",
              "  </thead>\n",
              "  <tbody>\n",
              "    <tr>\n",
              "      <th>0</th>\n",
              "      <td>Don't dare blink as you may miss something.</td>\n",
              "      <td>Wong Kar Mun went blind at the age of two, 18 ...</td>\n",
              "      <td>9/10</td>\n",
              "      <td>wong kar mun went blind age two year later und...</td>\n",
              "    </tr>\n",
              "    <tr>\n",
              "      <th>1</th>\n",
              "      <td>Excellent horror film with a weak ending</td>\n",
              "      <td>Mun (Angelica Lee) is a young woman who has be...</td>\n",
              "      <td>7/10</td>\n",
              "      <td>mun angelica lee young woman blind sinc two ye...</td>\n",
              "    </tr>\n",
              "    <tr>\n",
              "      <th>2</th>\n",
              "      <td>A Corneal Transplant from the Twilight Zone.</td>\n",
              "      <td>This is not the first time that a movie where ...</td>\n",
              "      <td>8/10</td>\n",
              "      <td>first time movi main charact get corneal trans...</td>\n",
              "    </tr>\n",
              "    <tr>\n",
              "      <th>3</th>\n",
              "      <td>One of the year's best horror movies, though t...</td>\n",
              "      <td>Even the website of this movie gave me the cre...</td>\n",
              "      <td>8/10</td>\n",
              "      <td>even websit movi gave creep turn one scariest ...</td>\n",
              "    </tr>\n",
              "    <tr>\n",
              "      <th>4</th>\n",
              "      <td>Good and scary!!!</td>\n",
              "      <td>Of all the horror movie genres in existence, g...</td>\n",
              "      <td>10/10</td>\n",
              "      <td>horror movi genr exist ghost stori alway perso...</td>\n",
              "    </tr>\n",
              "    <tr>\n",
              "      <th>...</th>\n",
              "      <td>...</td>\n",
              "      <td>...</td>\n",
              "      <td>...</td>\n",
              "      <td>...</td>\n",
              "    </tr>\n",
              "    <tr>\n",
              "      <th>1480</th>\n",
              "      <td>A rewarding experience</td>\n",
              "      <td>A Tale Of Two Sisters is a heart-wrenching sto...</td>\n",
              "      <td>10/10</td>\n",
              "      <td>tale two sister heartwrench stori psycholog ho...</td>\n",
              "    </tr>\n",
              "    <tr>\n",
              "      <th>1481</th>\n",
              "      <td>Creepy, Cringe, Disturbing,Twisted</td>\n",
              "      <td>Endless expectation for something to happen. C...</td>\n",
              "      <td>6/10</td>\n",
              "      <td>endless expect someth happen cring random stuf...</td>\n",
              "    </tr>\n",
              "    <tr>\n",
              "      <th>1482</th>\n",
              "      <td>It will make you scream like a teenage girl.</td>\n",
              "      <td>I saw this movie while I was in London a few m...</td>\n",
              "      <td>9/10</td>\n",
              "      <td>saw movi london month back nt know anyth movi ...</td>\n",
              "    </tr>\n",
              "    <tr>\n",
              "      <th>1483</th>\n",
              "      <td>Not as good as I hoped</td>\n",
              "      <td>I watched this film as part of the EXTREME ASI...</td>\n",
              "      <td>10/10</td>\n",
              "      <td>watch film part extrem asia season local cinem...</td>\n",
              "    </tr>\n",
              "    <tr>\n",
              "      <th>1484</th>\n",
              "      <td>A genuinely psychologically scary film!</td>\n",
              "      <td>What can I say? I loved it! And those who know...</td>\n",
              "      <td>10/10</td>\n",
              "      <td>say love know know love filmsi saw movi antici...</td>\n",
              "    </tr>\n",
              "  </tbody>\n",
              "</table>\n",
              "<p>1485 rows × 4 columns</p>\n",
              "</div>\n",
              "    <div class=\"colab-df-buttons\">\n",
              "\n",
              "  <div class=\"colab-df-container\">\n",
              "    <button class=\"colab-df-convert\" onclick=\"convertToInteractive('df-a2ad2872-dde6-432c-b136-2b33b3772e3f')\"\n",
              "            title=\"Convert this dataframe to an interactive table.\"\n",
              "            style=\"display:none;\">\n",
              "\n",
              "  <svg xmlns=\"http://www.w3.org/2000/svg\" height=\"24px\" viewBox=\"0 -960 960 960\">\n",
              "    <path d=\"M120-120v-720h720v720H120Zm60-500h600v-160H180v160Zm220 220h160v-160H400v160Zm0 220h160v-160H400v160ZM180-400h160v-160H180v160Zm440 0h160v-160H620v160ZM180-180h160v-160H180v160Zm440 0h160v-160H620v160Z\"/>\n",
              "  </svg>\n",
              "    </button>\n",
              "\n",
              "  <style>\n",
              "    .colab-df-container {\n",
              "      display:flex;\n",
              "      gap: 12px;\n",
              "    }\n",
              "\n",
              "    .colab-df-convert {\n",
              "      background-color: #E8F0FE;\n",
              "      border: none;\n",
              "      border-radius: 50%;\n",
              "      cursor: pointer;\n",
              "      display: none;\n",
              "      fill: #1967D2;\n",
              "      height: 32px;\n",
              "      padding: 0 0 0 0;\n",
              "      width: 32px;\n",
              "    }\n",
              "\n",
              "    .colab-df-convert:hover {\n",
              "      background-color: #E2EBFA;\n",
              "      box-shadow: 0px 1px 2px rgba(60, 64, 67, 0.3), 0px 1px 3px 1px rgba(60, 64, 67, 0.15);\n",
              "      fill: #174EA6;\n",
              "    }\n",
              "\n",
              "    .colab-df-buttons div {\n",
              "      margin-bottom: 4px;\n",
              "    }\n",
              "\n",
              "    [theme=dark] .colab-df-convert {\n",
              "      background-color: #3B4455;\n",
              "      fill: #D2E3FC;\n",
              "    }\n",
              "\n",
              "    [theme=dark] .colab-df-convert:hover {\n",
              "      background-color: #434B5C;\n",
              "      box-shadow: 0px 1px 3px 1px rgba(0, 0, 0, 0.15);\n",
              "      filter: drop-shadow(0px 1px 2px rgba(0, 0, 0, 0.3));\n",
              "      fill: #FFFFFF;\n",
              "    }\n",
              "  </style>\n",
              "\n",
              "    <script>\n",
              "      const buttonEl =\n",
              "        document.querySelector('#df-a2ad2872-dde6-432c-b136-2b33b3772e3f button.colab-df-convert');\n",
              "      buttonEl.style.display =\n",
              "        google.colab.kernel.accessAllowed ? 'block' : 'none';\n",
              "\n",
              "      async function convertToInteractive(key) {\n",
              "        const element = document.querySelector('#df-a2ad2872-dde6-432c-b136-2b33b3772e3f');\n",
              "        const dataTable =\n",
              "          await google.colab.kernel.invokeFunction('convertToInteractive',\n",
              "                                                    [key], {});\n",
              "        if (!dataTable) return;\n",
              "\n",
              "        const docLinkHtml = 'Like what you see? Visit the ' +\n",
              "          '<a target=\"_blank\" href=https://colab.research.google.com/notebooks/data_table.ipynb>data table notebook</a>'\n",
              "          + ' to learn more about interactive tables.';\n",
              "        element.innerHTML = '';\n",
              "        dataTable['output_type'] = 'display_data';\n",
              "        await google.colab.output.renderOutput(dataTable, element);\n",
              "        const docLink = document.createElement('div');\n",
              "        docLink.innerHTML = docLinkHtml;\n",
              "        element.appendChild(docLink);\n",
              "      }\n",
              "    </script>\n",
              "  </div>\n",
              "\n",
              "\n",
              "<div id=\"df-584ca7b5-3bc7-4a39-bed6-af6c69fc848d\">\n",
              "  <button class=\"colab-df-quickchart\" onclick=\"quickchart('df-584ca7b5-3bc7-4a39-bed6-af6c69fc848d')\"\n",
              "            title=\"Suggest charts\"\n",
              "            style=\"display:none;\">\n",
              "\n",
              "<svg xmlns=\"http://www.w3.org/2000/svg\" height=\"24px\"viewBox=\"0 0 24 24\"\n",
              "     width=\"24px\">\n",
              "    <g>\n",
              "        <path d=\"M19 3H5c-1.1 0-2 .9-2 2v14c0 1.1.9 2 2 2h14c1.1 0 2-.9 2-2V5c0-1.1-.9-2-2-2zM9 17H7v-7h2v7zm4 0h-2V7h2v10zm4 0h-2v-4h2v4z\"/>\n",
              "    </g>\n",
              "</svg>\n",
              "  </button>\n",
              "\n",
              "<style>\n",
              "  .colab-df-quickchart {\n",
              "      --bg-color: #E8F0FE;\n",
              "      --fill-color: #1967D2;\n",
              "      --hover-bg-color: #E2EBFA;\n",
              "      --hover-fill-color: #174EA6;\n",
              "      --disabled-fill-color: #AAA;\n",
              "      --disabled-bg-color: #DDD;\n",
              "  }\n",
              "\n",
              "  [theme=dark] .colab-df-quickchart {\n",
              "      --bg-color: #3B4455;\n",
              "      --fill-color: #D2E3FC;\n",
              "      --hover-bg-color: #434B5C;\n",
              "      --hover-fill-color: #FFFFFF;\n",
              "      --disabled-bg-color: #3B4455;\n",
              "      --disabled-fill-color: #666;\n",
              "  }\n",
              "\n",
              "  .colab-df-quickchart {\n",
              "    background-color: var(--bg-color);\n",
              "    border: none;\n",
              "    border-radius: 50%;\n",
              "    cursor: pointer;\n",
              "    display: none;\n",
              "    fill: var(--fill-color);\n",
              "    height: 32px;\n",
              "    padding: 0;\n",
              "    width: 32px;\n",
              "  }\n",
              "\n",
              "  .colab-df-quickchart:hover {\n",
              "    background-color: var(--hover-bg-color);\n",
              "    box-shadow: 0 1px 2px rgba(60, 64, 67, 0.3), 0 1px 3px 1px rgba(60, 64, 67, 0.15);\n",
              "    fill: var(--button-hover-fill-color);\n",
              "  }\n",
              "\n",
              "  .colab-df-quickchart-complete:disabled,\n",
              "  .colab-df-quickchart-complete:disabled:hover {\n",
              "    background-color: var(--disabled-bg-color);\n",
              "    fill: var(--disabled-fill-color);\n",
              "    box-shadow: none;\n",
              "  }\n",
              "\n",
              "  .colab-df-spinner {\n",
              "    border: 2px solid var(--fill-color);\n",
              "    border-color: transparent;\n",
              "    border-bottom-color: var(--fill-color);\n",
              "    animation:\n",
              "      spin 1s steps(1) infinite;\n",
              "  }\n",
              "\n",
              "  @keyframes spin {\n",
              "    0% {\n",
              "      border-color: transparent;\n",
              "      border-bottom-color: var(--fill-color);\n",
              "      border-left-color: var(--fill-color);\n",
              "    }\n",
              "    20% {\n",
              "      border-color: transparent;\n",
              "      border-left-color: var(--fill-color);\n",
              "      border-top-color: var(--fill-color);\n",
              "    }\n",
              "    30% {\n",
              "      border-color: transparent;\n",
              "      border-left-color: var(--fill-color);\n",
              "      border-top-color: var(--fill-color);\n",
              "      border-right-color: var(--fill-color);\n",
              "    }\n",
              "    40% {\n",
              "      border-color: transparent;\n",
              "      border-right-color: var(--fill-color);\n",
              "      border-top-color: var(--fill-color);\n",
              "    }\n",
              "    60% {\n",
              "      border-color: transparent;\n",
              "      border-right-color: var(--fill-color);\n",
              "    }\n",
              "    80% {\n",
              "      border-color: transparent;\n",
              "      border-right-color: var(--fill-color);\n",
              "      border-bottom-color: var(--fill-color);\n",
              "    }\n",
              "    90% {\n",
              "      border-color: transparent;\n",
              "      border-bottom-color: var(--fill-color);\n",
              "    }\n",
              "  }\n",
              "</style>\n",
              "\n",
              "  <script>\n",
              "    async function quickchart(key) {\n",
              "      const quickchartButtonEl =\n",
              "        document.querySelector('#' + key + ' button');\n",
              "      quickchartButtonEl.disabled = true;  // To prevent multiple clicks.\n",
              "      quickchartButtonEl.classList.add('colab-df-spinner');\n",
              "      try {\n",
              "        const charts = await google.colab.kernel.invokeFunction(\n",
              "            'suggestCharts', [key], {});\n",
              "      } catch (error) {\n",
              "        console.error('Error during call to suggestCharts:', error);\n",
              "      }\n",
              "      quickchartButtonEl.classList.remove('colab-df-spinner');\n",
              "      quickchartButtonEl.classList.add('colab-df-quickchart-complete');\n",
              "    }\n",
              "    (() => {\n",
              "      let quickchartButtonEl =\n",
              "        document.querySelector('#df-584ca7b5-3bc7-4a39-bed6-af6c69fc848d button');\n",
              "      quickchartButtonEl.style.display =\n",
              "        google.colab.kernel.accessAllowed ? 'block' : 'none';\n",
              "    })();\n",
              "  </script>\n",
              "</div>\n",
              "    </div>\n",
              "  </div>\n"
            ],
            "application/vnd.google.colaboratory.intrinsic+json": {
              "type": "dataframe",
              "variable_name": "df",
              "summary": "{\n  \"name\": \"df\",\n  \"rows\": 1485,\n  \"fields\": [\n    {\n      \"column\": \"title\",\n      \"properties\": {\n        \"dtype\": \"string\",\n        \"num_unique_values\": 1469,\n        \"samples\": [\n          \"stunning piece of art\",\n          \"Dark Water\",\n          \"A beautiful horror movie with heart and haunts\"\n        ],\n        \"semantic_type\": \"\",\n        \"description\": \"\"\n      }\n    },\n    {\n      \"column\": \"review\",\n      \"properties\": {\n        \"dtype\": \"string\",\n        \"num_unique_values\": 1485,\n        \"samples\": [\n          \"I finally rented the Pang Brother's The Eye. IMO, The Eye has gotten a little more hype than it deserves. Not to say its a bad film, but its not the scariest thing you'll ever see from Asian Horror (like Ringu, Ju-on, Odishon). The elevator and calligraphy scenes provided the scares and the explosive ending helped increase its appeal. But in retrospect, the Eye 2 was a better thriller as Qi Shu portrayed her lead role much better than Angelica Lee. The Eye is okay for 1 viewing. But judge for yourself to see if it lives up to its hype. Note: I'm not exactly sure about a 2007 Cruise's version, and especially the casting choice of Jessica Alba. She's got great screen appeal but not necessarily the range. Maybe Cruise can offer a big budget for scarier couch jumping ghosts.\",\n          \"Simply put, excellent. Scary throughout, entertaining throughout. Would recommend this film to any fan of the horror genre. ESPECIALLY Hitomi's sequence. The elevator and bed scene are both iconic and horrifying. 10/10, watch this scary movie.\",\n          \"I finally got around to seeing this movie last night (Halloween!) and found it enjoyable, but a little disappointing after all that I had heard about it. However I woke up this morning thinking about the plot and feeling genuinely uneasy about the open cupboard door in my bedroom so it definitely did its job to some extent.After checking in here and reading so many reviewers' comparison of this film to 'Videodrome' I'd also like to point out its similarities to a classic old b/w horror called 'Night Of The Demon' (1957). That film features a paper inscribed with runes which will a short time later lead to the horrible death of anyone who finds it in their possession.Similar, then, to the videotape conceit of 'Ringu'; however, the protagonist in 'Night Of The Demon' is highly sceptical of the supernatural and the film follows his gradual conversion as he realises the true horror of the fate that approaches him. Personally I found this idea more interesting and more realistic than the bland acceptance of the supernatural exhibited by the characters in 'Ringu'.So if you enjoyed 'Ringu', check out 'Night Of The Demon', a creaky horror classic! (But steer clear of the US edit re-titled 'Curse Of The Demon', which removed much of the vital exposition.)\"\n        ],\n        \"semantic_type\": \"\",\n        \"description\": \"\"\n      }\n    },\n    {\n      \"column\": \"rating\",\n      \"properties\": {\n        \"dtype\": \"category\",\n        \"num_unique_values\": 10,\n        \"samples\": [\n          \"1/10\",\n          \"7/10\",\n          \"5/10\"\n        ],\n        \"semantic_type\": \"\",\n        \"description\": \"\"\n      }\n    },\n    {\n      \"column\": \"translated\",\n      \"properties\": {\n        \"dtype\": \"string\",\n        \"num_unique_values\": 1485,\n        \"samples\": [\n          \"final rent pang brother eye imo eye gotten littl hype deserv say bad film scariest thing ever see asian horror like ringu juon odishon elev calligraphi scene provid scare explos end help increas appeal retrospect eye better thriller qi shu portray lead role much better angelica lee eye okay view judg see life hype note exactli sure cruis version especi cast choic jessica alba got great screen appeal necessarili rang mayb cruis offer big budget scarier couch jump ghost\",\n          \"simpli put excel scari throughout entertain throughout would recommend film fan horror genr especi hitomi sequenc elev bed scene icon horrifi watch scari movi\",\n          \"final got around see movi last night halloween found enjoy littl disappoint heard howev woke morn think plot feel genuin uneasi open cupboard door bedroom definit job extentaft check read mani review comparison film videodrom also like point similar classic old bw horror call night demon film featur paper inscrib rune short time later lead horribl death anyon find possessionsimilar videotap conceit ringu howev protagonist night demon highli sceptic supernatur film follow gradual convers realis true horror fate approach person found idea interest realist bland accept supernatur exhibit charact ringuso enjoy ringu check night demon creaki horror classic steer clear u edit retitl curs demon remov much vital exposit\"\n        ],\n        \"semantic_type\": \"\",\n        \"description\": \"\"\n      }\n    }\n  ]\n}"
            }
          },
          "metadata": {},
          "execution_count": 76
        }
      ]
    },
    {
      "cell_type": "code",
      "source": [
        "#df['translated'][88]"
      ],
      "metadata": {
        "id": "fgyUvMFjXZNf"
      },
      "execution_count": 77,
      "outputs": []
    },
    {
      "cell_type": "code",
      "source": [
        "from tensorflow.keras.preprocessing.text import Tokenizer\n",
        "tokenizer = Tokenizer()\n",
        "tokenizer.fit_on_texts(df['translated'])"
      ],
      "metadata": {
        "id": "1hbFw70fXgkf"
      },
      "execution_count": 78,
      "outputs": []
    },
    {
      "cell_type": "code",
      "source": [
        "print(len(tokenizer.word_counts))"
      ],
      "metadata": {
        "colab": {
          "base_uri": "https://localhost:8080/"
        },
        "id": "8G3f1_VWXnW7",
        "outputId": "def75c29-195a-4a51-885b-4ac28e6c7a04"
      },
      "execution_count": 79,
      "outputs": [
        {
          "output_type": "stream",
          "name": "stdout",
          "text": [
            "12200\n"
          ]
        }
      ]
    },
    {
      "cell_type": "code",
      "source": [
        "counter = 0\n",
        "for key, value in tokenizer.word_counts.items():\n",
        "    if value > 2400:\n",
        "        print(key, value)\n",
        "        counter+=1\n",
        "\n",
        "print(counter)"
      ],
      "metadata": {
        "colab": {
          "base_uri": "https://localhost:8080/"
        },
        "id": "4dQJQs2_XqfK",
        "outputId": "f4682162-7072-4627-b06d-ab02ca87359e"
      },
      "execution_count": 80,
      "outputs": [
        {
          "output_type": "stream",
          "name": "stdout",
          "text": [
            "film 3687\n",
            "nt 2443\n",
            "movi 3731\n",
            "3\n"
          ]
        }
      ]
    },
    {
      "cell_type": "markdown",
      "source": [
        "**grupa 1** scary/scared, afraid, fright(ened), alarmed, shocked, horror/horrified, threatening, hair-rising, horrendous"
      ],
      "metadata": {
        "id": "L4BmL1Vgy071"
      }
    },
    {
      "cell_type": "code",
      "source": [
        "count1 = 0\n",
        "num=tokenizer.word_counts['scari']\n",
        "print(num)\n",
        "count1+=num"
      ],
      "metadata": {
        "colab": {
          "base_uri": "https://localhost:8080/"
        },
        "id": "rlwjuQAZwA43",
        "outputId": "9edff4e5-d77e-4bd2-830b-db9f298b1c01"
      },
      "execution_count": 81,
      "outputs": [
        {
          "output_type": "stream",
          "name": "stdout",
          "text": [
            "692\n"
          ]
        }
      ]
    },
    {
      "cell_type": "code",
      "source": [
        "num=tokenizer.word_counts['scare']\n",
        "print(num)\n",
        "count1+=num"
      ],
      "metadata": {
        "colab": {
          "base_uri": "https://localhost:8080/"
        },
        "id": "SwcI0o3-xsxX",
        "outputId": "8ace4846-6d3d-42f8-a8fb-7bb8e43bdf98"
      },
      "execution_count": 82,
      "outputs": [
        {
          "output_type": "stream",
          "name": "stdout",
          "text": [
            "759\n"
          ]
        }
      ]
    },
    {
      "cell_type": "code",
      "source": [
        "num=tokenizer.word_counts['afraid']\n",
        "print(num)\n",
        "count1+=num"
      ],
      "metadata": {
        "colab": {
          "base_uri": "https://localhost:8080/"
        },
        "id": "SNLEwCVIx998",
        "outputId": "711b3113-2162-4892-e12a-2bbcf9e54fb4"
      },
      "execution_count": 83,
      "outputs": [
        {
          "output_type": "stream",
          "name": "stdout",
          "text": [
            "44\n"
          ]
        }
      ]
    },
    {
      "cell_type": "code",
      "source": [
        "num=tokenizer.word_counts['fright']\n",
        "print(num)\n",
        "count1+=num"
      ],
      "metadata": {
        "colab": {
          "base_uri": "https://localhost:8080/"
        },
        "id": "ZK1_JbpyzaNW",
        "outputId": "44f2ce69-aeb6-410c-dcc8-bf009f505143"
      },
      "execution_count": 84,
      "outputs": [
        {
          "output_type": "stream",
          "name": "stdout",
          "text": [
            "37\n"
          ]
        }
      ]
    },
    {
      "cell_type": "code",
      "source": [
        "num=tokenizer.word_counts['frighten']\n",
        "print(num)\n",
        "count1+=num"
      ],
      "metadata": {
        "colab": {
          "base_uri": "https://localhost:8080/"
        },
        "id": "bmwClQWuzlur",
        "outputId": "145618d6-a4c8-4a22-e578-2efb25330b26"
      },
      "execution_count": 85,
      "outputs": [
        {
          "output_type": "stream",
          "name": "stdout",
          "text": [
            "210\n"
          ]
        }
      ]
    },
    {
      "cell_type": "code",
      "source": [
        "num=tokenizer.word_counts['alarm']\n",
        "print(num)\n",
        "count1+=num"
      ],
      "metadata": {
        "colab": {
          "base_uri": "https://localhost:8080/"
        },
        "id": "mLC0qs16zuh6",
        "outputId": "319670d8-2e77-43a9-9772-acc884514190"
      },
      "execution_count": 86,
      "outputs": [
        {
          "output_type": "stream",
          "name": "stdout",
          "text": [
            "3\n"
          ]
        }
      ]
    },
    {
      "cell_type": "code",
      "source": [
        "num=tokenizer.word_counts['shock']\n",
        "print(num)\n",
        "count1+=num"
      ],
      "metadata": {
        "colab": {
          "base_uri": "https://localhost:8080/"
        },
        "id": "FOS-Fucsz3yZ",
        "outputId": "f1df68d4-291d-468b-9945-1eb8e28b442e"
      },
      "execution_count": 87,
      "outputs": [
        {
          "output_type": "stream",
          "name": "stdout",
          "text": [
            "175\n"
          ]
        }
      ]
    },
    {
      "cell_type": "code",
      "source": [
        "num=tokenizer.word_counts['horrifi']\n",
        "print(num)\n",
        "count1+=num"
      ],
      "metadata": {
        "colab": {
          "base_uri": "https://localhost:8080/"
        },
        "id": "xYfuNhK_z7rr",
        "outputId": "07946be9-f1a8-4e00-bb6d-eb4eaa514d73"
      },
      "execution_count": 88,
      "outputs": [
        {
          "output_type": "stream",
          "name": "stdout",
          "text": [
            "46\n"
          ]
        }
      ]
    },
    {
      "cell_type": "code",
      "source": [
        "num=tokenizer.word_counts['horrif']\n",
        "print(num)\n",
        "count1+=num"
      ],
      "metadata": {
        "colab": {
          "base_uri": "https://localhost:8080/"
        },
        "id": "mVj9X9vm0GNy",
        "outputId": "0c6692de-ce60-48b5-8f10-82caaa52e8a2"
      },
      "execution_count": 89,
      "outputs": [
        {
          "output_type": "stream",
          "name": "stdout",
          "text": [
            "37\n"
          ]
        }
      ]
    },
    {
      "cell_type": "code",
      "source": [
        "num=tokenizer.word_counts['threaten']\n",
        "print(num)\n",
        "count1+=num"
      ],
      "metadata": {
        "colab": {
          "base_uri": "https://localhost:8080/"
        },
        "id": "plytxXNS0R0L",
        "outputId": "d625cc20-fc41-4323-dd2b-b83a641318e1"
      },
      "execution_count": 90,
      "outputs": [
        {
          "output_type": "stream",
          "name": "stdout",
          "text": [
            "21\n"
          ]
        }
      ]
    },
    {
      "cell_type": "code",
      "source": [
        "num=tokenizer.word_counts['horrend']\n",
        "print(num)\n",
        "count1+=num"
      ],
      "metadata": {
        "colab": {
          "base_uri": "https://localhost:8080/"
        },
        "id": "ujSY-2YX0fEm",
        "outputId": "52a0675f-8735-4984-e3bb-965f8f8892f1"
      },
      "execution_count": 91,
      "outputs": [
        {
          "output_type": "stream",
          "name": "stdout",
          "text": [
            "3\n"
          ]
        }
      ]
    },
    {
      "cell_type": "code",
      "source": [
        "num=tokenizer.word_counts['upset']\n",
        "print(num)\n",
        "count1+=num"
      ],
      "metadata": {
        "colab": {
          "base_uri": "https://localhost:8080/"
        },
        "id": "o017uULS7yjL",
        "outputId": "d4748588-fca1-4026-a073-1ab88c4fab45"
      },
      "execution_count": 92,
      "outputs": [
        {
          "output_type": "stream",
          "name": "stdout",
          "text": [
            "8\n"
          ]
        }
      ]
    },
    {
      "cell_type": "code",
      "source": [
        "print('WYNIK DLA GRUPY PIERWSZEJ TOOOOO',count1)"
      ],
      "metadata": {
        "colab": {
          "base_uri": "https://localhost:8080/"
        },
        "id": "6QQyJQ8l0hHi",
        "outputId": "c510a7ef-542e-4b10-a633-5dd249476181"
      },
      "execution_count": 93,
      "outputs": [
        {
          "output_type": "stream",
          "name": "stdout",
          "text": [
            "WYNIK DLA GRUPY PIERWSZEJ TOOOOO 2035\n"
          ]
        }
      ]
    },
    {
      "cell_type": "markdown",
      "source": [
        "**grupa 2** fear, petrified, terror/terrified, distress, helpless(ness), anxiety/anxious, worried, apprehension, creepy, uneasy, disturbing, chilling, eerie, spooky(?), intimidating, overwhelming, unnerving"
      ],
      "metadata": {
        "id": "kXlSPtUN1OFf"
      }
    },
    {
      "cell_type": "code",
      "source": [
        "count2 = 0\n",
        "num=tokenizer.word_counts['fear']\n",
        "print(num)\n",
        "count2+=num"
      ],
      "metadata": {
        "colab": {
          "base_uri": "https://localhost:8080/"
        },
        "id": "mU95N0Mq024T",
        "outputId": "3487f2d3-9e06-4e83-89eb-740b22d6badb"
      },
      "execution_count": 94,
      "outputs": [
        {
          "output_type": "stream",
          "name": "stdout",
          "text": [
            "188\n"
          ]
        }
      ]
    },
    {
      "cell_type": "code",
      "source": [
        "num=tokenizer.word_counts['petrifi']\n",
        "print(num)\n",
        "count2+=num"
      ],
      "metadata": {
        "colab": {
          "base_uri": "https://localhost:8080/"
        },
        "id": "fNSGeGBs1ZOT",
        "outputId": "685d4595-6719-4eda-f546-c8e813d6f14e"
      },
      "execution_count": 95,
      "outputs": [
        {
          "output_type": "stream",
          "name": "stdout",
          "text": [
            "1\n"
          ]
        }
      ]
    },
    {
      "cell_type": "code",
      "source": [
        "num=tokenizer.word_counts['terror']\n",
        "print(num)\n",
        "count2+=num"
      ],
      "metadata": {
        "colab": {
          "base_uri": "https://localhost:8080/"
        },
        "id": "ZUcRFEzw1wIW",
        "outputId": "8b8668f4-61b8-4a43-cff6-d24703741aa4"
      },
      "execution_count": 96,
      "outputs": [
        {
          "output_type": "stream",
          "name": "stdout",
          "text": [
            "114\n"
          ]
        }
      ]
    },
    {
      "cell_type": "code",
      "source": [
        "num=tokenizer.word_counts['terrifi']\n",
        "print(num)\n",
        "count2+=num"
      ],
      "metadata": {
        "colab": {
          "base_uri": "https://localhost:8080/"
        },
        "id": "PBsa91CU1Ymg",
        "outputId": "75b22cb2-89f4-4756-a1c3-154f31ccf461"
      },
      "execution_count": 97,
      "outputs": [
        {
          "output_type": "stream",
          "name": "stdout",
          "text": [
            "191\n"
          ]
        }
      ]
    },
    {
      "cell_type": "code",
      "source": [
        "num=tokenizer.word_counts['distress']\n",
        "print(num)\n",
        "count2+=num"
      ],
      "metadata": {
        "colab": {
          "base_uri": "https://localhost:8080/"
        },
        "id": "M2hiXKpu12rP",
        "outputId": "33163522-dfff-4fba-9a70-2ab5a6cd501e"
      },
      "execution_count": 98,
      "outputs": [
        {
          "output_type": "stream",
          "name": "stdout",
          "text": [
            "5\n"
          ]
        }
      ]
    },
    {
      "cell_type": "code",
      "source": [
        "num=tokenizer.word_counts['helpless']\n",
        "print(num)\n",
        "count2+=num"
      ],
      "metadata": {
        "colab": {
          "base_uri": "https://localhost:8080/"
        },
        "id": "XGAea3D215JL",
        "outputId": "0e176789-5f79-48da-9925-5552ab5ceee8"
      },
      "execution_count": 99,
      "outputs": [
        {
          "output_type": "stream",
          "name": "stdout",
          "text": [
            "10\n"
          ]
        }
      ]
    },
    {
      "cell_type": "code",
      "source": [
        "num=tokenizer.word_counts['worri']\n",
        "print(num)\n",
        "count2+=num"
      ],
      "metadata": {
        "colab": {
          "base_uri": "https://localhost:8080/"
        },
        "id": "VbwAT88i1_-6",
        "outputId": "0b13696d-ede1-42d9-9b08-88266e8615c6"
      },
      "execution_count": 100,
      "outputs": [
        {
          "output_type": "stream",
          "name": "stdout",
          "text": [
            "18\n"
          ]
        }
      ]
    },
    {
      "cell_type": "code",
      "source": [
        "num=tokenizer.word_counts['creepi']\n",
        "print(num)\n",
        "count2+=num"
      ],
      "metadata": {
        "colab": {
          "base_uri": "https://localhost:8080/"
        },
        "id": "inytD3TE2MYc",
        "outputId": "38b6c18a-c151-4d4c-f7c8-1d9e5b446925"
      },
      "execution_count": 101,
      "outputs": [
        {
          "output_type": "stream",
          "name": "stdout",
          "text": [
            "511\n"
          ]
        }
      ]
    },
    {
      "cell_type": "code",
      "source": [
        "num=tokenizer.word_counts['uneasi']\n",
        "print(num)\n",
        "count2+=num"
      ],
      "metadata": {
        "colab": {
          "base_uri": "https://localhost:8080/"
        },
        "id": "fILf7ix02Uhc",
        "outputId": "0043a262-3cd3-4186-ca40-4740c6fa7a04"
      },
      "execution_count": 102,
      "outputs": [
        {
          "output_type": "stream",
          "name": "stdout",
          "text": [
            "30\n"
          ]
        }
      ]
    },
    {
      "cell_type": "code",
      "source": [
        "num=tokenizer.word_counts['disturb']\n",
        "print(num)\n",
        "count2+=num"
      ],
      "metadata": {
        "colab": {
          "base_uri": "https://localhost:8080/"
        },
        "id": "oRedor7a2ZP5",
        "outputId": "757d5699-4431-4698-8243-8971ddf095b6"
      },
      "execution_count": 103,
      "outputs": [
        {
          "output_type": "stream",
          "name": "stdout",
          "text": [
            "127\n"
          ]
        }
      ]
    },
    {
      "cell_type": "code",
      "source": [
        "num=tokenizer.word_counts['chilli']\n",
        "print(num)\n",
        "count2+=num"
      ],
      "metadata": {
        "colab": {
          "base_uri": "https://localhost:8080/"
        },
        "id": "lzagj3xj2eHf",
        "outputId": "6a916db7-09b6-4bcf-d2bf-2d4c0742de93"
      },
      "execution_count": 104,
      "outputs": [
        {
          "output_type": "stream",
          "name": "stdout",
          "text": [
            "1\n"
          ]
        }
      ]
    },
    {
      "cell_type": "code",
      "source": [
        "num=tokenizer.word_counts['eeri']\n",
        "print(num)\n",
        "count2+=num"
      ],
      "metadata": {
        "colab": {
          "base_uri": "https://localhost:8080/"
        },
        "id": "9AZLqt0P2f6_",
        "outputId": "70f1b1b6-e8e4-4a4d-85d0-0458faaa4ec5"
      },
      "execution_count": 105,
      "outputs": [
        {
          "output_type": "stream",
          "name": "stdout",
          "text": [
            "117\n"
          ]
        }
      ]
    },
    {
      "cell_type": "code",
      "source": [
        "num=tokenizer.word_counts['overwhelm']\n",
        "print(num)\n",
        "count2+=num"
      ],
      "metadata": {
        "colab": {
          "base_uri": "https://localhost:8080/"
        },
        "id": "CTsgh3XS2lLL",
        "outputId": "98897918-62fb-42b2-8277-72e278e3bbe0"
      },
      "execution_count": 106,
      "outputs": [
        {
          "output_type": "stream",
          "name": "stdout",
          "text": [
            "15\n"
          ]
        }
      ]
    },
    {
      "cell_type": "code",
      "source": [
        "num=tokenizer.word_counts['overwhelming']\n",
        "print(num)\n",
        "count2+=num"
      ],
      "metadata": {
        "colab": {
          "base_uri": "https://localhost:8080/",
          "height": 176
        },
        "id": "-U5nt36W2p8r",
        "outputId": "edc83037-fc9f-4c23-cedc-920cb6c18bb2"
      },
      "execution_count": 107,
      "outputs": [
        {
          "output_type": "error",
          "ename": "KeyError",
          "evalue": "'overwhelming'",
          "traceback": [
            "\u001b[0;31m---------------------------------------------------------------------------\u001b[0m",
            "\u001b[0;31mKeyError\u001b[0m                                  Traceback (most recent call last)",
            "\u001b[0;32m<ipython-input-107-5dc5fb98200d>\u001b[0m in \u001b[0;36m<cell line: 1>\u001b[0;34m()\u001b[0m\n\u001b[0;32m----> 1\u001b[0;31m \u001b[0mnum\u001b[0m\u001b[0;34m=\u001b[0m\u001b[0mtokenizer\u001b[0m\u001b[0;34m.\u001b[0m\u001b[0mword_counts\u001b[0m\u001b[0;34m[\u001b[0m\u001b[0;34m'overwhelming'\u001b[0m\u001b[0;34m]\u001b[0m\u001b[0;34m\u001b[0m\u001b[0;34m\u001b[0m\u001b[0m\n\u001b[0m\u001b[1;32m      2\u001b[0m \u001b[0mprint\u001b[0m\u001b[0;34m(\u001b[0m\u001b[0mnum\u001b[0m\u001b[0;34m)\u001b[0m\u001b[0;34m\u001b[0m\u001b[0;34m\u001b[0m\u001b[0m\n\u001b[1;32m      3\u001b[0m \u001b[0mcount2\u001b[0m\u001b[0;34m+=\u001b[0m\u001b[0mnum\u001b[0m\u001b[0;34m\u001b[0m\u001b[0;34m\u001b[0m\u001b[0m\n",
            "\u001b[0;31mKeyError\u001b[0m: 'overwhelming'"
          ]
        }
      ]
    },
    {
      "cell_type": "code",
      "source": [
        "print('WYNIK DLA GRUPY DRUGIEJ TOOOOO',count2)"
      ],
      "metadata": {
        "colab": {
          "base_uri": "https://localhost:8080/"
        },
        "id": "glE4IiZL200R",
        "outputId": "004dfbe4-72e0-448b-e9ec-4999af1f504c"
      },
      "execution_count": 108,
      "outputs": [
        {
          "output_type": "stream",
          "name": "stdout",
          "text": [
            "WYNIK DLA GRUPY DRUGIEJ TOOOOO 1328\n"
          ]
        }
      ]
    },
    {
      "cell_type": "markdown",
      "source": [
        "**GRA W SKOJARZENIA**"
      ],
      "metadata": {
        "id": "fawSHvYg9pe5"
      }
    },
    {
      "cell_type": "code",
      "source": [
        "word_model.wv.most_similar(\"death\")"
      ],
      "metadata": {
        "colab": {
          "base_uri": "https://localhost:8080/"
        },
        "id": "KwzeRwsf7ngC",
        "outputId": "e053f8f3-cb4f-4da3-b909-b3370906ecf3"
      },
      "execution_count": 109,
      "outputs": [
        {
          "output_type": "execute_result",
          "data": {
            "text/plain": [
              "[('donor', 0.994712233543396),\n",
              " ('investigate', 0.9944313764572144),\n",
              " ('visions', 0.993080198764801),\n",
              " ('victims', 0.9923332333564758),\n",
              " ('calls', 0.9919072389602661),\n",
              " ('hospital', 0.9918200969696045),\n",
              " ('home,', 0.9914587736129761),\n",
              " ('killed', 0.9912410378456116),\n",
              " ('solve', 0.9911643862724304),\n",
              " ('died', 0.9908338189125061)]"
            ]
          },
          "metadata": {},
          "execution_count": 109
        }
      ]
    },
    {
      "cell_type": "code",
      "source": [
        "word_model.wv.most_similar(\"ghost\")"
      ],
      "metadata": {
        "colab": {
          "base_uri": "https://localhost:8080/"
        },
        "id": "ezflfevH9u9n",
        "outputId": "fa6c1224-1d43-4023-a119-063d9b2c8236"
      },
      "execution_count": 114,
      "outputs": [
        {
          "output_type": "execute_result",
          "data": {
            "text/plain": [
              "[('tale', 0.9633168578147888),\n",
              " ('eerie', 0.955857515335083),\n",
              " ('excellent', 0.955665647983551),\n",
              " ('stylish', 0.9545384049415588),\n",
              " ('cinematography', 0.9521903395652771),\n",
              " ('sound', 0.9504590034484863),\n",
              " ('vein', 0.9485344290733337),\n",
              " ('photography,', 0.9485334753990173),\n",
              " ('handles', 0.9474178552627563),\n",
              " ('intricate', 0.9473121762275696)]"
            ]
          },
          "metadata": {},
          "execution_count": 114
        }
      ]
    },
    {
      "cell_type": "code",
      "source": [
        "word_model.wv.most_similar(\"horror\")"
      ],
      "metadata": {
        "colab": {
          "base_uri": "https://localhost:8080/"
        },
        "id": "uVeS655S99h4",
        "outputId": "68b7c086-3b63-469f-e9ab-e86af7671e1c"
      },
      "execution_count": 116,
      "outputs": [
        {
          "output_type": "execute_result",
          "data": {
            "text/plain": [
              "[('Asian', 0.9131890535354614),\n",
              " ('Japanese', 0.9128168225288391),\n",
              " (\"I've\", 0.9082717299461365),\n",
              " ('best', 0.8879138231277466),\n",
              " ('most', 0.8818326592445374),\n",
              " ('scariest', 0.8800951838493347),\n",
              " ('fan', 0.8768458962440491),\n",
              " ('avid', 0.8659511208534241),\n",
              " ('creepiest', 0.859481155872345),\n",
              " ('horrors,', 0.8488922715187073)]"
            ]
          },
          "metadata": {},
          "execution_count": 116
        }
      ]
    },
    {
      "cell_type": "code",
      "source": [
        "word_model.wv.most_similar(\"kill\")"
      ],
      "metadata": {
        "colab": {
          "base_uri": "https://localhost:8080/"
        },
        "id": "EPelyGWR-V-V",
        "outputId": "4be0b3ef-8445-42e2-deea-2f6fa69bb2b7"
      },
      "execution_count": 117,
      "outputs": [
        {
          "output_type": "execute_result",
          "data": {
            "text/plain": [
              "[('die', 0.9929628968238831),\n",
              " ('someone', 0.9914686679840088),\n",
              " ('turn', 0.9897354245185852),\n",
              " ('happen', 0.9892741441726685),\n",
              " ('help', 0.9884474277496338),\n",
              " ('pick', 0.9883645176887512),\n",
              " ('save', 0.9869269728660583),\n",
              " ('appear', 0.9865267872810364),\n",
              " ('discover', 0.9863044619560242),\n",
              " ('start', 0.985583484172821)]"
            ]
          },
          "metadata": {},
          "execution_count": 117
        }
      ]
    },
    {
      "cell_type": "code",
      "source": [
        "word_model.wv.most_similar(\"place\")"
      ],
      "metadata": {
        "colab": {
          "base_uri": "https://localhost:8080/"
        },
        "id": "Dkuk9zQE-j4Y",
        "outputId": "8f692bd0-d551-41b1-d924-6f5f55e65282"
      },
      "execution_count": 123,
      "outputs": [
        {
          "output_type": "execute_result",
          "data": {
            "text/plain": [
              "[('staring', 0.993803083896637),\n",
              " ('evil', 0.9936553835868835),\n",
              " ('ceiling', 0.9934309720993042),\n",
              " ('places', 0.9933696389198303),\n",
              " ('struggling', 0.9933278560638428),\n",
              " ('body', 0.9932346940040588),\n",
              " ('bed', 0.993134081363678),\n",
              " ('taking', 0.9927263855934143),\n",
              " ('running', 0.992688775062561),\n",
              " (\"girl's\", 0.992581844329834)]"
            ]
          },
          "metadata": {},
          "execution_count": 123
        }
      ]
    },
    {
      "cell_type": "code",
      "source": [
        "word_model.wv.most_similar(\"body\")"
      ],
      "metadata": {
        "colab": {
          "base_uri": "https://localhost:8080/"
        },
        "id": "uHdf5pN--yFD",
        "outputId": "de8f7299-05fa-4f01-f8b5-1cb27bc0a810"
      },
      "execution_count": 124,
      "outputs": [
        {
          "output_type": "execute_result",
          "data": {
            "text/plain": [
              "[('death,', 0.9967809319496155),\n",
              " ('Yumi', 0.9962895512580872),\n",
              " ('run', 0.996161699295044),\n",
              " ('bedroom', 0.9960645437240601),\n",
              " ('child,', 0.9956765174865723),\n",
              " ('driving', 0.9956573843955994),\n",
              " ('inside', 0.9955999851226807),\n",
              " ('standing', 0.9955510497093201),\n",
              " ('mother.', 0.9955487251281738),\n",
              " ('red', 0.9954115748405457)]"
            ]
          },
          "metadata": {},
          "execution_count": 124
        }
      ]
    },
    {
      "cell_type": "code",
      "source": [
        "word_model.wv.most_similar(\"ending\")"
      ],
      "metadata": {
        "colab": {
          "base_uri": "https://localhost:8080/"
        },
        "id": "__VdDNoe_K0f",
        "outputId": "6554e39e-8fad-429e-e3ca-d0fcee608d1f"
      },
      "execution_count": 130,
      "outputs": [
        {
          "output_type": "execute_result",
          "data": {
            "text/plain": [
              "[('bad.', 0.9807007312774658),\n",
              " ('masterpiece.', 0.9739773869514465),\n",
              " ('film!', 0.9729151129722595),\n",
              " ('case.', 0.9685205817222595),\n",
              " ('movie?', 0.9649356603622437),\n",
              " ('Grudge', 0.9641385674476624),\n",
              " ('Ring.', 0.9637940526008606),\n",
              " ('entertaining', 0.962119460105896),\n",
              " ('slow.', 0.9618367552757263),\n",
              " ('uninteresting', 0.9614896178245544)]"
            ]
          },
          "metadata": {},
          "execution_count": 130
        }
      ]
    },
    {
      "cell_type": "code",
      "source": [
        "word_model.wv.most_similar(\"gore\")"
      ],
      "metadata": {
        "colab": {
          "base_uri": "https://localhost:8080/"
        },
        "id": "LHqHDt2X_lke",
        "outputId": "0f6cba8a-bccb-40ba-e9b7-5f7beabd270d"
      },
      "execution_count": 131,
      "outputs": [
        {
          "output_type": "execute_result",
          "data": {
            "text/plain": [
              "[('blood', 0.992591381072998),\n",
              " ('cheap', 0.9914207458496094),\n",
              " ('often', 0.9904683232307434),\n",
              " ('certain', 0.9903222322463989),\n",
              " ('bloody', 0.990240216255188),\n",
              " ('scares,', 0.9893238544464111),\n",
              " ('quiet', 0.9885172843933105),\n",
              " ('depressing', 0.9883801341056824),\n",
              " ('focused', 0.9873073101043701),\n",
              " ('cheap,', 0.9871789216995239)]"
            ]
          },
          "metadata": {},
          "execution_count": 131
        }
      ]
    },
    {
      "cell_type": "code",
      "source": [],
      "metadata": {
        "id": "WasoxG_XBbUJ"
      },
      "execution_count": null,
      "outputs": []
    }
  ]
}