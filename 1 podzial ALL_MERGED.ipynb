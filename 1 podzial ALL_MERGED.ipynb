{
  "nbformat": 4,
  "nbformat_minor": 0,
  "metadata": {
    "colab": {
      "provenance": []
    },
    "kernelspec": {
      "name": "python3",
      "display_name": "Python 3"
    },
    "language_info": {
      "name": "python"
    }
  },
  "cells": [
    {
      "cell_type": "code",
      "execution_count": 1,
      "metadata": {
        "id": "KbqWRaUE-hp8"
      },
      "outputs": [],
      "source": [
        "import numpy as np\n",
        "import matplotlib.pyplot as plt\n",
        "import tensorflow as tf\n",
        "import pandas as pd\n",
        "import os\n",
        "os.environ[\"KMP_DUPLICATE_LIB_OK\"]=\"TRUE\"\n",
        "os.environ['CUDA_VISIBLE_DEVICES'] = '-1'\n",
        "from tensorflow.keras.callbacks import EarlyStopping\n",
        "from tensorflow.keras.models import Sequential\n",
        "from tensorflow.keras.layers import Dense, Dropout\n",
        "from tensorflow.keras.layers import BatchNormalization\n",
        "\n",
        "es = EarlyStopping(monitor = \"val_loss\", mode = \"min\", patience = 5)\n",
        "\n",
        "EPOCHS = 1000"
      ]
    },
    {
      "cell_type": "code",
      "source": [
        "df = pd.read_csv('all_merged.csv', sep=\",\")"
      ],
      "metadata": {
        "id": "RIFh9K_JK_K5"
      },
      "execution_count": 2,
      "outputs": []
    },
    {
      "cell_type": "code",
      "source": [
        "df"
      ],
      "metadata": {
        "colab": {
          "base_uri": "https://localhost:8080/",
          "height": 423
        },
        "id": "fDj5iUuPNdjm",
        "outputId": "a2e4d053-9afc-4bc8-bc27-9d4825cff36c"
      },
      "execution_count": 3,
      "outputs": [
        {
          "output_type": "execute_result",
          "data": {
            "text/plain": [
              "      Unnamed: 0                                              title  \\\n",
              "0              0        Occasionally awkward, but very good overall   \n",
              "1              1              Non-Linear, yet Effective and Creepy.   \n",
              "2              2                                        Pretty Good   \n",
              "3              3                   Very Scary Japanese Horror Movie   \n",
              "4              4  A genuinely creepy Japanese ghost story master...   \n",
              "...          ...                                                ...   \n",
              "4782         413  Japanese Horror Remakes... from this author it...   \n",
              "4783         414  I might have gotten startled ONCE during this ...   \n",
              "4784         415  That Movie Blew Harder than Yeltsin into a Bre...   \n",
              "4785         416     The \"Dark Water\" is really dark, for a reason.   \n",
              "4786         417                              What a waste of time!   \n",
              "\n",
              "                                                 review rating  \n",
              "0     Rika Nishina (Megumi Okina) works for a social...   9/10  \n",
              "1     Although the word \"grudge\" doesn't quite fit t...  10/10  \n",
              "2     \"Ju-On, The Grudge\" is not an easy movie to fi...   7/10  \n",
              "3     In Japan, when the volunteer social assistant ...   8/10  \n",
              "4     Following in the immensely successful footstep...  10/10  \n",
              "...                                                 ...    ...  \n",
              "4782  Now having seen both The Ring and Dark Water, ...   4/10  \n",
              "4783  THe movie is slow, grinding, and uneventful. A...   4/10  \n",
              "4784  I've never written comments on a movie before....   3/10  \n",
              "4785  I'm 47, married 26 years, four kids. I was rai...   1/10  \n",
              "4786  Boring, shallow and not scary at all.Another m...   1/10  \n",
              "\n",
              "[4787 rows x 4 columns]"
            ],
            "text/html": [
              "\n",
              "  <div id=\"df-d83033f3-282c-464c-b5be-718857385de4\" class=\"colab-df-container\">\n",
              "    <div>\n",
              "<style scoped>\n",
              "    .dataframe tbody tr th:only-of-type {\n",
              "        vertical-align: middle;\n",
              "    }\n",
              "\n",
              "    .dataframe tbody tr th {\n",
              "        vertical-align: top;\n",
              "    }\n",
              "\n",
              "    .dataframe thead th {\n",
              "        text-align: right;\n",
              "    }\n",
              "</style>\n",
              "<table border=\"1\" class=\"dataframe\">\n",
              "  <thead>\n",
              "    <tr style=\"text-align: right;\">\n",
              "      <th></th>\n",
              "      <th>Unnamed: 0</th>\n",
              "      <th>title</th>\n",
              "      <th>review</th>\n",
              "      <th>rating</th>\n",
              "    </tr>\n",
              "  </thead>\n",
              "  <tbody>\n",
              "    <tr>\n",
              "      <th>0</th>\n",
              "      <td>0</td>\n",
              "      <td>Occasionally awkward, but very good overall</td>\n",
              "      <td>Rika Nishina (Megumi Okina) works for a social...</td>\n",
              "      <td>9/10</td>\n",
              "    </tr>\n",
              "    <tr>\n",
              "      <th>1</th>\n",
              "      <td>1</td>\n",
              "      <td>Non-Linear, yet Effective and Creepy.</td>\n",
              "      <td>Although the word \"grudge\" doesn't quite fit t...</td>\n",
              "      <td>10/10</td>\n",
              "    </tr>\n",
              "    <tr>\n",
              "      <th>2</th>\n",
              "      <td>2</td>\n",
              "      <td>Pretty Good</td>\n",
              "      <td>\"Ju-On, The Grudge\" is not an easy movie to fi...</td>\n",
              "      <td>7/10</td>\n",
              "    </tr>\n",
              "    <tr>\n",
              "      <th>3</th>\n",
              "      <td>3</td>\n",
              "      <td>Very Scary Japanese Horror Movie</td>\n",
              "      <td>In Japan, when the volunteer social assistant ...</td>\n",
              "      <td>8/10</td>\n",
              "    </tr>\n",
              "    <tr>\n",
              "      <th>4</th>\n",
              "      <td>4</td>\n",
              "      <td>A genuinely creepy Japanese ghost story master...</td>\n",
              "      <td>Following in the immensely successful footstep...</td>\n",
              "      <td>10/10</td>\n",
              "    </tr>\n",
              "    <tr>\n",
              "      <th>...</th>\n",
              "      <td>...</td>\n",
              "      <td>...</td>\n",
              "      <td>...</td>\n",
              "      <td>...</td>\n",
              "    </tr>\n",
              "    <tr>\n",
              "      <th>4782</th>\n",
              "      <td>413</td>\n",
              "      <td>Japanese Horror Remakes... from this author it...</td>\n",
              "      <td>Now having seen both The Ring and Dark Water, ...</td>\n",
              "      <td>4/10</td>\n",
              "    </tr>\n",
              "    <tr>\n",
              "      <th>4783</th>\n",
              "      <td>414</td>\n",
              "      <td>I might have gotten startled ONCE during this ...</td>\n",
              "      <td>THe movie is slow, grinding, and uneventful. A...</td>\n",
              "      <td>4/10</td>\n",
              "    </tr>\n",
              "    <tr>\n",
              "      <th>4784</th>\n",
              "      <td>415</td>\n",
              "      <td>That Movie Blew Harder than Yeltsin into a Bre...</td>\n",
              "      <td>I've never written comments on a movie before....</td>\n",
              "      <td>3/10</td>\n",
              "    </tr>\n",
              "    <tr>\n",
              "      <th>4785</th>\n",
              "      <td>416</td>\n",
              "      <td>The \"Dark Water\" is really dark, for a reason.</td>\n",
              "      <td>I'm 47, married 26 years, four kids. I was rai...</td>\n",
              "      <td>1/10</td>\n",
              "    </tr>\n",
              "    <tr>\n",
              "      <th>4786</th>\n",
              "      <td>417</td>\n",
              "      <td>What a waste of time!</td>\n",
              "      <td>Boring, shallow and not scary at all.Another m...</td>\n",
              "      <td>1/10</td>\n",
              "    </tr>\n",
              "  </tbody>\n",
              "</table>\n",
              "<p>4787 rows × 4 columns</p>\n",
              "</div>\n",
              "    <div class=\"colab-df-buttons\">\n",
              "\n",
              "  <div class=\"colab-df-container\">\n",
              "    <button class=\"colab-df-convert\" onclick=\"convertToInteractive('df-d83033f3-282c-464c-b5be-718857385de4')\"\n",
              "            title=\"Convert this dataframe to an interactive table.\"\n",
              "            style=\"display:none;\">\n",
              "\n",
              "  <svg xmlns=\"http://www.w3.org/2000/svg\" height=\"24px\" viewBox=\"0 -960 960 960\">\n",
              "    <path d=\"M120-120v-720h720v720H120Zm60-500h600v-160H180v160Zm220 220h160v-160H400v160Zm0 220h160v-160H400v160ZM180-400h160v-160H180v160Zm440 0h160v-160H620v160ZM180-180h160v-160H180v160Zm440 0h160v-160H620v160Z\"/>\n",
              "  </svg>\n",
              "    </button>\n",
              "\n",
              "  <style>\n",
              "    .colab-df-container {\n",
              "      display:flex;\n",
              "      gap: 12px;\n",
              "    }\n",
              "\n",
              "    .colab-df-convert {\n",
              "      background-color: #E8F0FE;\n",
              "      border: none;\n",
              "      border-radius: 50%;\n",
              "      cursor: pointer;\n",
              "      display: none;\n",
              "      fill: #1967D2;\n",
              "      height: 32px;\n",
              "      padding: 0 0 0 0;\n",
              "      width: 32px;\n",
              "    }\n",
              "\n",
              "    .colab-df-convert:hover {\n",
              "      background-color: #E2EBFA;\n",
              "      box-shadow: 0px 1px 2px rgba(60, 64, 67, 0.3), 0px 1px 3px 1px rgba(60, 64, 67, 0.15);\n",
              "      fill: #174EA6;\n",
              "    }\n",
              "\n",
              "    .colab-df-buttons div {\n",
              "      margin-bottom: 4px;\n",
              "    }\n",
              "\n",
              "    [theme=dark] .colab-df-convert {\n",
              "      background-color: #3B4455;\n",
              "      fill: #D2E3FC;\n",
              "    }\n",
              "\n",
              "    [theme=dark] .colab-df-convert:hover {\n",
              "      background-color: #434B5C;\n",
              "      box-shadow: 0px 1px 3px 1px rgba(0, 0, 0, 0.15);\n",
              "      filter: drop-shadow(0px 1px 2px rgba(0, 0, 0, 0.3));\n",
              "      fill: #FFFFFF;\n",
              "    }\n",
              "  </style>\n",
              "\n",
              "    <script>\n",
              "      const buttonEl =\n",
              "        document.querySelector('#df-d83033f3-282c-464c-b5be-718857385de4 button.colab-df-convert');\n",
              "      buttonEl.style.display =\n",
              "        google.colab.kernel.accessAllowed ? 'block' : 'none';\n",
              "\n",
              "      async function convertToInteractive(key) {\n",
              "        const element = document.querySelector('#df-d83033f3-282c-464c-b5be-718857385de4');\n",
              "        const dataTable =\n",
              "          await google.colab.kernel.invokeFunction('convertToInteractive',\n",
              "                                                    [key], {});\n",
              "        if (!dataTable) return;\n",
              "\n",
              "        const docLinkHtml = 'Like what you see? Visit the ' +\n",
              "          '<a target=\"_blank\" href=https://colab.research.google.com/notebooks/data_table.ipynb>data table notebook</a>'\n",
              "          + ' to learn more about interactive tables.';\n",
              "        element.innerHTML = '';\n",
              "        dataTable['output_type'] = 'display_data';\n",
              "        await google.colab.output.renderOutput(dataTable, element);\n",
              "        const docLink = document.createElement('div');\n",
              "        docLink.innerHTML = docLinkHtml;\n",
              "        element.appendChild(docLink);\n",
              "      }\n",
              "    </script>\n",
              "  </div>\n",
              "\n",
              "\n",
              "<div id=\"df-2f3508ea-af89-4d8e-a7a0-578074d27850\">\n",
              "  <button class=\"colab-df-quickchart\" onclick=\"quickchart('df-2f3508ea-af89-4d8e-a7a0-578074d27850')\"\n",
              "            title=\"Suggest charts\"\n",
              "            style=\"display:none;\">\n",
              "\n",
              "<svg xmlns=\"http://www.w3.org/2000/svg\" height=\"24px\"viewBox=\"0 0 24 24\"\n",
              "     width=\"24px\">\n",
              "    <g>\n",
              "        <path d=\"M19 3H5c-1.1 0-2 .9-2 2v14c0 1.1.9 2 2 2h14c1.1 0 2-.9 2-2V5c0-1.1-.9-2-2-2zM9 17H7v-7h2v7zm4 0h-2V7h2v10zm4 0h-2v-4h2v4z\"/>\n",
              "    </g>\n",
              "</svg>\n",
              "  </button>\n",
              "\n",
              "<style>\n",
              "  .colab-df-quickchart {\n",
              "      --bg-color: #E8F0FE;\n",
              "      --fill-color: #1967D2;\n",
              "      --hover-bg-color: #E2EBFA;\n",
              "      --hover-fill-color: #174EA6;\n",
              "      --disabled-fill-color: #AAA;\n",
              "      --disabled-bg-color: #DDD;\n",
              "  }\n",
              "\n",
              "  [theme=dark] .colab-df-quickchart {\n",
              "      --bg-color: #3B4455;\n",
              "      --fill-color: #D2E3FC;\n",
              "      --hover-bg-color: #434B5C;\n",
              "      --hover-fill-color: #FFFFFF;\n",
              "      --disabled-bg-color: #3B4455;\n",
              "      --disabled-fill-color: #666;\n",
              "  }\n",
              "\n",
              "  .colab-df-quickchart {\n",
              "    background-color: var(--bg-color);\n",
              "    border: none;\n",
              "    border-radius: 50%;\n",
              "    cursor: pointer;\n",
              "    display: none;\n",
              "    fill: var(--fill-color);\n",
              "    height: 32px;\n",
              "    padding: 0;\n",
              "    width: 32px;\n",
              "  }\n",
              "\n",
              "  .colab-df-quickchart:hover {\n",
              "    background-color: var(--hover-bg-color);\n",
              "    box-shadow: 0 1px 2px rgba(60, 64, 67, 0.3), 0 1px 3px 1px rgba(60, 64, 67, 0.15);\n",
              "    fill: var(--button-hover-fill-color);\n",
              "  }\n",
              "\n",
              "  .colab-df-quickchart-complete:disabled,\n",
              "  .colab-df-quickchart-complete:disabled:hover {\n",
              "    background-color: var(--disabled-bg-color);\n",
              "    fill: var(--disabled-fill-color);\n",
              "    box-shadow: none;\n",
              "  }\n",
              "\n",
              "  .colab-df-spinner {\n",
              "    border: 2px solid var(--fill-color);\n",
              "    border-color: transparent;\n",
              "    border-bottom-color: var(--fill-color);\n",
              "    animation:\n",
              "      spin 1s steps(1) infinite;\n",
              "  }\n",
              "\n",
              "  @keyframes spin {\n",
              "    0% {\n",
              "      border-color: transparent;\n",
              "      border-bottom-color: var(--fill-color);\n",
              "      border-left-color: var(--fill-color);\n",
              "    }\n",
              "    20% {\n",
              "      border-color: transparent;\n",
              "      border-left-color: var(--fill-color);\n",
              "      border-top-color: var(--fill-color);\n",
              "    }\n",
              "    30% {\n",
              "      border-color: transparent;\n",
              "      border-left-color: var(--fill-color);\n",
              "      border-top-color: var(--fill-color);\n",
              "      border-right-color: var(--fill-color);\n",
              "    }\n",
              "    40% {\n",
              "      border-color: transparent;\n",
              "      border-right-color: var(--fill-color);\n",
              "      border-top-color: var(--fill-color);\n",
              "    }\n",
              "    60% {\n",
              "      border-color: transparent;\n",
              "      border-right-color: var(--fill-color);\n",
              "    }\n",
              "    80% {\n",
              "      border-color: transparent;\n",
              "      border-right-color: var(--fill-color);\n",
              "      border-bottom-color: var(--fill-color);\n",
              "    }\n",
              "    90% {\n",
              "      border-color: transparent;\n",
              "      border-bottom-color: var(--fill-color);\n",
              "    }\n",
              "  }\n",
              "</style>\n",
              "\n",
              "  <script>\n",
              "    async function quickchart(key) {\n",
              "      const quickchartButtonEl =\n",
              "        document.querySelector('#' + key + ' button');\n",
              "      quickchartButtonEl.disabled = true;  // To prevent multiple clicks.\n",
              "      quickchartButtonEl.classList.add('colab-df-spinner');\n",
              "      try {\n",
              "        const charts = await google.colab.kernel.invokeFunction(\n",
              "            'suggestCharts', [key], {});\n",
              "      } catch (error) {\n",
              "        console.error('Error during call to suggestCharts:', error);\n",
              "      }\n",
              "      quickchartButtonEl.classList.remove('colab-df-spinner');\n",
              "      quickchartButtonEl.classList.add('colab-df-quickchart-complete');\n",
              "    }\n",
              "    (() => {\n",
              "      let quickchartButtonEl =\n",
              "        document.querySelector('#df-2f3508ea-af89-4d8e-a7a0-578074d27850 button');\n",
              "      quickchartButtonEl.style.display =\n",
              "        google.colab.kernel.accessAllowed ? 'block' : 'none';\n",
              "    })();\n",
              "  </script>\n",
              "</div>\n",
              "    </div>\n",
              "  </div>\n"
            ],
            "application/vnd.google.colaboratory.intrinsic+json": {
              "type": "dataframe",
              "variable_name": "df",
              "summary": "{\n  \"name\": \"df\",\n  \"rows\": 4787,\n  \"fields\": [\n    {\n      \"column\": \"Unnamed: 0\",\n      \"properties\": {\n        \"dtype\": \"number\",\n        \"std\": 289,\n        \"min\": 0,\n        \"max\": 1210,\n        \"num_unique_values\": 1211,\n        \"samples\": [\n          101,\n          787,\n          899\n        ],\n        \"semantic_type\": \"\",\n        \"description\": \"\"\n      }\n    },\n    {\n      \"column\": \"title\",\n      \"properties\": {\n        \"dtype\": \"string\",\n        \"num_unique_values\": 4641,\n        \"samples\": [\n          \"Made a mistake of\",\n          \"Knowing there's an original helps\",\n          \"slow and not really scary but very cool effects and visuals, when used\"\n        ],\n        \"semantic_type\": \"\",\n        \"description\": \"\"\n      }\n    },\n    {\n      \"column\": \"review\",\n      \"properties\": {\n        \"dtype\": \"string\",\n        \"num_unique_values\": 4784,\n        \"samples\": [\n          \"Just because Spielberg's DreamWorks made a horror movie (an American version of a Japanese hokey) doesn't mean it's better than the budget-challenged \\\"Nightmare on Elm Street\\\", \\\"Halloween\\\", the campy 1957 \\\"Voodoo Island\\\" or the maligned \\\"Abandon\\\".  The most dreadful thing about \\\"The Ring\\\" is its characters' lack of belief in and respect for themselves.  Thus, to me, this movie draws comparison to the equally-dreadful, boring and inane \\\"Blair Witch Project\\\".My neurotic and droll mind actually thought that DreamWorks' marketing funds generated (a) the good buzz on this movie from the starving media, (b) the bad buzz from the media on \\\"Abandon\\\" (another inane thriller movie which opened at the same time as \\\"The Ring\\\" on 10/18/02) (Translation:  No marketing funds from Paramount), and (c) the phony squeals, screams and applause from the Saturday night audience at Loews Cinema at Universal City in Los Angeles.In the end, it's all about money and good old-fashioned ballyhoo. DreamWorks produced another profitable movie that the public wants.  No argument there.  But for the media to say and the adoring public to start believing that \\\"The Ring\\\" is an intelligent and a genuine horror movie, now, that's a lot of croak.\",\n          \"Bust of the summer. Not a bad movie. Dark water's story drags, and not in a slow burn way, but in a bad movie way. Not scary, unless one finds a slow pace scary. The director still manages to keep the viewer interested in the story. I do not know if the story was lost in translation of the book to film, but the movie was lacking a push. The actors and director did well with what little meat the script provided. Too much fiber and not enough red meat for me. The end is like the ring 2 with the need for a mother in the film. A let down after watching the whole film. Watch it on video. Not bad for a late Friday night by yourself. Not a movie for a group. 6 out of 10. I bet the book was better and hard to put on screen.\",\n          \"although the plot is easy enough to go along with and the whole theme of the movie can be gripping at times, i couldn't help but feel the director tried to squeeze just too many jumps and scares into the movie, I mean come on let's face it, every tension-built scene is pretty predictable and just an excuse for a shock in most cases. however the scenes are still quite un-settling and definitely jumpy despite the fact you can tell what's coming. the movie relates to the ring in places (especially a certain staircase scene at the end) and definitely scarier and jumpier, and definitely worth going along to if you like constantly being on the edge of your seat and a good few jumps to get you laughing about afterwards!\"\n        ],\n        \"semantic_type\": \"\",\n        \"description\": \"\"\n      }\n    },\n    {\n      \"column\": \"rating\",\n      \"properties\": {\n        \"dtype\": \"category\",\n        \"num_unique_values\": 10,\n        \"samples\": [\n          \"2/10\",\n          \"10/10\",\n          \"6/10\"\n        ],\n        \"semantic_type\": \"\",\n        \"description\": \"\"\n      }\n    }\n  ]\n}"
            }
          },
          "metadata": {},
          "execution_count": 3
        }
      ]
    },
    {
      "cell_type": "code",
      "source": [
        "df = df.drop('Unnamed: 0', axis=1)"
      ],
      "metadata": {
        "id": "bejOtK0zO-xJ"
      },
      "execution_count": 4,
      "outputs": []
    },
    {
      "cell_type": "code",
      "source": [
        "df"
      ],
      "metadata": {
        "colab": {
          "base_uri": "https://localhost:8080/",
          "height": 423
        },
        "id": "9fDEaXLcQNit",
        "outputId": "ecd88dee-1668-4e01-a045-8e0de097d1d7"
      },
      "execution_count": 5,
      "outputs": [
        {
          "output_type": "execute_result",
          "data": {
            "text/plain": [
              "                                                  title  \\\n",
              "0           Occasionally awkward, but very good overall   \n",
              "1                 Non-Linear, yet Effective and Creepy.   \n",
              "2                                           Pretty Good   \n",
              "3                      Very Scary Japanese Horror Movie   \n",
              "4     A genuinely creepy Japanese ghost story master...   \n",
              "...                                                 ...   \n",
              "4782  Japanese Horror Remakes... from this author it...   \n",
              "4783  I might have gotten startled ONCE during this ...   \n",
              "4784  That Movie Blew Harder than Yeltsin into a Bre...   \n",
              "4785     The \"Dark Water\" is really dark, for a reason.   \n",
              "4786                              What a waste of time!   \n",
              "\n",
              "                                                 review rating  \n",
              "0     Rika Nishina (Megumi Okina) works for a social...   9/10  \n",
              "1     Although the word \"grudge\" doesn't quite fit t...  10/10  \n",
              "2     \"Ju-On, The Grudge\" is not an easy movie to fi...   7/10  \n",
              "3     In Japan, when the volunteer social assistant ...   8/10  \n",
              "4     Following in the immensely successful footstep...  10/10  \n",
              "...                                                 ...    ...  \n",
              "4782  Now having seen both The Ring and Dark Water, ...   4/10  \n",
              "4783  THe movie is slow, grinding, and uneventful. A...   4/10  \n",
              "4784  I've never written comments on a movie before....   3/10  \n",
              "4785  I'm 47, married 26 years, four kids. I was rai...   1/10  \n",
              "4786  Boring, shallow and not scary at all.Another m...   1/10  \n",
              "\n",
              "[4787 rows x 3 columns]"
            ],
            "text/html": [
              "\n",
              "  <div id=\"df-5c01070c-473b-4494-bd4e-ca5ce4ad6a2c\" class=\"colab-df-container\">\n",
              "    <div>\n",
              "<style scoped>\n",
              "    .dataframe tbody tr th:only-of-type {\n",
              "        vertical-align: middle;\n",
              "    }\n",
              "\n",
              "    .dataframe tbody tr th {\n",
              "        vertical-align: top;\n",
              "    }\n",
              "\n",
              "    .dataframe thead th {\n",
              "        text-align: right;\n",
              "    }\n",
              "</style>\n",
              "<table border=\"1\" class=\"dataframe\">\n",
              "  <thead>\n",
              "    <tr style=\"text-align: right;\">\n",
              "      <th></th>\n",
              "      <th>title</th>\n",
              "      <th>review</th>\n",
              "      <th>rating</th>\n",
              "    </tr>\n",
              "  </thead>\n",
              "  <tbody>\n",
              "    <tr>\n",
              "      <th>0</th>\n",
              "      <td>Occasionally awkward, but very good overall</td>\n",
              "      <td>Rika Nishina (Megumi Okina) works for a social...</td>\n",
              "      <td>9/10</td>\n",
              "    </tr>\n",
              "    <tr>\n",
              "      <th>1</th>\n",
              "      <td>Non-Linear, yet Effective and Creepy.</td>\n",
              "      <td>Although the word \"grudge\" doesn't quite fit t...</td>\n",
              "      <td>10/10</td>\n",
              "    </tr>\n",
              "    <tr>\n",
              "      <th>2</th>\n",
              "      <td>Pretty Good</td>\n",
              "      <td>\"Ju-On, The Grudge\" is not an easy movie to fi...</td>\n",
              "      <td>7/10</td>\n",
              "    </tr>\n",
              "    <tr>\n",
              "      <th>3</th>\n",
              "      <td>Very Scary Japanese Horror Movie</td>\n",
              "      <td>In Japan, when the volunteer social assistant ...</td>\n",
              "      <td>8/10</td>\n",
              "    </tr>\n",
              "    <tr>\n",
              "      <th>4</th>\n",
              "      <td>A genuinely creepy Japanese ghost story master...</td>\n",
              "      <td>Following in the immensely successful footstep...</td>\n",
              "      <td>10/10</td>\n",
              "    </tr>\n",
              "    <tr>\n",
              "      <th>...</th>\n",
              "      <td>...</td>\n",
              "      <td>...</td>\n",
              "      <td>...</td>\n",
              "    </tr>\n",
              "    <tr>\n",
              "      <th>4782</th>\n",
              "      <td>Japanese Horror Remakes... from this author it...</td>\n",
              "      <td>Now having seen both The Ring and Dark Water, ...</td>\n",
              "      <td>4/10</td>\n",
              "    </tr>\n",
              "    <tr>\n",
              "      <th>4783</th>\n",
              "      <td>I might have gotten startled ONCE during this ...</td>\n",
              "      <td>THe movie is slow, grinding, and uneventful. A...</td>\n",
              "      <td>4/10</td>\n",
              "    </tr>\n",
              "    <tr>\n",
              "      <th>4784</th>\n",
              "      <td>That Movie Blew Harder than Yeltsin into a Bre...</td>\n",
              "      <td>I've never written comments on a movie before....</td>\n",
              "      <td>3/10</td>\n",
              "    </tr>\n",
              "    <tr>\n",
              "      <th>4785</th>\n",
              "      <td>The \"Dark Water\" is really dark, for a reason.</td>\n",
              "      <td>I'm 47, married 26 years, four kids. I was rai...</td>\n",
              "      <td>1/10</td>\n",
              "    </tr>\n",
              "    <tr>\n",
              "      <th>4786</th>\n",
              "      <td>What a waste of time!</td>\n",
              "      <td>Boring, shallow and not scary at all.Another m...</td>\n",
              "      <td>1/10</td>\n",
              "    </tr>\n",
              "  </tbody>\n",
              "</table>\n",
              "<p>4787 rows × 3 columns</p>\n",
              "</div>\n",
              "    <div class=\"colab-df-buttons\">\n",
              "\n",
              "  <div class=\"colab-df-container\">\n",
              "    <button class=\"colab-df-convert\" onclick=\"convertToInteractive('df-5c01070c-473b-4494-bd4e-ca5ce4ad6a2c')\"\n",
              "            title=\"Convert this dataframe to an interactive table.\"\n",
              "            style=\"display:none;\">\n",
              "\n",
              "  <svg xmlns=\"http://www.w3.org/2000/svg\" height=\"24px\" viewBox=\"0 -960 960 960\">\n",
              "    <path d=\"M120-120v-720h720v720H120Zm60-500h600v-160H180v160Zm220 220h160v-160H400v160Zm0 220h160v-160H400v160ZM180-400h160v-160H180v160Zm440 0h160v-160H620v160ZM180-180h160v-160H180v160Zm440 0h160v-160H620v160Z\"/>\n",
              "  </svg>\n",
              "    </button>\n",
              "\n",
              "  <style>\n",
              "    .colab-df-container {\n",
              "      display:flex;\n",
              "      gap: 12px;\n",
              "    }\n",
              "\n",
              "    .colab-df-convert {\n",
              "      background-color: #E8F0FE;\n",
              "      border: none;\n",
              "      border-radius: 50%;\n",
              "      cursor: pointer;\n",
              "      display: none;\n",
              "      fill: #1967D2;\n",
              "      height: 32px;\n",
              "      padding: 0 0 0 0;\n",
              "      width: 32px;\n",
              "    }\n",
              "\n",
              "    .colab-df-convert:hover {\n",
              "      background-color: #E2EBFA;\n",
              "      box-shadow: 0px 1px 2px rgba(60, 64, 67, 0.3), 0px 1px 3px 1px rgba(60, 64, 67, 0.15);\n",
              "      fill: #174EA6;\n",
              "    }\n",
              "\n",
              "    .colab-df-buttons div {\n",
              "      margin-bottom: 4px;\n",
              "    }\n",
              "\n",
              "    [theme=dark] .colab-df-convert {\n",
              "      background-color: #3B4455;\n",
              "      fill: #D2E3FC;\n",
              "    }\n",
              "\n",
              "    [theme=dark] .colab-df-convert:hover {\n",
              "      background-color: #434B5C;\n",
              "      box-shadow: 0px 1px 3px 1px rgba(0, 0, 0, 0.15);\n",
              "      filter: drop-shadow(0px 1px 2px rgba(0, 0, 0, 0.3));\n",
              "      fill: #FFFFFF;\n",
              "    }\n",
              "  </style>\n",
              "\n",
              "    <script>\n",
              "      const buttonEl =\n",
              "        document.querySelector('#df-5c01070c-473b-4494-bd4e-ca5ce4ad6a2c button.colab-df-convert');\n",
              "      buttonEl.style.display =\n",
              "        google.colab.kernel.accessAllowed ? 'block' : 'none';\n",
              "\n",
              "      async function convertToInteractive(key) {\n",
              "        const element = document.querySelector('#df-5c01070c-473b-4494-bd4e-ca5ce4ad6a2c');\n",
              "        const dataTable =\n",
              "          await google.colab.kernel.invokeFunction('convertToInteractive',\n",
              "                                                    [key], {});\n",
              "        if (!dataTable) return;\n",
              "\n",
              "        const docLinkHtml = 'Like what you see? Visit the ' +\n",
              "          '<a target=\"_blank\" href=https://colab.research.google.com/notebooks/data_table.ipynb>data table notebook</a>'\n",
              "          + ' to learn more about interactive tables.';\n",
              "        element.innerHTML = '';\n",
              "        dataTable['output_type'] = 'display_data';\n",
              "        await google.colab.output.renderOutput(dataTable, element);\n",
              "        const docLink = document.createElement('div');\n",
              "        docLink.innerHTML = docLinkHtml;\n",
              "        element.appendChild(docLink);\n",
              "      }\n",
              "    </script>\n",
              "  </div>\n",
              "\n",
              "\n",
              "<div id=\"df-367d7807-dddd-42d5-b9c1-a0980cac5a76\">\n",
              "  <button class=\"colab-df-quickchart\" onclick=\"quickchart('df-367d7807-dddd-42d5-b9c1-a0980cac5a76')\"\n",
              "            title=\"Suggest charts\"\n",
              "            style=\"display:none;\">\n",
              "\n",
              "<svg xmlns=\"http://www.w3.org/2000/svg\" height=\"24px\"viewBox=\"0 0 24 24\"\n",
              "     width=\"24px\">\n",
              "    <g>\n",
              "        <path d=\"M19 3H5c-1.1 0-2 .9-2 2v14c0 1.1.9 2 2 2h14c1.1 0 2-.9 2-2V5c0-1.1-.9-2-2-2zM9 17H7v-7h2v7zm4 0h-2V7h2v10zm4 0h-2v-4h2v4z\"/>\n",
              "    </g>\n",
              "</svg>\n",
              "  </button>\n",
              "\n",
              "<style>\n",
              "  .colab-df-quickchart {\n",
              "      --bg-color: #E8F0FE;\n",
              "      --fill-color: #1967D2;\n",
              "      --hover-bg-color: #E2EBFA;\n",
              "      --hover-fill-color: #174EA6;\n",
              "      --disabled-fill-color: #AAA;\n",
              "      --disabled-bg-color: #DDD;\n",
              "  }\n",
              "\n",
              "  [theme=dark] .colab-df-quickchart {\n",
              "      --bg-color: #3B4455;\n",
              "      --fill-color: #D2E3FC;\n",
              "      --hover-bg-color: #434B5C;\n",
              "      --hover-fill-color: #FFFFFF;\n",
              "      --disabled-bg-color: #3B4455;\n",
              "      --disabled-fill-color: #666;\n",
              "  }\n",
              "\n",
              "  .colab-df-quickchart {\n",
              "    background-color: var(--bg-color);\n",
              "    border: none;\n",
              "    border-radius: 50%;\n",
              "    cursor: pointer;\n",
              "    display: none;\n",
              "    fill: var(--fill-color);\n",
              "    height: 32px;\n",
              "    padding: 0;\n",
              "    width: 32px;\n",
              "  }\n",
              "\n",
              "  .colab-df-quickchart:hover {\n",
              "    background-color: var(--hover-bg-color);\n",
              "    box-shadow: 0 1px 2px rgba(60, 64, 67, 0.3), 0 1px 3px 1px rgba(60, 64, 67, 0.15);\n",
              "    fill: var(--button-hover-fill-color);\n",
              "  }\n",
              "\n",
              "  .colab-df-quickchart-complete:disabled,\n",
              "  .colab-df-quickchart-complete:disabled:hover {\n",
              "    background-color: var(--disabled-bg-color);\n",
              "    fill: var(--disabled-fill-color);\n",
              "    box-shadow: none;\n",
              "  }\n",
              "\n",
              "  .colab-df-spinner {\n",
              "    border: 2px solid var(--fill-color);\n",
              "    border-color: transparent;\n",
              "    border-bottom-color: var(--fill-color);\n",
              "    animation:\n",
              "      spin 1s steps(1) infinite;\n",
              "  }\n",
              "\n",
              "  @keyframes spin {\n",
              "    0% {\n",
              "      border-color: transparent;\n",
              "      border-bottom-color: var(--fill-color);\n",
              "      border-left-color: var(--fill-color);\n",
              "    }\n",
              "    20% {\n",
              "      border-color: transparent;\n",
              "      border-left-color: var(--fill-color);\n",
              "      border-top-color: var(--fill-color);\n",
              "    }\n",
              "    30% {\n",
              "      border-color: transparent;\n",
              "      border-left-color: var(--fill-color);\n",
              "      border-top-color: var(--fill-color);\n",
              "      border-right-color: var(--fill-color);\n",
              "    }\n",
              "    40% {\n",
              "      border-color: transparent;\n",
              "      border-right-color: var(--fill-color);\n",
              "      border-top-color: var(--fill-color);\n",
              "    }\n",
              "    60% {\n",
              "      border-color: transparent;\n",
              "      border-right-color: var(--fill-color);\n",
              "    }\n",
              "    80% {\n",
              "      border-color: transparent;\n",
              "      border-right-color: var(--fill-color);\n",
              "      border-bottom-color: var(--fill-color);\n",
              "    }\n",
              "    90% {\n",
              "      border-color: transparent;\n",
              "      border-bottom-color: var(--fill-color);\n",
              "    }\n",
              "  }\n",
              "</style>\n",
              "\n",
              "  <script>\n",
              "    async function quickchart(key) {\n",
              "      const quickchartButtonEl =\n",
              "        document.querySelector('#' + key + ' button');\n",
              "      quickchartButtonEl.disabled = true;  // To prevent multiple clicks.\n",
              "      quickchartButtonEl.classList.add('colab-df-spinner');\n",
              "      try {\n",
              "        const charts = await google.colab.kernel.invokeFunction(\n",
              "            'suggestCharts', [key], {});\n",
              "      } catch (error) {\n",
              "        console.error('Error during call to suggestCharts:', error);\n",
              "      }\n",
              "      quickchartButtonEl.classList.remove('colab-df-spinner');\n",
              "      quickchartButtonEl.classList.add('colab-df-quickchart-complete');\n",
              "    }\n",
              "    (() => {\n",
              "      let quickchartButtonEl =\n",
              "        document.querySelector('#df-367d7807-dddd-42d5-b9c1-a0980cac5a76 button');\n",
              "      quickchartButtonEl.style.display =\n",
              "        google.colab.kernel.accessAllowed ? 'block' : 'none';\n",
              "    })();\n",
              "  </script>\n",
              "</div>\n",
              "    </div>\n",
              "  </div>\n"
            ],
            "application/vnd.google.colaboratory.intrinsic+json": {
              "type": "dataframe",
              "variable_name": "df",
              "summary": "{\n  \"name\": \"df\",\n  \"rows\": 4787,\n  \"fields\": [\n    {\n      \"column\": \"title\",\n      \"properties\": {\n        \"dtype\": \"string\",\n        \"num_unique_values\": 4641,\n        \"samples\": [\n          \"Made a mistake of\",\n          \"Knowing there's an original helps\",\n          \"slow and not really scary but very cool effects and visuals, when used\"\n        ],\n        \"semantic_type\": \"\",\n        \"description\": \"\"\n      }\n    },\n    {\n      \"column\": \"review\",\n      \"properties\": {\n        \"dtype\": \"string\",\n        \"num_unique_values\": 4784,\n        \"samples\": [\n          \"Just because Spielberg's DreamWorks made a horror movie (an American version of a Japanese hokey) doesn't mean it's better than the budget-challenged \\\"Nightmare on Elm Street\\\", \\\"Halloween\\\", the campy 1957 \\\"Voodoo Island\\\" or the maligned \\\"Abandon\\\".  The most dreadful thing about \\\"The Ring\\\" is its characters' lack of belief in and respect for themselves.  Thus, to me, this movie draws comparison to the equally-dreadful, boring and inane \\\"Blair Witch Project\\\".My neurotic and droll mind actually thought that DreamWorks' marketing funds generated (a) the good buzz on this movie from the starving media, (b) the bad buzz from the media on \\\"Abandon\\\" (another inane thriller movie which opened at the same time as \\\"The Ring\\\" on 10/18/02) (Translation:  No marketing funds from Paramount), and (c) the phony squeals, screams and applause from the Saturday night audience at Loews Cinema at Universal City in Los Angeles.In the end, it's all about money and good old-fashioned ballyhoo. DreamWorks produced another profitable movie that the public wants.  No argument there.  But for the media to say and the adoring public to start believing that \\\"The Ring\\\" is an intelligent and a genuine horror movie, now, that's a lot of croak.\",\n          \"Bust of the summer. Not a bad movie. Dark water's story drags, and not in a slow burn way, but in a bad movie way. Not scary, unless one finds a slow pace scary. The director still manages to keep the viewer interested in the story. I do not know if the story was lost in translation of the book to film, but the movie was lacking a push. The actors and director did well with what little meat the script provided. Too much fiber and not enough red meat for me. The end is like the ring 2 with the need for a mother in the film. A let down after watching the whole film. Watch it on video. Not bad for a late Friday night by yourself. Not a movie for a group. 6 out of 10. I bet the book was better and hard to put on screen.\",\n          \"although the plot is easy enough to go along with and the whole theme of the movie can be gripping at times, i couldn't help but feel the director tried to squeeze just too many jumps and scares into the movie, I mean come on let's face it, every tension-built scene is pretty predictable and just an excuse for a shock in most cases. however the scenes are still quite un-settling and definitely jumpy despite the fact you can tell what's coming. the movie relates to the ring in places (especially a certain staircase scene at the end) and definitely scarier and jumpier, and definitely worth going along to if you like constantly being on the edge of your seat and a good few jumps to get you laughing about afterwards!\"\n        ],\n        \"semantic_type\": \"\",\n        \"description\": \"\"\n      }\n    },\n    {\n      \"column\": \"rating\",\n      \"properties\": {\n        \"dtype\": \"category\",\n        \"num_unique_values\": 10,\n        \"samples\": [\n          \"2/10\",\n          \"10/10\",\n          \"6/10\"\n        ],\n        \"semantic_type\": \"\",\n        \"description\": \"\"\n      }\n    }\n  ]\n}"
            }
          },
          "metadata": {},
          "execution_count": 5
        }
      ]
    },
    {
      "cell_type": "code",
      "source": [
        "df['review'][88]"
      ],
      "metadata": {
        "colab": {
          "base_uri": "https://localhost:8080/",
          "height": 122
        },
        "id": "kX5zWJ0QtMHT",
        "outputId": "cef225d8-a6af-43c2-bad1-dc9e937ab190"
      },
      "execution_count": 22,
      "outputs": [
        {
          "output_type": "execute_result",
          "data": {
            "text/plain": [
              "'The \"spirit\" in this movie was kind of creepy, but I felt like I wasted an afternoon watching this piece of pooh. It didn\\'t tie itself together very well, the acting was second rate and it was very slow. I thought there was a lot of potential with this, but they way it was done barely kept me awake. It would be very interesting to see someone take this story to another level. I\\'m not sure what else to say about this, but I want my post to make it online now that I have invested the time to review this lame movie. Sorry to be dragging on... but 10 lines of text are required. We\\'re almost there... Hang on... Wow! I feel like I\\'m creating a movie like the Grudge, now. Long, dull and a waste of time to deal with. Oh well, we\\'re done now!'"
            ],
            "application/vnd.google.colaboratory.intrinsic+json": {
              "type": "string"
            }
          },
          "metadata": {},
          "execution_count": 22
        }
      ]
    },
    {
      "cell_type": "code",
      "source": [
        "import re\n",
        "import string\n",
        "import nltk\n",
        "from nltk.corpus import stopwords\n",
        "from nltk.stem import WordNetLemmatizer\n",
        "from nltk.stem.porter import *\n",
        "from tqdm import tqdm\n",
        "from nltk import sent_tokenize,word_tokenize\n",
        "\n",
        "nltk.download('stopwords')\n",
        "nltk.download('punkt')\n",
        "nltk.download('wordnet')\n",
        "nltk.download('omw-1.4')"
      ],
      "metadata": {
        "colab": {
          "base_uri": "https://localhost:8080/"
        },
        "id": "s9jktLj0RE2K",
        "outputId": "df2ea053-922a-48c3-a0f5-834694df7ff4"
      },
      "execution_count": 6,
      "outputs": [
        {
          "output_type": "stream",
          "name": "stderr",
          "text": [
            "[nltk_data] Downloading package stopwords to /root/nltk_data...\n",
            "[nltk_data]   Unzipping corpora/stopwords.zip.\n",
            "[nltk_data] Downloading package punkt to /root/nltk_data...\n",
            "[nltk_data]   Unzipping tokenizers/punkt.zip.\n",
            "[nltk_data] Downloading package wordnet to /root/nltk_data...\n",
            "[nltk_data] Downloading package omw-1.4 to /root/nltk_data...\n"
          ]
        },
        {
          "output_type": "execute_result",
          "data": {
            "text/plain": [
              "True"
            ]
          },
          "metadata": {},
          "execution_count": 6
        }
      ]
    },
    {
      "cell_type": "code",
      "source": [
        "main = []\n",
        "\n",
        "# Storing all punctuations using RE library like !;,\"% etc\n",
        "re_puncs = re.compile('[%s]' % re.escape(string.punctuation))\n",
        "# Storing all stop words like a, an, the, when, there, this etc\n",
        "stop_word  = set(stopwords.words('english'))\n",
        "stop_word.add(\"im\")\n",
        "# print(stop_word)\n"
      ],
      "metadata": {
        "id": "unexSO72RQiG"
      },
      "execution_count": 7,
      "outputs": []
    },
    {
      "cell_type": "code",
      "source": [
        "sentences_listed = [line.split(\" \") for line in df['review']]\n",
        "\n",
        "import gensim\n",
        "\n",
        "word_model = gensim.models.Word2Vec(sentences = sentences_listed, vector_size = 100)\n",
        "words = list(word_model.wv.key_to_index)\n",
        "print(len(words))"
      ],
      "metadata": {
        "colab": {
          "base_uri": "https://localhost:8080/"
        },
        "id": "uLp5QsLaRdVz",
        "outputId": "df62a32a-724d-4cc7-e16e-1cb6dd206b84"
      },
      "execution_count": 8,
      "outputs": [
        {
          "output_type": "stream",
          "name": "stdout",
          "text": [
            "11398\n"
          ]
        }
      ]
    },
    {
      "cell_type": "code",
      "source": [
        "!pip install gensim"
      ],
      "metadata": {
        "colab": {
          "base_uri": "https://localhost:8080/"
        },
        "id": "3G34SZxiRjNl",
        "outputId": "5c0da364-c887-4fc2-e9a4-51d4ee2fb170"
      },
      "execution_count": 9,
      "outputs": [
        {
          "output_type": "stream",
          "name": "stdout",
          "text": [
            "Requirement already satisfied: gensim in /usr/local/lib/python3.10/dist-packages (4.3.2)\n",
            "Requirement already satisfied: numpy>=1.18.5 in /usr/local/lib/python3.10/dist-packages (from gensim) (1.25.2)\n",
            "Requirement already satisfied: scipy>=1.7.0 in /usr/local/lib/python3.10/dist-packages (from gensim) (1.11.4)\n",
            "Requirement already satisfied: smart-open>=1.8.1 in /usr/local/lib/python3.10/dist-packages (from gensim) (6.4.0)\n"
          ]
        }
      ]
    },
    {
      "cell_type": "code",
      "source": [
        "word_model.wv.most_similar(\"actress\")"
      ],
      "metadata": {
        "colab": {
          "base_uri": "https://localhost:8080/"
        },
        "id": "GPgFjxCBRnhF",
        "outputId": "a40afdb1-5420-4e4d-d49c-5706cf390c9e"
      },
      "execution_count": 10,
      "outputs": [
        {
          "output_type": "execute_result",
          "data": {
            "text/plain": [
              "[('actress,', 0.9184087514877319),\n",
              " ('role', 0.8999068737030029),\n",
              " ('performance', 0.8671321868896484),\n",
              " ('Connelly', 0.8669130802154541),\n",
              " ('Watts', 0.8406627178192139),\n",
              " ('journalist.', 0.8305148482322693),\n",
              " ('Bell', 0.823521614074707),\n",
              " ('actor', 0.8173946142196655),\n",
              " ('lead,', 0.8150674104690552),\n",
              " ('Browning', 0.8133652210235596)]"
            ]
          },
          "metadata": {},
          "execution_count": 10
        }
      ]
    },
    {
      "cell_type": "code",
      "source": [
        "word_model.wv.most_similar(\"death\")"
      ],
      "metadata": {
        "colab": {
          "base_uri": "https://localhost:8080/"
        },
        "id": "A6IfkeLNRqFA",
        "outputId": "8ef811d0-520a-4dff-9501-fa22b46a29e7"
      },
      "execution_count": 11,
      "outputs": [
        {
          "output_type": "execute_result",
          "data": {
            "text/plain": [
              "[('body', 0.887908935546875),\n",
              " ('spirit', 0.8851573467254639),\n",
              " ('family', 0.8849808573722839),\n",
              " ('living', 0.8844324350357056),\n",
              " ('curse', 0.8831897974014282),\n",
              " ('visions', 0.8733584880828857),\n",
              " ('house,', 0.8723907470703125),\n",
              " ('house', 0.868007242679596),\n",
              " ('closet', 0.866958498954773),\n",
              " ('computer', 0.8587065935134888)]"
            ]
          },
          "metadata": {},
          "execution_count": 11
        }
      ]
    },
    {
      "cell_type": "code",
      "source": [
        "word_model.wv.most_similar(\"scary\")"
      ],
      "metadata": {
        "colab": {
          "base_uri": "https://localhost:8080/"
        },
        "id": "aHYhXMc0RvDF",
        "outputId": "be7e4c9c-799c-4aa3-8e8a-d646cfed0a9b"
      },
      "execution_count": 12,
      "outputs": [
        {
          "output_type": "execute_result",
          "data": {
            "text/plain": [
              "[('bad', 0.8312276005744934),\n",
              " ('scary,', 0.7627571225166321),\n",
              " ('good', 0.7607622146606445),\n",
              " ('boring', 0.6972141861915588),\n",
              " ('scary.', 0.6787448525428772),\n",
              " ('fun', 0.6403161883354187),\n",
              " ('frightening', 0.6154860854148865),\n",
              " ('stupid', 0.6127957105636597),\n",
              " ('really', 0.6106213927268982),\n",
              " ('just', 0.6083388328552246)]"
            ]
          },
          "metadata": {},
          "execution_count": 12
        }
      ]
    },
    {
      "cell_type": "code",
      "source": [
        "# Making Lemmatizing object\n",
        "lem = WordNetLemmatizer()\n",
        "# Using Porter Stemmer\n",
        "p_stem = PorterStemmer()\n",
        "\n",
        "# Traversing whole dataset\n",
        "for i in tqdm(range(len(df['review']))):\n",
        "    # Tokenization\n",
        "    tokens = word_tokenize(str(df['review'][i]))\n",
        "    # Converting all characters to lower case\n",
        "    tokens = [w.lower() for w in tokens]\n",
        "    # Remove all punctuations from sentenses\n",
        "    tokens = [re_puncs.sub('', w) for w in tokens]\n",
        "    # Checking all words is alphabets or not\n",
        "    tokens = [i for i in tokens if i.isalpha()]\n",
        "    # Removing all stop words from the sentenses\n",
        "    tokens = [w for w in tokens if w not in stop_word]\n",
        "    # Doing Lemmatizing of words\n",
        "    tokens = [lem.lemmatize(w) for w in tokens]\n",
        "    # Stemming process\n",
        "    tokens = [p_stem.stem(w) for w in tokens]\n",
        "    # Finally convert to string\n",
        "    r = ' '.join(tokens)\n",
        "    # Storing the final string into main list\n",
        "    main.append(r)\n"
      ],
      "metadata": {
        "colab": {
          "base_uri": "https://localhost:8080/"
        },
        "id": "R7A1wClxRzER",
        "outputId": "af64c0e1-12ab-44b2-c5e0-79e58eb78b7c"
      },
      "execution_count": 13,
      "outputs": [
        {
          "output_type": "stream",
          "name": "stderr",
          "text": [
            "100%|██████████| 4787/4787 [00:39<00:00, 121.25it/s]\n"
          ]
        }
      ]
    },
    {
      "cell_type": "code",
      "source": [
        "df['translated'] = main"
      ],
      "metadata": {
        "id": "IIIkhxzKXEwI"
      },
      "execution_count": 14,
      "outputs": []
    },
    {
      "cell_type": "code",
      "source": [
        "df"
      ],
      "metadata": {
        "colab": {
          "base_uri": "https://localhost:8080/",
          "height": 475
        },
        "id": "mhxJj5zWXYiC",
        "outputId": "6e644efc-f288-4e4c-c3e6-5cf63a3d9788"
      },
      "execution_count": 15,
      "outputs": [
        {
          "output_type": "execute_result",
          "data": {
            "text/plain": [
              "                                                  title  \\\n",
              "0           Occasionally awkward, but very good overall   \n",
              "1                 Non-Linear, yet Effective and Creepy.   \n",
              "2                                           Pretty Good   \n",
              "3                      Very Scary Japanese Horror Movie   \n",
              "4     A genuinely creepy Japanese ghost story master...   \n",
              "...                                                 ...   \n",
              "4782  Japanese Horror Remakes... from this author it...   \n",
              "4783  I might have gotten startled ONCE during this ...   \n",
              "4784  That Movie Blew Harder than Yeltsin into a Bre...   \n",
              "4785     The \"Dark Water\" is really dark, for a reason.   \n",
              "4786                              What a waste of time!   \n",
              "\n",
              "                                                 review rating  \\\n",
              "0     Rika Nishina (Megumi Okina) works for a social...   9/10   \n",
              "1     Although the word \"grudge\" doesn't quite fit t...  10/10   \n",
              "2     \"Ju-On, The Grudge\" is not an easy movie to fi...   7/10   \n",
              "3     In Japan, when the volunteer social assistant ...   8/10   \n",
              "4     Following in the immensely successful footstep...  10/10   \n",
              "...                                                 ...    ...   \n",
              "4782  Now having seen both The Ring and Dark Water, ...   4/10   \n",
              "4783  THe movie is slow, grinding, and uneventful. A...   4/10   \n",
              "4784  I've never written comments on a movie before....   3/10   \n",
              "4785  I'm 47, married 26 years, four kids. I was rai...   1/10   \n",
              "4786  Boring, shallow and not scary at all.Another m...   1/10   \n",
              "\n",
              "                                             translated  \n",
              "0     rika nishina megumi okina work social servic a...  \n",
              "1     although word grudg nt quit fit bill part titl...  \n",
              "2     juon grudg easi movi find america least nt fir...  \n",
              "3     japan volunt social assist rika nishina megumi...  \n",
              "4     follow immens success footstep ring juon grudg...  \n",
              "...                                                 ...  \n",
              "4782  seen ring dark water begin wonder director com...  \n",
              "4783  movi slow grind unev first minut see first sec...  \n",
              "4784  never written comment movi never felt rob chea...  \n",
              "4785  marri year four kid rais watch televis movi sa...  \n",
              "4786  bore shallow scari allanoth movi lead nowher l...  \n",
              "\n",
              "[4787 rows x 4 columns]"
            ],
            "text/html": [
              "\n",
              "  <div id=\"df-10e6479b-e0fb-4145-b990-c5645c2fef3a\" class=\"colab-df-container\">\n",
              "    <div>\n",
              "<style scoped>\n",
              "    .dataframe tbody tr th:only-of-type {\n",
              "        vertical-align: middle;\n",
              "    }\n",
              "\n",
              "    .dataframe tbody tr th {\n",
              "        vertical-align: top;\n",
              "    }\n",
              "\n",
              "    .dataframe thead th {\n",
              "        text-align: right;\n",
              "    }\n",
              "</style>\n",
              "<table border=\"1\" class=\"dataframe\">\n",
              "  <thead>\n",
              "    <tr style=\"text-align: right;\">\n",
              "      <th></th>\n",
              "      <th>title</th>\n",
              "      <th>review</th>\n",
              "      <th>rating</th>\n",
              "      <th>translated</th>\n",
              "    </tr>\n",
              "  </thead>\n",
              "  <tbody>\n",
              "    <tr>\n",
              "      <th>0</th>\n",
              "      <td>Occasionally awkward, but very good overall</td>\n",
              "      <td>Rika Nishina (Megumi Okina) works for a social...</td>\n",
              "      <td>9/10</td>\n",
              "      <td>rika nishina megumi okina work social servic a...</td>\n",
              "    </tr>\n",
              "    <tr>\n",
              "      <th>1</th>\n",
              "      <td>Non-Linear, yet Effective and Creepy.</td>\n",
              "      <td>Although the word \"grudge\" doesn't quite fit t...</td>\n",
              "      <td>10/10</td>\n",
              "      <td>although word grudg nt quit fit bill part titl...</td>\n",
              "    </tr>\n",
              "    <tr>\n",
              "      <th>2</th>\n",
              "      <td>Pretty Good</td>\n",
              "      <td>\"Ju-On, The Grudge\" is not an easy movie to fi...</td>\n",
              "      <td>7/10</td>\n",
              "      <td>juon grudg easi movi find america least nt fir...</td>\n",
              "    </tr>\n",
              "    <tr>\n",
              "      <th>3</th>\n",
              "      <td>Very Scary Japanese Horror Movie</td>\n",
              "      <td>In Japan, when the volunteer social assistant ...</td>\n",
              "      <td>8/10</td>\n",
              "      <td>japan volunt social assist rika nishina megumi...</td>\n",
              "    </tr>\n",
              "    <tr>\n",
              "      <th>4</th>\n",
              "      <td>A genuinely creepy Japanese ghost story master...</td>\n",
              "      <td>Following in the immensely successful footstep...</td>\n",
              "      <td>10/10</td>\n",
              "      <td>follow immens success footstep ring juon grudg...</td>\n",
              "    </tr>\n",
              "    <tr>\n",
              "      <th>...</th>\n",
              "      <td>...</td>\n",
              "      <td>...</td>\n",
              "      <td>...</td>\n",
              "      <td>...</td>\n",
              "    </tr>\n",
              "    <tr>\n",
              "      <th>4782</th>\n",
              "      <td>Japanese Horror Remakes... from this author it...</td>\n",
              "      <td>Now having seen both The Ring and Dark Water, ...</td>\n",
              "      <td>4/10</td>\n",
              "      <td>seen ring dark water begin wonder director com...</td>\n",
              "    </tr>\n",
              "    <tr>\n",
              "      <th>4783</th>\n",
              "      <td>I might have gotten startled ONCE during this ...</td>\n",
              "      <td>THe movie is slow, grinding, and uneventful. A...</td>\n",
              "      <td>4/10</td>\n",
              "      <td>movi slow grind unev first minut see first sec...</td>\n",
              "    </tr>\n",
              "    <tr>\n",
              "      <th>4784</th>\n",
              "      <td>That Movie Blew Harder than Yeltsin into a Bre...</td>\n",
              "      <td>I've never written comments on a movie before....</td>\n",
              "      <td>3/10</td>\n",
              "      <td>never written comment movi never felt rob chea...</td>\n",
              "    </tr>\n",
              "    <tr>\n",
              "      <th>4785</th>\n",
              "      <td>The \"Dark Water\" is really dark, for a reason.</td>\n",
              "      <td>I'm 47, married 26 years, four kids. I was rai...</td>\n",
              "      <td>1/10</td>\n",
              "      <td>marri year four kid rais watch televis movi sa...</td>\n",
              "    </tr>\n",
              "    <tr>\n",
              "      <th>4786</th>\n",
              "      <td>What a waste of time!</td>\n",
              "      <td>Boring, shallow and not scary at all.Another m...</td>\n",
              "      <td>1/10</td>\n",
              "      <td>bore shallow scari allanoth movi lead nowher l...</td>\n",
              "    </tr>\n",
              "  </tbody>\n",
              "</table>\n",
              "<p>4787 rows × 4 columns</p>\n",
              "</div>\n",
              "    <div class=\"colab-df-buttons\">\n",
              "\n",
              "  <div class=\"colab-df-container\">\n",
              "    <button class=\"colab-df-convert\" onclick=\"convertToInteractive('df-10e6479b-e0fb-4145-b990-c5645c2fef3a')\"\n",
              "            title=\"Convert this dataframe to an interactive table.\"\n",
              "            style=\"display:none;\">\n",
              "\n",
              "  <svg xmlns=\"http://www.w3.org/2000/svg\" height=\"24px\" viewBox=\"0 -960 960 960\">\n",
              "    <path d=\"M120-120v-720h720v720H120Zm60-500h600v-160H180v160Zm220 220h160v-160H400v160Zm0 220h160v-160H400v160ZM180-400h160v-160H180v160Zm440 0h160v-160H620v160ZM180-180h160v-160H180v160Zm440 0h160v-160H620v160Z\"/>\n",
              "  </svg>\n",
              "    </button>\n",
              "\n",
              "  <style>\n",
              "    .colab-df-container {\n",
              "      display:flex;\n",
              "      gap: 12px;\n",
              "    }\n",
              "\n",
              "    .colab-df-convert {\n",
              "      background-color: #E8F0FE;\n",
              "      border: none;\n",
              "      border-radius: 50%;\n",
              "      cursor: pointer;\n",
              "      display: none;\n",
              "      fill: #1967D2;\n",
              "      height: 32px;\n",
              "      padding: 0 0 0 0;\n",
              "      width: 32px;\n",
              "    }\n",
              "\n",
              "    .colab-df-convert:hover {\n",
              "      background-color: #E2EBFA;\n",
              "      box-shadow: 0px 1px 2px rgba(60, 64, 67, 0.3), 0px 1px 3px 1px rgba(60, 64, 67, 0.15);\n",
              "      fill: #174EA6;\n",
              "    }\n",
              "\n",
              "    .colab-df-buttons div {\n",
              "      margin-bottom: 4px;\n",
              "    }\n",
              "\n",
              "    [theme=dark] .colab-df-convert {\n",
              "      background-color: #3B4455;\n",
              "      fill: #D2E3FC;\n",
              "    }\n",
              "\n",
              "    [theme=dark] .colab-df-convert:hover {\n",
              "      background-color: #434B5C;\n",
              "      box-shadow: 0px 1px 3px 1px rgba(0, 0, 0, 0.15);\n",
              "      filter: drop-shadow(0px 1px 2px rgba(0, 0, 0, 0.3));\n",
              "      fill: #FFFFFF;\n",
              "    }\n",
              "  </style>\n",
              "\n",
              "    <script>\n",
              "      const buttonEl =\n",
              "        document.querySelector('#df-10e6479b-e0fb-4145-b990-c5645c2fef3a button.colab-df-convert');\n",
              "      buttonEl.style.display =\n",
              "        google.colab.kernel.accessAllowed ? 'block' : 'none';\n",
              "\n",
              "      async function convertToInteractive(key) {\n",
              "        const element = document.querySelector('#df-10e6479b-e0fb-4145-b990-c5645c2fef3a');\n",
              "        const dataTable =\n",
              "          await google.colab.kernel.invokeFunction('convertToInteractive',\n",
              "                                                    [key], {});\n",
              "        if (!dataTable) return;\n",
              "\n",
              "        const docLinkHtml = 'Like what you see? Visit the ' +\n",
              "          '<a target=\"_blank\" href=https://colab.research.google.com/notebooks/data_table.ipynb>data table notebook</a>'\n",
              "          + ' to learn more about interactive tables.';\n",
              "        element.innerHTML = '';\n",
              "        dataTable['output_type'] = 'display_data';\n",
              "        await google.colab.output.renderOutput(dataTable, element);\n",
              "        const docLink = document.createElement('div');\n",
              "        docLink.innerHTML = docLinkHtml;\n",
              "        element.appendChild(docLink);\n",
              "      }\n",
              "    </script>\n",
              "  </div>\n",
              "\n",
              "\n",
              "<div id=\"df-0dbd7912-fe3e-4952-8ade-b7bd66e03006\">\n",
              "  <button class=\"colab-df-quickchart\" onclick=\"quickchart('df-0dbd7912-fe3e-4952-8ade-b7bd66e03006')\"\n",
              "            title=\"Suggest charts\"\n",
              "            style=\"display:none;\">\n",
              "\n",
              "<svg xmlns=\"http://www.w3.org/2000/svg\" height=\"24px\"viewBox=\"0 0 24 24\"\n",
              "     width=\"24px\">\n",
              "    <g>\n",
              "        <path d=\"M19 3H5c-1.1 0-2 .9-2 2v14c0 1.1.9 2 2 2h14c1.1 0 2-.9 2-2V5c0-1.1-.9-2-2-2zM9 17H7v-7h2v7zm4 0h-2V7h2v10zm4 0h-2v-4h2v4z\"/>\n",
              "    </g>\n",
              "</svg>\n",
              "  </button>\n",
              "\n",
              "<style>\n",
              "  .colab-df-quickchart {\n",
              "      --bg-color: #E8F0FE;\n",
              "      --fill-color: #1967D2;\n",
              "      --hover-bg-color: #E2EBFA;\n",
              "      --hover-fill-color: #174EA6;\n",
              "      --disabled-fill-color: #AAA;\n",
              "      --disabled-bg-color: #DDD;\n",
              "  }\n",
              "\n",
              "  [theme=dark] .colab-df-quickchart {\n",
              "      --bg-color: #3B4455;\n",
              "      --fill-color: #D2E3FC;\n",
              "      --hover-bg-color: #434B5C;\n",
              "      --hover-fill-color: #FFFFFF;\n",
              "      --disabled-bg-color: #3B4455;\n",
              "      --disabled-fill-color: #666;\n",
              "  }\n",
              "\n",
              "  .colab-df-quickchart {\n",
              "    background-color: var(--bg-color);\n",
              "    border: none;\n",
              "    border-radius: 50%;\n",
              "    cursor: pointer;\n",
              "    display: none;\n",
              "    fill: var(--fill-color);\n",
              "    height: 32px;\n",
              "    padding: 0;\n",
              "    width: 32px;\n",
              "  }\n",
              "\n",
              "  .colab-df-quickchart:hover {\n",
              "    background-color: var(--hover-bg-color);\n",
              "    box-shadow: 0 1px 2px rgba(60, 64, 67, 0.3), 0 1px 3px 1px rgba(60, 64, 67, 0.15);\n",
              "    fill: var(--button-hover-fill-color);\n",
              "  }\n",
              "\n",
              "  .colab-df-quickchart-complete:disabled,\n",
              "  .colab-df-quickchart-complete:disabled:hover {\n",
              "    background-color: var(--disabled-bg-color);\n",
              "    fill: var(--disabled-fill-color);\n",
              "    box-shadow: none;\n",
              "  }\n",
              "\n",
              "  .colab-df-spinner {\n",
              "    border: 2px solid var(--fill-color);\n",
              "    border-color: transparent;\n",
              "    border-bottom-color: var(--fill-color);\n",
              "    animation:\n",
              "      spin 1s steps(1) infinite;\n",
              "  }\n",
              "\n",
              "  @keyframes spin {\n",
              "    0% {\n",
              "      border-color: transparent;\n",
              "      border-bottom-color: var(--fill-color);\n",
              "      border-left-color: var(--fill-color);\n",
              "    }\n",
              "    20% {\n",
              "      border-color: transparent;\n",
              "      border-left-color: var(--fill-color);\n",
              "      border-top-color: var(--fill-color);\n",
              "    }\n",
              "    30% {\n",
              "      border-color: transparent;\n",
              "      border-left-color: var(--fill-color);\n",
              "      border-top-color: var(--fill-color);\n",
              "      border-right-color: var(--fill-color);\n",
              "    }\n",
              "    40% {\n",
              "      border-color: transparent;\n",
              "      border-right-color: var(--fill-color);\n",
              "      border-top-color: var(--fill-color);\n",
              "    }\n",
              "    60% {\n",
              "      border-color: transparent;\n",
              "      border-right-color: var(--fill-color);\n",
              "    }\n",
              "    80% {\n",
              "      border-color: transparent;\n",
              "      border-right-color: var(--fill-color);\n",
              "      border-bottom-color: var(--fill-color);\n",
              "    }\n",
              "    90% {\n",
              "      border-color: transparent;\n",
              "      border-bottom-color: var(--fill-color);\n",
              "    }\n",
              "  }\n",
              "</style>\n",
              "\n",
              "  <script>\n",
              "    async function quickchart(key) {\n",
              "      const quickchartButtonEl =\n",
              "        document.querySelector('#' + key + ' button');\n",
              "      quickchartButtonEl.disabled = true;  // To prevent multiple clicks.\n",
              "      quickchartButtonEl.classList.add('colab-df-spinner');\n",
              "      try {\n",
              "        const charts = await google.colab.kernel.invokeFunction(\n",
              "            'suggestCharts', [key], {});\n",
              "      } catch (error) {\n",
              "        console.error('Error during call to suggestCharts:', error);\n",
              "      }\n",
              "      quickchartButtonEl.classList.remove('colab-df-spinner');\n",
              "      quickchartButtonEl.classList.add('colab-df-quickchart-complete');\n",
              "    }\n",
              "    (() => {\n",
              "      let quickchartButtonEl =\n",
              "        document.querySelector('#df-0dbd7912-fe3e-4952-8ade-b7bd66e03006 button');\n",
              "      quickchartButtonEl.style.display =\n",
              "        google.colab.kernel.accessAllowed ? 'block' : 'none';\n",
              "    })();\n",
              "  </script>\n",
              "</div>\n",
              "    </div>\n",
              "  </div>\n"
            ],
            "application/vnd.google.colaboratory.intrinsic+json": {
              "type": "dataframe",
              "variable_name": "df",
              "summary": "{\n  \"name\": \"df\",\n  \"rows\": 4787,\n  \"fields\": [\n    {\n      \"column\": \"title\",\n      \"properties\": {\n        \"dtype\": \"string\",\n        \"num_unique_values\": 4641,\n        \"samples\": [\n          \"Made a mistake of\",\n          \"Knowing there's an original helps\",\n          \"slow and not really scary but very cool effects and visuals, when used\"\n        ],\n        \"semantic_type\": \"\",\n        \"description\": \"\"\n      }\n    },\n    {\n      \"column\": \"review\",\n      \"properties\": {\n        \"dtype\": \"string\",\n        \"num_unique_values\": 4784,\n        \"samples\": [\n          \"Just because Spielberg's DreamWorks made a horror movie (an American version of a Japanese hokey) doesn't mean it's better than the budget-challenged \\\"Nightmare on Elm Street\\\", \\\"Halloween\\\", the campy 1957 \\\"Voodoo Island\\\" or the maligned \\\"Abandon\\\".  The most dreadful thing about \\\"The Ring\\\" is its characters' lack of belief in and respect for themselves.  Thus, to me, this movie draws comparison to the equally-dreadful, boring and inane \\\"Blair Witch Project\\\".My neurotic and droll mind actually thought that DreamWorks' marketing funds generated (a) the good buzz on this movie from the starving media, (b) the bad buzz from the media on \\\"Abandon\\\" (another inane thriller movie which opened at the same time as \\\"The Ring\\\" on 10/18/02) (Translation:  No marketing funds from Paramount), and (c) the phony squeals, screams and applause from the Saturday night audience at Loews Cinema at Universal City in Los Angeles.In the end, it's all about money and good old-fashioned ballyhoo. DreamWorks produced another profitable movie that the public wants.  No argument there.  But for the media to say and the adoring public to start believing that \\\"The Ring\\\" is an intelligent and a genuine horror movie, now, that's a lot of croak.\",\n          \"Bust of the summer. Not a bad movie. Dark water's story drags, and not in a slow burn way, but in a bad movie way. Not scary, unless one finds a slow pace scary. The director still manages to keep the viewer interested in the story. I do not know if the story was lost in translation of the book to film, but the movie was lacking a push. The actors and director did well with what little meat the script provided. Too much fiber and not enough red meat for me. The end is like the ring 2 with the need for a mother in the film. A let down after watching the whole film. Watch it on video. Not bad for a late Friday night by yourself. Not a movie for a group. 6 out of 10. I bet the book was better and hard to put on screen.\",\n          \"although the plot is easy enough to go along with and the whole theme of the movie can be gripping at times, i couldn't help but feel the director tried to squeeze just too many jumps and scares into the movie, I mean come on let's face it, every tension-built scene is pretty predictable and just an excuse for a shock in most cases. however the scenes are still quite un-settling and definitely jumpy despite the fact you can tell what's coming. the movie relates to the ring in places (especially a certain staircase scene at the end) and definitely scarier and jumpier, and definitely worth going along to if you like constantly being on the edge of your seat and a good few jumps to get you laughing about afterwards!\"\n        ],\n        \"semantic_type\": \"\",\n        \"description\": \"\"\n      }\n    },\n    {\n      \"column\": \"rating\",\n      \"properties\": {\n        \"dtype\": \"category\",\n        \"num_unique_values\": 10,\n        \"samples\": [\n          \"2/10\",\n          \"10/10\",\n          \"6/10\"\n        ],\n        \"semantic_type\": \"\",\n        \"description\": \"\"\n      }\n    },\n    {\n      \"column\": \"translated\",\n      \"properties\": {\n        \"dtype\": \"string\",\n        \"num_unique_values\": 4784,\n        \"samples\": [\n          \"spielberg dreamwork made horror movi american version japanes hokey nt mean better budgetchalleng nightmar elm street halloween campi voodoo island malign abandon dread thing ring charact lack belief respect thu movi draw comparison equallydread bore inan blair witch project neurot droll mind actual thought dreamwork market fund gener good buzz movi starv medium b bad buzz medium abandon anoth inan thriller movi open time ring translat market fund paramount c phoni squeal scream applaus saturday night audienc loew cinema univers citi lo angelesin end money good oldfashion ballyhoo dreamwork produc anoth profit movi public want argument medium say ador public start believ ring intellig genuin horror movi lot croak\",\n          \"bust summer bad movi dark water stori drag slow burn way bad movi way scari unless one find slow pace scari director still manag keep viewer interest stori know stori lost translat book film movi lack push actor director well littl meat script provid much fiber enough red meat end like ring need mother film let watch whole film watch video bad late friday night movi group bet book better hard put screen\",\n          \"although plot easi enough go along whole theme movi grip time could nt help feel director tri squeez mani jump scare movi mean come let face everi tensionbuilt scene pretti predict excus shock case howev scene still quit unsettl definit jumpi despit fact tell come movi relat ring place especi certain staircas scene end definit scarier jumpier definit worth go along like constantli edg seat good jump get laugh afterward\"\n        ],\n        \"semantic_type\": \"\",\n        \"description\": \"\"\n      }\n    }\n  ]\n}"
            }
          },
          "metadata": {},
          "execution_count": 15
        }
      ]
    },
    {
      "cell_type": "code",
      "source": [
        "#df['translated'][88]"
      ],
      "metadata": {
        "colab": {
          "base_uri": "https://localhost:8080/",
          "height": 70
        },
        "id": "fgyUvMFjXZNf",
        "outputId": "6e2d0bc3-9d5f-4b48-f4ce-fb101e65c1fb"
      },
      "execution_count": 16,
      "outputs": [
        {
          "output_type": "execute_result",
          "data": {
            "text/plain": [
              "'spirit movi kind creepi felt like wast afternoon watch piec pooh nt tie togeth well act second rate slow thought lot potenti way done bare kept awak would interest see someon take stori anoth level sure els say want post make onlin invest time review lame movi sorri drag line text requir almost hang wow feel like creat movi like grudg long dull wast time deal oh well done'"
            ],
            "application/vnd.google.colaboratory.intrinsic+json": {
              "type": "string"
            }
          },
          "metadata": {},
          "execution_count": 16
        }
      ]
    },
    {
      "cell_type": "code",
      "source": [
        "from tensorflow.keras.preprocessing.text import Tokenizer\n",
        "tokenizer = Tokenizer()\n",
        "tokenizer.fit_on_texts(df['translated'])"
      ],
      "metadata": {
        "id": "1hbFw70fXgkf"
      },
      "execution_count": 17,
      "outputs": []
    },
    {
      "cell_type": "code",
      "source": [
        "print(len(tokenizer.word_counts))"
      ],
      "metadata": {
        "colab": {
          "base_uri": "https://localhost:8080/"
        },
        "id": "8G3f1_VWXnW7",
        "outputId": "9bc605bd-7d5e-4248-ac39-d55325fec38b"
      },
      "execution_count": 18,
      "outputs": [
        {
          "output_type": "stream",
          "name": "stdout",
          "text": [
            "22923\n"
          ]
        }
      ]
    },
    {
      "cell_type": "code",
      "source": [
        "counter = 0\n",
        "for key, value in tokenizer.word_counts.items():\n",
        "    if value > 2400:\n",
        "        print(key, value)\n",
        "        counter+=1\n",
        "\n",
        "print(counter)"
      ],
      "metadata": {
        "colab": {
          "base_uri": "https://localhost:8080/"
        },
        "id": "4dQJQs2_XqfK",
        "outputId": "16ebe7e7-e4ee-4d4b-cdd2-2a5e1d95601e"
      },
      "execution_count": 28,
      "outputs": [
        {
          "output_type": "stream",
          "name": "stdout",
          "text": [
            "one 4912\n",
            "film 9819\n",
            "realli 3083\n",
            "nt 8349\n",
            "watch 3920\n",
            "good 3593\n",
            "get 2556\n",
            "stori 3056\n",
            "end 2875\n",
            "like 4527\n",
            "see 3767\n",
            "horror 6036\n",
            "well 2449\n",
            "make 3008\n",
            "movi 13409\n",
            "time 2782\n",
            "scare 2522\n",
            "scari 2650\n",
            "ring 3209\n",
            "go 2819\n",
            "origin 2743\n",
            "21\n"
          ]
        }
      ]
    },
    {
      "cell_type": "markdown",
      "source": [
        "**grupa 1** scary/scared, afraid, fright(ened), alarmed, shocked, horror/horrified, threatening, hair-rising, horrendous"
      ],
      "metadata": {
        "id": "L4BmL1Vgy071"
      }
    },
    {
      "cell_type": "code",
      "source": [
        "count1 = 0\n",
        "num=tokenizer.word_counts['scari']\n",
        "print(num)\n",
        "count1+=num"
      ],
      "metadata": {
        "colab": {
          "base_uri": "https://localhost:8080/"
        },
        "id": "rlwjuQAZwA43",
        "outputId": "d068c862-6b9f-4a0f-b4a6-22794a36b687"
      },
      "execution_count": 35,
      "outputs": [
        {
          "output_type": "stream",
          "name": "stdout",
          "text": [
            "2650\n"
          ]
        }
      ]
    },
    {
      "cell_type": "code",
      "source": [
        "num=tokenizer.word_counts['scare']\n",
        "print(num)\n",
        "count1+=num"
      ],
      "metadata": {
        "colab": {
          "base_uri": "https://localhost:8080/"
        },
        "id": "SwcI0o3-xsxX",
        "outputId": "16204871-ff1b-44ad-cbb1-2e872ef9d8f7"
      },
      "execution_count": 37,
      "outputs": [
        {
          "output_type": "stream",
          "name": "stdout",
          "text": [
            "2522\n"
          ]
        }
      ]
    },
    {
      "cell_type": "code",
      "source": [
        "num=tokenizer.word_counts['afraid']\n",
        "print(num)\n",
        "count1+=num"
      ],
      "metadata": {
        "colab": {
          "base_uri": "https://localhost:8080/"
        },
        "id": "SNLEwCVIx998",
        "outputId": "7bae1415-2bfc-486d-bf24-d3d4763122d9"
      },
      "execution_count": 40,
      "outputs": [
        {
          "output_type": "stream",
          "name": "stdout",
          "text": [
            "129\n"
          ]
        }
      ]
    },
    {
      "cell_type": "code",
      "source": [
        "num=tokenizer.word_counts['fright']\n",
        "print(num)\n",
        "count1+=num"
      ],
      "metadata": {
        "colab": {
          "base_uri": "https://localhost:8080/"
        },
        "id": "ZK1_JbpyzaNW",
        "outputId": "edbf7c7f-bdc4-40fc-dbcb-1ec126409a01"
      },
      "execution_count": 42,
      "outputs": [
        {
          "output_type": "stream",
          "name": "stdout",
          "text": [
            "118\n"
          ]
        }
      ]
    },
    {
      "cell_type": "code",
      "source": [
        "num=tokenizer.word_counts['frighten']\n",
        "print(num)\n",
        "count1+=num"
      ],
      "metadata": {
        "colab": {
          "base_uri": "https://localhost:8080/"
        },
        "id": "bmwClQWuzlur",
        "outputId": "2132d1b6-db9d-4b03-d328-9667f417a0e9"
      },
      "execution_count": 44,
      "outputs": [
        {
          "output_type": "stream",
          "name": "stdout",
          "text": [
            "518\n"
          ]
        }
      ]
    },
    {
      "cell_type": "code",
      "source": [
        "num=tokenizer.word_counts['alarm']\n",
        "print(num)\n",
        "count1+=num"
      ],
      "metadata": {
        "colab": {
          "base_uri": "https://localhost:8080/"
        },
        "id": "mLC0qs16zuh6",
        "outputId": "4a31760f-6571-4b8f-f84b-72b272d38762"
      },
      "execution_count": 47,
      "outputs": [
        {
          "output_type": "stream",
          "name": "stdout",
          "text": [
            "11\n"
          ]
        }
      ]
    },
    {
      "cell_type": "code",
      "source": [
        "num=tokenizer.word_counts['shock']\n",
        "print(num)\n",
        "count1+=num"
      ],
      "metadata": {
        "colab": {
          "base_uri": "https://localhost:8080/"
        },
        "id": "FOS-Fucsz3yZ",
        "outputId": "9a39d6d5-c916-485b-d760-373af4e1c061"
      },
      "execution_count": 51,
      "outputs": [
        {
          "output_type": "stream",
          "name": "stdout",
          "text": [
            "438\n"
          ]
        }
      ]
    },
    {
      "cell_type": "code",
      "source": [
        "num=tokenizer.word_counts['horrifi']\n",
        "print(num)\n",
        "count1+=num"
      ],
      "metadata": {
        "colab": {
          "base_uri": "https://localhost:8080/"
        },
        "id": "xYfuNhK_z7rr",
        "outputId": "6b3d08ea-ed6b-42e8-f1f0-afe4bedf1e4e"
      },
      "execution_count": 56,
      "outputs": [
        {
          "output_type": "stream",
          "name": "stdout",
          "text": [
            "140\n"
          ]
        }
      ]
    },
    {
      "cell_type": "code",
      "source": [
        "num=tokenizer.word_counts['horrif']\n",
        "print(num)\n",
        "count1+=num"
      ],
      "metadata": {
        "colab": {
          "base_uri": "https://localhost:8080/"
        },
        "id": "mVj9X9vm0GNy",
        "outputId": "749c939b-574f-4d34-8d6b-68c2fd91a949"
      },
      "execution_count": 60,
      "outputs": [
        {
          "output_type": "stream",
          "name": "stdout",
          "text": [
            "94\n"
          ]
        }
      ]
    },
    {
      "cell_type": "code",
      "source": [
        "num=tokenizer.word_counts['threaten']\n",
        "print(num)\n",
        "count1+=num"
      ],
      "metadata": {
        "colab": {
          "base_uri": "https://localhost:8080/"
        },
        "id": "plytxXNS0R0L",
        "outputId": "12a59923-7d06-441e-f046-321cc564a2df"
      },
      "execution_count": 61,
      "outputs": [
        {
          "output_type": "stream",
          "name": "stdout",
          "text": [
            "47\n"
          ]
        }
      ]
    },
    {
      "cell_type": "code",
      "source": [
        "num=tokenizer.word_counts['horrend']\n",
        "print(num)\n",
        "count1+=num"
      ],
      "metadata": {
        "colab": {
          "base_uri": "https://localhost:8080/"
        },
        "id": "ujSY-2YX0fEm",
        "outputId": "bf602cbb-37da-4b51-b63f-b1f9b30d0719"
      },
      "execution_count": 70,
      "outputs": [
        {
          "output_type": "stream",
          "name": "stdout",
          "text": [
            "15\n"
          ]
        }
      ]
    },
    {
      "cell_type": "code",
      "source": [
        "print('WYNIK DLA GRUPY PIERWSZEJ TOOOOO',count1)"
      ],
      "metadata": {
        "colab": {
          "base_uri": "https://localhost:8080/"
        },
        "id": "6QQyJQ8l0hHi",
        "outputId": "ce2e7cdc-b2a2-429e-c666-e0d3a22df3d7"
      },
      "execution_count": 74,
      "outputs": [
        {
          "output_type": "stream",
          "name": "stdout",
          "text": [
            "WYNIK DLA GRUPY PIERWSZEJ TOOOOO 6682\n"
          ]
        }
      ]
    },
    {
      "cell_type": "markdown",
      "source": [
        "**grupa 2** fear, petrified, terror/terrified, distress, helpless(ness), anxiety/anxious, worried, apprehension, creepy, uneasy, disturbing, chilling, eerie, spooky(?), intimidating, overwhelming, unnerving"
      ],
      "metadata": {
        "id": "kXlSPtUN1OFf"
      }
    },
    {
      "cell_type": "code",
      "source": [
        "count2 = 0\n",
        "num=tokenizer.word_counts['fear']\n",
        "print(num)\n",
        "count2+=num"
      ],
      "metadata": {
        "colab": {
          "base_uri": "https://localhost:8080/"
        },
        "id": "mU95N0Mq024T",
        "outputId": "7987e20f-bbeb-4d16-f617-978ef7a68d78"
      },
      "execution_count": 75,
      "outputs": [
        {
          "output_type": "stream",
          "name": "stdout",
          "text": [
            "468\n"
          ]
        }
      ]
    },
    {
      "cell_type": "code",
      "source": [
        "num=tokenizer.word_counts['petrifi']\n",
        "print(num)\n",
        "count2+=num"
      ],
      "metadata": {
        "colab": {
          "base_uri": "https://localhost:8080/"
        },
        "id": "fNSGeGBs1ZOT",
        "outputId": "23a0f718-8851-477b-83ee-7966bdf848ee"
      },
      "execution_count": 77,
      "outputs": [
        {
          "output_type": "stream",
          "name": "stdout",
          "text": [
            "8\n"
          ]
        }
      ]
    },
    {
      "cell_type": "code",
      "source": [
        "num=tokenizer.word_counts['terror']\n",
        "print(num)\n",
        "count2+=num"
      ],
      "metadata": {
        "colab": {
          "base_uri": "https://localhost:8080/"
        },
        "id": "ZUcRFEzw1wIW",
        "outputId": "814a9e9f-5693-48d1-9186-dd0e06e343fd"
      },
      "execution_count": 79,
      "outputs": [
        {
          "output_type": "stream",
          "name": "stdout",
          "text": [
            "267\n"
          ]
        }
      ]
    },
    {
      "cell_type": "code",
      "source": [
        "num=tokenizer.word_counts['terrifi']\n",
        "print(num)\n",
        "count2+=num"
      ],
      "metadata": {
        "colab": {
          "base_uri": "https://localhost:8080/"
        },
        "id": "PBsa91CU1Ymg",
        "outputId": "93da3a5e-5574-4d92-a0bf-65c67f7060e3"
      },
      "execution_count": 80,
      "outputs": [
        {
          "output_type": "stream",
          "name": "stdout",
          "text": [
            "421\n"
          ]
        }
      ]
    },
    {
      "cell_type": "code",
      "source": [
        "num=tokenizer.word_counts['distress']\n",
        "print(num)\n",
        "count2+=num"
      ],
      "metadata": {
        "colab": {
          "base_uri": "https://localhost:8080/"
        },
        "id": "M2hiXKpu12rP",
        "outputId": "af03d283-32e0-48d9-bbeb-713717e182f6"
      },
      "execution_count": 81,
      "outputs": [
        {
          "output_type": "stream",
          "name": "stdout",
          "text": [
            "18\n"
          ]
        }
      ]
    },
    {
      "cell_type": "code",
      "source": [
        "num=tokenizer.word_counts['helpless']\n",
        "print(num)\n",
        "count2+=num"
      ],
      "metadata": {
        "colab": {
          "base_uri": "https://localhost:8080/"
        },
        "id": "XGAea3D215JL",
        "outputId": "1cdd1ac8-b132-4dea-d3aa-6bc8aa74718c"
      },
      "execution_count": 82,
      "outputs": [
        {
          "output_type": "stream",
          "name": "stdout",
          "text": [
            "19\n"
          ]
        }
      ]
    },
    {
      "cell_type": "code",
      "source": [
        "num=tokenizer.word_counts['anxious']\n",
        "print(num)\n",
        "count2+=num"
      ],
      "metadata": {
        "colab": {
          "base_uri": "https://localhost:8080/"
        },
        "id": "dHpwoOL119Cp",
        "outputId": "dda32ab7-ad0c-47a4-c47b-2f1687f110bb"
      },
      "execution_count": 88,
      "outputs": [
        {
          "output_type": "stream",
          "name": "stdout",
          "text": [
            "2\n"
          ]
        }
      ]
    },
    {
      "cell_type": "code",
      "source": [
        "num=tokenizer.word_counts['worri']\n",
        "print(num)\n",
        "count2+=num"
      ],
      "metadata": {
        "colab": {
          "base_uri": "https://localhost:8080/"
        },
        "id": "VbwAT88i1_-6",
        "outputId": "fa615a76-1702-4d59-ec8b-6e20e9294088"
      },
      "execution_count": 89,
      "outputs": [
        {
          "output_type": "stream",
          "name": "stdout",
          "text": [
            "61\n"
          ]
        }
      ]
    },
    {
      "cell_type": "code",
      "source": [
        "num=tokenizer.word_counts['creepy']\n",
        "print(num)\n",
        "count2+=num"
      ],
      "metadata": {
        "colab": {
          "base_uri": "https://localhost:8080/"
        },
        "id": "MGr5YmmV2HiS",
        "outputId": "8f4f06a3-70eb-4da5-ff52-888f732a013f"
      },
      "execution_count": 92,
      "outputs": [
        {
          "output_type": "stream",
          "name": "stdout",
          "text": [
            "2\n"
          ]
        }
      ]
    },
    {
      "cell_type": "code",
      "source": [
        "num=tokenizer.word_counts['creepi']\n",
        "print(num)\n",
        "count2+=num"
      ],
      "metadata": {
        "colab": {
          "base_uri": "https://localhost:8080/"
        },
        "id": "inytD3TE2MYc",
        "outputId": "62c385f8-cf7e-4ff9-b703-ae2f707aa9e2"
      },
      "execution_count": 93,
      "outputs": [
        {
          "output_type": "stream",
          "name": "stdout",
          "text": [
            "1461\n"
          ]
        }
      ]
    },
    {
      "cell_type": "code",
      "source": [
        "num=tokenizer.word_counts['uneasi']\n",
        "print(num)\n",
        "count2+=num"
      ],
      "metadata": {
        "colab": {
          "base_uri": "https://localhost:8080/"
        },
        "id": "fILf7ix02Uhc",
        "outputId": "c4650c4d-8b29-4946-aa29-84607a047794"
      },
      "execution_count": 95,
      "outputs": [
        {
          "output_type": "stream",
          "name": "stdout",
          "text": [
            "54\n"
          ]
        }
      ]
    },
    {
      "cell_type": "code",
      "source": [
        "num=tokenizer.word_counts['disturb']\n",
        "print(num)\n",
        "count2+=num"
      ],
      "metadata": {
        "colab": {
          "base_uri": "https://localhost:8080/"
        },
        "id": "oRedor7a2ZP5",
        "outputId": "c3fab1cd-e7bc-4f8d-f5f2-87c495097d60"
      },
      "execution_count": 96,
      "outputs": [
        {
          "output_type": "stream",
          "name": "stdout",
          "text": [
            "453\n"
          ]
        }
      ]
    },
    {
      "cell_type": "code",
      "source": [
        "num=tokenizer.word_counts['chilli']\n",
        "print(num)\n",
        "count2+=num"
      ],
      "metadata": {
        "colab": {
          "base_uri": "https://localhost:8080/"
        },
        "id": "lzagj3xj2eHf",
        "outputId": "3c11412b-5807-4fb2-849e-5b78c4dbdd7b"
      },
      "execution_count": 99,
      "outputs": [
        {
          "output_type": "stream",
          "name": "stdout",
          "text": [
            "5\n"
          ]
        }
      ]
    },
    {
      "cell_type": "code",
      "source": [
        "num=tokenizer.word_counts['eeri']\n",
        "print(num)\n",
        "count2+=num"
      ],
      "metadata": {
        "colab": {
          "base_uri": "https://localhost:8080/"
        },
        "id": "9AZLqt0P2f6_",
        "outputId": "585bdcbf-598b-4833-d895-6b125f1cd3b4"
      },
      "execution_count": 101,
      "outputs": [
        {
          "output_type": "stream",
          "name": "stdout",
          "text": [
            "276\n"
          ]
        }
      ]
    },
    {
      "cell_type": "code",
      "source": [
        "num=tokenizer.word_counts['overwhelm']\n",
        "print(num)\n",
        "count2+=num"
      ],
      "metadata": {
        "colab": {
          "base_uri": "https://localhost:8080/"
        },
        "id": "CTsgh3XS2lLL",
        "outputId": "801496b0-f185-482c-9e81-a710a04d7688"
      },
      "execution_count": 105,
      "outputs": [
        {
          "output_type": "stream",
          "name": "stdout",
          "text": [
            "24\n"
          ]
        }
      ]
    },
    {
      "cell_type": "code",
      "source": [
        "num=tokenizer.word_counts['overwhelming']\n",
        "print(num)\n",
        "count2+=num"
      ],
      "metadata": {
        "colab": {
          "base_uri": "https://localhost:8080/"
        },
        "id": "-U5nt36W2p8r",
        "outputId": "f8002756-2894-4545-9601-2d3d08c274b4"
      },
      "execution_count": 107,
      "outputs": [
        {
          "output_type": "stream",
          "name": "stdout",
          "text": [
            "1\n"
          ]
        }
      ]
    },
    {
      "cell_type": "code",
      "source": [
        "print('WYNIK DLA GRUPY DRUGIEJ TOOOOO',count2)"
      ],
      "metadata": {
        "colab": {
          "base_uri": "https://localhost:8080/"
        },
        "id": "glE4IiZL200R",
        "outputId": "9e81d8b4-e04f-4138-de62-f4a4b3006468"
      },
      "execution_count": 112,
      "outputs": [
        {
          "output_type": "stream",
          "name": "stdout",
          "text": [
            "WYNIK DLA GRUPY DRUGIEJ TOOOOO 3540\n"
          ]
        }
      ]
    },
    {
      "cell_type": "code",
      "source": [],
      "metadata": {
        "id": "IE1TDiTL28wI"
      },
      "execution_count": null,
      "outputs": []
    }
  ]
}