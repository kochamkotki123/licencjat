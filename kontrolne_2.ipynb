{
  "nbformat": 4,
  "nbformat_minor": 0,
  "metadata": {
    "colab": {
      "provenance": []
    },
    "kernelspec": {
      "name": "python3",
      "display_name": "Python 3"
    },
    "language_info": {
      "name": "python"
    }
  },
  "cells": [
    {
      "cell_type": "code",
      "execution_count": 1,
      "metadata": {
        "id": "KbqWRaUE-hp8"
      },
      "outputs": [],
      "source": [
        "import numpy as np\n",
        "import matplotlib.pyplot as plt\n",
        "import tensorflow as tf\n",
        "import pandas as pd\n",
        "import os\n",
        "os.environ[\"KMP_DUPLICATE_LIB_OK\"]=\"TRUE\"\n",
        "os.environ['CUDA_VISIBLE_DEVICES'] = '-1'\n",
        "from tensorflow.keras.callbacks import EarlyStopping\n",
        "from tensorflow.keras.models import Sequential\n",
        "from tensorflow.keras.layers import Dense, Dropout\n",
        "from tensorflow.keras.layers import BatchNormalization\n",
        "\n",
        "es = EarlyStopping(monitor = \"val_loss\", mode = \"min\", patience = 5)\n",
        "\n",
        "EPOCHS = 1000"
      ]
    },
    {
      "cell_type": "code",
      "source": [
        "try:\n",
        "    df = pd.read_csv('all_razem.csv', sep=\",\", on_bad_lines='skip')  # Skip bad lines\n",
        "    print(\"CSV file read successfully, skipping problematic lines.\")\n",
        "except pd.errors.ParserError as e:\n",
        "    print(f\"Error reading CSV: {e}\")\n",
        "    # Find problematic lines (this might print multiple lines)\n",
        "    with open('file.csv', 'r') as f:\n",
        "        for i, line in enumerate(f):\n",
        "            if len(line.split(',')) != 4:  # Assuming expected number of fields is 4\n",
        "                print(f\"Problematic line ({i+1}): {line}\")"
      ],
      "metadata": {
        "id": "RIFh9K_JK_K5",
        "colab": {
          "base_uri": "https://localhost:8080/"
        },
        "outputId": "d62c0444-8b29-4fce-87dc-0f18f8dafd28"
      },
      "execution_count": 2,
      "outputs": [
        {
          "output_type": "stream",
          "name": "stdout",
          "text": [
            "CSV file read successfully, skipping problematic lines.\n"
          ]
        }
      ]
    },
    {
      "cell_type": "code",
      "source": [
        "df = df.drop('Unnamed: 0', axis=1)"
      ],
      "metadata": {
        "id": "bejOtK0zO-xJ"
      },
      "execution_count": 3,
      "outputs": []
    },
    {
      "cell_type": "code",
      "source": [
        "df"
      ],
      "metadata": {
        "colab": {
          "base_uri": "https://localhost:8080/",
          "height": 423
        },
        "id": "9fDEaXLcQNit",
        "outputId": "5849bcf8-90c4-4c28-afd4-1d6ee4d944f6"
      },
      "execution_count": 4,
      "outputs": [
        {
          "output_type": "execute_result",
          "data": {
            "text/plain": [
              "                                                  title  \\\n",
              "0                              Essentially Lanthimosian   \n",
              "1                             Classic cynical lanthimos   \n",
              "2     It's a refreshing new chapter to Yorgos' filmo...   \n",
              "3                                                Review   \n",
              "4            Lanthimos & Filippou: A Unique Kind of Duo   \n",
              "...                                                 ...   \n",
              "5240                  Brings back the kid in all of us.   \n",
              "5241                           Fun, deep and impactful.   \n",
              "5242                           A fun and emotional time   \n",
              "5243                 Good movie but not for little kids   \n",
              "5244               Glad I didn't have a kid see me cry.   \n",
              "\n",
              "                                                 review rating  \n",
              "0     Over the last twenty years, Yorgos Lanthimos h...   8/10  \n",
              "1     This feels like the summer movie for lanthimos...   8/10  \n",
              "2     \"Kinds of Kindness\" is Yorgos' latest cinemati...   8/10  \n",
              "3     Concerning the first story, I think that it pa...  10/10  \n",
              "4     Yorgos Lanthimos returns with a vengeance, del...   7/10  \n",
              "...                                                 ...    ...  \n",
              "5240  You ever have an imaginary friend? An \"IF\"? Mo...  10/10  \n",
              "5241  This movie touched the deepest part of my hear...  10/10  \n",
              "5242  POSITIVES:1) The two lead performances are bot...   8/10  \n",
              "5243  I really enjoyed this movie. BUT, I think a lo...   9/10  \n",
              "5244  I heard this movie was evoking emotion so I he...  10/10  \n",
              "\n",
              "[5245 rows x 3 columns]"
            ],
            "text/html": [
              "\n",
              "  <div id=\"df-5d33794d-3a95-4e2f-bc5b-ed6aec18d56e\" class=\"colab-df-container\">\n",
              "    <div>\n",
              "<style scoped>\n",
              "    .dataframe tbody tr th:only-of-type {\n",
              "        vertical-align: middle;\n",
              "    }\n",
              "\n",
              "    .dataframe tbody tr th {\n",
              "        vertical-align: top;\n",
              "    }\n",
              "\n",
              "    .dataframe thead th {\n",
              "        text-align: right;\n",
              "    }\n",
              "</style>\n",
              "<table border=\"1\" class=\"dataframe\">\n",
              "  <thead>\n",
              "    <tr style=\"text-align: right;\">\n",
              "      <th></th>\n",
              "      <th>title</th>\n",
              "      <th>review</th>\n",
              "      <th>rating</th>\n",
              "    </tr>\n",
              "  </thead>\n",
              "  <tbody>\n",
              "    <tr>\n",
              "      <th>0</th>\n",
              "      <td>Essentially Lanthimosian</td>\n",
              "      <td>Over the last twenty years, Yorgos Lanthimos h...</td>\n",
              "      <td>8/10</td>\n",
              "    </tr>\n",
              "    <tr>\n",
              "      <th>1</th>\n",
              "      <td>Classic cynical lanthimos</td>\n",
              "      <td>This feels like the summer movie for lanthimos...</td>\n",
              "      <td>8/10</td>\n",
              "    </tr>\n",
              "    <tr>\n",
              "      <th>2</th>\n",
              "      <td>It's a refreshing new chapter to Yorgos' filmo...</td>\n",
              "      <td>\"Kinds of Kindness\" is Yorgos' latest cinemati...</td>\n",
              "      <td>8/10</td>\n",
              "    </tr>\n",
              "    <tr>\n",
              "      <th>3</th>\n",
              "      <td>Review</td>\n",
              "      <td>Concerning the first story, I think that it pa...</td>\n",
              "      <td>10/10</td>\n",
              "    </tr>\n",
              "    <tr>\n",
              "      <th>4</th>\n",
              "      <td>Lanthimos &amp; Filippou: A Unique Kind of Duo</td>\n",
              "      <td>Yorgos Lanthimos returns with a vengeance, del...</td>\n",
              "      <td>7/10</td>\n",
              "    </tr>\n",
              "    <tr>\n",
              "      <th>...</th>\n",
              "      <td>...</td>\n",
              "      <td>...</td>\n",
              "      <td>...</td>\n",
              "    </tr>\n",
              "    <tr>\n",
              "      <th>5240</th>\n",
              "      <td>Brings back the kid in all of us.</td>\n",
              "      <td>You ever have an imaginary friend? An \"IF\"? Mo...</td>\n",
              "      <td>10/10</td>\n",
              "    </tr>\n",
              "    <tr>\n",
              "      <th>5241</th>\n",
              "      <td>Fun, deep and impactful.</td>\n",
              "      <td>This movie touched the deepest part of my hear...</td>\n",
              "      <td>10/10</td>\n",
              "    </tr>\n",
              "    <tr>\n",
              "      <th>5242</th>\n",
              "      <td>A fun and emotional time</td>\n",
              "      <td>POSITIVES:1) The two lead performances are bot...</td>\n",
              "      <td>8/10</td>\n",
              "    </tr>\n",
              "    <tr>\n",
              "      <th>5243</th>\n",
              "      <td>Good movie but not for little kids</td>\n",
              "      <td>I really enjoyed this movie. BUT, I think a lo...</td>\n",
              "      <td>9/10</td>\n",
              "    </tr>\n",
              "    <tr>\n",
              "      <th>5244</th>\n",
              "      <td>Glad I didn't have a kid see me cry.</td>\n",
              "      <td>I heard this movie was evoking emotion so I he...</td>\n",
              "      <td>10/10</td>\n",
              "    </tr>\n",
              "  </tbody>\n",
              "</table>\n",
              "<p>5245 rows × 3 columns</p>\n",
              "</div>\n",
              "    <div class=\"colab-df-buttons\">\n",
              "\n",
              "  <div class=\"colab-df-container\">\n",
              "    <button class=\"colab-df-convert\" onclick=\"convertToInteractive('df-5d33794d-3a95-4e2f-bc5b-ed6aec18d56e')\"\n",
              "            title=\"Convert this dataframe to an interactive table.\"\n",
              "            style=\"display:none;\">\n",
              "\n",
              "  <svg xmlns=\"http://www.w3.org/2000/svg\" height=\"24px\" viewBox=\"0 -960 960 960\">\n",
              "    <path d=\"M120-120v-720h720v720H120Zm60-500h600v-160H180v160Zm220 220h160v-160H400v160Zm0 220h160v-160H400v160ZM180-400h160v-160H180v160Zm440 0h160v-160H620v160ZM180-180h160v-160H180v160Zm440 0h160v-160H620v160Z\"/>\n",
              "  </svg>\n",
              "    </button>\n",
              "\n",
              "  <style>\n",
              "    .colab-df-container {\n",
              "      display:flex;\n",
              "      gap: 12px;\n",
              "    }\n",
              "\n",
              "    .colab-df-convert {\n",
              "      background-color: #E8F0FE;\n",
              "      border: none;\n",
              "      border-radius: 50%;\n",
              "      cursor: pointer;\n",
              "      display: none;\n",
              "      fill: #1967D2;\n",
              "      height: 32px;\n",
              "      padding: 0 0 0 0;\n",
              "      width: 32px;\n",
              "    }\n",
              "\n",
              "    .colab-df-convert:hover {\n",
              "      background-color: #E2EBFA;\n",
              "      box-shadow: 0px 1px 2px rgba(60, 64, 67, 0.3), 0px 1px 3px 1px rgba(60, 64, 67, 0.15);\n",
              "      fill: #174EA6;\n",
              "    }\n",
              "\n",
              "    .colab-df-buttons div {\n",
              "      margin-bottom: 4px;\n",
              "    }\n",
              "\n",
              "    [theme=dark] .colab-df-convert {\n",
              "      background-color: #3B4455;\n",
              "      fill: #D2E3FC;\n",
              "    }\n",
              "\n",
              "    [theme=dark] .colab-df-convert:hover {\n",
              "      background-color: #434B5C;\n",
              "      box-shadow: 0px 1px 3px 1px rgba(0, 0, 0, 0.15);\n",
              "      filter: drop-shadow(0px 1px 2px rgba(0, 0, 0, 0.3));\n",
              "      fill: #FFFFFF;\n",
              "    }\n",
              "  </style>\n",
              "\n",
              "    <script>\n",
              "      const buttonEl =\n",
              "        document.querySelector('#df-5d33794d-3a95-4e2f-bc5b-ed6aec18d56e button.colab-df-convert');\n",
              "      buttonEl.style.display =\n",
              "        google.colab.kernel.accessAllowed ? 'block' : 'none';\n",
              "\n",
              "      async function convertToInteractive(key) {\n",
              "        const element = document.querySelector('#df-5d33794d-3a95-4e2f-bc5b-ed6aec18d56e');\n",
              "        const dataTable =\n",
              "          await google.colab.kernel.invokeFunction('convertToInteractive',\n",
              "                                                    [key], {});\n",
              "        if (!dataTable) return;\n",
              "\n",
              "        const docLinkHtml = 'Like what you see? Visit the ' +\n",
              "          '<a target=\"_blank\" href=https://colab.research.google.com/notebooks/data_table.ipynb>data table notebook</a>'\n",
              "          + ' to learn more about interactive tables.';\n",
              "        element.innerHTML = '';\n",
              "        dataTable['output_type'] = 'display_data';\n",
              "        await google.colab.output.renderOutput(dataTable, element);\n",
              "        const docLink = document.createElement('div');\n",
              "        docLink.innerHTML = docLinkHtml;\n",
              "        element.appendChild(docLink);\n",
              "      }\n",
              "    </script>\n",
              "  </div>\n",
              "\n",
              "\n",
              "<div id=\"df-997370b3-f988-48d8-87c9-b7c6deceb6c1\">\n",
              "  <button class=\"colab-df-quickchart\" onclick=\"quickchart('df-997370b3-f988-48d8-87c9-b7c6deceb6c1')\"\n",
              "            title=\"Suggest charts\"\n",
              "            style=\"display:none;\">\n",
              "\n",
              "<svg xmlns=\"http://www.w3.org/2000/svg\" height=\"24px\"viewBox=\"0 0 24 24\"\n",
              "     width=\"24px\">\n",
              "    <g>\n",
              "        <path d=\"M19 3H5c-1.1 0-2 .9-2 2v14c0 1.1.9 2 2 2h14c1.1 0 2-.9 2-2V5c0-1.1-.9-2-2-2zM9 17H7v-7h2v7zm4 0h-2V7h2v10zm4 0h-2v-4h2v4z\"/>\n",
              "    </g>\n",
              "</svg>\n",
              "  </button>\n",
              "\n",
              "<style>\n",
              "  .colab-df-quickchart {\n",
              "      --bg-color: #E8F0FE;\n",
              "      --fill-color: #1967D2;\n",
              "      --hover-bg-color: #E2EBFA;\n",
              "      --hover-fill-color: #174EA6;\n",
              "      --disabled-fill-color: #AAA;\n",
              "      --disabled-bg-color: #DDD;\n",
              "  }\n",
              "\n",
              "  [theme=dark] .colab-df-quickchart {\n",
              "      --bg-color: #3B4455;\n",
              "      --fill-color: #D2E3FC;\n",
              "      --hover-bg-color: #434B5C;\n",
              "      --hover-fill-color: #FFFFFF;\n",
              "      --disabled-bg-color: #3B4455;\n",
              "      --disabled-fill-color: #666;\n",
              "  }\n",
              "\n",
              "  .colab-df-quickchart {\n",
              "    background-color: var(--bg-color);\n",
              "    border: none;\n",
              "    border-radius: 50%;\n",
              "    cursor: pointer;\n",
              "    display: none;\n",
              "    fill: var(--fill-color);\n",
              "    height: 32px;\n",
              "    padding: 0;\n",
              "    width: 32px;\n",
              "  }\n",
              "\n",
              "  .colab-df-quickchart:hover {\n",
              "    background-color: var(--hover-bg-color);\n",
              "    box-shadow: 0 1px 2px rgba(60, 64, 67, 0.3), 0 1px 3px 1px rgba(60, 64, 67, 0.15);\n",
              "    fill: var(--button-hover-fill-color);\n",
              "  }\n",
              "\n",
              "  .colab-df-quickchart-complete:disabled,\n",
              "  .colab-df-quickchart-complete:disabled:hover {\n",
              "    background-color: var(--disabled-bg-color);\n",
              "    fill: var(--disabled-fill-color);\n",
              "    box-shadow: none;\n",
              "  }\n",
              "\n",
              "  .colab-df-spinner {\n",
              "    border: 2px solid var(--fill-color);\n",
              "    border-color: transparent;\n",
              "    border-bottom-color: var(--fill-color);\n",
              "    animation:\n",
              "      spin 1s steps(1) infinite;\n",
              "  }\n",
              "\n",
              "  @keyframes spin {\n",
              "    0% {\n",
              "      border-color: transparent;\n",
              "      border-bottom-color: var(--fill-color);\n",
              "      border-left-color: var(--fill-color);\n",
              "    }\n",
              "    20% {\n",
              "      border-color: transparent;\n",
              "      border-left-color: var(--fill-color);\n",
              "      border-top-color: var(--fill-color);\n",
              "    }\n",
              "    30% {\n",
              "      border-color: transparent;\n",
              "      border-left-color: var(--fill-color);\n",
              "      border-top-color: var(--fill-color);\n",
              "      border-right-color: var(--fill-color);\n",
              "    }\n",
              "    40% {\n",
              "      border-color: transparent;\n",
              "      border-right-color: var(--fill-color);\n",
              "      border-top-color: var(--fill-color);\n",
              "    }\n",
              "    60% {\n",
              "      border-color: transparent;\n",
              "      border-right-color: var(--fill-color);\n",
              "    }\n",
              "    80% {\n",
              "      border-color: transparent;\n",
              "      border-right-color: var(--fill-color);\n",
              "      border-bottom-color: var(--fill-color);\n",
              "    }\n",
              "    90% {\n",
              "      border-color: transparent;\n",
              "      border-bottom-color: var(--fill-color);\n",
              "    }\n",
              "  }\n",
              "</style>\n",
              "\n",
              "  <script>\n",
              "    async function quickchart(key) {\n",
              "      const quickchartButtonEl =\n",
              "        document.querySelector('#' + key + ' button');\n",
              "      quickchartButtonEl.disabled = true;  // To prevent multiple clicks.\n",
              "      quickchartButtonEl.classList.add('colab-df-spinner');\n",
              "      try {\n",
              "        const charts = await google.colab.kernel.invokeFunction(\n",
              "            'suggestCharts', [key], {});\n",
              "      } catch (error) {\n",
              "        console.error('Error during call to suggestCharts:', error);\n",
              "      }\n",
              "      quickchartButtonEl.classList.remove('colab-df-spinner');\n",
              "      quickchartButtonEl.classList.add('colab-df-quickchart-complete');\n",
              "    }\n",
              "    (() => {\n",
              "      let quickchartButtonEl =\n",
              "        document.querySelector('#df-997370b3-f988-48d8-87c9-b7c6deceb6c1 button');\n",
              "      quickchartButtonEl.style.display =\n",
              "        google.colab.kernel.accessAllowed ? 'block' : 'none';\n",
              "    })();\n",
              "  </script>\n",
              "</div>\n",
              "\n",
              "  <div id=\"id_38e165f1-c4e1-4e22-ab72-1c9530d2f74c\">\n",
              "    <style>\n",
              "      .colab-df-generate {\n",
              "        background-color: #E8F0FE;\n",
              "        border: none;\n",
              "        border-radius: 50%;\n",
              "        cursor: pointer;\n",
              "        display: none;\n",
              "        fill: #1967D2;\n",
              "        height: 32px;\n",
              "        padding: 0 0 0 0;\n",
              "        width: 32px;\n",
              "      }\n",
              "\n",
              "      .colab-df-generate:hover {\n",
              "        background-color: #E2EBFA;\n",
              "        box-shadow: 0px 1px 2px rgba(60, 64, 67, 0.3), 0px 1px 3px 1px rgba(60, 64, 67, 0.15);\n",
              "        fill: #174EA6;\n",
              "      }\n",
              "\n",
              "      [theme=dark] .colab-df-generate {\n",
              "        background-color: #3B4455;\n",
              "        fill: #D2E3FC;\n",
              "      }\n",
              "\n",
              "      [theme=dark] .colab-df-generate:hover {\n",
              "        background-color: #434B5C;\n",
              "        box-shadow: 0px 1px 3px 1px rgba(0, 0, 0, 0.15);\n",
              "        filter: drop-shadow(0px 1px 2px rgba(0, 0, 0, 0.3));\n",
              "        fill: #FFFFFF;\n",
              "      }\n",
              "    </style>\n",
              "    <button class=\"colab-df-generate\" onclick=\"generateWithVariable('df')\"\n",
              "            title=\"Generate code using this dataframe.\"\n",
              "            style=\"display:none;\">\n",
              "\n",
              "  <svg xmlns=\"http://www.w3.org/2000/svg\" height=\"24px\"viewBox=\"0 0 24 24\"\n",
              "       width=\"24px\">\n",
              "    <path d=\"M7,19H8.4L18.45,9,17,7.55,7,17.6ZM5,21V16.75L18.45,3.32a2,2,0,0,1,2.83,0l1.4,1.43a1.91,1.91,0,0,1,.58,1.4,1.91,1.91,0,0,1-.58,1.4L9.25,21ZM18.45,9,17,7.55Zm-12,3A5.31,5.31,0,0,0,4.9,8.1,5.31,5.31,0,0,0,1,6.5,5.31,5.31,0,0,0,4.9,4.9,5.31,5.31,0,0,0,6.5,1,5.31,5.31,0,0,0,8.1,4.9,5.31,5.31,0,0,0,12,6.5,5.46,5.46,0,0,0,6.5,12Z\"/>\n",
              "  </svg>\n",
              "    </button>\n",
              "    <script>\n",
              "      (() => {\n",
              "      const buttonEl =\n",
              "        document.querySelector('#id_38e165f1-c4e1-4e22-ab72-1c9530d2f74c button.colab-df-generate');\n",
              "      buttonEl.style.display =\n",
              "        google.colab.kernel.accessAllowed ? 'block' : 'none';\n",
              "\n",
              "      buttonEl.onclick = () => {\n",
              "        google.colab.notebook.generateWithVariable('df');\n",
              "      }\n",
              "      })();\n",
              "    </script>\n",
              "  </div>\n",
              "\n",
              "    </div>\n",
              "  </div>\n"
            ],
            "application/vnd.google.colaboratory.intrinsic+json": {
              "type": "dataframe",
              "variable_name": "df",
              "summary": "{\n  \"name\": \"df\",\n  \"rows\": 5245,\n  \"fields\": [\n    {\n      \"column\": \"title\",\n      \"properties\": {\n        \"dtype\": \"string\",\n        \"num_unique_values\": 4808,\n        \"samples\": [\n          \"Honest review\",\n          \"Did I enjoy it? Yes, very much so\",\n          \"one word: Noisy.\"\n        ],\n        \"semantic_type\": \"\",\n        \"description\": \"\"\n      }\n    },\n    {\n      \"column\": \"review\",\n      \"properties\": {\n        \"dtype\": \"string\",\n        \"num_unique_values\": 4965,\n        \"samples\": [\n          \"How often these days can you say a sequel surpasses the first film? Now I understand that this is technically a second part of one whole story however the depth and scale of this film is remarkable that deserves commendation to all involved who have pushed it beyond the first film in every way. It is truly a masterpiece - a film that will be talked about for generations and one that will undoubtedly become a classic of cinema. A book that many thought would be impossible to fully convey through film has finally had its triumph on the big screen thanks to the mastermind that is Denis Villenevue.\",\n          \"A half century ago, some bikers liked to hang out, belt down brews, bang broads, and hang out some more. Danny Lyon (Mike Faist) is a college boy writing a book about a midwestern gang, which slowly evolves into a criminal enterprise like the Mafia. Most of his interviews are with Kathy (Jodie Comer), who marries Bennie (Austin Butler). Johnny (Tom Hardy) is the careworn leader of the club, who sees Benny as a worthy successor; Michael Shannon offers solid support as well. This is a long way from from the \\\"peace, love, good vibes\\\" in \\\"Easy Rider\\\" (1969); here we get the lower orders who wanted bombs, not Brahms. Writer/director Jeff Nichols does a fine job bringing Danny Lyon's book to the screen. I sense an Oscar nomination in Comer's near future.\",\n          \"I am very happy that my favourite Mahabharata character is in the movie.The first 20 minutes story and first fight has been dragged and it's boring. But after that, story takes on you. It will get intriguing and one by one main characters will be introduced accordingly with a good entry scenes.A very good graphics can be compared to a Hollywood range. Big B and Rebel star acting with a Deepika's mixture is just wow.Saswat chaterjee has very well played a villain role curious to see how Kamal will take on the next part.A very good sci-fi thriller movie in Indian cinema. Definitely worth watching.\"\n        ],\n        \"semantic_type\": \"\",\n        \"description\": \"\"\n      }\n    },\n    {\n      \"column\": \"rating\",\n      \"properties\": {\n        \"dtype\": \"category\",\n        \"num_unique_values\": 22,\n        \"samples\": [\n          \"8/10\",\n          \"7/10;;;;;;\",\n          \"3/10\"\n        ],\n        \"semantic_type\": \"\",\n        \"description\": \"\"\n      }\n    }\n  ]\n}"
            }
          },
          "metadata": {},
          "execution_count": 4
        }
      ]
    },
    {
      "cell_type": "code",
      "source": [
        "df['review'][88]"
      ],
      "metadata": {
        "colab": {
          "base_uri": "https://localhost:8080/",
          "height": 140
        },
        "id": "kX5zWJ0QtMHT",
        "outputId": "3d724ef8-0fb8-4107-8e60-ca1f4f88c6c5"
      },
      "execution_count": 5,
      "outputs": [
        {
          "output_type": "execute_result",
          "data": {
            "text/plain": [
              "'This was a solid WWII film that just wants to have fun, and I have a place in my heart for films like that. Its great cast distracts from the weak characterization in the script. Standouts are Henry Cavill (of course), Eiza Gonzales and Alan Ritchson. It\\'s a very plot driven movie, but the plot is interesting (especially considering it is loosely based on real events). If the script made us care more about the people, this would have been great movie. Instead everyone comes off as \"movie characters;\" I\\'m sure the actual people involved were far more interesting than that. In some ways, the movie highlights a fascinating mission from WWII while doing a disservice to the men involved.Those script issues aside, the movie\\'s direction and tone are very fun. There\\'s a great musical sequence I very much enjoyed and I did find myself invested in the mission as the third act neared. Don\\'t expect to be on the edge of your seat as this is less about suspense and all about style. But it was a fun time at the theater and I think it\\'s worth seeing for that alone.Side note: YMMV but save for a bloody moment or two, it\\'s far less graphic than the R rating may lead you to believe.'"
            ],
            "application/vnd.google.colaboratory.intrinsic+json": {
              "type": "string"
            }
          },
          "metadata": {},
          "execution_count": 5
        }
      ]
    },
    {
      "cell_type": "code",
      "source": [
        "import re\n",
        "import string\n",
        "import nltk\n",
        "from nltk.corpus import stopwords\n",
        "from nltk.stem import WordNetLemmatizer\n",
        "from nltk.stem.porter import *\n",
        "from tqdm import tqdm\n",
        "from nltk import sent_tokenize,word_tokenize\n",
        "\n",
        "nltk.download('stopwords')\n",
        "nltk.download('punkt')\n",
        "nltk.download('wordnet')\n",
        "nltk.download('omw-1.4')"
      ],
      "metadata": {
        "colab": {
          "base_uri": "https://localhost:8080/"
        },
        "id": "s9jktLj0RE2K",
        "outputId": "8773483d-86c2-420e-95d2-d424cc42cea9"
      },
      "execution_count": 6,
      "outputs": [
        {
          "output_type": "stream",
          "name": "stderr",
          "text": [
            "[nltk_data] Downloading package stopwords to /root/nltk_data...\n",
            "[nltk_data]   Unzipping corpora/stopwords.zip.\n",
            "[nltk_data] Downloading package punkt to /root/nltk_data...\n",
            "[nltk_data]   Unzipping tokenizers/punkt.zip.\n",
            "[nltk_data] Downloading package wordnet to /root/nltk_data...\n",
            "[nltk_data] Downloading package omw-1.4 to /root/nltk_data...\n"
          ]
        },
        {
          "output_type": "execute_result",
          "data": {
            "text/plain": [
              "True"
            ]
          },
          "metadata": {},
          "execution_count": 6
        }
      ]
    },
    {
      "cell_type": "code",
      "source": [
        "main = []\n",
        "\n",
        "# Storing all punctuations using RE library like !;,\"% etc\n",
        "re_puncs = re.compile('[%s]' % re.escape(string.punctuation))\n",
        "# Storing all stop words like a, an, the, when, there, this etc\n",
        "stop_word  = set(stopwords.words('english'))\n",
        "stop_word.add(\"im\")\n",
        "# print(stop_word)\n"
      ],
      "metadata": {
        "id": "unexSO72RQiG"
      },
      "execution_count": 7,
      "outputs": []
    },
    {
      "cell_type": "code",
      "source": [
        "sentences_listed = [str(line).split(\" \") for line in df['review']]\n",
        "\n",
        "import gensim\n",
        "\n",
        "word_model = gensim.models.Word2Vec(sentences = sentences_listed, vector_size = 100)\n",
        "words = list(word_model.wv.key_to_index)\n",
        "print(len(words))"
      ],
      "metadata": {
        "colab": {
          "base_uri": "https://localhost:8080/"
        },
        "id": "uLp5QsLaRdVz",
        "outputId": "301eb6b4-afcb-43c1-fef0-8841c30dd44f"
      },
      "execution_count": 9,
      "outputs": [
        {
          "output_type": "stream",
          "name": "stdout",
          "text": [
            "12568\n"
          ]
        }
      ]
    },
    {
      "cell_type": "code",
      "source": [
        "!pip install gensim"
      ],
      "metadata": {
        "colab": {
          "base_uri": "https://localhost:8080/"
        },
        "id": "3G34SZxiRjNl",
        "outputId": "b62bc811-128d-48f6-c73a-74cf79a7f583"
      },
      "execution_count": 10,
      "outputs": [
        {
          "output_type": "stream",
          "name": "stdout",
          "text": [
            "Requirement already satisfied: gensim in /usr/local/lib/python3.10/dist-packages (4.3.2)\n",
            "Requirement already satisfied: numpy>=1.18.5 in /usr/local/lib/python3.10/dist-packages (from gensim) (1.25.2)\n",
            "Requirement already satisfied: scipy>=1.7.0 in /usr/local/lib/python3.10/dist-packages (from gensim) (1.11.4)\n",
            "Requirement already satisfied: smart-open>=1.8.1 in /usr/local/lib/python3.10/dist-packages (from gensim) (7.0.4)\n",
            "Requirement already satisfied: wrapt in /usr/local/lib/python3.10/dist-packages (from smart-open>=1.8.1->gensim) (1.14.1)\n"
          ]
        }
      ]
    },
    {
      "cell_type": "code",
      "source": [
        "#word_model.wv.most_similar(\"actress\")"
      ],
      "metadata": {
        "id": "GPgFjxCBRnhF"
      },
      "execution_count": 11,
      "outputs": []
    },
    {
      "cell_type": "code",
      "source": [
        "#word_model.wv.most_similar(\"death\")"
      ],
      "metadata": {
        "id": "A6IfkeLNRqFA"
      },
      "execution_count": 12,
      "outputs": []
    },
    {
      "cell_type": "code",
      "source": [
        "# Making Lemmatizing object\n",
        "lem = WordNetLemmatizer()\n",
        "# Using Porter Stemmer\n",
        "p_stem = PorterStemmer()\n",
        "\n",
        "# Traversing whole dataset\n",
        "for i in tqdm(range(len(df['review']))):\n",
        "    # Tokenization\n",
        "    tokens = word_tokenize(str(df['review'][i]))\n",
        "    # Converting all characters to lower case\n",
        "    tokens = [w.lower() for w in tokens]\n",
        "    # Remove all punctuations from sentenses\n",
        "    tokens = [re_puncs.sub('', w) for w in tokens]\n",
        "    # Checking all words is alphabets or not\n",
        "    tokens = [i for i in tokens if i.isalpha()]\n",
        "    # Removing all stop words from the sentenses\n",
        "    tokens = [w for w in tokens if w not in stop_word]\n",
        "    # Doing Lemmatizing of words\n",
        "    tokens = [lem.lemmatize(w) for w in tokens]\n",
        "    # Stemming process\n",
        "    tokens = [p_stem.stem(w) for w in tokens]\n",
        "    # Finally convert to string\n",
        "    r = ' '.join(tokens)\n",
        "    # Storing the final string into main list\n",
        "    main.append(r)\n"
      ],
      "metadata": {
        "colab": {
          "base_uri": "https://localhost:8080/"
        },
        "id": "R7A1wClxRzER",
        "outputId": "e10d2b46-23f9-4c61-953d-6238e200d88f"
      },
      "execution_count": 13,
      "outputs": [
        {
          "output_type": "stream",
          "name": "stderr",
          "text": [
            "100%|██████████| 5245/5245 [00:39<00:00, 133.21it/s]\n"
          ]
        }
      ]
    },
    {
      "cell_type": "code",
      "source": [
        "df['translated'] = main"
      ],
      "metadata": {
        "id": "IIIkhxzKXEwI"
      },
      "execution_count": 14,
      "outputs": []
    },
    {
      "cell_type": "code",
      "source": [
        "df"
      ],
      "metadata": {
        "colab": {
          "base_uri": "https://localhost:8080/",
          "height": 475
        },
        "id": "mhxJj5zWXYiC",
        "outputId": "3fa14fe7-df2e-4ee6-db12-7911c6993779"
      },
      "execution_count": 15,
      "outputs": [
        {
          "output_type": "execute_result",
          "data": {
            "text/plain": [
              "                                                  title  \\\n",
              "0                              Essentially Lanthimosian   \n",
              "1                             Classic cynical lanthimos   \n",
              "2     It's a refreshing new chapter to Yorgos' filmo...   \n",
              "3                                                Review   \n",
              "4            Lanthimos & Filippou: A Unique Kind of Duo   \n",
              "...                                                 ...   \n",
              "5240                  Brings back the kid in all of us.   \n",
              "5241                           Fun, deep and impactful.   \n",
              "5242                           A fun and emotional time   \n",
              "5243                 Good movie but not for little kids   \n",
              "5244               Glad I didn't have a kid see me cry.   \n",
              "\n",
              "                                                 review rating  \\\n",
              "0     Over the last twenty years, Yorgos Lanthimos h...   8/10   \n",
              "1     This feels like the summer movie for lanthimos...   8/10   \n",
              "2     \"Kinds of Kindness\" is Yorgos' latest cinemati...   8/10   \n",
              "3     Concerning the first story, I think that it pa...  10/10   \n",
              "4     Yorgos Lanthimos returns with a vengeance, del...   7/10   \n",
              "...                                                 ...    ...   \n",
              "5240  You ever have an imaginary friend? An \"IF\"? Mo...  10/10   \n",
              "5241  This movie touched the deepest part of my hear...  10/10   \n",
              "5242  POSITIVES:1) The two lead performances are bot...   8/10   \n",
              "5243  I really enjoyed this movie. BUT, I think a lo...   9/10   \n",
              "5244  I heard this movie was evoking emotion so I he...  10/10   \n",
              "\n",
              "                                             translated  \n",
              "0     last twenti year yorgo lanthimo cultiv approac...  \n",
              "1     feel like summer movi lanthimo fan piec art le...  \n",
              "2     kind kind yorgo latest cinemat achiev self awa...  \n",
              "3     concern first stori think paint pictur scare m...  \n",
              "4     yorgo lanthimo return vengeanc deliv film feel...  \n",
              "...                                                 ...  \n",
              "5240  ever imaginari friend u young kid one two mani...  \n",
              "5241  movi touch deepest part heart remind like kid ...  \n",
              "5242  two lead perform good bea cal realli engag ful...  \n",
              "5243  realli enjoy movi think lot parent small child...  \n",
              "5244  heard movi evok emot held know life happen nee...  \n",
              "\n",
              "[5245 rows x 4 columns]"
            ],
            "text/html": [
              "\n",
              "  <div id=\"df-5446427c-099c-4fb5-9cc1-20366ebb17de\" class=\"colab-df-container\">\n",
              "    <div>\n",
              "<style scoped>\n",
              "    .dataframe tbody tr th:only-of-type {\n",
              "        vertical-align: middle;\n",
              "    }\n",
              "\n",
              "    .dataframe tbody tr th {\n",
              "        vertical-align: top;\n",
              "    }\n",
              "\n",
              "    .dataframe thead th {\n",
              "        text-align: right;\n",
              "    }\n",
              "</style>\n",
              "<table border=\"1\" class=\"dataframe\">\n",
              "  <thead>\n",
              "    <tr style=\"text-align: right;\">\n",
              "      <th></th>\n",
              "      <th>title</th>\n",
              "      <th>review</th>\n",
              "      <th>rating</th>\n",
              "      <th>translated</th>\n",
              "    </tr>\n",
              "  </thead>\n",
              "  <tbody>\n",
              "    <tr>\n",
              "      <th>0</th>\n",
              "      <td>Essentially Lanthimosian</td>\n",
              "      <td>Over the last twenty years, Yorgos Lanthimos h...</td>\n",
              "      <td>8/10</td>\n",
              "      <td>last twenti year yorgo lanthimo cultiv approac...</td>\n",
              "    </tr>\n",
              "    <tr>\n",
              "      <th>1</th>\n",
              "      <td>Classic cynical lanthimos</td>\n",
              "      <td>This feels like the summer movie for lanthimos...</td>\n",
              "      <td>8/10</td>\n",
              "      <td>feel like summer movi lanthimo fan piec art le...</td>\n",
              "    </tr>\n",
              "    <tr>\n",
              "      <th>2</th>\n",
              "      <td>It's a refreshing new chapter to Yorgos' filmo...</td>\n",
              "      <td>\"Kinds of Kindness\" is Yorgos' latest cinemati...</td>\n",
              "      <td>8/10</td>\n",
              "      <td>kind kind yorgo latest cinemat achiev self awa...</td>\n",
              "    </tr>\n",
              "    <tr>\n",
              "      <th>3</th>\n",
              "      <td>Review</td>\n",
              "      <td>Concerning the first story, I think that it pa...</td>\n",
              "      <td>10/10</td>\n",
              "      <td>concern first stori think paint pictur scare m...</td>\n",
              "    </tr>\n",
              "    <tr>\n",
              "      <th>4</th>\n",
              "      <td>Lanthimos &amp; Filippou: A Unique Kind of Duo</td>\n",
              "      <td>Yorgos Lanthimos returns with a vengeance, del...</td>\n",
              "      <td>7/10</td>\n",
              "      <td>yorgo lanthimo return vengeanc deliv film feel...</td>\n",
              "    </tr>\n",
              "    <tr>\n",
              "      <th>...</th>\n",
              "      <td>...</td>\n",
              "      <td>...</td>\n",
              "      <td>...</td>\n",
              "      <td>...</td>\n",
              "    </tr>\n",
              "    <tr>\n",
              "      <th>5240</th>\n",
              "      <td>Brings back the kid in all of us.</td>\n",
              "      <td>You ever have an imaginary friend? An \"IF\"? Mo...</td>\n",
              "      <td>10/10</td>\n",
              "      <td>ever imaginari friend u young kid one two mani...</td>\n",
              "    </tr>\n",
              "    <tr>\n",
              "      <th>5241</th>\n",
              "      <td>Fun, deep and impactful.</td>\n",
              "      <td>This movie touched the deepest part of my hear...</td>\n",
              "      <td>10/10</td>\n",
              "      <td>movi touch deepest part heart remind like kid ...</td>\n",
              "    </tr>\n",
              "    <tr>\n",
              "      <th>5242</th>\n",
              "      <td>A fun and emotional time</td>\n",
              "      <td>POSITIVES:1) The two lead performances are bot...</td>\n",
              "      <td>8/10</td>\n",
              "      <td>two lead perform good bea cal realli engag ful...</td>\n",
              "    </tr>\n",
              "    <tr>\n",
              "      <th>5243</th>\n",
              "      <td>Good movie but not for little kids</td>\n",
              "      <td>I really enjoyed this movie. BUT, I think a lo...</td>\n",
              "      <td>9/10</td>\n",
              "      <td>realli enjoy movi think lot parent small child...</td>\n",
              "    </tr>\n",
              "    <tr>\n",
              "      <th>5244</th>\n",
              "      <td>Glad I didn't have a kid see me cry.</td>\n",
              "      <td>I heard this movie was evoking emotion so I he...</td>\n",
              "      <td>10/10</td>\n",
              "      <td>heard movi evok emot held know life happen nee...</td>\n",
              "    </tr>\n",
              "  </tbody>\n",
              "</table>\n",
              "<p>5245 rows × 4 columns</p>\n",
              "</div>\n",
              "    <div class=\"colab-df-buttons\">\n",
              "\n",
              "  <div class=\"colab-df-container\">\n",
              "    <button class=\"colab-df-convert\" onclick=\"convertToInteractive('df-5446427c-099c-4fb5-9cc1-20366ebb17de')\"\n",
              "            title=\"Convert this dataframe to an interactive table.\"\n",
              "            style=\"display:none;\">\n",
              "\n",
              "  <svg xmlns=\"http://www.w3.org/2000/svg\" height=\"24px\" viewBox=\"0 -960 960 960\">\n",
              "    <path d=\"M120-120v-720h720v720H120Zm60-500h600v-160H180v160Zm220 220h160v-160H400v160Zm0 220h160v-160H400v160ZM180-400h160v-160H180v160Zm440 0h160v-160H620v160ZM180-180h160v-160H180v160Zm440 0h160v-160H620v160Z\"/>\n",
              "  </svg>\n",
              "    </button>\n",
              "\n",
              "  <style>\n",
              "    .colab-df-container {\n",
              "      display:flex;\n",
              "      gap: 12px;\n",
              "    }\n",
              "\n",
              "    .colab-df-convert {\n",
              "      background-color: #E8F0FE;\n",
              "      border: none;\n",
              "      border-radius: 50%;\n",
              "      cursor: pointer;\n",
              "      display: none;\n",
              "      fill: #1967D2;\n",
              "      height: 32px;\n",
              "      padding: 0 0 0 0;\n",
              "      width: 32px;\n",
              "    }\n",
              "\n",
              "    .colab-df-convert:hover {\n",
              "      background-color: #E2EBFA;\n",
              "      box-shadow: 0px 1px 2px rgba(60, 64, 67, 0.3), 0px 1px 3px 1px rgba(60, 64, 67, 0.15);\n",
              "      fill: #174EA6;\n",
              "    }\n",
              "\n",
              "    .colab-df-buttons div {\n",
              "      margin-bottom: 4px;\n",
              "    }\n",
              "\n",
              "    [theme=dark] .colab-df-convert {\n",
              "      background-color: #3B4455;\n",
              "      fill: #D2E3FC;\n",
              "    }\n",
              "\n",
              "    [theme=dark] .colab-df-convert:hover {\n",
              "      background-color: #434B5C;\n",
              "      box-shadow: 0px 1px 3px 1px rgba(0, 0, 0, 0.15);\n",
              "      filter: drop-shadow(0px 1px 2px rgba(0, 0, 0, 0.3));\n",
              "      fill: #FFFFFF;\n",
              "    }\n",
              "  </style>\n",
              "\n",
              "    <script>\n",
              "      const buttonEl =\n",
              "        document.querySelector('#df-5446427c-099c-4fb5-9cc1-20366ebb17de button.colab-df-convert');\n",
              "      buttonEl.style.display =\n",
              "        google.colab.kernel.accessAllowed ? 'block' : 'none';\n",
              "\n",
              "      async function convertToInteractive(key) {\n",
              "        const element = document.querySelector('#df-5446427c-099c-4fb5-9cc1-20366ebb17de');\n",
              "        const dataTable =\n",
              "          await google.colab.kernel.invokeFunction('convertToInteractive',\n",
              "                                                    [key], {});\n",
              "        if (!dataTable) return;\n",
              "\n",
              "        const docLinkHtml = 'Like what you see? Visit the ' +\n",
              "          '<a target=\"_blank\" href=https://colab.research.google.com/notebooks/data_table.ipynb>data table notebook</a>'\n",
              "          + ' to learn more about interactive tables.';\n",
              "        element.innerHTML = '';\n",
              "        dataTable['output_type'] = 'display_data';\n",
              "        await google.colab.output.renderOutput(dataTable, element);\n",
              "        const docLink = document.createElement('div');\n",
              "        docLink.innerHTML = docLinkHtml;\n",
              "        element.appendChild(docLink);\n",
              "      }\n",
              "    </script>\n",
              "  </div>\n",
              "\n",
              "\n",
              "<div id=\"df-1494b544-3b90-4967-a98a-922d914ce05b\">\n",
              "  <button class=\"colab-df-quickchart\" onclick=\"quickchart('df-1494b544-3b90-4967-a98a-922d914ce05b')\"\n",
              "            title=\"Suggest charts\"\n",
              "            style=\"display:none;\">\n",
              "\n",
              "<svg xmlns=\"http://www.w3.org/2000/svg\" height=\"24px\"viewBox=\"0 0 24 24\"\n",
              "     width=\"24px\">\n",
              "    <g>\n",
              "        <path d=\"M19 3H5c-1.1 0-2 .9-2 2v14c0 1.1.9 2 2 2h14c1.1 0 2-.9 2-2V5c0-1.1-.9-2-2-2zM9 17H7v-7h2v7zm4 0h-2V7h2v10zm4 0h-2v-4h2v4z\"/>\n",
              "    </g>\n",
              "</svg>\n",
              "  </button>\n",
              "\n",
              "<style>\n",
              "  .colab-df-quickchart {\n",
              "      --bg-color: #E8F0FE;\n",
              "      --fill-color: #1967D2;\n",
              "      --hover-bg-color: #E2EBFA;\n",
              "      --hover-fill-color: #174EA6;\n",
              "      --disabled-fill-color: #AAA;\n",
              "      --disabled-bg-color: #DDD;\n",
              "  }\n",
              "\n",
              "  [theme=dark] .colab-df-quickchart {\n",
              "      --bg-color: #3B4455;\n",
              "      --fill-color: #D2E3FC;\n",
              "      --hover-bg-color: #434B5C;\n",
              "      --hover-fill-color: #FFFFFF;\n",
              "      --disabled-bg-color: #3B4455;\n",
              "      --disabled-fill-color: #666;\n",
              "  }\n",
              "\n",
              "  .colab-df-quickchart {\n",
              "    background-color: var(--bg-color);\n",
              "    border: none;\n",
              "    border-radius: 50%;\n",
              "    cursor: pointer;\n",
              "    display: none;\n",
              "    fill: var(--fill-color);\n",
              "    height: 32px;\n",
              "    padding: 0;\n",
              "    width: 32px;\n",
              "  }\n",
              "\n",
              "  .colab-df-quickchart:hover {\n",
              "    background-color: var(--hover-bg-color);\n",
              "    box-shadow: 0 1px 2px rgba(60, 64, 67, 0.3), 0 1px 3px 1px rgba(60, 64, 67, 0.15);\n",
              "    fill: var(--button-hover-fill-color);\n",
              "  }\n",
              "\n",
              "  .colab-df-quickchart-complete:disabled,\n",
              "  .colab-df-quickchart-complete:disabled:hover {\n",
              "    background-color: var(--disabled-bg-color);\n",
              "    fill: var(--disabled-fill-color);\n",
              "    box-shadow: none;\n",
              "  }\n",
              "\n",
              "  .colab-df-spinner {\n",
              "    border: 2px solid var(--fill-color);\n",
              "    border-color: transparent;\n",
              "    border-bottom-color: var(--fill-color);\n",
              "    animation:\n",
              "      spin 1s steps(1) infinite;\n",
              "  }\n",
              "\n",
              "  @keyframes spin {\n",
              "    0% {\n",
              "      border-color: transparent;\n",
              "      border-bottom-color: var(--fill-color);\n",
              "      border-left-color: var(--fill-color);\n",
              "    }\n",
              "    20% {\n",
              "      border-color: transparent;\n",
              "      border-left-color: var(--fill-color);\n",
              "      border-top-color: var(--fill-color);\n",
              "    }\n",
              "    30% {\n",
              "      border-color: transparent;\n",
              "      border-left-color: var(--fill-color);\n",
              "      border-top-color: var(--fill-color);\n",
              "      border-right-color: var(--fill-color);\n",
              "    }\n",
              "    40% {\n",
              "      border-color: transparent;\n",
              "      border-right-color: var(--fill-color);\n",
              "      border-top-color: var(--fill-color);\n",
              "    }\n",
              "    60% {\n",
              "      border-color: transparent;\n",
              "      border-right-color: var(--fill-color);\n",
              "    }\n",
              "    80% {\n",
              "      border-color: transparent;\n",
              "      border-right-color: var(--fill-color);\n",
              "      border-bottom-color: var(--fill-color);\n",
              "    }\n",
              "    90% {\n",
              "      border-color: transparent;\n",
              "      border-bottom-color: var(--fill-color);\n",
              "    }\n",
              "  }\n",
              "</style>\n",
              "\n",
              "  <script>\n",
              "    async function quickchart(key) {\n",
              "      const quickchartButtonEl =\n",
              "        document.querySelector('#' + key + ' button');\n",
              "      quickchartButtonEl.disabled = true;  // To prevent multiple clicks.\n",
              "      quickchartButtonEl.classList.add('colab-df-spinner');\n",
              "      try {\n",
              "        const charts = await google.colab.kernel.invokeFunction(\n",
              "            'suggestCharts', [key], {});\n",
              "      } catch (error) {\n",
              "        console.error('Error during call to suggestCharts:', error);\n",
              "      }\n",
              "      quickchartButtonEl.classList.remove('colab-df-spinner');\n",
              "      quickchartButtonEl.classList.add('colab-df-quickchart-complete');\n",
              "    }\n",
              "    (() => {\n",
              "      let quickchartButtonEl =\n",
              "        document.querySelector('#df-1494b544-3b90-4967-a98a-922d914ce05b button');\n",
              "      quickchartButtonEl.style.display =\n",
              "        google.colab.kernel.accessAllowed ? 'block' : 'none';\n",
              "    })();\n",
              "  </script>\n",
              "</div>\n",
              "\n",
              "  <div id=\"id_56d80044-d2d7-4997-867e-d06d16edee7b\">\n",
              "    <style>\n",
              "      .colab-df-generate {\n",
              "        background-color: #E8F0FE;\n",
              "        border: none;\n",
              "        border-radius: 50%;\n",
              "        cursor: pointer;\n",
              "        display: none;\n",
              "        fill: #1967D2;\n",
              "        height: 32px;\n",
              "        padding: 0 0 0 0;\n",
              "        width: 32px;\n",
              "      }\n",
              "\n",
              "      .colab-df-generate:hover {\n",
              "        background-color: #E2EBFA;\n",
              "        box-shadow: 0px 1px 2px rgba(60, 64, 67, 0.3), 0px 1px 3px 1px rgba(60, 64, 67, 0.15);\n",
              "        fill: #174EA6;\n",
              "      }\n",
              "\n",
              "      [theme=dark] .colab-df-generate {\n",
              "        background-color: #3B4455;\n",
              "        fill: #D2E3FC;\n",
              "      }\n",
              "\n",
              "      [theme=dark] .colab-df-generate:hover {\n",
              "        background-color: #434B5C;\n",
              "        box-shadow: 0px 1px 3px 1px rgba(0, 0, 0, 0.15);\n",
              "        filter: drop-shadow(0px 1px 2px rgba(0, 0, 0, 0.3));\n",
              "        fill: #FFFFFF;\n",
              "      }\n",
              "    </style>\n",
              "    <button class=\"colab-df-generate\" onclick=\"generateWithVariable('df')\"\n",
              "            title=\"Generate code using this dataframe.\"\n",
              "            style=\"display:none;\">\n",
              "\n",
              "  <svg xmlns=\"http://www.w3.org/2000/svg\" height=\"24px\"viewBox=\"0 0 24 24\"\n",
              "       width=\"24px\">\n",
              "    <path d=\"M7,19H8.4L18.45,9,17,7.55,7,17.6ZM5,21V16.75L18.45,3.32a2,2,0,0,1,2.83,0l1.4,1.43a1.91,1.91,0,0,1,.58,1.4,1.91,1.91,0,0,1-.58,1.4L9.25,21ZM18.45,9,17,7.55Zm-12,3A5.31,5.31,0,0,0,4.9,8.1,5.31,5.31,0,0,0,1,6.5,5.31,5.31,0,0,0,4.9,4.9,5.31,5.31,0,0,0,6.5,1,5.31,5.31,0,0,0,8.1,4.9,5.31,5.31,0,0,0,12,6.5,5.46,5.46,0,0,0,6.5,12Z\"/>\n",
              "  </svg>\n",
              "    </button>\n",
              "    <script>\n",
              "      (() => {\n",
              "      const buttonEl =\n",
              "        document.querySelector('#id_56d80044-d2d7-4997-867e-d06d16edee7b button.colab-df-generate');\n",
              "      buttonEl.style.display =\n",
              "        google.colab.kernel.accessAllowed ? 'block' : 'none';\n",
              "\n",
              "      buttonEl.onclick = () => {\n",
              "        google.colab.notebook.generateWithVariable('df');\n",
              "      }\n",
              "      })();\n",
              "    </script>\n",
              "  </div>\n",
              "\n",
              "    </div>\n",
              "  </div>\n"
            ],
            "application/vnd.google.colaboratory.intrinsic+json": {
              "type": "dataframe",
              "variable_name": "df",
              "summary": "{\n  \"name\": \"df\",\n  \"rows\": 5245,\n  \"fields\": [\n    {\n      \"column\": \"title\",\n      \"properties\": {\n        \"dtype\": \"string\",\n        \"num_unique_values\": 4808,\n        \"samples\": [\n          \"Honest review\",\n          \"Did I enjoy it? Yes, very much so\",\n          \"one word: Noisy.\"\n        ],\n        \"semantic_type\": \"\",\n        \"description\": \"\"\n      }\n    },\n    {\n      \"column\": \"review\",\n      \"properties\": {\n        \"dtype\": \"string\",\n        \"num_unique_values\": 4965,\n        \"samples\": [\n          \"How often these days can you say a sequel surpasses the first film? Now I understand that this is technically a second part of one whole story however the depth and scale of this film is remarkable that deserves commendation to all involved who have pushed it beyond the first film in every way. It is truly a masterpiece - a film that will be talked about for generations and one that will undoubtedly become a classic of cinema. A book that many thought would be impossible to fully convey through film has finally had its triumph on the big screen thanks to the mastermind that is Denis Villenevue.\",\n          \"A half century ago, some bikers liked to hang out, belt down brews, bang broads, and hang out some more. Danny Lyon (Mike Faist) is a college boy writing a book about a midwestern gang, which slowly evolves into a criminal enterprise like the Mafia. Most of his interviews are with Kathy (Jodie Comer), who marries Bennie (Austin Butler). Johnny (Tom Hardy) is the careworn leader of the club, who sees Benny as a worthy successor; Michael Shannon offers solid support as well. This is a long way from from the \\\"peace, love, good vibes\\\" in \\\"Easy Rider\\\" (1969); here we get the lower orders who wanted bombs, not Brahms. Writer/director Jeff Nichols does a fine job bringing Danny Lyon's book to the screen. I sense an Oscar nomination in Comer's near future.\",\n          \"I am very happy that my favourite Mahabharata character is in the movie.The first 20 minutes story and first fight has been dragged and it's boring. But after that, story takes on you. It will get intriguing and one by one main characters will be introduced accordingly with a good entry scenes.A very good graphics can be compared to a Hollywood range. Big B and Rebel star acting with a Deepika's mixture is just wow.Saswat chaterjee has very well played a villain role curious to see how Kamal will take on the next part.A very good sci-fi thriller movie in Indian cinema. Definitely worth watching.\"\n        ],\n        \"semantic_type\": \"\",\n        \"description\": \"\"\n      }\n    },\n    {\n      \"column\": \"rating\",\n      \"properties\": {\n        \"dtype\": \"category\",\n        \"num_unique_values\": 22,\n        \"samples\": [\n          \"8/10\",\n          \"7/10;;;;;;\",\n          \"3/10\"\n        ],\n        \"semantic_type\": \"\",\n        \"description\": \"\"\n      }\n    },\n    {\n      \"column\": \"translated\",\n      \"properties\": {\n        \"dtype\": \"string\",\n        \"num_unique_values\": 4961,\n        \"samples\": [\n          \"subpar narr set uninspir charact disjoint screenwrit hinder actual potenti imped allur premis dampen truer prospectsit neither work spectacl compel tale retribut apart impress grandeur product huge scope found littl enjoy herealthough ador anya taylorjoy chri hemsworth perform charact fail make last impress specif latter one feel portray far convinc antagonist bad time el royal spring mind\",\n          \"half centuri ago biker like hang belt brew bang broad hang danni lyon mike faist colleg boy write book midwestern gang slowli evolv crimin enterpris like mafia interview kathi jodi comer marri benni austin butler johnni tom hardi careworn leader club see benni worthi successor michael shannon offer solid support well long way peac love good vibe easi rider get lower order want bomb brahm writerdirector jeff nichol fine job bring danni lyon book screen sens oscar nomin comer near futur\",\n          \"happi favourit mahabharata charact movieth first minut stori first fight drag bore stori take get intrigu one one main charact introduc accordingli good entri scenesa good graphic compar hollywood rang big b rebel star act deepika mixtur wowsaswat chaterje well play villain role curiou see kamal take next parta good scifi thriller movi indian cinema definit worth watch\"\n        ],\n        \"semantic_type\": \"\",\n        \"description\": \"\"\n      }\n    }\n  ]\n}"
            }
          },
          "metadata": {},
          "execution_count": 15
        }
      ]
    },
    {
      "cell_type": "code",
      "source": [
        "#df['translated'][88]"
      ],
      "metadata": {
        "id": "fgyUvMFjXZNf"
      },
      "execution_count": 16,
      "outputs": []
    },
    {
      "cell_type": "code",
      "source": [
        "from tensorflow.keras.preprocessing.text import Tokenizer\n",
        "tokenizer = Tokenizer()\n",
        "tokenizer.fit_on_texts(df['translated'])"
      ],
      "metadata": {
        "id": "1hbFw70fXgkf"
      },
      "execution_count": 17,
      "outputs": []
    },
    {
      "cell_type": "code",
      "source": [
        "print(len(tokenizer.word_counts))"
      ],
      "metadata": {
        "colab": {
          "base_uri": "https://localhost:8080/"
        },
        "id": "8G3f1_VWXnW7",
        "outputId": "17b57704-569b-406a-fdc1-73c260d85687"
      },
      "execution_count": 18,
      "outputs": [
        {
          "output_type": "stream",
          "name": "stdout",
          "text": [
            "27122\n"
          ]
        }
      ]
    },
    {
      "cell_type": "code",
      "source": [
        "counter = 0\n",
        "for key, value in tokenizer.word_counts.items():\n",
        "    if value > 2400:\n",
        "        print(key, value)\n",
        "        counter+=1\n",
        "\n",
        "print(counter)"
      ],
      "metadata": {
        "colab": {
          "base_uri": "https://localhost:8080/"
        },
        "id": "4dQJQs2_XqfK",
        "outputId": "a8ea704e-ba04-43f3-dbf1-5feb29ca9d7a"
      },
      "execution_count": 19,
      "outputs": [
        {
          "output_type": "stream",
          "name": "stdout",
          "text": [
            "like 4904\n",
            "one 4326\n",
            "film 8747\n",
            "charact 4539\n",
            "stori 3860\n",
            "make 3035\n",
            "see 2635\n",
            "good 3232\n",
            "nt 6473\n",
            "feel 2530\n",
            "movi 12384\n",
            "scene 2473\n",
            "realli 2707\n",
            "time 2924\n",
            "emot 2710\n",
            "watch 3139\n",
            "action 2764\n",
            "17\n"
          ]
        }
      ]
    },
    {
      "cell_type": "markdown",
      "source": [
        "**grupa 1** fright(ened), shocked/shocking, horror/horrified, horrendous, overwhelming, terror/terrified, disturbing, bloody, disgust(ing), brutal, gory/gore, barbarous, repulsed/-ing, gross(ed out)"
      ],
      "metadata": {
        "id": "L4BmL1Vgy071"
      }
    },
    {
      "cell_type": "code",
      "source": [
        "count1 = 0\n",
        "num=tokenizer.word_counts['fright']\n",
        "print(num)\n",
        "count1+=num"
      ],
      "metadata": {
        "colab": {
          "base_uri": "https://localhost:8080/"
        },
        "id": "ZK1_JbpyzaNW",
        "outputId": "496a1805-a08d-4025-b80c-e421ea8ad04f"
      },
      "execution_count": 20,
      "outputs": [
        {
          "output_type": "stream",
          "name": "stdout",
          "text": [
            "5\n"
          ]
        }
      ]
    },
    {
      "cell_type": "code",
      "source": [
        "num=tokenizer.word_counts['frighten']\n",
        "print(num)\n",
        "count1+=num"
      ],
      "metadata": {
        "colab": {
          "base_uri": "https://localhost:8080/"
        },
        "id": "bmwClQWuzlur",
        "outputId": "5e2038ba-31b7-4b31-a5d0-9927def1fc55"
      },
      "execution_count": 21,
      "outputs": [
        {
          "output_type": "stream",
          "name": "stdout",
          "text": [
            "21\n"
          ]
        }
      ]
    },
    {
      "cell_type": "code",
      "source": [
        "num=tokenizer.word_counts['shock']\n",
        "print(num)\n",
        "count1+=num"
      ],
      "metadata": {
        "colab": {
          "base_uri": "https://localhost:8080/"
        },
        "id": "FOS-Fucsz3yZ",
        "outputId": "03a4f076-14b5-4a6d-ee9d-86e8a8dd8951"
      },
      "execution_count": 22,
      "outputs": [
        {
          "output_type": "stream",
          "name": "stdout",
          "text": [
            "104\n"
          ]
        }
      ]
    },
    {
      "cell_type": "code",
      "source": [
        "num=tokenizer.word_counts['horrifi']\n",
        "print(num)\n",
        "count1+=num"
      ],
      "metadata": {
        "colab": {
          "base_uri": "https://localhost:8080/"
        },
        "id": "xYfuNhK_z7rr",
        "outputId": "a16db07f-3ced-47a7-8bb9-96b04ef18574"
      },
      "execution_count": 23,
      "outputs": [
        {
          "output_type": "stream",
          "name": "stdout",
          "text": [
            "9\n"
          ]
        }
      ]
    },
    {
      "cell_type": "code",
      "source": [
        "num=tokenizer.word_counts['horrif']\n",
        "print(num)\n",
        "count1+=num"
      ],
      "metadata": {
        "colab": {
          "base_uri": "https://localhost:8080/"
        },
        "id": "mVj9X9vm0GNy",
        "outputId": "5849390d-732c-4034-a29a-9d170eb4789a"
      },
      "execution_count": 24,
      "outputs": [
        {
          "output_type": "stream",
          "name": "stdout",
          "text": [
            "20\n"
          ]
        }
      ]
    },
    {
      "cell_type": "code",
      "source": [
        "num=tokenizer.word_counts['horrend']\n",
        "print(num)\n",
        "count1+=num"
      ],
      "metadata": {
        "colab": {
          "base_uri": "https://localhost:8080/"
        },
        "id": "ujSY-2YX0fEm",
        "outputId": "f648461d-9e6c-4f5b-bb56-0618b34e8bde"
      },
      "execution_count": 25,
      "outputs": [
        {
          "output_type": "stream",
          "name": "stdout",
          "text": [
            "11\n"
          ]
        }
      ]
    },
    {
      "cell_type": "code",
      "source": [
        "num=tokenizer.word_counts['overwhelm']\n",
        "print(num)\n",
        "count1+=num"
      ],
      "metadata": {
        "colab": {
          "base_uri": "https://localhost:8080/"
        },
        "id": "YP98FM_gCwiS",
        "outputId": "50e752f3-3fef-4bc7-dbdd-150c1491e817"
      },
      "execution_count": 26,
      "outputs": [
        {
          "output_type": "stream",
          "name": "stdout",
          "text": [
            "66\n"
          ]
        }
      ]
    },
    {
      "cell_type": "code",
      "source": [
        "num=tokenizer.word_counts['overwhelming']\n",
        "print(num)\n",
        "count1+=num"
      ],
      "metadata": {
        "colab": {
          "base_uri": "https://localhost:8080/",
          "height": 176
        },
        "id": "xH9zzR3wCxVP",
        "outputId": "de32fbbe-fe09-4266-a5ed-80938a8e9101"
      },
      "execution_count": 27,
      "outputs": [
        {
          "output_type": "error",
          "ename": "KeyError",
          "evalue": "'overwhelming'",
          "traceback": [
            "\u001b[0;31m---------------------------------------------------------------------------\u001b[0m",
            "\u001b[0;31mKeyError\u001b[0m                                  Traceback (most recent call last)",
            "\u001b[0;32m<ipython-input-27-39541ac9a301>\u001b[0m in \u001b[0;36m<cell line: 1>\u001b[0;34m()\u001b[0m\n\u001b[0;32m----> 1\u001b[0;31m \u001b[0mnum\u001b[0m\u001b[0;34m=\u001b[0m\u001b[0mtokenizer\u001b[0m\u001b[0;34m.\u001b[0m\u001b[0mword_counts\u001b[0m\u001b[0;34m[\u001b[0m\u001b[0;34m'overwhelming'\u001b[0m\u001b[0;34m]\u001b[0m\u001b[0;34m\u001b[0m\u001b[0;34m\u001b[0m\u001b[0m\n\u001b[0m\u001b[1;32m      2\u001b[0m \u001b[0mprint\u001b[0m\u001b[0;34m(\u001b[0m\u001b[0mnum\u001b[0m\u001b[0;34m)\u001b[0m\u001b[0;34m\u001b[0m\u001b[0;34m\u001b[0m\u001b[0m\n\u001b[1;32m      3\u001b[0m \u001b[0mcount1\u001b[0m\u001b[0;34m+=\u001b[0m\u001b[0mnum\u001b[0m\u001b[0;34m\u001b[0m\u001b[0;34m\u001b[0m\u001b[0m\n",
            "\u001b[0;31mKeyError\u001b[0m: 'overwhelming'"
          ]
        }
      ]
    },
    {
      "cell_type": "code",
      "source": [
        "num=tokenizer.word_counts['disturb']\n",
        "print(num)\n",
        "count1+=num"
      ],
      "metadata": {
        "id": "oRedor7a2ZP5"
      },
      "execution_count": null,
      "outputs": []
    },
    {
      "cell_type": "code",
      "source": [
        "num=tokenizer.word_counts['terror']\n",
        "print(num)\n",
        "count1+=num"
      ],
      "metadata": {
        "id": "ZUcRFEzw1wIW"
      },
      "execution_count": null,
      "outputs": []
    },
    {
      "cell_type": "code",
      "source": [
        "num=tokenizer.word_counts['blood']\n",
        "print(num)\n",
        "count1+=num"
      ],
      "metadata": {
        "colab": {
          "base_uri": "https://localhost:8080/"
        },
        "id": "vuT7ghzaDHmn",
        "outputId": "ba81201a-a5b3-4c2e-b883-a71f33902258"
      },
      "execution_count": 28,
      "outputs": [
        {
          "output_type": "stream",
          "name": "stdout",
          "text": [
            "93\n"
          ]
        }
      ]
    },
    {
      "cell_type": "code",
      "source": [
        "num=tokenizer.word_counts['terrifi']\n",
        "print(num)\n",
        "count1+=num"
      ],
      "metadata": {
        "colab": {
          "base_uri": "https://localhost:8080/"
        },
        "id": "mADGocFQDEUH",
        "outputId": "649b4de8-b263-4571-ab7b-c91e2a359fad"
      },
      "execution_count": 29,
      "outputs": [
        {
          "output_type": "stream",
          "name": "stdout",
          "text": [
            "49\n"
          ]
        }
      ]
    },
    {
      "cell_type": "code",
      "source": [
        "num=tokenizer.word_counts['disgust']\n",
        "print(num)\n",
        "count1+=num"
      ],
      "metadata": {
        "colab": {
          "base_uri": "https://localhost:8080/"
        },
        "id": "AWUfMrTbDRK8",
        "outputId": "982ff333-57c3-4469-f160-745628de66c9"
      },
      "execution_count": 30,
      "outputs": [
        {
          "output_type": "stream",
          "name": "stdout",
          "text": [
            "230\n"
          ]
        }
      ]
    },
    {
      "cell_type": "code",
      "source": [
        "num=tokenizer.word_counts['brutal']\n",
        "print(num)\n",
        "count1+=num"
      ],
      "metadata": {
        "colab": {
          "base_uri": "https://localhost:8080/"
        },
        "id": "ymqkT4I5DYr3",
        "outputId": "5f12b747-be01-41f9-8697-44b044adcb10"
      },
      "execution_count": 31,
      "outputs": [
        {
          "output_type": "stream",
          "name": "stdout",
          "text": [
            "89\n"
          ]
        }
      ]
    },
    {
      "cell_type": "code",
      "source": [
        "num=tokenizer.word_counts['gore']\n",
        "print(num)\n",
        "count1+=num"
      ],
      "metadata": {
        "colab": {
          "base_uri": "https://localhost:8080/"
        },
        "id": "-va3hlEMDacf",
        "outputId": "5ac1eefd-ebb6-4423-92bc-3d5662fbb2d4"
      },
      "execution_count": 32,
      "outputs": [
        {
          "output_type": "stream",
          "name": "stdout",
          "text": [
            "30\n"
          ]
        }
      ]
    },
    {
      "cell_type": "code",
      "source": [
        "num=tokenizer.word_counts['repuls']\n",
        "print(num)\n",
        "count1+=num"
      ],
      "metadata": {
        "colab": {
          "base_uri": "https://localhost:8080/"
        },
        "id": "qlpl2P0LDeUn",
        "outputId": "c26c0228-2434-4dfb-9ce4-f698b76e8e23"
      },
      "execution_count": 33,
      "outputs": [
        {
          "output_type": "stream",
          "name": "stdout",
          "text": [
            "3\n"
          ]
        }
      ]
    },
    {
      "cell_type": "code",
      "source": [
        "num=tokenizer.word_counts['gross']\n",
        "print(num)\n",
        "count1+=num"
      ],
      "metadata": {
        "colab": {
          "base_uri": "https://localhost:8080/"
        },
        "id": "7S3MUgpnDoB-",
        "outputId": "f31ef71f-2a7a-4c34-fe1d-54cc8a1b7f60"
      },
      "execution_count": 34,
      "outputs": [
        {
          "output_type": "stream",
          "name": "stdout",
          "text": [
            "24\n"
          ]
        }
      ]
    },
    {
      "cell_type": "code",
      "source": [
        "print('WYNIK DLA GRUPY PIERWSZEJ TOOOOO',count1)"
      ],
      "metadata": {
        "colab": {
          "base_uri": "https://localhost:8080/"
        },
        "id": "6QQyJQ8l0hHi",
        "outputId": "023af313-7311-4ec3-dc82-f6ccbd9955d2"
      },
      "execution_count": 35,
      "outputs": [
        {
          "output_type": "stream",
          "name": "stdout",
          "text": [
            "WYNIK DLA GRUPY PIERWSZEJ TOOOOO 754\n"
          ]
        }
      ]
    },
    {
      "cell_type": "markdown",
      "source": [
        "**grupa 2** afraid, alarmed, threatening, hair-rising, distress, helpless(ness), anxiety/anxious, worried, apprehension, uneasy, chilling, eerie, intimidating, unnerving, appalling"
      ],
      "metadata": {
        "id": "kXlSPtUN1OFf"
      }
    },
    {
      "cell_type": "code",
      "source": [
        "count2=0\n",
        "num=tokenizer.word_counts['distress']\n",
        "print(num)\n",
        "count2+=num"
      ],
      "metadata": {
        "colab": {
          "base_uri": "https://localhost:8080/"
        },
        "id": "M2hiXKpu12rP",
        "outputId": "9b9b7011-e7a2-4d94-cbd3-20f23a3846eb"
      },
      "execution_count": 36,
      "outputs": [
        {
          "output_type": "stream",
          "name": "stdout",
          "text": [
            "8\n"
          ]
        }
      ]
    },
    {
      "cell_type": "code",
      "source": [
        "num=tokenizer.word_counts['afraid']\n",
        "print(num)\n",
        "count2+=num"
      ],
      "metadata": {
        "colab": {
          "base_uri": "https://localhost:8080/"
        },
        "id": "SNLEwCVIx998",
        "outputId": "a11a00a8-b19e-4309-ad99-7a98eb92a195"
      },
      "execution_count": 37,
      "outputs": [
        {
          "output_type": "stream",
          "name": "stdout",
          "text": [
            "29\n"
          ]
        }
      ]
    },
    {
      "cell_type": "code",
      "source": [
        "num=tokenizer.word_counts['alarm']\n",
        "print(num)\n",
        "count2+=num"
      ],
      "metadata": {
        "colab": {
          "base_uri": "https://localhost:8080/"
        },
        "id": "mLC0qs16zuh6",
        "outputId": "4395b4c8-dae4-43dc-bcc1-1dfa23bb21f5"
      },
      "execution_count": 38,
      "outputs": [
        {
          "output_type": "stream",
          "name": "stdout",
          "text": [
            "16\n"
          ]
        }
      ]
    },
    {
      "cell_type": "code",
      "source": [
        "num=tokenizer.word_counts['threaten']\n",
        "print(num)\n",
        "count2+=num"
      ],
      "metadata": {
        "colab": {
          "base_uri": "https://localhost:8080/"
        },
        "id": "plytxXNS0R0L",
        "outputId": "63360212-b1a3-4006-b4b5-8c9906f0386d"
      },
      "execution_count": 39,
      "outputs": [
        {
          "output_type": "stream",
          "name": "stdout",
          "text": [
            "28\n"
          ]
        }
      ]
    },
    {
      "cell_type": "code",
      "source": [
        "num=tokenizer.word_counts['anxious']\n",
        "print(num)\n",
        "count2+=num"
      ],
      "metadata": {
        "colab": {
          "base_uri": "https://localhost:8080/"
        },
        "id": "dHpwoOL119Cp",
        "outputId": "a3cf8d3d-a246-4bff-a475-298a67053884"
      },
      "execution_count": 40,
      "outputs": [
        {
          "output_type": "stream",
          "name": "stdout",
          "text": [
            "1\n"
          ]
        }
      ]
    },
    {
      "cell_type": "code",
      "source": [
        "num=tokenizer.word_counts['anxieti']\n",
        "print(num)\n",
        "count2+=num"
      ],
      "metadata": {
        "colab": {
          "base_uri": "https://localhost:8080/"
        },
        "id": "-tKswFRoHjWG",
        "outputId": "6bef3e6f-2a76-4ce3-a771-50dfcb3b21b0"
      },
      "execution_count": 41,
      "outputs": [
        {
          "output_type": "stream",
          "name": "stdout",
          "text": [
            "503\n"
          ]
        }
      ]
    },
    {
      "cell_type": "code",
      "source": [
        "num=tokenizer.word_counts['worri']\n",
        "print(num)\n",
        "count2+=num"
      ],
      "metadata": {
        "colab": {
          "base_uri": "https://localhost:8080/"
        },
        "id": "VbwAT88i1_-6",
        "outputId": "1860b02a-f04d-423c-97b4-836ff0b1be1b"
      },
      "execution_count": 42,
      "outputs": [
        {
          "output_type": "stream",
          "name": "stdout",
          "text": [
            "95\n"
          ]
        }
      ]
    },
    {
      "cell_type": "code",
      "source": [
        "num=tokenizer.word_counts['apprehens']\n",
        "print(num)\n",
        "count2+=num"
      ],
      "metadata": {
        "colab": {
          "base_uri": "https://localhost:8080/"
        },
        "id": "hPASUg5lEWoA",
        "outputId": "16c8f6c2-6713-4182-e446-129502d45c8a"
      },
      "execution_count": 43,
      "outputs": [
        {
          "output_type": "stream",
          "name": "stdout",
          "text": [
            "3\n"
          ]
        }
      ]
    },
    {
      "cell_type": "code",
      "source": [
        "num=tokenizer.word_counts['uneasi']\n",
        "print(num)\n",
        "count2+=num"
      ],
      "metadata": {
        "colab": {
          "base_uri": "https://localhost:8080/"
        },
        "id": "fILf7ix02Uhc",
        "outputId": "61b538db-9fbe-4113-b954-17d98a10b3e3"
      },
      "execution_count": 44,
      "outputs": [
        {
          "output_type": "stream",
          "name": "stdout",
          "text": [
            "1\n"
          ]
        }
      ]
    },
    {
      "cell_type": "code",
      "source": [
        "num=tokenizer.word_counts['chilli']\n",
        "print(num)\n",
        "count2+=num"
      ],
      "metadata": {
        "colab": {
          "base_uri": "https://localhost:8080/"
        },
        "id": "lzagj3xj2eHf",
        "outputId": "81773569-e5a8-4e2c-b860-88111026217b"
      },
      "execution_count": 45,
      "outputs": [
        {
          "output_type": "stream",
          "name": "stdout",
          "text": [
            "1\n"
          ]
        }
      ]
    },
    {
      "cell_type": "code",
      "source": [
        "num=tokenizer.word_counts['eeri']\n",
        "print(num)\n",
        "count2+=num"
      ],
      "metadata": {
        "colab": {
          "base_uri": "https://localhost:8080/"
        },
        "id": "9AZLqt0P2f6_",
        "outputId": "62b4cd75-bcb0-4a0f-8494-12c37c5d9d85"
      },
      "execution_count": 46,
      "outputs": [
        {
          "output_type": "stream",
          "name": "stdout",
          "text": [
            "31\n"
          ]
        }
      ]
    },
    {
      "cell_type": "code",
      "source": [
        "num=tokenizer.word_counts['helpless']\n",
        "print(num)\n",
        "count2+=num"
      ],
      "metadata": {
        "colab": {
          "base_uri": "https://localhost:8080/"
        },
        "id": "XGAea3D215JL",
        "outputId": "3b290fb9-6307-4c0b-9ec8-46a311b151d3"
      },
      "execution_count": 47,
      "outputs": [
        {
          "output_type": "stream",
          "name": "stdout",
          "text": [
            "4\n"
          ]
        }
      ]
    },
    {
      "cell_type": "code",
      "source": [
        "num=tokenizer.word_counts['unnerv']\n",
        "print(num)\n",
        "count2+=num"
      ],
      "metadata": {
        "colab": {
          "base_uri": "https://localhost:8080/"
        },
        "id": "AtDxCwIWEzCe",
        "outputId": "b6307fad-6ea4-4aaa-c1db-2b7b238db1f6"
      },
      "execution_count": 48,
      "outputs": [
        {
          "output_type": "stream",
          "name": "stdout",
          "text": [
            "7\n"
          ]
        }
      ]
    },
    {
      "cell_type": "code",
      "source": [
        "num=tokenizer.word_counts['appal']\n",
        "print(num)\n",
        "count2+=num"
      ],
      "metadata": {
        "colab": {
          "base_uri": "https://localhost:8080/"
        },
        "id": "aHfNxP9AE3-g",
        "outputId": "812fa097-40ef-4904-860b-8e0a9a601f44"
      },
      "execution_count": 49,
      "outputs": [
        {
          "output_type": "stream",
          "name": "stdout",
          "text": [
            "9\n"
          ]
        }
      ]
    },
    {
      "cell_type": "code",
      "source": [
        "num=tokenizer.word_counts['fear']\n",
        "print(num)\n",
        "count2+=num"
      ],
      "metadata": {
        "colab": {
          "base_uri": "https://localhost:8080/"
        },
        "id": "mU95N0Mq024T",
        "outputId": "b1f33288-6ea8-45ed-8394-c56bb1d5604c"
      },
      "execution_count": 50,
      "outputs": [
        {
          "output_type": "stream",
          "name": "stdout",
          "text": [
            "328\n"
          ]
        }
      ]
    },
    {
      "cell_type": "code",
      "source": [
        "print('WYNIK DLA GRUPY DRUGIEJ TOOOOO',count2)"
      ],
      "metadata": {
        "colab": {
          "base_uri": "https://localhost:8080/"
        },
        "id": "glE4IiZL200R",
        "outputId": "c09331a0-2195-404a-9348-cc4c7b11eb98"
      },
      "execution_count": 51,
      "outputs": [
        {
          "output_type": "stream",
          "name": "stdout",
          "text": [
            "WYNIK DLA GRUPY DRUGIEJ TOOOOO 1064\n"
          ]
        }
      ]
    },
    {
      "cell_type": "code",
      "source": [],
      "metadata": {
        "id": "IE1TDiTL28wI"
      },
      "execution_count": 51,
      "outputs": []
    }
  ]
}