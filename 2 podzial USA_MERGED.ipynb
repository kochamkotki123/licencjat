{
  "nbformat": 4,
  "nbformat_minor": 0,
  "metadata": {
    "colab": {
      "provenance": []
    },
    "kernelspec": {
      "name": "python3",
      "display_name": "Python 3"
    },
    "language_info": {
      "name": "python"
    }
  },
  "cells": [
    {
      "cell_type": "code",
      "execution_count": 113,
      "metadata": {
        "id": "KbqWRaUE-hp8"
      },
      "outputs": [],
      "source": [
        "import numpy as np\n",
        "import matplotlib.pyplot as plt\n",
        "import tensorflow as tf\n",
        "import pandas as pd\n",
        "import os\n",
        "os.environ[\"KMP_DUPLICATE_LIB_OK\"]=\"TRUE\"\n",
        "os.environ['CUDA_VISIBLE_DEVICES'] = '-1'\n",
        "from tensorflow.keras.callbacks import EarlyStopping\n",
        "from tensorflow.keras.models import Sequential\n",
        "from tensorflow.keras.layers import Dense, Dropout\n",
        "from tensorflow.keras.layers import BatchNormalization\n",
        "\n",
        "es = EarlyStopping(monitor = \"val_loss\", mode = \"min\", patience = 5)\n",
        "\n",
        "EPOCHS = 1000"
      ]
    },
    {
      "cell_type": "code",
      "source": [
        "df = pd.read_csv('us_merged.csv', sep=\",\")"
      ],
      "metadata": {
        "id": "RIFh9K_JK_K5"
      },
      "execution_count": 114,
      "outputs": []
    },
    {
      "cell_type": "code",
      "source": [
        "df"
      ],
      "metadata": {
        "colab": {
          "base_uri": "https://localhost:8080/",
          "height": 423
        },
        "id": "fDj5iUuPNdjm",
        "outputId": "6beb7f17-b83e-4745-c859-5eba5b9c910b"
      },
      "execution_count": 115,
      "outputs": [
        {
          "output_type": "execute_result",
          "data": {
            "text/plain": [
              "      Unnamed: 0                                              title  \\\n",
              "0              0                             Creepy and atmospheric   \n",
              "1              1                                         Teenagers!   \n",
              "2              2    Pretty good with a great performance by Connely   \n",
              "3              3                               Dark Water Has Depth   \n",
              "4              4  Good character-driven human drama; I blame the...   \n",
              "...          ...                                                ...   \n",
              "3297         214                                         Uninspired   \n",
              "3298         215  Great progress for further Asian remakes! The ...   \n",
              "3299         216  The ending makes it filled with flaws and conf...   \n",
              "3300         217        A knock off of \"The Other\" not half bad but   \n",
              "3301         218                                    TOO PREDICTABLE   \n",
              "\n",
              "                                                 review rating  \n",
              "0     The Hollywood version of 'Dark Water' is based...   8/10  \n",
              "1     Don't know about you all, but I've sort of had...   9/10  \n",
              "2     Dark Water is another one of those slow PG-13,...   8/10  \n",
              "3     Of all the recent remakes of Japanese horror f...   9/10  \n",
              "4     Once more, a great injustice has been done by ...   7/10  \n",
              "...                                                 ...    ...  \n",
              "3297  I haven't seen that many scary movies, but one...   7/10  \n",
              "3298  I came back from the 'The Uninvited' and I am ...   8/10  \n",
              "3299  I found The Uninvited on IMDb and saw it got a...   6/10  \n",
              "3300  A not bad, nifty thriller that unfortunately b...   5/10  \n",
              "3301  The story is just TOO PREDICTABLE. Plenty of u...   9/10  \n",
              "\n",
              "[3302 rows x 4 columns]"
            ],
            "text/html": [
              "\n",
              "  <div id=\"df-5edcf910-90c9-4e4b-a3bf-d263166a35f2\" class=\"colab-df-container\">\n",
              "    <div>\n",
              "<style scoped>\n",
              "    .dataframe tbody tr th:only-of-type {\n",
              "        vertical-align: middle;\n",
              "    }\n",
              "\n",
              "    .dataframe tbody tr th {\n",
              "        vertical-align: top;\n",
              "    }\n",
              "\n",
              "    .dataframe thead th {\n",
              "        text-align: right;\n",
              "    }\n",
              "</style>\n",
              "<table border=\"1\" class=\"dataframe\">\n",
              "  <thead>\n",
              "    <tr style=\"text-align: right;\">\n",
              "      <th></th>\n",
              "      <th>Unnamed: 0</th>\n",
              "      <th>title</th>\n",
              "      <th>review</th>\n",
              "      <th>rating</th>\n",
              "    </tr>\n",
              "  </thead>\n",
              "  <tbody>\n",
              "    <tr>\n",
              "      <th>0</th>\n",
              "      <td>0</td>\n",
              "      <td>Creepy and atmospheric</td>\n",
              "      <td>The Hollywood version of 'Dark Water' is based...</td>\n",
              "      <td>8/10</td>\n",
              "    </tr>\n",
              "    <tr>\n",
              "      <th>1</th>\n",
              "      <td>1</td>\n",
              "      <td>Teenagers!</td>\n",
              "      <td>Don't know about you all, but I've sort of had...</td>\n",
              "      <td>9/10</td>\n",
              "    </tr>\n",
              "    <tr>\n",
              "      <th>2</th>\n",
              "      <td>2</td>\n",
              "      <td>Pretty good with a great performance by Connely</td>\n",
              "      <td>Dark Water is another one of those slow PG-13,...</td>\n",
              "      <td>8/10</td>\n",
              "    </tr>\n",
              "    <tr>\n",
              "      <th>3</th>\n",
              "      <td>3</td>\n",
              "      <td>Dark Water Has Depth</td>\n",
              "      <td>Of all the recent remakes of Japanese horror f...</td>\n",
              "      <td>9/10</td>\n",
              "    </tr>\n",
              "    <tr>\n",
              "      <th>4</th>\n",
              "      <td>4</td>\n",
              "      <td>Good character-driven human drama; I blame the...</td>\n",
              "      <td>Once more, a great injustice has been done by ...</td>\n",
              "      <td>7/10</td>\n",
              "    </tr>\n",
              "    <tr>\n",
              "      <th>...</th>\n",
              "      <td>...</td>\n",
              "      <td>...</td>\n",
              "      <td>...</td>\n",
              "      <td>...</td>\n",
              "    </tr>\n",
              "    <tr>\n",
              "      <th>3297</th>\n",
              "      <td>214</td>\n",
              "      <td>Uninspired</td>\n",
              "      <td>I haven't seen that many scary movies, but one...</td>\n",
              "      <td>7/10</td>\n",
              "    </tr>\n",
              "    <tr>\n",
              "      <th>3298</th>\n",
              "      <td>215</td>\n",
              "      <td>Great progress for further Asian remakes! The ...</td>\n",
              "      <td>I came back from the 'The Uninvited' and I am ...</td>\n",
              "      <td>8/10</td>\n",
              "    </tr>\n",
              "    <tr>\n",
              "      <th>3299</th>\n",
              "      <td>216</td>\n",
              "      <td>The ending makes it filled with flaws and conf...</td>\n",
              "      <td>I found The Uninvited on IMDb and saw it got a...</td>\n",
              "      <td>6/10</td>\n",
              "    </tr>\n",
              "    <tr>\n",
              "      <th>3300</th>\n",
              "      <td>217</td>\n",
              "      <td>A knock off of \"The Other\" not half bad but</td>\n",
              "      <td>A not bad, nifty thriller that unfortunately b...</td>\n",
              "      <td>5/10</td>\n",
              "    </tr>\n",
              "    <tr>\n",
              "      <th>3301</th>\n",
              "      <td>218</td>\n",
              "      <td>TOO PREDICTABLE</td>\n",
              "      <td>The story is just TOO PREDICTABLE. Plenty of u...</td>\n",
              "      <td>9/10</td>\n",
              "    </tr>\n",
              "  </tbody>\n",
              "</table>\n",
              "<p>3302 rows × 4 columns</p>\n",
              "</div>\n",
              "    <div class=\"colab-df-buttons\">\n",
              "\n",
              "  <div class=\"colab-df-container\">\n",
              "    <button class=\"colab-df-convert\" onclick=\"convertToInteractive('df-5edcf910-90c9-4e4b-a3bf-d263166a35f2')\"\n",
              "            title=\"Convert this dataframe to an interactive table.\"\n",
              "            style=\"display:none;\">\n",
              "\n",
              "  <svg xmlns=\"http://www.w3.org/2000/svg\" height=\"24px\" viewBox=\"0 -960 960 960\">\n",
              "    <path d=\"M120-120v-720h720v720H120Zm60-500h600v-160H180v160Zm220 220h160v-160H400v160Zm0 220h160v-160H400v160ZM180-400h160v-160H180v160Zm440 0h160v-160H620v160ZM180-180h160v-160H180v160Zm440 0h160v-160H620v160Z\"/>\n",
              "  </svg>\n",
              "    </button>\n",
              "\n",
              "  <style>\n",
              "    .colab-df-container {\n",
              "      display:flex;\n",
              "      gap: 12px;\n",
              "    }\n",
              "\n",
              "    .colab-df-convert {\n",
              "      background-color: #E8F0FE;\n",
              "      border: none;\n",
              "      border-radius: 50%;\n",
              "      cursor: pointer;\n",
              "      display: none;\n",
              "      fill: #1967D2;\n",
              "      height: 32px;\n",
              "      padding: 0 0 0 0;\n",
              "      width: 32px;\n",
              "    }\n",
              "\n",
              "    .colab-df-convert:hover {\n",
              "      background-color: #E2EBFA;\n",
              "      box-shadow: 0px 1px 2px rgba(60, 64, 67, 0.3), 0px 1px 3px 1px rgba(60, 64, 67, 0.15);\n",
              "      fill: #174EA6;\n",
              "    }\n",
              "\n",
              "    .colab-df-buttons div {\n",
              "      margin-bottom: 4px;\n",
              "    }\n",
              "\n",
              "    [theme=dark] .colab-df-convert {\n",
              "      background-color: #3B4455;\n",
              "      fill: #D2E3FC;\n",
              "    }\n",
              "\n",
              "    [theme=dark] .colab-df-convert:hover {\n",
              "      background-color: #434B5C;\n",
              "      box-shadow: 0px 1px 3px 1px rgba(0, 0, 0, 0.15);\n",
              "      filter: drop-shadow(0px 1px 2px rgba(0, 0, 0, 0.3));\n",
              "      fill: #FFFFFF;\n",
              "    }\n",
              "  </style>\n",
              "\n",
              "    <script>\n",
              "      const buttonEl =\n",
              "        document.querySelector('#df-5edcf910-90c9-4e4b-a3bf-d263166a35f2 button.colab-df-convert');\n",
              "      buttonEl.style.display =\n",
              "        google.colab.kernel.accessAllowed ? 'block' : 'none';\n",
              "\n",
              "      async function convertToInteractive(key) {\n",
              "        const element = document.querySelector('#df-5edcf910-90c9-4e4b-a3bf-d263166a35f2');\n",
              "        const dataTable =\n",
              "          await google.colab.kernel.invokeFunction('convertToInteractive',\n",
              "                                                    [key], {});\n",
              "        if (!dataTable) return;\n",
              "\n",
              "        const docLinkHtml = 'Like what you see? Visit the ' +\n",
              "          '<a target=\"_blank\" href=https://colab.research.google.com/notebooks/data_table.ipynb>data table notebook</a>'\n",
              "          + ' to learn more about interactive tables.';\n",
              "        element.innerHTML = '';\n",
              "        dataTable['output_type'] = 'display_data';\n",
              "        await google.colab.output.renderOutput(dataTable, element);\n",
              "        const docLink = document.createElement('div');\n",
              "        docLink.innerHTML = docLinkHtml;\n",
              "        element.appendChild(docLink);\n",
              "      }\n",
              "    </script>\n",
              "  </div>\n",
              "\n",
              "\n",
              "<div id=\"df-23a70787-e867-48c7-b4be-12852169f7da\">\n",
              "  <button class=\"colab-df-quickchart\" onclick=\"quickchart('df-23a70787-e867-48c7-b4be-12852169f7da')\"\n",
              "            title=\"Suggest charts\"\n",
              "            style=\"display:none;\">\n",
              "\n",
              "<svg xmlns=\"http://www.w3.org/2000/svg\" height=\"24px\"viewBox=\"0 0 24 24\"\n",
              "     width=\"24px\">\n",
              "    <g>\n",
              "        <path d=\"M19 3H5c-1.1 0-2 .9-2 2v14c0 1.1.9 2 2 2h14c1.1 0 2-.9 2-2V5c0-1.1-.9-2-2-2zM9 17H7v-7h2v7zm4 0h-2V7h2v10zm4 0h-2v-4h2v4z\"/>\n",
              "    </g>\n",
              "</svg>\n",
              "  </button>\n",
              "\n",
              "<style>\n",
              "  .colab-df-quickchart {\n",
              "      --bg-color: #E8F0FE;\n",
              "      --fill-color: #1967D2;\n",
              "      --hover-bg-color: #E2EBFA;\n",
              "      --hover-fill-color: #174EA6;\n",
              "      --disabled-fill-color: #AAA;\n",
              "      --disabled-bg-color: #DDD;\n",
              "  }\n",
              "\n",
              "  [theme=dark] .colab-df-quickchart {\n",
              "      --bg-color: #3B4455;\n",
              "      --fill-color: #D2E3FC;\n",
              "      --hover-bg-color: #434B5C;\n",
              "      --hover-fill-color: #FFFFFF;\n",
              "      --disabled-bg-color: #3B4455;\n",
              "      --disabled-fill-color: #666;\n",
              "  }\n",
              "\n",
              "  .colab-df-quickchart {\n",
              "    background-color: var(--bg-color);\n",
              "    border: none;\n",
              "    border-radius: 50%;\n",
              "    cursor: pointer;\n",
              "    display: none;\n",
              "    fill: var(--fill-color);\n",
              "    height: 32px;\n",
              "    padding: 0;\n",
              "    width: 32px;\n",
              "  }\n",
              "\n",
              "  .colab-df-quickchart:hover {\n",
              "    background-color: var(--hover-bg-color);\n",
              "    box-shadow: 0 1px 2px rgba(60, 64, 67, 0.3), 0 1px 3px 1px rgba(60, 64, 67, 0.15);\n",
              "    fill: var(--button-hover-fill-color);\n",
              "  }\n",
              "\n",
              "  .colab-df-quickchart-complete:disabled,\n",
              "  .colab-df-quickchart-complete:disabled:hover {\n",
              "    background-color: var(--disabled-bg-color);\n",
              "    fill: var(--disabled-fill-color);\n",
              "    box-shadow: none;\n",
              "  }\n",
              "\n",
              "  .colab-df-spinner {\n",
              "    border: 2px solid var(--fill-color);\n",
              "    border-color: transparent;\n",
              "    border-bottom-color: var(--fill-color);\n",
              "    animation:\n",
              "      spin 1s steps(1) infinite;\n",
              "  }\n",
              "\n",
              "  @keyframes spin {\n",
              "    0% {\n",
              "      border-color: transparent;\n",
              "      border-bottom-color: var(--fill-color);\n",
              "      border-left-color: var(--fill-color);\n",
              "    }\n",
              "    20% {\n",
              "      border-color: transparent;\n",
              "      border-left-color: var(--fill-color);\n",
              "      border-top-color: var(--fill-color);\n",
              "    }\n",
              "    30% {\n",
              "      border-color: transparent;\n",
              "      border-left-color: var(--fill-color);\n",
              "      border-top-color: var(--fill-color);\n",
              "      border-right-color: var(--fill-color);\n",
              "    }\n",
              "    40% {\n",
              "      border-color: transparent;\n",
              "      border-right-color: var(--fill-color);\n",
              "      border-top-color: var(--fill-color);\n",
              "    }\n",
              "    60% {\n",
              "      border-color: transparent;\n",
              "      border-right-color: var(--fill-color);\n",
              "    }\n",
              "    80% {\n",
              "      border-color: transparent;\n",
              "      border-right-color: var(--fill-color);\n",
              "      border-bottom-color: var(--fill-color);\n",
              "    }\n",
              "    90% {\n",
              "      border-color: transparent;\n",
              "      border-bottom-color: var(--fill-color);\n",
              "    }\n",
              "  }\n",
              "</style>\n",
              "\n",
              "  <script>\n",
              "    async function quickchart(key) {\n",
              "      const quickchartButtonEl =\n",
              "        document.querySelector('#' + key + ' button');\n",
              "      quickchartButtonEl.disabled = true;  // To prevent multiple clicks.\n",
              "      quickchartButtonEl.classList.add('colab-df-spinner');\n",
              "      try {\n",
              "        const charts = await google.colab.kernel.invokeFunction(\n",
              "            'suggestCharts', [key], {});\n",
              "      } catch (error) {\n",
              "        console.error('Error during call to suggestCharts:', error);\n",
              "      }\n",
              "      quickchartButtonEl.classList.remove('colab-df-spinner');\n",
              "      quickchartButtonEl.classList.add('colab-df-quickchart-complete');\n",
              "    }\n",
              "    (() => {\n",
              "      let quickchartButtonEl =\n",
              "        document.querySelector('#df-23a70787-e867-48c7-b4be-12852169f7da button');\n",
              "      quickchartButtonEl.style.display =\n",
              "        google.colab.kernel.accessAllowed ? 'block' : 'none';\n",
              "    })();\n",
              "  </script>\n",
              "</div>\n",
              "\n",
              "  <div id=\"id_3d306a72-9659-45e8-b7fd-50f250a24c1b\">\n",
              "    <style>\n",
              "      .colab-df-generate {\n",
              "        background-color: #E8F0FE;\n",
              "        border: none;\n",
              "        border-radius: 50%;\n",
              "        cursor: pointer;\n",
              "        display: none;\n",
              "        fill: #1967D2;\n",
              "        height: 32px;\n",
              "        padding: 0 0 0 0;\n",
              "        width: 32px;\n",
              "      }\n",
              "\n",
              "      .colab-df-generate:hover {\n",
              "        background-color: #E2EBFA;\n",
              "        box-shadow: 0px 1px 2px rgba(60, 64, 67, 0.3), 0px 1px 3px 1px rgba(60, 64, 67, 0.15);\n",
              "        fill: #174EA6;\n",
              "      }\n",
              "\n",
              "      [theme=dark] .colab-df-generate {\n",
              "        background-color: #3B4455;\n",
              "        fill: #D2E3FC;\n",
              "      }\n",
              "\n",
              "      [theme=dark] .colab-df-generate:hover {\n",
              "        background-color: #434B5C;\n",
              "        box-shadow: 0px 1px 3px 1px rgba(0, 0, 0, 0.15);\n",
              "        filter: drop-shadow(0px 1px 2px rgba(0, 0, 0, 0.3));\n",
              "        fill: #FFFFFF;\n",
              "      }\n",
              "    </style>\n",
              "    <button class=\"colab-df-generate\" onclick=\"generateWithVariable('df')\"\n",
              "            title=\"Generate code using this dataframe.\"\n",
              "            style=\"display:none;\">\n",
              "\n",
              "  <svg xmlns=\"http://www.w3.org/2000/svg\" height=\"24px\"viewBox=\"0 0 24 24\"\n",
              "       width=\"24px\">\n",
              "    <path d=\"M7,19H8.4L18.45,9,17,7.55,7,17.6ZM5,21V16.75L18.45,3.32a2,2,0,0,1,2.83,0l1.4,1.43a1.91,1.91,0,0,1,.58,1.4,1.91,1.91,0,0,1-.58,1.4L9.25,21ZM18.45,9,17,7.55Zm-12,3A5.31,5.31,0,0,0,4.9,8.1,5.31,5.31,0,0,0,1,6.5,5.31,5.31,0,0,0,4.9,4.9,5.31,5.31,0,0,0,6.5,1,5.31,5.31,0,0,0,8.1,4.9,5.31,5.31,0,0,0,12,6.5,5.46,5.46,0,0,0,6.5,12Z\"/>\n",
              "  </svg>\n",
              "    </button>\n",
              "    <script>\n",
              "      (() => {\n",
              "      const buttonEl =\n",
              "        document.querySelector('#id_3d306a72-9659-45e8-b7fd-50f250a24c1b button.colab-df-generate');\n",
              "      buttonEl.style.display =\n",
              "        google.colab.kernel.accessAllowed ? 'block' : 'none';\n",
              "\n",
              "      buttonEl.onclick = () => {\n",
              "        google.colab.notebook.generateWithVariable('df');\n",
              "      }\n",
              "      })();\n",
              "    </script>\n",
              "  </div>\n",
              "\n",
              "    </div>\n",
              "  </div>\n"
            ],
            "application/vnd.google.colaboratory.intrinsic+json": {
              "type": "dataframe",
              "variable_name": "df",
              "summary": "{\n  \"name\": \"df\",\n  \"rows\": 3302,\n  \"fields\": [\n    {\n      \"column\": \"Unnamed: 0\",\n      \"properties\": {\n        \"dtype\": \"number\",\n        \"std\": 317,\n        \"min\": 0,\n        \"max\": 1210,\n        \"num_unique_values\": 1211,\n        \"samples\": [\n          101,\n          787,\n          899\n        ],\n        \"semantic_type\": \"\",\n        \"description\": \"\"\n      }\n    },\n    {\n      \"column\": \"title\",\n      \"properties\": {\n        \"dtype\": \"string\",\n        \"num_unique_values\": 3222,\n        \"samples\": [\n          \"So-so horror film\",\n          \"Well worth a watch\",\n          \"inedible cinematic food\"\n        ],\n        \"semantic_type\": \"\",\n        \"description\": \"\"\n      }\n    },\n    {\n      \"column\": \"review\",\n      \"properties\": {\n        \"dtype\": \"string\",\n        \"num_unique_values\": 3299,\n        \"samples\": [\n          \"it was the best horror film i've watched for a long time. For a very long time, there hasnt been a horror film which can make people be scared but this was really scary. every minute you should be ready for surprises thoughout the film.\",\n          \"Some tips on how to write a horror movie...All you need is a young hero or heroine who discovers some kind of cursed device is killing off all of their friends. The device may be anything, just as long as it's something we use everyday like a computer or something. After a group of the hero's faceless and underdeveloped friends die (The depiction of said deaths will depend on whether or not your film is PG-13 or R.), the hero must then team up with a second hero, and try to discover what's going on. After going through old files and visiting creepy old buildings that hold secrets of the past, the lead characters must discover that the cursed object is tied into some tragic past event, usually revolving around a spooky little girl. As the clock ticks down to the hero's own death, they must race to right the wrongs of the past. After the past has seemingly been corrected, the characters breathe a sigh of relief, only to discover that they were wrong, and that someone or something else is responsible for the evil.It is a formula that has been employed by numerous films, many originating in Japan or some other Asian country. One Missed Call follows this formula to the letter, right down to the originating in Japan part. The only problem is that it seems to know we've seen it all before. The actors sleepwalk through their dialogue, and many times the hero of the story - a college student named Beth Raymond (Shannyn Sossamon), forgets to even react to the deaths of her friends. You see, all of Beth's friends are being killed off by a cursed cell phone voice mail message. It appears on your phone, and when you play it back, you hear the exact moment of your death. The friends are haunted by spooky visions of ghouls and decaying people walking around in broad daylight, until the character suddenly meets an untimely end in some sort of \\\"accident\\\" that makes me think the evil ghost in this movie took lessons from the ghastly spirit in the Final Destination films, as its method of killing people is somewhat similar. The Final Destination villain is much more flashier and complex in its killings, but you have to remember, the ghost in this movie is working under a much more restricted PG-13 rating, so you can't really blame it if its kills are not as bloody or grand.Now, let me ask you something here. If you knew that people were dying because of a mysterious voice message that appears on your cell phone, wouldn't you just try not listening to the voice message in the first place? This never dawns on Beth or her friends. They try smashing their cell phones to pieces, but this doesn't seem to halt the killer spirit's advances. I don't know if not listening to the message would save your life or not, but I figure if all of my friends were being killed after listening to it, I'd be willing to give it a shot. The movie continues down the expected path, and introduces our second hero, a police detective named Jack Andrews (Edward Burns). He's the only person who believes Beth's story about the cursed voice mail message, because his sister was a victim of it, too. They join forces to discover the truth behind the curse, and the clues fall right into place, leading them to a hospital that burned down a while ago. Everything that we saw happen in films like The Ring, The Grudge, Dark Water, and the like happens, and not even the characters don't seem to be all that surprised. They go through the expected motions, and so does the movie itself.When I say One Missed Call follows a rigid path, I am dead serious. There's not one single moment we haven't seen in similar-themed movies. I have not seen the Japanese movie that inspired this remake, so I don't know if the original was as uninspired as this. I will give the original the benefit of the doubt that it had a lot more life and energy than this. The characters all seem to be walking a pre-determined path, and what's worse, they seem to know it. There's nothing worse than when the characters seem to be smarter than the movie they're in, but they're forced to act like idiots, because it's expected of them to do so. The movie doesn't even do a good job of explaining itself from time to time. I'm trying hard not to go into spoilers here, but should you see this movie (not that I'm recommending you do), ask yourself why the corpse they discover in the tunnels underneath the burnt hospital was there in the first place? Also ask yourself how many reality TV shows are filmed live? And wouldn't having someone die on your show live on national television kind of cause more attention than it seems to in this movie? My personal favorite moment of the movie actually comes early on, when the film's first victim meets an untimely end. The ghost then decides to not only kill her, but comes back for the victim's pet cat moments later. Did the cat get an eerie voice mail too? One Missed Call is the very definition of an early January release, a time of the year when the studios usually unload their stinkers that they don't know what to do with. The fact that it's the only new movie opening this weekend in wide release means that it will most likely find an audience with kids and teens looking for a cheap thrill. If you're bored this weekend, and actually consider this movie, please don't. This movie does not alleviate boredom, it only causes it.\",\n          \"Let me admit openly to you. I'm very surprised with The Uninvited. Given that Hollywood remakes of Asian horror films are almost universally unwatchable, I did not expect to enjoy this one at all. The Guard Brothers' film is more \\\"inspired\\\" by A Tale of Two Sisters, than it is a typical remake. Yes, our beloved South Korean masterpiece has been stripped of its unsettling presence and catered to pubescent boys. PG-13 terror sequences are spliced among teenage debauchery, but something of its parent remains. The original's method of framing hallucinations of dead people creeping out from furniture or down hallways still works. Still, as its sub-genre requires, a lot is left unexplained in The Uninvited. I don't mean good ambiguity. Think of King Kong's rampage through New York. Plot holes are that noticeable.The original film's story has been appropriately reworked, but the differences are rather pronounced. I'm still unsure about certain aspects of the plot. In this movie, there may actually be real ghosts. They appear to the younger sister this time, who is struggling over the older one's death. She convinces herself that her stepmother is a criminal who was never apprehended for previous crimes. Anna, the younger sister, repeatedly comforts herself with assurance that her older sister, Alex, is still alive. These scenes are directed well, and it isn't obvious to viewers that Alex is dead. The Uninvited is distinguished from its original film by its protagonist's motivation. Anna wants vengeance for her older sister's death, while Su-mi wants reconciliation for her inability to prevent her younger sister's death. One movie asks for sympathy with its main character, and the other one demands sympathy for supporting players. This is even more obvious because the stepmother really dies in this version.The Uninvited isn't the pinnacle of Hollywood remakes of Asian films. Too many egregious errors are obvious to anyone who has read a novel recently. Firstly, Anna confuses her stepmother for Mildred Kemp, a murderer who was never captured. The movie ends with Kemp confronting Anna, in a mental health clinic, about her experience. Anna also sees Kemp's victims' ghosts. OK, why would she do that? Unlike the first movie, most scary sequences are carried out by the ghosts. A Tale of Two Sisters infers that Su-yeon may be under the sink or in hutch. Alex, the imagined sister, is a harmless recreation that supports Anna in her revenge plot. I like the ambiguity created between ghosts and visions of deceased, but I don't think it's intentional. This movie copies its parent's greatest strengths by stumbling through an established model. It does work, but it's like listening to a backyard band sing a Beatles song and not sounding as bad as expected.A Tale of Two Sisters is a story that easily crosses cultural boundaries. I've conducted further online research since my original review and have discovered that director Kim Ji-woon based his film on a Korean folktale. In \\\"Janghwa Hongreyon jeon,\\\" a single father marries a new woman who argues with his daughters. \\\"Stepmother\\\" frames one of her stepdaughters of unchaste behavior and has her own son drown her. She also has her remaining stepdaughter killed via drowning. The spirits of the dead girls haunt local residents until someone proves they did not commit suicide.\"\n        ],\n        \"semantic_type\": \"\",\n        \"description\": \"\"\n      }\n    },\n    {\n      \"column\": \"rating\",\n      \"properties\": {\n        \"dtype\": \"category\",\n        \"num_unique_values\": 10,\n        \"samples\": [\n          \"2/10\",\n          \"9/10\",\n          \"5/10\"\n        ],\n        \"semantic_type\": \"\",\n        \"description\": \"\"\n      }\n    }\n  ]\n}"
            }
          },
          "metadata": {},
          "execution_count": 115
        }
      ]
    },
    {
      "cell_type": "code",
      "source": [
        "df = df.drop('Unnamed: 0', axis=1)"
      ],
      "metadata": {
        "id": "bejOtK0zO-xJ"
      },
      "execution_count": 116,
      "outputs": []
    },
    {
      "cell_type": "code",
      "source": [
        "df"
      ],
      "metadata": {
        "colab": {
          "base_uri": "https://localhost:8080/",
          "height": 423
        },
        "id": "9fDEaXLcQNit",
        "outputId": "0294995a-78a9-4af3-9ff9-f85dc75dce57"
      },
      "execution_count": 117,
      "outputs": [
        {
          "output_type": "execute_result",
          "data": {
            "text/plain": [
              "                                                  title  \\\n",
              "0                                Creepy and atmospheric   \n",
              "1                                            Teenagers!   \n",
              "2       Pretty good with a great performance by Connely   \n",
              "3                                  Dark Water Has Depth   \n",
              "4     Good character-driven human drama; I blame the...   \n",
              "...                                                 ...   \n",
              "3297                                         Uninspired   \n",
              "3298  Great progress for further Asian remakes! The ...   \n",
              "3299  The ending makes it filled with flaws and conf...   \n",
              "3300        A knock off of \"The Other\" not half bad but   \n",
              "3301                                    TOO PREDICTABLE   \n",
              "\n",
              "                                                 review rating  \n",
              "0     The Hollywood version of 'Dark Water' is based...   8/10  \n",
              "1     Don't know about you all, but I've sort of had...   9/10  \n",
              "2     Dark Water is another one of those slow PG-13,...   8/10  \n",
              "3     Of all the recent remakes of Japanese horror f...   9/10  \n",
              "4     Once more, a great injustice has been done by ...   7/10  \n",
              "...                                                 ...    ...  \n",
              "3297  I haven't seen that many scary movies, but one...   7/10  \n",
              "3298  I came back from the 'The Uninvited' and I am ...   8/10  \n",
              "3299  I found The Uninvited on IMDb and saw it got a...   6/10  \n",
              "3300  A not bad, nifty thriller that unfortunately b...   5/10  \n",
              "3301  The story is just TOO PREDICTABLE. Plenty of u...   9/10  \n",
              "\n",
              "[3302 rows x 3 columns]"
            ],
            "text/html": [
              "\n",
              "  <div id=\"df-e3b6296e-9c7a-48bf-b693-cc9e5581e60c\" class=\"colab-df-container\">\n",
              "    <div>\n",
              "<style scoped>\n",
              "    .dataframe tbody tr th:only-of-type {\n",
              "        vertical-align: middle;\n",
              "    }\n",
              "\n",
              "    .dataframe tbody tr th {\n",
              "        vertical-align: top;\n",
              "    }\n",
              "\n",
              "    .dataframe thead th {\n",
              "        text-align: right;\n",
              "    }\n",
              "</style>\n",
              "<table border=\"1\" class=\"dataframe\">\n",
              "  <thead>\n",
              "    <tr style=\"text-align: right;\">\n",
              "      <th></th>\n",
              "      <th>title</th>\n",
              "      <th>review</th>\n",
              "      <th>rating</th>\n",
              "    </tr>\n",
              "  </thead>\n",
              "  <tbody>\n",
              "    <tr>\n",
              "      <th>0</th>\n",
              "      <td>Creepy and atmospheric</td>\n",
              "      <td>The Hollywood version of 'Dark Water' is based...</td>\n",
              "      <td>8/10</td>\n",
              "    </tr>\n",
              "    <tr>\n",
              "      <th>1</th>\n",
              "      <td>Teenagers!</td>\n",
              "      <td>Don't know about you all, but I've sort of had...</td>\n",
              "      <td>9/10</td>\n",
              "    </tr>\n",
              "    <tr>\n",
              "      <th>2</th>\n",
              "      <td>Pretty good with a great performance by Connely</td>\n",
              "      <td>Dark Water is another one of those slow PG-13,...</td>\n",
              "      <td>8/10</td>\n",
              "    </tr>\n",
              "    <tr>\n",
              "      <th>3</th>\n",
              "      <td>Dark Water Has Depth</td>\n",
              "      <td>Of all the recent remakes of Japanese horror f...</td>\n",
              "      <td>9/10</td>\n",
              "    </tr>\n",
              "    <tr>\n",
              "      <th>4</th>\n",
              "      <td>Good character-driven human drama; I blame the...</td>\n",
              "      <td>Once more, a great injustice has been done by ...</td>\n",
              "      <td>7/10</td>\n",
              "    </tr>\n",
              "    <tr>\n",
              "      <th>...</th>\n",
              "      <td>...</td>\n",
              "      <td>...</td>\n",
              "      <td>...</td>\n",
              "    </tr>\n",
              "    <tr>\n",
              "      <th>3297</th>\n",
              "      <td>Uninspired</td>\n",
              "      <td>I haven't seen that many scary movies, but one...</td>\n",
              "      <td>7/10</td>\n",
              "    </tr>\n",
              "    <tr>\n",
              "      <th>3298</th>\n",
              "      <td>Great progress for further Asian remakes! The ...</td>\n",
              "      <td>I came back from the 'The Uninvited' and I am ...</td>\n",
              "      <td>8/10</td>\n",
              "    </tr>\n",
              "    <tr>\n",
              "      <th>3299</th>\n",
              "      <td>The ending makes it filled with flaws and conf...</td>\n",
              "      <td>I found The Uninvited on IMDb and saw it got a...</td>\n",
              "      <td>6/10</td>\n",
              "    </tr>\n",
              "    <tr>\n",
              "      <th>3300</th>\n",
              "      <td>A knock off of \"The Other\" not half bad but</td>\n",
              "      <td>A not bad, nifty thriller that unfortunately b...</td>\n",
              "      <td>5/10</td>\n",
              "    </tr>\n",
              "    <tr>\n",
              "      <th>3301</th>\n",
              "      <td>TOO PREDICTABLE</td>\n",
              "      <td>The story is just TOO PREDICTABLE. Plenty of u...</td>\n",
              "      <td>9/10</td>\n",
              "    </tr>\n",
              "  </tbody>\n",
              "</table>\n",
              "<p>3302 rows × 3 columns</p>\n",
              "</div>\n",
              "    <div class=\"colab-df-buttons\">\n",
              "\n",
              "  <div class=\"colab-df-container\">\n",
              "    <button class=\"colab-df-convert\" onclick=\"convertToInteractive('df-e3b6296e-9c7a-48bf-b693-cc9e5581e60c')\"\n",
              "            title=\"Convert this dataframe to an interactive table.\"\n",
              "            style=\"display:none;\">\n",
              "\n",
              "  <svg xmlns=\"http://www.w3.org/2000/svg\" height=\"24px\" viewBox=\"0 -960 960 960\">\n",
              "    <path d=\"M120-120v-720h720v720H120Zm60-500h600v-160H180v160Zm220 220h160v-160H400v160Zm0 220h160v-160H400v160ZM180-400h160v-160H180v160Zm440 0h160v-160H620v160ZM180-180h160v-160H180v160Zm440 0h160v-160H620v160Z\"/>\n",
              "  </svg>\n",
              "    </button>\n",
              "\n",
              "  <style>\n",
              "    .colab-df-container {\n",
              "      display:flex;\n",
              "      gap: 12px;\n",
              "    }\n",
              "\n",
              "    .colab-df-convert {\n",
              "      background-color: #E8F0FE;\n",
              "      border: none;\n",
              "      border-radius: 50%;\n",
              "      cursor: pointer;\n",
              "      display: none;\n",
              "      fill: #1967D2;\n",
              "      height: 32px;\n",
              "      padding: 0 0 0 0;\n",
              "      width: 32px;\n",
              "    }\n",
              "\n",
              "    .colab-df-convert:hover {\n",
              "      background-color: #E2EBFA;\n",
              "      box-shadow: 0px 1px 2px rgba(60, 64, 67, 0.3), 0px 1px 3px 1px rgba(60, 64, 67, 0.15);\n",
              "      fill: #174EA6;\n",
              "    }\n",
              "\n",
              "    .colab-df-buttons div {\n",
              "      margin-bottom: 4px;\n",
              "    }\n",
              "\n",
              "    [theme=dark] .colab-df-convert {\n",
              "      background-color: #3B4455;\n",
              "      fill: #D2E3FC;\n",
              "    }\n",
              "\n",
              "    [theme=dark] .colab-df-convert:hover {\n",
              "      background-color: #434B5C;\n",
              "      box-shadow: 0px 1px 3px 1px rgba(0, 0, 0, 0.15);\n",
              "      filter: drop-shadow(0px 1px 2px rgba(0, 0, 0, 0.3));\n",
              "      fill: #FFFFFF;\n",
              "    }\n",
              "  </style>\n",
              "\n",
              "    <script>\n",
              "      const buttonEl =\n",
              "        document.querySelector('#df-e3b6296e-9c7a-48bf-b693-cc9e5581e60c button.colab-df-convert');\n",
              "      buttonEl.style.display =\n",
              "        google.colab.kernel.accessAllowed ? 'block' : 'none';\n",
              "\n",
              "      async function convertToInteractive(key) {\n",
              "        const element = document.querySelector('#df-e3b6296e-9c7a-48bf-b693-cc9e5581e60c');\n",
              "        const dataTable =\n",
              "          await google.colab.kernel.invokeFunction('convertToInteractive',\n",
              "                                                    [key], {});\n",
              "        if (!dataTable) return;\n",
              "\n",
              "        const docLinkHtml = 'Like what you see? Visit the ' +\n",
              "          '<a target=\"_blank\" href=https://colab.research.google.com/notebooks/data_table.ipynb>data table notebook</a>'\n",
              "          + ' to learn more about interactive tables.';\n",
              "        element.innerHTML = '';\n",
              "        dataTable['output_type'] = 'display_data';\n",
              "        await google.colab.output.renderOutput(dataTable, element);\n",
              "        const docLink = document.createElement('div');\n",
              "        docLink.innerHTML = docLinkHtml;\n",
              "        element.appendChild(docLink);\n",
              "      }\n",
              "    </script>\n",
              "  </div>\n",
              "\n",
              "\n",
              "<div id=\"df-b692445d-96cf-48e8-858f-88b0e35000f0\">\n",
              "  <button class=\"colab-df-quickchart\" onclick=\"quickchart('df-b692445d-96cf-48e8-858f-88b0e35000f0')\"\n",
              "            title=\"Suggest charts\"\n",
              "            style=\"display:none;\">\n",
              "\n",
              "<svg xmlns=\"http://www.w3.org/2000/svg\" height=\"24px\"viewBox=\"0 0 24 24\"\n",
              "     width=\"24px\">\n",
              "    <g>\n",
              "        <path d=\"M19 3H5c-1.1 0-2 .9-2 2v14c0 1.1.9 2 2 2h14c1.1 0 2-.9 2-2V5c0-1.1-.9-2-2-2zM9 17H7v-7h2v7zm4 0h-2V7h2v10zm4 0h-2v-4h2v4z\"/>\n",
              "    </g>\n",
              "</svg>\n",
              "  </button>\n",
              "\n",
              "<style>\n",
              "  .colab-df-quickchart {\n",
              "      --bg-color: #E8F0FE;\n",
              "      --fill-color: #1967D2;\n",
              "      --hover-bg-color: #E2EBFA;\n",
              "      --hover-fill-color: #174EA6;\n",
              "      --disabled-fill-color: #AAA;\n",
              "      --disabled-bg-color: #DDD;\n",
              "  }\n",
              "\n",
              "  [theme=dark] .colab-df-quickchart {\n",
              "      --bg-color: #3B4455;\n",
              "      --fill-color: #D2E3FC;\n",
              "      --hover-bg-color: #434B5C;\n",
              "      --hover-fill-color: #FFFFFF;\n",
              "      --disabled-bg-color: #3B4455;\n",
              "      --disabled-fill-color: #666;\n",
              "  }\n",
              "\n",
              "  .colab-df-quickchart {\n",
              "    background-color: var(--bg-color);\n",
              "    border: none;\n",
              "    border-radius: 50%;\n",
              "    cursor: pointer;\n",
              "    display: none;\n",
              "    fill: var(--fill-color);\n",
              "    height: 32px;\n",
              "    padding: 0;\n",
              "    width: 32px;\n",
              "  }\n",
              "\n",
              "  .colab-df-quickchart:hover {\n",
              "    background-color: var(--hover-bg-color);\n",
              "    box-shadow: 0 1px 2px rgba(60, 64, 67, 0.3), 0 1px 3px 1px rgba(60, 64, 67, 0.15);\n",
              "    fill: var(--button-hover-fill-color);\n",
              "  }\n",
              "\n",
              "  .colab-df-quickchart-complete:disabled,\n",
              "  .colab-df-quickchart-complete:disabled:hover {\n",
              "    background-color: var(--disabled-bg-color);\n",
              "    fill: var(--disabled-fill-color);\n",
              "    box-shadow: none;\n",
              "  }\n",
              "\n",
              "  .colab-df-spinner {\n",
              "    border: 2px solid var(--fill-color);\n",
              "    border-color: transparent;\n",
              "    border-bottom-color: var(--fill-color);\n",
              "    animation:\n",
              "      spin 1s steps(1) infinite;\n",
              "  }\n",
              "\n",
              "  @keyframes spin {\n",
              "    0% {\n",
              "      border-color: transparent;\n",
              "      border-bottom-color: var(--fill-color);\n",
              "      border-left-color: var(--fill-color);\n",
              "    }\n",
              "    20% {\n",
              "      border-color: transparent;\n",
              "      border-left-color: var(--fill-color);\n",
              "      border-top-color: var(--fill-color);\n",
              "    }\n",
              "    30% {\n",
              "      border-color: transparent;\n",
              "      border-left-color: var(--fill-color);\n",
              "      border-top-color: var(--fill-color);\n",
              "      border-right-color: var(--fill-color);\n",
              "    }\n",
              "    40% {\n",
              "      border-color: transparent;\n",
              "      border-right-color: var(--fill-color);\n",
              "      border-top-color: var(--fill-color);\n",
              "    }\n",
              "    60% {\n",
              "      border-color: transparent;\n",
              "      border-right-color: var(--fill-color);\n",
              "    }\n",
              "    80% {\n",
              "      border-color: transparent;\n",
              "      border-right-color: var(--fill-color);\n",
              "      border-bottom-color: var(--fill-color);\n",
              "    }\n",
              "    90% {\n",
              "      border-color: transparent;\n",
              "      border-bottom-color: var(--fill-color);\n",
              "    }\n",
              "  }\n",
              "</style>\n",
              "\n",
              "  <script>\n",
              "    async function quickchart(key) {\n",
              "      const quickchartButtonEl =\n",
              "        document.querySelector('#' + key + ' button');\n",
              "      quickchartButtonEl.disabled = true;  // To prevent multiple clicks.\n",
              "      quickchartButtonEl.classList.add('colab-df-spinner');\n",
              "      try {\n",
              "        const charts = await google.colab.kernel.invokeFunction(\n",
              "            'suggestCharts', [key], {});\n",
              "      } catch (error) {\n",
              "        console.error('Error during call to suggestCharts:', error);\n",
              "      }\n",
              "      quickchartButtonEl.classList.remove('colab-df-spinner');\n",
              "      quickchartButtonEl.classList.add('colab-df-quickchart-complete');\n",
              "    }\n",
              "    (() => {\n",
              "      let quickchartButtonEl =\n",
              "        document.querySelector('#df-b692445d-96cf-48e8-858f-88b0e35000f0 button');\n",
              "      quickchartButtonEl.style.display =\n",
              "        google.colab.kernel.accessAllowed ? 'block' : 'none';\n",
              "    })();\n",
              "  </script>\n",
              "</div>\n",
              "\n",
              "  <div id=\"id_8b9dcbef-33e7-48df-aebc-b62e7ddea8d8\">\n",
              "    <style>\n",
              "      .colab-df-generate {\n",
              "        background-color: #E8F0FE;\n",
              "        border: none;\n",
              "        border-radius: 50%;\n",
              "        cursor: pointer;\n",
              "        display: none;\n",
              "        fill: #1967D2;\n",
              "        height: 32px;\n",
              "        padding: 0 0 0 0;\n",
              "        width: 32px;\n",
              "      }\n",
              "\n",
              "      .colab-df-generate:hover {\n",
              "        background-color: #E2EBFA;\n",
              "        box-shadow: 0px 1px 2px rgba(60, 64, 67, 0.3), 0px 1px 3px 1px rgba(60, 64, 67, 0.15);\n",
              "        fill: #174EA6;\n",
              "      }\n",
              "\n",
              "      [theme=dark] .colab-df-generate {\n",
              "        background-color: #3B4455;\n",
              "        fill: #D2E3FC;\n",
              "      }\n",
              "\n",
              "      [theme=dark] .colab-df-generate:hover {\n",
              "        background-color: #434B5C;\n",
              "        box-shadow: 0px 1px 3px 1px rgba(0, 0, 0, 0.15);\n",
              "        filter: drop-shadow(0px 1px 2px rgba(0, 0, 0, 0.3));\n",
              "        fill: #FFFFFF;\n",
              "      }\n",
              "    </style>\n",
              "    <button class=\"colab-df-generate\" onclick=\"generateWithVariable('df')\"\n",
              "            title=\"Generate code using this dataframe.\"\n",
              "            style=\"display:none;\">\n",
              "\n",
              "  <svg xmlns=\"http://www.w3.org/2000/svg\" height=\"24px\"viewBox=\"0 0 24 24\"\n",
              "       width=\"24px\">\n",
              "    <path d=\"M7,19H8.4L18.45,9,17,7.55,7,17.6ZM5,21V16.75L18.45,3.32a2,2,0,0,1,2.83,0l1.4,1.43a1.91,1.91,0,0,1,.58,1.4,1.91,1.91,0,0,1-.58,1.4L9.25,21ZM18.45,9,17,7.55Zm-12,3A5.31,5.31,0,0,0,4.9,8.1,5.31,5.31,0,0,0,1,6.5,5.31,5.31,0,0,0,4.9,4.9,5.31,5.31,0,0,0,6.5,1,5.31,5.31,0,0,0,8.1,4.9,5.31,5.31,0,0,0,12,6.5,5.46,5.46,0,0,0,6.5,12Z\"/>\n",
              "  </svg>\n",
              "    </button>\n",
              "    <script>\n",
              "      (() => {\n",
              "      const buttonEl =\n",
              "        document.querySelector('#id_8b9dcbef-33e7-48df-aebc-b62e7ddea8d8 button.colab-df-generate');\n",
              "      buttonEl.style.display =\n",
              "        google.colab.kernel.accessAllowed ? 'block' : 'none';\n",
              "\n",
              "      buttonEl.onclick = () => {\n",
              "        google.colab.notebook.generateWithVariable('df');\n",
              "      }\n",
              "      })();\n",
              "    </script>\n",
              "  </div>\n",
              "\n",
              "    </div>\n",
              "  </div>\n"
            ],
            "application/vnd.google.colaboratory.intrinsic+json": {
              "type": "dataframe",
              "variable_name": "df",
              "summary": "{\n  \"name\": \"df\",\n  \"rows\": 3302,\n  \"fields\": [\n    {\n      \"column\": \"title\",\n      \"properties\": {\n        \"dtype\": \"string\",\n        \"num_unique_values\": 3222,\n        \"samples\": [\n          \"So-so horror film\",\n          \"Well worth a watch\",\n          \"inedible cinematic food\"\n        ],\n        \"semantic_type\": \"\",\n        \"description\": \"\"\n      }\n    },\n    {\n      \"column\": \"review\",\n      \"properties\": {\n        \"dtype\": \"string\",\n        \"num_unique_values\": 3299,\n        \"samples\": [\n          \"it was the best horror film i've watched for a long time. For a very long time, there hasnt been a horror film which can make people be scared but this was really scary. every minute you should be ready for surprises thoughout the film.\",\n          \"Some tips on how to write a horror movie...All you need is a young hero or heroine who discovers some kind of cursed device is killing off all of their friends. The device may be anything, just as long as it's something we use everyday like a computer or something. After a group of the hero's faceless and underdeveloped friends die (The depiction of said deaths will depend on whether or not your film is PG-13 or R.), the hero must then team up with a second hero, and try to discover what's going on. After going through old files and visiting creepy old buildings that hold secrets of the past, the lead characters must discover that the cursed object is tied into some tragic past event, usually revolving around a spooky little girl. As the clock ticks down to the hero's own death, they must race to right the wrongs of the past. After the past has seemingly been corrected, the characters breathe a sigh of relief, only to discover that they were wrong, and that someone or something else is responsible for the evil.It is a formula that has been employed by numerous films, many originating in Japan or some other Asian country. One Missed Call follows this formula to the letter, right down to the originating in Japan part. The only problem is that it seems to know we've seen it all before. The actors sleepwalk through their dialogue, and many times the hero of the story - a college student named Beth Raymond (Shannyn Sossamon), forgets to even react to the deaths of her friends. You see, all of Beth's friends are being killed off by a cursed cell phone voice mail message. It appears on your phone, and when you play it back, you hear the exact moment of your death. The friends are haunted by spooky visions of ghouls and decaying people walking around in broad daylight, until the character suddenly meets an untimely end in some sort of \\\"accident\\\" that makes me think the evil ghost in this movie took lessons from the ghastly spirit in the Final Destination films, as its method of killing people is somewhat similar. The Final Destination villain is much more flashier and complex in its killings, but you have to remember, the ghost in this movie is working under a much more restricted PG-13 rating, so you can't really blame it if its kills are not as bloody or grand.Now, let me ask you something here. If you knew that people were dying because of a mysterious voice message that appears on your cell phone, wouldn't you just try not listening to the voice message in the first place? This never dawns on Beth or her friends. They try smashing their cell phones to pieces, but this doesn't seem to halt the killer spirit's advances. I don't know if not listening to the message would save your life or not, but I figure if all of my friends were being killed after listening to it, I'd be willing to give it a shot. The movie continues down the expected path, and introduces our second hero, a police detective named Jack Andrews (Edward Burns). He's the only person who believes Beth's story about the cursed voice mail message, because his sister was a victim of it, too. They join forces to discover the truth behind the curse, and the clues fall right into place, leading them to a hospital that burned down a while ago. Everything that we saw happen in films like The Ring, The Grudge, Dark Water, and the like happens, and not even the characters don't seem to be all that surprised. They go through the expected motions, and so does the movie itself.When I say One Missed Call follows a rigid path, I am dead serious. There's not one single moment we haven't seen in similar-themed movies. I have not seen the Japanese movie that inspired this remake, so I don't know if the original was as uninspired as this. I will give the original the benefit of the doubt that it had a lot more life and energy than this. The characters all seem to be walking a pre-determined path, and what's worse, they seem to know it. There's nothing worse than when the characters seem to be smarter than the movie they're in, but they're forced to act like idiots, because it's expected of them to do so. The movie doesn't even do a good job of explaining itself from time to time. I'm trying hard not to go into spoilers here, but should you see this movie (not that I'm recommending you do), ask yourself why the corpse they discover in the tunnels underneath the burnt hospital was there in the first place? Also ask yourself how many reality TV shows are filmed live? And wouldn't having someone die on your show live on national television kind of cause more attention than it seems to in this movie? My personal favorite moment of the movie actually comes early on, when the film's first victim meets an untimely end. The ghost then decides to not only kill her, but comes back for the victim's pet cat moments later. Did the cat get an eerie voice mail too? One Missed Call is the very definition of an early January release, a time of the year when the studios usually unload their stinkers that they don't know what to do with. The fact that it's the only new movie opening this weekend in wide release means that it will most likely find an audience with kids and teens looking for a cheap thrill. If you're bored this weekend, and actually consider this movie, please don't. This movie does not alleviate boredom, it only causes it.\",\n          \"Let me admit openly to you. I'm very surprised with The Uninvited. Given that Hollywood remakes of Asian horror films are almost universally unwatchable, I did not expect to enjoy this one at all. The Guard Brothers' film is more \\\"inspired\\\" by A Tale of Two Sisters, than it is a typical remake. Yes, our beloved South Korean masterpiece has been stripped of its unsettling presence and catered to pubescent boys. PG-13 terror sequences are spliced among teenage debauchery, but something of its parent remains. The original's method of framing hallucinations of dead people creeping out from furniture or down hallways still works. Still, as its sub-genre requires, a lot is left unexplained in The Uninvited. I don't mean good ambiguity. Think of King Kong's rampage through New York. Plot holes are that noticeable.The original film's story has been appropriately reworked, but the differences are rather pronounced. I'm still unsure about certain aspects of the plot. In this movie, there may actually be real ghosts. They appear to the younger sister this time, who is struggling over the older one's death. She convinces herself that her stepmother is a criminal who was never apprehended for previous crimes. Anna, the younger sister, repeatedly comforts herself with assurance that her older sister, Alex, is still alive. These scenes are directed well, and it isn't obvious to viewers that Alex is dead. The Uninvited is distinguished from its original film by its protagonist's motivation. Anna wants vengeance for her older sister's death, while Su-mi wants reconciliation for her inability to prevent her younger sister's death. One movie asks for sympathy with its main character, and the other one demands sympathy for supporting players. This is even more obvious because the stepmother really dies in this version.The Uninvited isn't the pinnacle of Hollywood remakes of Asian films. Too many egregious errors are obvious to anyone who has read a novel recently. Firstly, Anna confuses her stepmother for Mildred Kemp, a murderer who was never captured. The movie ends with Kemp confronting Anna, in a mental health clinic, about her experience. Anna also sees Kemp's victims' ghosts. OK, why would she do that? Unlike the first movie, most scary sequences are carried out by the ghosts. A Tale of Two Sisters infers that Su-yeon may be under the sink or in hutch. Alex, the imagined sister, is a harmless recreation that supports Anna in her revenge plot. I like the ambiguity created between ghosts and visions of deceased, but I don't think it's intentional. This movie copies its parent's greatest strengths by stumbling through an established model. It does work, but it's like listening to a backyard band sing a Beatles song and not sounding as bad as expected.A Tale of Two Sisters is a story that easily crosses cultural boundaries. I've conducted further online research since my original review and have discovered that director Kim Ji-woon based his film on a Korean folktale. In \\\"Janghwa Hongreyon jeon,\\\" a single father marries a new woman who argues with his daughters. \\\"Stepmother\\\" frames one of her stepdaughters of unchaste behavior and has her own son drown her. She also has her remaining stepdaughter killed via drowning. The spirits of the dead girls haunt local residents until someone proves they did not commit suicide.\"\n        ],\n        \"semantic_type\": \"\",\n        \"description\": \"\"\n      }\n    },\n    {\n      \"column\": \"rating\",\n      \"properties\": {\n        \"dtype\": \"category\",\n        \"num_unique_values\": 10,\n        \"samples\": [\n          \"2/10\",\n          \"9/10\",\n          \"5/10\"\n        ],\n        \"semantic_type\": \"\",\n        \"description\": \"\"\n      }\n    }\n  ]\n}"
            }
          },
          "metadata": {},
          "execution_count": 117
        }
      ]
    },
    {
      "cell_type": "code",
      "source": [
        "df['review'][88]"
      ],
      "metadata": {
        "colab": {
          "base_uri": "https://localhost:8080/",
          "height": 140
        },
        "id": "kX5zWJ0QtMHT",
        "outputId": "ddf0445e-5c8e-4609-87c7-a58376f52bff"
      },
      "execution_count": 118,
      "outputs": [
        {
          "output_type": "execute_result",
          "data": {
            "text/plain": [
              "'Oh boy.First of all I\\'d like to say I\\'m not against remakes in general. The remake has a very big disadvantage since it will doubtlessly be compared to the original (which has to be somewhat good, otherwise he wouldn\\'t inspire the remake) so it\\'s not really fair to be too hard on it. Besides, if you\\'d loved the original it\\'s always fun to look how other director/cast interpreted the thing.What I DO hate is when movie people start \"improving\" the original, putting in all sorts of their ideas and solutions in order to 1) distance themselves from the original and 2) make the movie more suited for intended audience. Perhaps some directors can pull this off, but usually (and especially when it is the case of American remakes) the \"improving\" consists of heavy overexplaining of the plot and augmented use of special effects. I don\\'t get this - does Hollywood really think American audience is soo stupid they must be led by hand the entire movie, and God forbid something ambiguous was left at the ending? Or that without \"extra\" special effects average American will not be able to sit tight for an hour and a half? Geez.Japanese \"Dark Water\" wasn\\'t a great flick, but it worked on some key levels. It was a moody story about mother and child living in haunted apartment. For the most part it didn\\'t have many scares, but a few motifs were used beautifully (the bag, yellow raincoat). And much like Ringu, the creepiest stuff happened in the end when your defenses were more or less down which for me, well, worked.Enter the American version. If they remade it scene by scene it would be unimaginative, but it might have worked. Yet, they opined for a different path, which obviously consisted of identifying all the elements of the original that worked, and then replacing them with other elements which are more or less pointless.First of all there\\'s that dreaded overexplaining and overexpositioning. OK, Dahlia\\'s mother was alcoholic, WE GET IT, enough with the flashbacks already. Then there\\'s some added material for some supporting roles which serves absolutely no purpose. Tim Roth for instance has some scenes that are there only so he can get some more screen time.But what is most unforgivable is what they did to the whole \"creepiness\" of the story. When you go to see a horror/suspense/thriller movie, you are in for the thrills. Yet in \"Dark Water\" there are is absolutely nothing remotely scary or creepy except the blue hue the movie was shot in. Let me reiterate this - there is NOTHING SCARY in this movie. There\\'s just lots and lots and lots of water and many scenes of flooded apartments.As I\\'ve already mentioned, the original went something like moody-creepy-moody-creepy-OHHELLNOWTHATSCREEPY-moody. The remake is moody-moody-wet-wet-wet-moody. The scenes which should scare us are at best - confusing. Instead of being thrilled or scared, you\\'ll have either a confused or \"get on with it already\" look on your face.If I started dissecting what they did wrong in the movie, the list would never end. Here are just some of the things. There are basically three key child actors in this movie (I won\\'t say more to avoid spoilers) yet all three of them are so similar it is really hard to discern them - which is bad, since this is the key for following the plot or *ahem* being scared in a few scenes. What is worse, this was obviously an intentional decision, since even their clothing is almost identical. The director must have tried to put some point across, but what he achieved is needless confusion. Furthermore, all the potentially scary motifs are gone except for the water. Message for the director: WATER IS NOT CREEPY, AND ADDING MORE WATER DOES NOT MAKE IT CREEPIER. I don\\'t know what he was thinking, probably the test audience consisted of a bunch of aquaphobics.I could go on and on but I will finish with the thing what bothered me the most: the ending. I didn\\'t like the original ending, but it kinda worked, and I was interested in the remake mostly because I wanted to see a reinterpretation of that few key horrifying scenes near the end. Boy, was I in for a treat. The remake went for a thematically similar but really a totally different ending, with NO SCARY SCENES at all, except it went nuts with amounts of, yes you guessed it, WATER. So much for getting my money\\'s worth.Anyway, the bottom line is this is not just a bad remake but a bad sample of the genre. You will be bored and just perhaps slightly moved (the daughter is cute and you kinda care what happens to her) but you won\\'t be scared and you definitely won\\'t be satisfied.Except you are really scared of water, then this will be a true ride of terror.4/10'"
            ],
            "application/vnd.google.colaboratory.intrinsic+json": {
              "type": "string"
            }
          },
          "metadata": {},
          "execution_count": 118
        }
      ]
    },
    {
      "cell_type": "code",
      "source": [
        "import re\n",
        "import string\n",
        "import nltk\n",
        "from nltk.corpus import stopwords\n",
        "from nltk.stem import WordNetLemmatizer\n",
        "from nltk.stem.porter import *\n",
        "from tqdm import tqdm\n",
        "from nltk import sent_tokenize,word_tokenize\n",
        "\n",
        "nltk.download('stopwords')\n",
        "nltk.download('punkt')\n",
        "nltk.download('wordnet')\n",
        "nltk.download('omw-1.4')"
      ],
      "metadata": {
        "colab": {
          "base_uri": "https://localhost:8080/"
        },
        "id": "s9jktLj0RE2K",
        "outputId": "d3a28ce8-aa05-453c-b4f1-6637073285aa"
      },
      "execution_count": 119,
      "outputs": [
        {
          "output_type": "stream",
          "name": "stderr",
          "text": [
            "[nltk_data] Downloading package stopwords to /root/nltk_data...\n",
            "[nltk_data]   Package stopwords is already up-to-date!\n",
            "[nltk_data] Downloading package punkt to /root/nltk_data...\n",
            "[nltk_data]   Package punkt is already up-to-date!\n",
            "[nltk_data] Downloading package wordnet to /root/nltk_data...\n",
            "[nltk_data]   Package wordnet is already up-to-date!\n",
            "[nltk_data] Downloading package omw-1.4 to /root/nltk_data...\n",
            "[nltk_data]   Package omw-1.4 is already up-to-date!\n"
          ]
        },
        {
          "output_type": "execute_result",
          "data": {
            "text/plain": [
              "True"
            ]
          },
          "metadata": {},
          "execution_count": 119
        }
      ]
    },
    {
      "cell_type": "code",
      "source": [
        "main = []\n",
        "\n",
        "# Storing all punctuations using RE library like !;,\"% etc\n",
        "re_puncs = re.compile('[%s]' % re.escape(string.punctuation))\n",
        "# Storing all stop words like a, an, the, when, there, this etc\n",
        "stop_word  = set(stopwords.words('english'))\n",
        "stop_word.add(\"im\")\n",
        "# print(stop_word)\n"
      ],
      "metadata": {
        "id": "unexSO72RQiG"
      },
      "execution_count": 120,
      "outputs": []
    },
    {
      "cell_type": "code",
      "source": [
        "sentences_listed = [line.split(\" \") for line in df['review']]\n",
        "\n",
        "import gensim\n",
        "\n",
        "word_model = gensim.models.Word2Vec(sentences = sentences_listed, vector_size = 100)\n",
        "words = list(word_model.wv.key_to_index)\n",
        "print(len(words))"
      ],
      "metadata": {
        "colab": {
          "base_uri": "https://localhost:8080/"
        },
        "id": "uLp5QsLaRdVz",
        "outputId": "f98619f7-aa61-41df-d055-b5f519a85ebb"
      },
      "execution_count": 121,
      "outputs": [
        {
          "output_type": "stream",
          "name": "stdout",
          "text": [
            "8729\n"
          ]
        }
      ]
    },
    {
      "cell_type": "code",
      "source": [
        "!pip install gensim"
      ],
      "metadata": {
        "colab": {
          "base_uri": "https://localhost:8080/"
        },
        "id": "3G34SZxiRjNl",
        "outputId": "17862388-7420-4c04-af4f-2bc4a7d163fa"
      },
      "execution_count": 122,
      "outputs": [
        {
          "output_type": "stream",
          "name": "stdout",
          "text": [
            "Requirement already satisfied: gensim in /usr/local/lib/python3.10/dist-packages (4.3.2)\n",
            "Requirement already satisfied: numpy>=1.18.5 in /usr/local/lib/python3.10/dist-packages (from gensim) (1.25.2)\n",
            "Requirement already satisfied: scipy>=1.7.0 in /usr/local/lib/python3.10/dist-packages (from gensim) (1.11.4)\n",
            "Requirement already satisfied: smart-open>=1.8.1 in /usr/local/lib/python3.10/dist-packages (from gensim) (7.0.4)\n",
            "Requirement already satisfied: wrapt in /usr/local/lib/python3.10/dist-packages (from smart-open>=1.8.1->gensim) (1.14.1)\n"
          ]
        }
      ]
    },
    {
      "cell_type": "code",
      "source": [
        "word_model.wv.most_similar(\"actress\")"
      ],
      "metadata": {
        "colab": {
          "base_uri": "https://localhost:8080/"
        },
        "id": "GPgFjxCBRnhF",
        "outputId": "5a377220-7176-40a6-e173-2d9500bf371a"
      },
      "execution_count": 123,
      "outputs": [
        {
          "output_type": "execute_result",
          "data": {
            "text/plain": [
              "[('role', 0.9481761455535889),\n",
              " ('performance', 0.9480102062225342),\n",
              " ('Connelly', 0.9122159481048584),\n",
              " ('Jennifer', 0.8994792699813843),\n",
              " ('lead,', 0.8980265259742737),\n",
              " ('Gellar', 0.8972123861312866),\n",
              " ('Watts', 0.8940590620040894),\n",
              " ('actor', 0.8908982872962952),\n",
              " ('amazing', 0.8871170878410339),\n",
              " ('lead.', 0.881645143032074)]"
            ]
          },
          "metadata": {},
          "execution_count": 123
        }
      ]
    },
    {
      "cell_type": "code",
      "source": [
        "word_model.wv.most_similar(\"death\")"
      ],
      "metadata": {
        "colab": {
          "base_uri": "https://localhost:8080/"
        },
        "id": "A6IfkeLNRqFA",
        "outputId": "c6e4c093-c8a7-437c-b10e-4c1aa3fdb8d0"
      },
      "execution_count": 124,
      "outputs": [
        {
          "output_type": "execute_result",
          "data": {
            "text/plain": [
              "[('sister', 0.9220953583717346),\n",
              " (\"mother's\", 0.9195573329925537),\n",
              " ('house,', 0.9178259372711182),\n",
              " ('lives', 0.9161317944526672),\n",
              " ('niece', 0.9155774712562561),\n",
              " ('curse', 0.9150200486183167),\n",
              " ('family', 0.9147472381591797),\n",
              " ('father', 0.9142229557037354),\n",
              " ('woman', 0.9137316942214966),\n",
              " ('daughter', 0.9127646088600159)]"
            ]
          },
          "metadata": {},
          "execution_count": 124
        }
      ]
    },
    {
      "cell_type": "code",
      "source": [
        "word_model.wv.most_similar(\"scary\")"
      ],
      "metadata": {
        "colab": {
          "base_uri": "https://localhost:8080/"
        },
        "id": "aHYhXMc0RvDF",
        "outputId": "3a3d016f-a1ea-4a11-8ae1-8688209b3e55"
      },
      "execution_count": 125,
      "outputs": [
        {
          "output_type": "execute_result",
          "data": {
            "text/plain": [
              "[('bad', 0.9063279628753662),\n",
              " ('scary,', 0.7712457776069641),\n",
              " ('good', 0.7582293748855591),\n",
              " ('truly', 0.7567077279090881),\n",
              " ('scary.', 0.7371953725814819),\n",
              " ('really', 0.7366823554039001),\n",
              " ('quite', 0.715095043182373),\n",
              " ('boring', 0.7149451375007629),\n",
              " ('Not', 0.704075813293457),\n",
              " ('fun', 0.6950154900550842)]"
            ]
          },
          "metadata": {},
          "execution_count": 125
        }
      ]
    },
    {
      "cell_type": "code",
      "source": [
        "# Making Lemmatizing object\n",
        "lem = WordNetLemmatizer()\n",
        "# Using Porter Stemmer\n",
        "p_stem = PorterStemmer()\n",
        "\n",
        "# Traversing whole dataset\n",
        "for i in tqdm(range(len(df['review']))):\n",
        "    # Tokenization\n",
        "    tokens = word_tokenize(str(df['review'][i]))\n",
        "    # Converting all characters to lower case\n",
        "    tokens = [w.lower() for w in tokens]\n",
        "    # Remove all punctuations from sentenses\n",
        "    tokens = [re_puncs.sub('', w) for w in tokens]\n",
        "    # Checking all words is alphabets or not\n",
        "    tokens = [i for i in tokens if i.isalpha()]\n",
        "    # Removing all stop words from the sentenses\n",
        "    tokens = [w for w in tokens if w not in stop_word]\n",
        "    # Doing Lemmatizing of words\n",
        "    tokens = [lem.lemmatize(w) for w in tokens]\n",
        "    # Stemming process\n",
        "    tokens = [p_stem.stem(w) for w in tokens]\n",
        "    # Finally convert to string\n",
        "    r = ' '.join(tokens)\n",
        "    # Storing the final string into main list\n",
        "    main.append(r)\n"
      ],
      "metadata": {
        "colab": {
          "base_uri": "https://localhost:8080/"
        },
        "id": "R7A1wClxRzER",
        "outputId": "05a879c5-4287-4239-adba-dafa2a84d966"
      },
      "execution_count": 126,
      "outputs": [
        {
          "output_type": "stream",
          "name": "stderr",
          "text": [
            "100%|██████████| 3302/3302 [00:31<00:00, 103.54it/s]\n"
          ]
        }
      ]
    },
    {
      "cell_type": "code",
      "source": [
        "df['translated'] = main"
      ],
      "metadata": {
        "id": "IIIkhxzKXEwI"
      },
      "execution_count": 127,
      "outputs": []
    },
    {
      "cell_type": "code",
      "source": [
        "df"
      ],
      "metadata": {
        "colab": {
          "base_uri": "https://localhost:8080/",
          "height": 510
        },
        "id": "mhxJj5zWXYiC",
        "outputId": "9aa805e2-6698-4a71-97b0-df498304d37d"
      },
      "execution_count": 128,
      "outputs": [
        {
          "output_type": "execute_result",
          "data": {
            "text/plain": [
              "                                                  title  \\\n",
              "0                                Creepy and atmospheric   \n",
              "1                                            Teenagers!   \n",
              "2       Pretty good with a great performance by Connely   \n",
              "3                                  Dark Water Has Depth   \n",
              "4     Good character-driven human drama; I blame the...   \n",
              "...                                                 ...   \n",
              "3297                                         Uninspired   \n",
              "3298  Great progress for further Asian remakes! The ...   \n",
              "3299  The ending makes it filled with flaws and conf...   \n",
              "3300        A knock off of \"The Other\" not half bad but   \n",
              "3301                                    TOO PREDICTABLE   \n",
              "\n",
              "                                                 review rating  \\\n",
              "0     The Hollywood version of 'Dark Water' is based...   8/10   \n",
              "1     Don't know about you all, but I've sort of had...   9/10   \n",
              "2     Dark Water is another one of those slow PG-13,...   8/10   \n",
              "3     Of all the recent remakes of Japanese horror f...   9/10   \n",
              "4     Once more, a great injustice has been done by ...   7/10   \n",
              "...                                                 ...    ...   \n",
              "3297  I haven't seen that many scary movies, but one...   7/10   \n",
              "3298  I came back from the 'The Uninvited' and I am ...   8/10   \n",
              "3299  I found The Uninvited on IMDb and saw it got a...   6/10   \n",
              "3300  A not bad, nifty thriller that unfortunately b...   5/10   \n",
              "3301  The story is just TOO PREDICTABLE. Plenty of u...   9/10   \n",
              "\n",
              "                                             translated  \n",
              "0     hollywood version dark water base japanes horr...  \n",
              "1     nt know sort teenag walter sall dark water flo...  \n",
              "2     dark water anoth one slow atmospher creepi gho...  \n",
              "3     recent remak japanes horror film say dark wate...  \n",
              "4     great injustic done imdb voter dark water curr...  \n",
              "...                                                 ...  \n",
              "3297  nt seen mani scari movi one thing know sure mo...  \n",
              "3298  came back uninvit surpris horror fanat everi h...  \n",
              "3299  found uninvit imdb saw got okay rate horrorsus...  \n",
              "3300  bad nifti thriller unfortun break rule ca nt t...  \n",
              "3301  stori predict plenti unnecessari scene sens su...  \n",
              "\n",
              "[3302 rows x 4 columns]"
            ],
            "text/html": [
              "\n",
              "  <div id=\"df-979a3d7f-ac72-4cc8-84e9-8a8cb2d47d92\" class=\"colab-df-container\">\n",
              "    <div>\n",
              "<style scoped>\n",
              "    .dataframe tbody tr th:only-of-type {\n",
              "        vertical-align: middle;\n",
              "    }\n",
              "\n",
              "    .dataframe tbody tr th {\n",
              "        vertical-align: top;\n",
              "    }\n",
              "\n",
              "    .dataframe thead th {\n",
              "        text-align: right;\n",
              "    }\n",
              "</style>\n",
              "<table border=\"1\" class=\"dataframe\">\n",
              "  <thead>\n",
              "    <tr style=\"text-align: right;\">\n",
              "      <th></th>\n",
              "      <th>title</th>\n",
              "      <th>review</th>\n",
              "      <th>rating</th>\n",
              "      <th>translated</th>\n",
              "    </tr>\n",
              "  </thead>\n",
              "  <tbody>\n",
              "    <tr>\n",
              "      <th>0</th>\n",
              "      <td>Creepy and atmospheric</td>\n",
              "      <td>The Hollywood version of 'Dark Water' is based...</td>\n",
              "      <td>8/10</td>\n",
              "      <td>hollywood version dark water base japanes horr...</td>\n",
              "    </tr>\n",
              "    <tr>\n",
              "      <th>1</th>\n",
              "      <td>Teenagers!</td>\n",
              "      <td>Don't know about you all, but I've sort of had...</td>\n",
              "      <td>9/10</td>\n",
              "      <td>nt know sort teenag walter sall dark water flo...</td>\n",
              "    </tr>\n",
              "    <tr>\n",
              "      <th>2</th>\n",
              "      <td>Pretty good with a great performance by Connely</td>\n",
              "      <td>Dark Water is another one of those slow PG-13,...</td>\n",
              "      <td>8/10</td>\n",
              "      <td>dark water anoth one slow atmospher creepi gho...</td>\n",
              "    </tr>\n",
              "    <tr>\n",
              "      <th>3</th>\n",
              "      <td>Dark Water Has Depth</td>\n",
              "      <td>Of all the recent remakes of Japanese horror f...</td>\n",
              "      <td>9/10</td>\n",
              "      <td>recent remak japanes horror film say dark wate...</td>\n",
              "    </tr>\n",
              "    <tr>\n",
              "      <th>4</th>\n",
              "      <td>Good character-driven human drama; I blame the...</td>\n",
              "      <td>Once more, a great injustice has been done by ...</td>\n",
              "      <td>7/10</td>\n",
              "      <td>great injustic done imdb voter dark water curr...</td>\n",
              "    </tr>\n",
              "    <tr>\n",
              "      <th>...</th>\n",
              "      <td>...</td>\n",
              "      <td>...</td>\n",
              "      <td>...</td>\n",
              "      <td>...</td>\n",
              "    </tr>\n",
              "    <tr>\n",
              "      <th>3297</th>\n",
              "      <td>Uninspired</td>\n",
              "      <td>I haven't seen that many scary movies, but one...</td>\n",
              "      <td>7/10</td>\n",
              "      <td>nt seen mani scari movi one thing know sure mo...</td>\n",
              "    </tr>\n",
              "    <tr>\n",
              "      <th>3298</th>\n",
              "      <td>Great progress for further Asian remakes! The ...</td>\n",
              "      <td>I came back from the 'The Uninvited' and I am ...</td>\n",
              "      <td>8/10</td>\n",
              "      <td>came back uninvit surpris horror fanat everi h...</td>\n",
              "    </tr>\n",
              "    <tr>\n",
              "      <th>3299</th>\n",
              "      <td>The ending makes it filled with flaws and conf...</td>\n",
              "      <td>I found The Uninvited on IMDb and saw it got a...</td>\n",
              "      <td>6/10</td>\n",
              "      <td>found uninvit imdb saw got okay rate horrorsus...</td>\n",
              "    </tr>\n",
              "    <tr>\n",
              "      <th>3300</th>\n",
              "      <td>A knock off of \"The Other\" not half bad but</td>\n",
              "      <td>A not bad, nifty thriller that unfortunately b...</td>\n",
              "      <td>5/10</td>\n",
              "      <td>bad nifti thriller unfortun break rule ca nt t...</td>\n",
              "    </tr>\n",
              "    <tr>\n",
              "      <th>3301</th>\n",
              "      <td>TOO PREDICTABLE</td>\n",
              "      <td>The story is just TOO PREDICTABLE. Plenty of u...</td>\n",
              "      <td>9/10</td>\n",
              "      <td>stori predict plenti unnecessari scene sens su...</td>\n",
              "    </tr>\n",
              "  </tbody>\n",
              "</table>\n",
              "<p>3302 rows × 4 columns</p>\n",
              "</div>\n",
              "    <div class=\"colab-df-buttons\">\n",
              "\n",
              "  <div class=\"colab-df-container\">\n",
              "    <button class=\"colab-df-convert\" onclick=\"convertToInteractive('df-979a3d7f-ac72-4cc8-84e9-8a8cb2d47d92')\"\n",
              "            title=\"Convert this dataframe to an interactive table.\"\n",
              "            style=\"display:none;\">\n",
              "\n",
              "  <svg xmlns=\"http://www.w3.org/2000/svg\" height=\"24px\" viewBox=\"0 -960 960 960\">\n",
              "    <path d=\"M120-120v-720h720v720H120Zm60-500h600v-160H180v160Zm220 220h160v-160H400v160Zm0 220h160v-160H400v160ZM180-400h160v-160H180v160Zm440 0h160v-160H620v160ZM180-180h160v-160H180v160Zm440 0h160v-160H620v160Z\"/>\n",
              "  </svg>\n",
              "    </button>\n",
              "\n",
              "  <style>\n",
              "    .colab-df-container {\n",
              "      display:flex;\n",
              "      gap: 12px;\n",
              "    }\n",
              "\n",
              "    .colab-df-convert {\n",
              "      background-color: #E8F0FE;\n",
              "      border: none;\n",
              "      border-radius: 50%;\n",
              "      cursor: pointer;\n",
              "      display: none;\n",
              "      fill: #1967D2;\n",
              "      height: 32px;\n",
              "      padding: 0 0 0 0;\n",
              "      width: 32px;\n",
              "    }\n",
              "\n",
              "    .colab-df-convert:hover {\n",
              "      background-color: #E2EBFA;\n",
              "      box-shadow: 0px 1px 2px rgba(60, 64, 67, 0.3), 0px 1px 3px 1px rgba(60, 64, 67, 0.15);\n",
              "      fill: #174EA6;\n",
              "    }\n",
              "\n",
              "    .colab-df-buttons div {\n",
              "      margin-bottom: 4px;\n",
              "    }\n",
              "\n",
              "    [theme=dark] .colab-df-convert {\n",
              "      background-color: #3B4455;\n",
              "      fill: #D2E3FC;\n",
              "    }\n",
              "\n",
              "    [theme=dark] .colab-df-convert:hover {\n",
              "      background-color: #434B5C;\n",
              "      box-shadow: 0px 1px 3px 1px rgba(0, 0, 0, 0.15);\n",
              "      filter: drop-shadow(0px 1px 2px rgba(0, 0, 0, 0.3));\n",
              "      fill: #FFFFFF;\n",
              "    }\n",
              "  </style>\n",
              "\n",
              "    <script>\n",
              "      const buttonEl =\n",
              "        document.querySelector('#df-979a3d7f-ac72-4cc8-84e9-8a8cb2d47d92 button.colab-df-convert');\n",
              "      buttonEl.style.display =\n",
              "        google.colab.kernel.accessAllowed ? 'block' : 'none';\n",
              "\n",
              "      async function convertToInteractive(key) {\n",
              "        const element = document.querySelector('#df-979a3d7f-ac72-4cc8-84e9-8a8cb2d47d92');\n",
              "        const dataTable =\n",
              "          await google.colab.kernel.invokeFunction('convertToInteractive',\n",
              "                                                    [key], {});\n",
              "        if (!dataTable) return;\n",
              "\n",
              "        const docLinkHtml = 'Like what you see? Visit the ' +\n",
              "          '<a target=\"_blank\" href=https://colab.research.google.com/notebooks/data_table.ipynb>data table notebook</a>'\n",
              "          + ' to learn more about interactive tables.';\n",
              "        element.innerHTML = '';\n",
              "        dataTable['output_type'] = 'display_data';\n",
              "        await google.colab.output.renderOutput(dataTable, element);\n",
              "        const docLink = document.createElement('div');\n",
              "        docLink.innerHTML = docLinkHtml;\n",
              "        element.appendChild(docLink);\n",
              "      }\n",
              "    </script>\n",
              "  </div>\n",
              "\n",
              "\n",
              "<div id=\"df-26a9e871-a893-43eb-9eb9-09db016b11de\">\n",
              "  <button class=\"colab-df-quickchart\" onclick=\"quickchart('df-26a9e871-a893-43eb-9eb9-09db016b11de')\"\n",
              "            title=\"Suggest charts\"\n",
              "            style=\"display:none;\">\n",
              "\n",
              "<svg xmlns=\"http://www.w3.org/2000/svg\" height=\"24px\"viewBox=\"0 0 24 24\"\n",
              "     width=\"24px\">\n",
              "    <g>\n",
              "        <path d=\"M19 3H5c-1.1 0-2 .9-2 2v14c0 1.1.9 2 2 2h14c1.1 0 2-.9 2-2V5c0-1.1-.9-2-2-2zM9 17H7v-7h2v7zm4 0h-2V7h2v10zm4 0h-2v-4h2v4z\"/>\n",
              "    </g>\n",
              "</svg>\n",
              "  </button>\n",
              "\n",
              "<style>\n",
              "  .colab-df-quickchart {\n",
              "      --bg-color: #E8F0FE;\n",
              "      --fill-color: #1967D2;\n",
              "      --hover-bg-color: #E2EBFA;\n",
              "      --hover-fill-color: #174EA6;\n",
              "      --disabled-fill-color: #AAA;\n",
              "      --disabled-bg-color: #DDD;\n",
              "  }\n",
              "\n",
              "  [theme=dark] .colab-df-quickchart {\n",
              "      --bg-color: #3B4455;\n",
              "      --fill-color: #D2E3FC;\n",
              "      --hover-bg-color: #434B5C;\n",
              "      --hover-fill-color: #FFFFFF;\n",
              "      --disabled-bg-color: #3B4455;\n",
              "      --disabled-fill-color: #666;\n",
              "  }\n",
              "\n",
              "  .colab-df-quickchart {\n",
              "    background-color: var(--bg-color);\n",
              "    border: none;\n",
              "    border-radius: 50%;\n",
              "    cursor: pointer;\n",
              "    display: none;\n",
              "    fill: var(--fill-color);\n",
              "    height: 32px;\n",
              "    padding: 0;\n",
              "    width: 32px;\n",
              "  }\n",
              "\n",
              "  .colab-df-quickchart:hover {\n",
              "    background-color: var(--hover-bg-color);\n",
              "    box-shadow: 0 1px 2px rgba(60, 64, 67, 0.3), 0 1px 3px 1px rgba(60, 64, 67, 0.15);\n",
              "    fill: var(--button-hover-fill-color);\n",
              "  }\n",
              "\n",
              "  .colab-df-quickchart-complete:disabled,\n",
              "  .colab-df-quickchart-complete:disabled:hover {\n",
              "    background-color: var(--disabled-bg-color);\n",
              "    fill: var(--disabled-fill-color);\n",
              "    box-shadow: none;\n",
              "  }\n",
              "\n",
              "  .colab-df-spinner {\n",
              "    border: 2px solid var(--fill-color);\n",
              "    border-color: transparent;\n",
              "    border-bottom-color: var(--fill-color);\n",
              "    animation:\n",
              "      spin 1s steps(1) infinite;\n",
              "  }\n",
              "\n",
              "  @keyframes spin {\n",
              "    0% {\n",
              "      border-color: transparent;\n",
              "      border-bottom-color: var(--fill-color);\n",
              "      border-left-color: var(--fill-color);\n",
              "    }\n",
              "    20% {\n",
              "      border-color: transparent;\n",
              "      border-left-color: var(--fill-color);\n",
              "      border-top-color: var(--fill-color);\n",
              "    }\n",
              "    30% {\n",
              "      border-color: transparent;\n",
              "      border-left-color: var(--fill-color);\n",
              "      border-top-color: var(--fill-color);\n",
              "      border-right-color: var(--fill-color);\n",
              "    }\n",
              "    40% {\n",
              "      border-color: transparent;\n",
              "      border-right-color: var(--fill-color);\n",
              "      border-top-color: var(--fill-color);\n",
              "    }\n",
              "    60% {\n",
              "      border-color: transparent;\n",
              "      border-right-color: var(--fill-color);\n",
              "    }\n",
              "    80% {\n",
              "      border-color: transparent;\n",
              "      border-right-color: var(--fill-color);\n",
              "      border-bottom-color: var(--fill-color);\n",
              "    }\n",
              "    90% {\n",
              "      border-color: transparent;\n",
              "      border-bottom-color: var(--fill-color);\n",
              "    }\n",
              "  }\n",
              "</style>\n",
              "\n",
              "  <script>\n",
              "    async function quickchart(key) {\n",
              "      const quickchartButtonEl =\n",
              "        document.querySelector('#' + key + ' button');\n",
              "      quickchartButtonEl.disabled = true;  // To prevent multiple clicks.\n",
              "      quickchartButtonEl.classList.add('colab-df-spinner');\n",
              "      try {\n",
              "        const charts = await google.colab.kernel.invokeFunction(\n",
              "            'suggestCharts', [key], {});\n",
              "      } catch (error) {\n",
              "        console.error('Error during call to suggestCharts:', error);\n",
              "      }\n",
              "      quickchartButtonEl.classList.remove('colab-df-spinner');\n",
              "      quickchartButtonEl.classList.add('colab-df-quickchart-complete');\n",
              "    }\n",
              "    (() => {\n",
              "      let quickchartButtonEl =\n",
              "        document.querySelector('#df-26a9e871-a893-43eb-9eb9-09db016b11de button');\n",
              "      quickchartButtonEl.style.display =\n",
              "        google.colab.kernel.accessAllowed ? 'block' : 'none';\n",
              "    })();\n",
              "  </script>\n",
              "</div>\n",
              "\n",
              "  <div id=\"id_9aab205c-bfcf-4b50-9f8a-50b993d12a87\">\n",
              "    <style>\n",
              "      .colab-df-generate {\n",
              "        background-color: #E8F0FE;\n",
              "        border: none;\n",
              "        border-radius: 50%;\n",
              "        cursor: pointer;\n",
              "        display: none;\n",
              "        fill: #1967D2;\n",
              "        height: 32px;\n",
              "        padding: 0 0 0 0;\n",
              "        width: 32px;\n",
              "      }\n",
              "\n",
              "      .colab-df-generate:hover {\n",
              "        background-color: #E2EBFA;\n",
              "        box-shadow: 0px 1px 2px rgba(60, 64, 67, 0.3), 0px 1px 3px 1px rgba(60, 64, 67, 0.15);\n",
              "        fill: #174EA6;\n",
              "      }\n",
              "\n",
              "      [theme=dark] .colab-df-generate {\n",
              "        background-color: #3B4455;\n",
              "        fill: #D2E3FC;\n",
              "      }\n",
              "\n",
              "      [theme=dark] .colab-df-generate:hover {\n",
              "        background-color: #434B5C;\n",
              "        box-shadow: 0px 1px 3px 1px rgba(0, 0, 0, 0.15);\n",
              "        filter: drop-shadow(0px 1px 2px rgba(0, 0, 0, 0.3));\n",
              "        fill: #FFFFFF;\n",
              "      }\n",
              "    </style>\n",
              "    <button class=\"colab-df-generate\" onclick=\"generateWithVariable('df')\"\n",
              "            title=\"Generate code using this dataframe.\"\n",
              "            style=\"display:none;\">\n",
              "\n",
              "  <svg xmlns=\"http://www.w3.org/2000/svg\" height=\"24px\"viewBox=\"0 0 24 24\"\n",
              "       width=\"24px\">\n",
              "    <path d=\"M7,19H8.4L18.45,9,17,7.55,7,17.6ZM5,21V16.75L18.45,3.32a2,2,0,0,1,2.83,0l1.4,1.43a1.91,1.91,0,0,1,.58,1.4,1.91,1.91,0,0,1-.58,1.4L9.25,21ZM18.45,9,17,7.55Zm-12,3A5.31,5.31,0,0,0,4.9,8.1,5.31,5.31,0,0,0,1,6.5,5.31,5.31,0,0,0,4.9,4.9,5.31,5.31,0,0,0,6.5,1,5.31,5.31,0,0,0,8.1,4.9,5.31,5.31,0,0,0,12,6.5,5.46,5.46,0,0,0,6.5,12Z\"/>\n",
              "  </svg>\n",
              "    </button>\n",
              "    <script>\n",
              "      (() => {\n",
              "      const buttonEl =\n",
              "        document.querySelector('#id_9aab205c-bfcf-4b50-9f8a-50b993d12a87 button.colab-df-generate');\n",
              "      buttonEl.style.display =\n",
              "        google.colab.kernel.accessAllowed ? 'block' : 'none';\n",
              "\n",
              "      buttonEl.onclick = () => {\n",
              "        google.colab.notebook.generateWithVariable('df');\n",
              "      }\n",
              "      })();\n",
              "    </script>\n",
              "  </div>\n",
              "\n",
              "    </div>\n",
              "  </div>\n"
            ],
            "application/vnd.google.colaboratory.intrinsic+json": {
              "type": "dataframe",
              "variable_name": "df",
              "summary": "{\n  \"name\": \"df\",\n  \"rows\": 3302,\n  \"fields\": [\n    {\n      \"column\": \"title\",\n      \"properties\": {\n        \"dtype\": \"string\",\n        \"num_unique_values\": 3222,\n        \"samples\": [\n          \"So-so horror film\",\n          \"Well worth a watch\",\n          \"inedible cinematic food\"\n        ],\n        \"semantic_type\": \"\",\n        \"description\": \"\"\n      }\n    },\n    {\n      \"column\": \"review\",\n      \"properties\": {\n        \"dtype\": \"string\",\n        \"num_unique_values\": 3299,\n        \"samples\": [\n          \"it was the best horror film i've watched for a long time. For a very long time, there hasnt been a horror film which can make people be scared but this was really scary. every minute you should be ready for surprises thoughout the film.\",\n          \"Some tips on how to write a horror movie...All you need is a young hero or heroine who discovers some kind of cursed device is killing off all of their friends. The device may be anything, just as long as it's something we use everyday like a computer or something. After a group of the hero's faceless and underdeveloped friends die (The depiction of said deaths will depend on whether or not your film is PG-13 or R.), the hero must then team up with a second hero, and try to discover what's going on. After going through old files and visiting creepy old buildings that hold secrets of the past, the lead characters must discover that the cursed object is tied into some tragic past event, usually revolving around a spooky little girl. As the clock ticks down to the hero's own death, they must race to right the wrongs of the past. After the past has seemingly been corrected, the characters breathe a sigh of relief, only to discover that they were wrong, and that someone or something else is responsible for the evil.It is a formula that has been employed by numerous films, many originating in Japan or some other Asian country. One Missed Call follows this formula to the letter, right down to the originating in Japan part. The only problem is that it seems to know we've seen it all before. The actors sleepwalk through their dialogue, and many times the hero of the story - a college student named Beth Raymond (Shannyn Sossamon), forgets to even react to the deaths of her friends. You see, all of Beth's friends are being killed off by a cursed cell phone voice mail message. It appears on your phone, and when you play it back, you hear the exact moment of your death. The friends are haunted by spooky visions of ghouls and decaying people walking around in broad daylight, until the character suddenly meets an untimely end in some sort of \\\"accident\\\" that makes me think the evil ghost in this movie took lessons from the ghastly spirit in the Final Destination films, as its method of killing people is somewhat similar. The Final Destination villain is much more flashier and complex in its killings, but you have to remember, the ghost in this movie is working under a much more restricted PG-13 rating, so you can't really blame it if its kills are not as bloody or grand.Now, let me ask you something here. If you knew that people were dying because of a mysterious voice message that appears on your cell phone, wouldn't you just try not listening to the voice message in the first place? This never dawns on Beth or her friends. They try smashing their cell phones to pieces, but this doesn't seem to halt the killer spirit's advances. I don't know if not listening to the message would save your life or not, but I figure if all of my friends were being killed after listening to it, I'd be willing to give it a shot. The movie continues down the expected path, and introduces our second hero, a police detective named Jack Andrews (Edward Burns). He's the only person who believes Beth's story about the cursed voice mail message, because his sister was a victim of it, too. They join forces to discover the truth behind the curse, and the clues fall right into place, leading them to a hospital that burned down a while ago. Everything that we saw happen in films like The Ring, The Grudge, Dark Water, and the like happens, and not even the characters don't seem to be all that surprised. They go through the expected motions, and so does the movie itself.When I say One Missed Call follows a rigid path, I am dead serious. There's not one single moment we haven't seen in similar-themed movies. I have not seen the Japanese movie that inspired this remake, so I don't know if the original was as uninspired as this. I will give the original the benefit of the doubt that it had a lot more life and energy than this. The characters all seem to be walking a pre-determined path, and what's worse, they seem to know it. There's nothing worse than when the characters seem to be smarter than the movie they're in, but they're forced to act like idiots, because it's expected of them to do so. The movie doesn't even do a good job of explaining itself from time to time. I'm trying hard not to go into spoilers here, but should you see this movie (not that I'm recommending you do), ask yourself why the corpse they discover in the tunnels underneath the burnt hospital was there in the first place? Also ask yourself how many reality TV shows are filmed live? And wouldn't having someone die on your show live on national television kind of cause more attention than it seems to in this movie? My personal favorite moment of the movie actually comes early on, when the film's first victim meets an untimely end. The ghost then decides to not only kill her, but comes back for the victim's pet cat moments later. Did the cat get an eerie voice mail too? One Missed Call is the very definition of an early January release, a time of the year when the studios usually unload their stinkers that they don't know what to do with. The fact that it's the only new movie opening this weekend in wide release means that it will most likely find an audience with kids and teens looking for a cheap thrill. If you're bored this weekend, and actually consider this movie, please don't. This movie does not alleviate boredom, it only causes it.\",\n          \"Let me admit openly to you. I'm very surprised with The Uninvited. Given that Hollywood remakes of Asian horror films are almost universally unwatchable, I did not expect to enjoy this one at all. The Guard Brothers' film is more \\\"inspired\\\" by A Tale of Two Sisters, than it is a typical remake. Yes, our beloved South Korean masterpiece has been stripped of its unsettling presence and catered to pubescent boys. PG-13 terror sequences are spliced among teenage debauchery, but something of its parent remains. The original's method of framing hallucinations of dead people creeping out from furniture or down hallways still works. Still, as its sub-genre requires, a lot is left unexplained in The Uninvited. I don't mean good ambiguity. Think of King Kong's rampage through New York. Plot holes are that noticeable.The original film's story has been appropriately reworked, but the differences are rather pronounced. I'm still unsure about certain aspects of the plot. In this movie, there may actually be real ghosts. They appear to the younger sister this time, who is struggling over the older one's death. She convinces herself that her stepmother is a criminal who was never apprehended for previous crimes. Anna, the younger sister, repeatedly comforts herself with assurance that her older sister, Alex, is still alive. These scenes are directed well, and it isn't obvious to viewers that Alex is dead. The Uninvited is distinguished from its original film by its protagonist's motivation. Anna wants vengeance for her older sister's death, while Su-mi wants reconciliation for her inability to prevent her younger sister's death. One movie asks for sympathy with its main character, and the other one demands sympathy for supporting players. This is even more obvious because the stepmother really dies in this version.The Uninvited isn't the pinnacle of Hollywood remakes of Asian films. Too many egregious errors are obvious to anyone who has read a novel recently. Firstly, Anna confuses her stepmother for Mildred Kemp, a murderer who was never captured. The movie ends with Kemp confronting Anna, in a mental health clinic, about her experience. Anna also sees Kemp's victims' ghosts. OK, why would she do that? Unlike the first movie, most scary sequences are carried out by the ghosts. A Tale of Two Sisters infers that Su-yeon may be under the sink or in hutch. Alex, the imagined sister, is a harmless recreation that supports Anna in her revenge plot. I like the ambiguity created between ghosts and visions of deceased, but I don't think it's intentional. This movie copies its parent's greatest strengths by stumbling through an established model. It does work, but it's like listening to a backyard band sing a Beatles song and not sounding as bad as expected.A Tale of Two Sisters is a story that easily crosses cultural boundaries. I've conducted further online research since my original review and have discovered that director Kim Ji-woon based his film on a Korean folktale. In \\\"Janghwa Hongreyon jeon,\\\" a single father marries a new woman who argues with his daughters. \\\"Stepmother\\\" frames one of her stepdaughters of unchaste behavior and has her own son drown her. She also has her remaining stepdaughter killed via drowning. The spirits of the dead girls haunt local residents until someone proves they did not commit suicide.\"\n        ],\n        \"semantic_type\": \"\",\n        \"description\": \"\"\n      }\n    },\n    {\n      \"column\": \"rating\",\n      \"properties\": {\n        \"dtype\": \"category\",\n        \"num_unique_values\": 10,\n        \"samples\": [\n          \"2/10\",\n          \"9/10\",\n          \"5/10\"\n        ],\n        \"semantic_type\": \"\",\n        \"description\": \"\"\n      }\n    },\n    {\n      \"column\": \"translated\",\n      \"properties\": {\n        \"dtype\": \"string\",\n        \"num_unique_values\": 3299,\n        \"samples\": [\n          \"best horror film watch long time long time hasnt horror film make peopl scare realli scari everi minut readi surpris thoughout film\",\n          \"tip write horror movi need young hero heroin discov kind curs devic kill friend devic may anyth long someth use everyday like comput someth group hero faceless underdevelop friend die depict said death depend whether film r hero must team second hero tri discov go go old file visit creepi old build hold secret past lead charact must discov curs object tie tragic past event usual revolv around spooki littl girl clock tick hero death must race right wrong past past seemingli correct charact breath sigh relief discov wrong someon someth els respons evilit formula employ numer film mani origin japan asian countri one miss call follow formula letter right origin japan part problem seem know seen actor sleepwalk dialogu mani time hero stori colleg student name beth raymond shannyn sossamon forget even react death friend see beth friend kill curs cell phone voic mail messag appear phone play back hear exact moment death friend haunt spooki vision ghoul decay peopl walk around broad daylight charact suddenli meet untim end sort accid make think evil ghost movi took lesson ghastli spirit final destin film method kill peopl somewhat similar final destin villain much flashier complex kill rememb ghost movi work much restrict rate ca nt realli blame kill bloodi grandnow let ask someth knew peopl die mysteri voic messag appear cell phone would nt tri listen voic messag first place never dawn beth friend tri smash cell phone piec nt seem halt killer spirit advanc nt know listen messag would save life figur friend kill listen will give shot movi continu expect path introduc second hero polic detect name jack andrew edward burn person belief beth stori curs voic mail messag sister victim join forc discov truth behind curs clue fall right place lead hospit burn ago everyth saw happen film like ring grudg dark water like happen even charact nt seem surpris go expect motion movi itselfwhen say one miss call follow rigid path dead seriou one singl moment nt seen similarthem movi seen japanes movi inspir remak nt know origin uninspir give origin benefit doubt lot life energi charact seem walk predetermin path wors seem know noth wors charact seem smarter movi forc act like idiot expect movi nt even good job explain time time tri hard go spoiler see movi recommend ask corps discov tunnel underneath burnt hospit first place also ask mani realiti tv show film live would nt someon die show live nation televis kind caus attent seem movi person favorit moment movi actual come earli film first victim meet untim end ghost decid kill come back victim pet cat moment later cat get eeri voic mail one miss call definit earli januari releas time year studio usual unload stinker nt know fact new movi open weekend wide releas mean like find audienc kid teen look cheap thrill bore weekend actual consid movi pleas nt movi allevi boredom caus\",\n          \"let admit openli surpris uninvit given hollywood remak asian horror film almost univers unwatch expect enjoy one guard brother film inspir tale two sister typic remak ye belov south korean masterpiec strip unsettl presenc cater pubesc boy terror sequenc splice among teenag debaucheri someth parent remain origin method frame hallucin dead peopl creep furnitur hallway still work still subgenr requir lot left unexplain uninvit nt mean good ambigu think king kong rampag new york plot hole noticeableth origin film stori appropri rework differ rather pronounc still unsur certain aspect plot movi may actual real ghost appear younger sister time struggl older one death convinc stepmoth crimin never apprehend previou crime anna younger sister repeatedli comfort assur older sister alex still aliv scene direct well nt obviou viewer alex dead uninvit distinguish origin film protagonist motiv anna want vengeanc older sister death sumi want reconcili inabl prevent younger sister death one movi ask sympathi main charact one demand sympathi support player even obviou stepmoth realli dy versionth uninvit nt pinnacl hollywood remak asian film mani egregi error obviou anyon read novel recent firstli anna confus stepmoth mildr kemp murder never captur movi end kemp confront anna mental health clinic experi anna also see kemp victim ghost ok would unlik first movi scari sequenc carri ghost tale two sister infer suyeon may sink hutch alex imagin sister harmless recreat support anna reveng plot like ambigu creat ghost vision deceas nt think intent movi copi parent greatest strength stumbl establish model work like listen backyard band sing beatl song sound bad expecteda tale two sister stori easili cross cultur boundari conduct onlin research sinc origin review discov director kim jiwoon base film korean folktal janghwa hongreyon jeon singl father marri new woman argu daughter stepmoth frame one stepdaught unchast behavior son drown also remain stepdaught kill via drown spirit dead girl haunt local resid someon prof commit suicid\"\n        ],\n        \"semantic_type\": \"\",\n        \"description\": \"\"\n      }\n    }\n  ]\n}"
            }
          },
          "metadata": {},
          "execution_count": 128
        }
      ]
    },
    {
      "cell_type": "code",
      "source": [
        "#df['translated'][88]"
      ],
      "metadata": {
        "id": "fgyUvMFjXZNf"
      },
      "execution_count": 129,
      "outputs": []
    },
    {
      "cell_type": "code",
      "source": [
        "from tensorflow.keras.preprocessing.text import Tokenizer\n",
        "tokenizer = Tokenizer()\n",
        "tokenizer.fit_on_texts(df['translated'])"
      ],
      "metadata": {
        "id": "1hbFw70fXgkf"
      },
      "execution_count": 130,
      "outputs": []
    },
    {
      "cell_type": "code",
      "source": [
        "print(len(tokenizer.word_counts))"
      ],
      "metadata": {
        "colab": {
          "base_uri": "https://localhost:8080/"
        },
        "id": "8G3f1_VWXnW7",
        "outputId": "ec27bb0b-1c35-4221-fd46-0d34ef81f385"
      },
      "execution_count": 131,
      "outputs": [
        {
          "output_type": "stream",
          "name": "stdout",
          "text": [
            "17869\n"
          ]
        }
      ]
    },
    {
      "cell_type": "code",
      "source": [
        "counter = 0\n",
        "for key, value in tokenizer.word_counts.items():\n",
        "    if value > 2400:\n",
        "        print(key, value)\n",
        "        counter+=1\n",
        "\n",
        "print(counter)"
      ],
      "metadata": {
        "colab": {
          "base_uri": "https://localhost:8080/"
        },
        "id": "4dQJQs2_XqfK",
        "outputId": "5850f37e-5b91-42a9-f11c-70251e942450"
      },
      "execution_count": 132,
      "outputs": [
        {
          "output_type": "stream",
          "name": "stdout",
          "text": [
            "horror 3659\n",
            "film 6132\n",
            "nt 5906\n",
            "ring 2443\n",
            "good 2610\n",
            "one 3182\n",
            "watch 2558\n",
            "like 3149\n",
            "movi 9678\n",
            "see 2647\n",
            "10\n"
          ]
        }
      ]
    },
    {
      "cell_type": "markdown",
      "source": [
        "**grupa 1** fright(ened), shocked/shocking, horror/horrified, horrendous, overwhelming, terror/terrified, disturbing, bloody, disgust(ing), brutal, gory/gore, barbarous, repulsed/-ing, gross(ed out)"
      ],
      "metadata": {
        "id": "L4BmL1Vgy071"
      }
    },
    {
      "cell_type": "code",
      "source": [
        "count1 = 0\n",
        "num=tokenizer.word_counts['fright']\n",
        "print(num)\n",
        "count1+=num"
      ],
      "metadata": {
        "colab": {
          "base_uri": "https://localhost:8080/"
        },
        "id": "ZK1_JbpyzaNW",
        "outputId": "e90386ff-aeca-4297-fb68-8631c663907d"
      },
      "execution_count": 133,
      "outputs": [
        {
          "output_type": "stream",
          "name": "stdout",
          "text": [
            "81\n"
          ]
        }
      ]
    },
    {
      "cell_type": "code",
      "source": [
        "num=tokenizer.word_counts['frighten']\n",
        "print(num)\n",
        "count1+=num"
      ],
      "metadata": {
        "colab": {
          "base_uri": "https://localhost:8080/"
        },
        "id": "bmwClQWuzlur",
        "outputId": "dd60c8d7-5365-4650-94cf-095aa6641ac6"
      },
      "execution_count": 134,
      "outputs": [
        {
          "output_type": "stream",
          "name": "stdout",
          "text": [
            "308\n"
          ]
        }
      ]
    },
    {
      "cell_type": "code",
      "source": [
        "num=tokenizer.word_counts['shock']\n",
        "print(num)\n",
        "count1+=num"
      ],
      "metadata": {
        "colab": {
          "base_uri": "https://localhost:8080/"
        },
        "id": "FOS-Fucsz3yZ",
        "outputId": "d0f5de75-007b-4e87-f6a4-fc8d8a69b0ec"
      },
      "execution_count": 135,
      "outputs": [
        {
          "output_type": "stream",
          "name": "stdout",
          "text": [
            "263\n"
          ]
        }
      ]
    },
    {
      "cell_type": "code",
      "source": [
        "num=tokenizer.word_counts['horrifi']\n",
        "print(num)\n",
        "count1+=num"
      ],
      "metadata": {
        "colab": {
          "base_uri": "https://localhost:8080/"
        },
        "id": "xYfuNhK_z7rr",
        "outputId": "d7d01e28-238e-430f-9040-069b7c8893aa"
      },
      "execution_count": 136,
      "outputs": [
        {
          "output_type": "stream",
          "name": "stdout",
          "text": [
            "94\n"
          ]
        }
      ]
    },
    {
      "cell_type": "code",
      "source": [
        "num=tokenizer.word_counts['horrif']\n",
        "print(num)\n",
        "count1+=num"
      ],
      "metadata": {
        "colab": {
          "base_uri": "https://localhost:8080/"
        },
        "id": "mVj9X9vm0GNy",
        "outputId": "52811cd5-ed6b-47b5-fed4-95a2a79e3c26"
      },
      "execution_count": 137,
      "outputs": [
        {
          "output_type": "stream",
          "name": "stdout",
          "text": [
            "57\n"
          ]
        }
      ]
    },
    {
      "cell_type": "code",
      "source": [
        "num=tokenizer.word_counts['horrend']\n",
        "print(num)\n",
        "count1+=num"
      ],
      "metadata": {
        "colab": {
          "base_uri": "https://localhost:8080/"
        },
        "id": "ujSY-2YX0fEm",
        "outputId": "1ad22b68-9e5c-4690-8305-c7ecaee0a551"
      },
      "execution_count": 138,
      "outputs": [
        {
          "output_type": "stream",
          "name": "stdout",
          "text": [
            "12\n"
          ]
        }
      ]
    },
    {
      "cell_type": "code",
      "source": [
        "num=tokenizer.word_counts['overwhelm']\n",
        "print(num)\n",
        "count1+=num"
      ],
      "metadata": {
        "colab": {
          "base_uri": "https://localhost:8080/"
        },
        "id": "YP98FM_gCwiS",
        "outputId": "5a128f63-0c99-4a52-d9f1-365b33eefd13"
      },
      "execution_count": 139,
      "outputs": [
        {
          "output_type": "stream",
          "name": "stdout",
          "text": [
            "9\n"
          ]
        }
      ]
    },
    {
      "cell_type": "code",
      "source": [
        "num=tokenizer.word_counts['overwhelming']\n",
        "print(num)\n",
        "count1+=num"
      ],
      "metadata": {
        "colab": {
          "base_uri": "https://localhost:8080/"
        },
        "id": "xH9zzR3wCxVP",
        "outputId": "87dcc371-4bb4-4e47-f36d-d04295eaf329"
      },
      "execution_count": 140,
      "outputs": [
        {
          "output_type": "stream",
          "name": "stdout",
          "text": [
            "1\n"
          ]
        }
      ]
    },
    {
      "cell_type": "code",
      "source": [
        "num=tokenizer.word_counts['disturb']\n",
        "print(num)\n",
        "count1+=num"
      ],
      "metadata": {
        "colab": {
          "base_uri": "https://localhost:8080/"
        },
        "id": "oRedor7a2ZP5",
        "outputId": "a928b679-c964-441e-fc6e-5dc713af9415"
      },
      "execution_count": 141,
      "outputs": [
        {
          "output_type": "stream",
          "name": "stdout",
          "text": [
            "326\n"
          ]
        }
      ]
    },
    {
      "cell_type": "code",
      "source": [
        "num=tokenizer.word_counts['terror']\n",
        "print(num)\n",
        "count1+=num"
      ],
      "metadata": {
        "colab": {
          "base_uri": "https://localhost:8080/"
        },
        "id": "ZUcRFEzw1wIW",
        "outputId": "1b80d03d-08df-4bc2-d05a-52188de76f4e"
      },
      "execution_count": 142,
      "outputs": [
        {
          "output_type": "stream",
          "name": "stdout",
          "text": [
            "153\n"
          ]
        }
      ]
    },
    {
      "cell_type": "code",
      "source": [
        "num=tokenizer.word_counts['blood']\n",
        "print(num)\n",
        "count1+=num"
      ],
      "metadata": {
        "colab": {
          "base_uri": "https://localhost:8080/"
        },
        "id": "vuT7ghzaDHmn",
        "outputId": "35bd1020-8477-41e6-8a4d-1f10fd6ef2d1"
      },
      "execution_count": 143,
      "outputs": [
        {
          "output_type": "stream",
          "name": "stdout",
          "text": [
            "174\n"
          ]
        }
      ]
    },
    {
      "cell_type": "code",
      "source": [
        "num=tokenizer.word_counts['terrifi']\n",
        "print(num)\n",
        "count1+=num"
      ],
      "metadata": {
        "colab": {
          "base_uri": "https://localhost:8080/"
        },
        "id": "mADGocFQDEUH",
        "outputId": "1ac45247-0a4a-4d69-9a73-c55f56923346"
      },
      "execution_count": 144,
      "outputs": [
        {
          "output_type": "stream",
          "name": "stdout",
          "text": [
            "230\n"
          ]
        }
      ]
    },
    {
      "cell_type": "code",
      "source": [
        "num=tokenizer.word_counts['disgust']\n",
        "print(num)\n",
        "count1+=num"
      ],
      "metadata": {
        "colab": {
          "base_uri": "https://localhost:8080/"
        },
        "id": "AWUfMrTbDRK8",
        "outputId": "737fb72f-41c4-4b0f-a4d7-13ca0c4f6519"
      },
      "execution_count": 145,
      "outputs": [
        {
          "output_type": "stream",
          "name": "stdout",
          "text": [
            "25\n"
          ]
        }
      ]
    },
    {
      "cell_type": "code",
      "source": [
        "num=tokenizer.word_counts['brutal']\n",
        "print(num)\n",
        "count1+=num"
      ],
      "metadata": {
        "colab": {
          "base_uri": "https://localhost:8080/"
        },
        "id": "ymqkT4I5DYr3",
        "outputId": "44cf6093-803c-40c2-93e5-3e823be067dc"
      },
      "execution_count": 146,
      "outputs": [
        {
          "output_type": "stream",
          "name": "stdout",
          "text": [
            "23\n"
          ]
        }
      ]
    },
    {
      "cell_type": "code",
      "source": [
        "num=tokenizer.word_counts['gore']\n",
        "print(num)\n",
        "count1+=num"
      ],
      "metadata": {
        "colab": {
          "base_uri": "https://localhost:8080/"
        },
        "id": "-va3hlEMDacf",
        "outputId": "ce3ec423-b8ac-4e86-ad66-4c688e17b622"
      },
      "execution_count": 147,
      "outputs": [
        {
          "output_type": "stream",
          "name": "stdout",
          "text": [
            "372\n"
          ]
        }
      ]
    },
    {
      "cell_type": "code",
      "source": [
        "num=tokenizer.word_counts['repuls']\n",
        "print(num)\n",
        "count1+=num"
      ],
      "metadata": {
        "colab": {
          "base_uri": "https://localhost:8080/"
        },
        "id": "qlpl2P0LDeUn",
        "outputId": "afa36046-0e65-4004-84e3-ca3051fb13be"
      },
      "execution_count": 148,
      "outputs": [
        {
          "output_type": "stream",
          "name": "stdout",
          "text": [
            "14\n"
          ]
        }
      ]
    },
    {
      "cell_type": "code",
      "source": [
        "num=tokenizer.word_counts['gross']\n",
        "print(num)\n",
        "count1+=num"
      ],
      "metadata": {
        "colab": {
          "base_uri": "https://localhost:8080/"
        },
        "id": "7S3MUgpnDoB-",
        "outputId": "40c858bb-00fe-4aad-e2cf-d99802142478"
      },
      "execution_count": 149,
      "outputs": [
        {
          "output_type": "stream",
          "name": "stdout",
          "text": [
            "28\n"
          ]
        }
      ]
    },
    {
      "cell_type": "code",
      "source": [
        "print('WYNIK DLA GRUPY PIERWSZEJ TOOOOO',count1)"
      ],
      "metadata": {
        "colab": {
          "base_uri": "https://localhost:8080/"
        },
        "id": "6QQyJQ8l0hHi",
        "outputId": "e80c45fc-cd71-4f7a-c952-aec0acf0c722"
      },
      "execution_count": 150,
      "outputs": [
        {
          "output_type": "stream",
          "name": "stdout",
          "text": [
            "WYNIK DLA GRUPY PIERWSZEJ TOOOOO 2170\n"
          ]
        }
      ]
    },
    {
      "cell_type": "markdown",
      "source": [
        "**grupa 2** afraid, alarmed, threatening, hair-rising, distress, helpless(ness), anxiety/anxious, worried, apprehension, uneasy, chilling, eerie, intimidating, unnerving, appalling"
      ],
      "metadata": {
        "id": "kXlSPtUN1OFf"
      }
    },
    {
      "cell_type": "code",
      "source": [
        "count2=0\n",
        "num=tokenizer.word_counts['distress']\n",
        "print(num)\n",
        "count2+=num"
      ],
      "metadata": {
        "colab": {
          "base_uri": "https://localhost:8080/"
        },
        "id": "M2hiXKpu12rP",
        "outputId": "81253c5a-b5c7-4202-9bc8-b951130ae3f6"
      },
      "execution_count": 151,
      "outputs": [
        {
          "output_type": "stream",
          "name": "stdout",
          "text": [
            "13\n"
          ]
        }
      ]
    },
    {
      "cell_type": "code",
      "source": [
        "num=tokenizer.word_counts['afraid']\n",
        "print(num)\n",
        "count2+=num"
      ],
      "metadata": {
        "colab": {
          "base_uri": "https://localhost:8080/"
        },
        "id": "SNLEwCVIx998",
        "outputId": "5ea88439-5d88-4456-97a5-2dad81edd4e7"
      },
      "execution_count": 152,
      "outputs": [
        {
          "output_type": "stream",
          "name": "stdout",
          "text": [
            "85\n"
          ]
        }
      ]
    },
    {
      "cell_type": "code",
      "source": [
        "num=tokenizer.word_counts['alarm']\n",
        "print(num)\n",
        "count2+=num"
      ],
      "metadata": {
        "colab": {
          "base_uri": "https://localhost:8080/"
        },
        "id": "mLC0qs16zuh6",
        "outputId": "3a303f98-91ec-4732-d071-94557fc85229"
      },
      "execution_count": 153,
      "outputs": [
        {
          "output_type": "stream",
          "name": "stdout",
          "text": [
            "8\n"
          ]
        }
      ]
    },
    {
      "cell_type": "code",
      "source": [
        "num=tokenizer.word_counts['threaten']\n",
        "print(num)\n",
        "count2+=num"
      ],
      "metadata": {
        "colab": {
          "base_uri": "https://localhost:8080/"
        },
        "id": "plytxXNS0R0L",
        "outputId": "a609d574-4af1-48f8-cf0c-51620a284bcd"
      },
      "execution_count": 154,
      "outputs": [
        {
          "output_type": "stream",
          "name": "stdout",
          "text": [
            "26\n"
          ]
        }
      ]
    },
    {
      "cell_type": "code",
      "source": [
        "num=tokenizer.word_counts['anxious']\n",
        "print(num)\n",
        "count2+=num"
      ],
      "metadata": {
        "colab": {
          "base_uri": "https://localhost:8080/"
        },
        "id": "dHpwoOL119Cp",
        "outputId": "94b2e07f-ab9b-4e16-e2c9-5d1fcd4a08bf"
      },
      "execution_count": 155,
      "outputs": [
        {
          "output_type": "stream",
          "name": "stdout",
          "text": [
            "2\n"
          ]
        }
      ]
    },
    {
      "cell_type": "code",
      "source": [
        "num=tokenizer.word_counts['anxieti']\n",
        "print(num)\n",
        "count2+=num"
      ],
      "metadata": {
        "colab": {
          "base_uri": "https://localhost:8080/"
        },
        "id": "-tKswFRoHjWG",
        "outputId": "9d909683-3f01-41b2-dc53-aafca82c3c5e"
      },
      "execution_count": 156,
      "outputs": [
        {
          "output_type": "stream",
          "name": "stdout",
          "text": [
            "19\n"
          ]
        }
      ]
    },
    {
      "cell_type": "code",
      "source": [
        "num=tokenizer.word_counts['worri']\n",
        "print(num)\n",
        "count2+=num"
      ],
      "metadata": {
        "colab": {
          "base_uri": "https://localhost:8080/"
        },
        "id": "VbwAT88i1_-6",
        "outputId": "ab3837a8-0270-4133-95d7-3d05a4d11cca"
      },
      "execution_count": 157,
      "outputs": [
        {
          "output_type": "stream",
          "name": "stdout",
          "text": [
            "43\n"
          ]
        }
      ]
    },
    {
      "cell_type": "code",
      "source": [
        "num=tokenizer.word_counts['apprehens']\n",
        "print(num)\n",
        "count2+=num"
      ],
      "metadata": {
        "colab": {
          "base_uri": "https://localhost:8080/",
          "height": 176
        },
        "id": "hPASUg5lEWoA",
        "outputId": "5bd330ea-a409-42ea-84b3-3fb335909a6b"
      },
      "execution_count": 158,
      "outputs": [
        {
          "output_type": "error",
          "ename": "KeyError",
          "evalue": "'apprehens'",
          "traceback": [
            "\u001b[0;31m---------------------------------------------------------------------------\u001b[0m",
            "\u001b[0;31mKeyError\u001b[0m                                  Traceback (most recent call last)",
            "\u001b[0;32m<ipython-input-158-d459e9206e26>\u001b[0m in \u001b[0;36m<cell line: 1>\u001b[0;34m()\u001b[0m\n\u001b[0;32m----> 1\u001b[0;31m \u001b[0mnum\u001b[0m\u001b[0;34m=\u001b[0m\u001b[0mtokenizer\u001b[0m\u001b[0;34m.\u001b[0m\u001b[0mword_counts\u001b[0m\u001b[0;34m[\u001b[0m\u001b[0;34m'apprehens'\u001b[0m\u001b[0;34m]\u001b[0m\u001b[0;34m\u001b[0m\u001b[0;34m\u001b[0m\u001b[0m\n\u001b[0m\u001b[1;32m      2\u001b[0m \u001b[0mprint\u001b[0m\u001b[0;34m(\u001b[0m\u001b[0mnum\u001b[0m\u001b[0;34m)\u001b[0m\u001b[0;34m\u001b[0m\u001b[0;34m\u001b[0m\u001b[0m\n\u001b[1;32m      3\u001b[0m \u001b[0mcount2\u001b[0m\u001b[0;34m+=\u001b[0m\u001b[0mnum\u001b[0m\u001b[0;34m\u001b[0m\u001b[0;34m\u001b[0m\u001b[0m\n",
            "\u001b[0;31mKeyError\u001b[0m: 'apprehens'"
          ]
        }
      ]
    },
    {
      "cell_type": "code",
      "source": [
        "num=tokenizer.word_counts['uneasi']\n",
        "print(num)\n",
        "count2+=num"
      ],
      "metadata": {
        "colab": {
          "base_uri": "https://localhost:8080/"
        },
        "id": "fILf7ix02Uhc",
        "outputId": "a171e6de-e73d-4004-fb96-05815ce3ea64"
      },
      "execution_count": 159,
      "outputs": [
        {
          "output_type": "stream",
          "name": "stdout",
          "text": [
            "24\n"
          ]
        }
      ]
    },
    {
      "cell_type": "code",
      "source": [
        "num=tokenizer.word_counts['chilli']\n",
        "print(num)\n",
        "count2+=num"
      ],
      "metadata": {
        "colab": {
          "base_uri": "https://localhost:8080/"
        },
        "id": "lzagj3xj2eHf",
        "outputId": "25293c61-1f31-440c-aca5-d08339bcc06c"
      },
      "execution_count": 160,
      "outputs": [
        {
          "output_type": "stream",
          "name": "stdout",
          "text": [
            "4\n"
          ]
        }
      ]
    },
    {
      "cell_type": "code",
      "source": [
        "num=tokenizer.word_counts['eeri']\n",
        "print(num)\n",
        "count2+=num"
      ],
      "metadata": {
        "colab": {
          "base_uri": "https://localhost:8080/"
        },
        "id": "9AZLqt0P2f6_",
        "outputId": "17c2f356-755d-49a1-f547-b31665117d7c"
      },
      "execution_count": 161,
      "outputs": [
        {
          "output_type": "stream",
          "name": "stdout",
          "text": [
            "159\n"
          ]
        }
      ]
    },
    {
      "cell_type": "code",
      "source": [
        "num=tokenizer.word_counts['helpless']\n",
        "print(num)\n",
        "count2+=num"
      ],
      "metadata": {
        "colab": {
          "base_uri": "https://localhost:8080/"
        },
        "id": "XGAea3D215JL",
        "outputId": "4531f901-3d1e-4eb6-c6e4-e94f44c7fc60"
      },
      "execution_count": 162,
      "outputs": [
        {
          "output_type": "stream",
          "name": "stdout",
          "text": [
            "9\n"
          ]
        }
      ]
    },
    {
      "cell_type": "code",
      "source": [
        "num=tokenizer.word_counts['unnerv']\n",
        "print(num)\n",
        "count2+=num"
      ],
      "metadata": {
        "colab": {
          "base_uri": "https://localhost:8080/"
        },
        "id": "AtDxCwIWEzCe",
        "outputId": "a6ac9783-d89c-4201-f855-53149d0db1a3"
      },
      "execution_count": 163,
      "outputs": [
        {
          "output_type": "stream",
          "name": "stdout",
          "text": [
            "46\n"
          ]
        }
      ]
    },
    {
      "cell_type": "code",
      "source": [
        "num=tokenizer.word_counts['appal']\n",
        "print(num)\n",
        "count2+=num"
      ],
      "metadata": {
        "colab": {
          "base_uri": "https://localhost:8080/"
        },
        "id": "aHfNxP9AE3-g",
        "outputId": "145b3569-a867-4817-9a62-cb319c8358fb"
      },
      "execution_count": 164,
      "outputs": [
        {
          "output_type": "stream",
          "name": "stdout",
          "text": [
            "6\n"
          ]
        }
      ]
    },
    {
      "cell_type": "code",
      "source": [
        "num=tokenizer.word_counts['fear']\n",
        "print(num)\n",
        "count2+=num"
      ],
      "metadata": {
        "colab": {
          "base_uri": "https://localhost:8080/"
        },
        "id": "mU95N0Mq024T",
        "outputId": "e6496d12-3e3b-4fa4-e3d7-807f9387aaaa"
      },
      "execution_count": 165,
      "outputs": [
        {
          "output_type": "stream",
          "name": "stdout",
          "text": [
            "280\n"
          ]
        }
      ]
    },
    {
      "cell_type": "code",
      "source": [
        "print('WYNIK DLA GRUPY DRUGIEJ TOOOOO',count2)"
      ],
      "metadata": {
        "colab": {
          "base_uri": "https://localhost:8080/"
        },
        "id": "glE4IiZL200R",
        "outputId": "a3218eec-47f0-4268-8141-2080ecf7a741"
      },
      "execution_count": 166,
      "outputs": [
        {
          "output_type": "stream",
          "name": "stdout",
          "text": [
            "WYNIK DLA GRUPY DRUGIEJ TOOOOO 724\n"
          ]
        }
      ]
    },
    {
      "cell_type": "code",
      "source": [],
      "metadata": {
        "id": "IE1TDiTL28wI"
      },
      "execution_count": 166,
      "outputs": []
    }
  ]
}