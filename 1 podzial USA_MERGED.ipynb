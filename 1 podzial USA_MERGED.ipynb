{
  "nbformat": 4,
  "nbformat_minor": 0,
  "metadata": {
    "colab": {
      "provenance": []
    },
    "kernelspec": {
      "name": "python3",
      "display_name": "Python 3"
    },
    "language_info": {
      "name": "python"
    }
  },
  "cells": [
    {
      "cell_type": "code",
      "execution_count": 56,
      "metadata": {
        "id": "KbqWRaUE-hp8"
      },
      "outputs": [],
      "source": [
        "import numpy as np\n",
        "import matplotlib.pyplot as plt\n",
        "import tensorflow as tf\n",
        "import pandas as pd\n",
        "import os\n",
        "os.environ[\"KMP_DUPLICATE_LIB_OK\"]=\"TRUE\"\n",
        "os.environ['CUDA_VISIBLE_DEVICES'] = '-1'\n",
        "from tensorflow.keras.callbacks import EarlyStopping\n",
        "from tensorflow.keras.models import Sequential\n",
        "from tensorflow.keras.layers import Dense, Dropout\n",
        "from tensorflow.keras.layers import BatchNormalization\n",
        "\n",
        "es = EarlyStopping(monitor = \"val_loss\", mode = \"min\", patience = 5)\n",
        "\n",
        "EPOCHS = 1000"
      ]
    },
    {
      "cell_type": "code",
      "source": [
        "df = pd.read_csv('us_merged.csv', sep=\",\")"
      ],
      "metadata": {
        "id": "RIFh9K_JK_K5"
      },
      "execution_count": 57,
      "outputs": []
    },
    {
      "cell_type": "code",
      "source": [
        "df"
      ],
      "metadata": {
        "colab": {
          "base_uri": "https://localhost:8080/",
          "height": 423
        },
        "id": "fDj5iUuPNdjm",
        "outputId": "19344100-4108-4be3-9988-27174823115e"
      },
      "execution_count": 58,
      "outputs": [
        {
          "output_type": "execute_result",
          "data": {
            "text/plain": [
              "      Unnamed: 0                                              title  \\\n",
              "0              0                             Creepy and atmospheric   \n",
              "1              1                                         Teenagers!   \n",
              "2              2    Pretty good with a great performance by Connely   \n",
              "3              3                               Dark Water Has Depth   \n",
              "4              4  Good character-driven human drama; I blame the...   \n",
              "...          ...                                                ...   \n",
              "3297         214                                         Uninspired   \n",
              "3298         215  Great progress for further Asian remakes! The ...   \n",
              "3299         216  The ending makes it filled with flaws and conf...   \n",
              "3300         217        A knock off of \"The Other\" not half bad but   \n",
              "3301         218                                    TOO PREDICTABLE   \n",
              "\n",
              "                                                 review rating  \n",
              "0     The Hollywood version of 'Dark Water' is based...   8/10  \n",
              "1     Don't know about you all, but I've sort of had...   9/10  \n",
              "2     Dark Water is another one of those slow PG-13,...   8/10  \n",
              "3     Of all the recent remakes of Japanese horror f...   9/10  \n",
              "4     Once more, a great injustice has been done by ...   7/10  \n",
              "...                                                 ...    ...  \n",
              "3297  I haven't seen that many scary movies, but one...   7/10  \n",
              "3298  I came back from the 'The Uninvited' and I am ...   8/10  \n",
              "3299  I found The Uninvited on IMDb and saw it got a...   6/10  \n",
              "3300  A not bad, nifty thriller that unfortunately b...   5/10  \n",
              "3301  The story is just TOO PREDICTABLE. Plenty of u...   9/10  \n",
              "\n",
              "[3302 rows x 4 columns]"
            ],
            "text/html": [
              "\n",
              "  <div id=\"df-2c88219f-8c44-4276-b3b0-5a279bcba4c5\" class=\"colab-df-container\">\n",
              "    <div>\n",
              "<style scoped>\n",
              "    .dataframe tbody tr th:only-of-type {\n",
              "        vertical-align: middle;\n",
              "    }\n",
              "\n",
              "    .dataframe tbody tr th {\n",
              "        vertical-align: top;\n",
              "    }\n",
              "\n",
              "    .dataframe thead th {\n",
              "        text-align: right;\n",
              "    }\n",
              "</style>\n",
              "<table border=\"1\" class=\"dataframe\">\n",
              "  <thead>\n",
              "    <tr style=\"text-align: right;\">\n",
              "      <th></th>\n",
              "      <th>Unnamed: 0</th>\n",
              "      <th>title</th>\n",
              "      <th>review</th>\n",
              "      <th>rating</th>\n",
              "    </tr>\n",
              "  </thead>\n",
              "  <tbody>\n",
              "    <tr>\n",
              "      <th>0</th>\n",
              "      <td>0</td>\n",
              "      <td>Creepy and atmospheric</td>\n",
              "      <td>The Hollywood version of 'Dark Water' is based...</td>\n",
              "      <td>8/10</td>\n",
              "    </tr>\n",
              "    <tr>\n",
              "      <th>1</th>\n",
              "      <td>1</td>\n",
              "      <td>Teenagers!</td>\n",
              "      <td>Don't know about you all, but I've sort of had...</td>\n",
              "      <td>9/10</td>\n",
              "    </tr>\n",
              "    <tr>\n",
              "      <th>2</th>\n",
              "      <td>2</td>\n",
              "      <td>Pretty good with a great performance by Connely</td>\n",
              "      <td>Dark Water is another one of those slow PG-13,...</td>\n",
              "      <td>8/10</td>\n",
              "    </tr>\n",
              "    <tr>\n",
              "      <th>3</th>\n",
              "      <td>3</td>\n",
              "      <td>Dark Water Has Depth</td>\n",
              "      <td>Of all the recent remakes of Japanese horror f...</td>\n",
              "      <td>9/10</td>\n",
              "    </tr>\n",
              "    <tr>\n",
              "      <th>4</th>\n",
              "      <td>4</td>\n",
              "      <td>Good character-driven human drama; I blame the...</td>\n",
              "      <td>Once more, a great injustice has been done by ...</td>\n",
              "      <td>7/10</td>\n",
              "    </tr>\n",
              "    <tr>\n",
              "      <th>...</th>\n",
              "      <td>...</td>\n",
              "      <td>...</td>\n",
              "      <td>...</td>\n",
              "      <td>...</td>\n",
              "    </tr>\n",
              "    <tr>\n",
              "      <th>3297</th>\n",
              "      <td>214</td>\n",
              "      <td>Uninspired</td>\n",
              "      <td>I haven't seen that many scary movies, but one...</td>\n",
              "      <td>7/10</td>\n",
              "    </tr>\n",
              "    <tr>\n",
              "      <th>3298</th>\n",
              "      <td>215</td>\n",
              "      <td>Great progress for further Asian remakes! The ...</td>\n",
              "      <td>I came back from the 'The Uninvited' and I am ...</td>\n",
              "      <td>8/10</td>\n",
              "    </tr>\n",
              "    <tr>\n",
              "      <th>3299</th>\n",
              "      <td>216</td>\n",
              "      <td>The ending makes it filled with flaws and conf...</td>\n",
              "      <td>I found The Uninvited on IMDb and saw it got a...</td>\n",
              "      <td>6/10</td>\n",
              "    </tr>\n",
              "    <tr>\n",
              "      <th>3300</th>\n",
              "      <td>217</td>\n",
              "      <td>A knock off of \"The Other\" not half bad but</td>\n",
              "      <td>A not bad, nifty thriller that unfortunately b...</td>\n",
              "      <td>5/10</td>\n",
              "    </tr>\n",
              "    <tr>\n",
              "      <th>3301</th>\n",
              "      <td>218</td>\n",
              "      <td>TOO PREDICTABLE</td>\n",
              "      <td>The story is just TOO PREDICTABLE. Plenty of u...</td>\n",
              "      <td>9/10</td>\n",
              "    </tr>\n",
              "  </tbody>\n",
              "</table>\n",
              "<p>3302 rows × 4 columns</p>\n",
              "</div>\n",
              "    <div class=\"colab-df-buttons\">\n",
              "\n",
              "  <div class=\"colab-df-container\">\n",
              "    <button class=\"colab-df-convert\" onclick=\"convertToInteractive('df-2c88219f-8c44-4276-b3b0-5a279bcba4c5')\"\n",
              "            title=\"Convert this dataframe to an interactive table.\"\n",
              "            style=\"display:none;\">\n",
              "\n",
              "  <svg xmlns=\"http://www.w3.org/2000/svg\" height=\"24px\" viewBox=\"0 -960 960 960\">\n",
              "    <path d=\"M120-120v-720h720v720H120Zm60-500h600v-160H180v160Zm220 220h160v-160H400v160Zm0 220h160v-160H400v160ZM180-400h160v-160H180v160Zm440 0h160v-160H620v160ZM180-180h160v-160H180v160Zm440 0h160v-160H620v160Z\"/>\n",
              "  </svg>\n",
              "    </button>\n",
              "\n",
              "  <style>\n",
              "    .colab-df-container {\n",
              "      display:flex;\n",
              "      gap: 12px;\n",
              "    }\n",
              "\n",
              "    .colab-df-convert {\n",
              "      background-color: #E8F0FE;\n",
              "      border: none;\n",
              "      border-radius: 50%;\n",
              "      cursor: pointer;\n",
              "      display: none;\n",
              "      fill: #1967D2;\n",
              "      height: 32px;\n",
              "      padding: 0 0 0 0;\n",
              "      width: 32px;\n",
              "    }\n",
              "\n",
              "    .colab-df-convert:hover {\n",
              "      background-color: #E2EBFA;\n",
              "      box-shadow: 0px 1px 2px rgba(60, 64, 67, 0.3), 0px 1px 3px 1px rgba(60, 64, 67, 0.15);\n",
              "      fill: #174EA6;\n",
              "    }\n",
              "\n",
              "    .colab-df-buttons div {\n",
              "      margin-bottom: 4px;\n",
              "    }\n",
              "\n",
              "    [theme=dark] .colab-df-convert {\n",
              "      background-color: #3B4455;\n",
              "      fill: #D2E3FC;\n",
              "    }\n",
              "\n",
              "    [theme=dark] .colab-df-convert:hover {\n",
              "      background-color: #434B5C;\n",
              "      box-shadow: 0px 1px 3px 1px rgba(0, 0, 0, 0.15);\n",
              "      filter: drop-shadow(0px 1px 2px rgba(0, 0, 0, 0.3));\n",
              "      fill: #FFFFFF;\n",
              "    }\n",
              "  </style>\n",
              "\n",
              "    <script>\n",
              "      const buttonEl =\n",
              "        document.querySelector('#df-2c88219f-8c44-4276-b3b0-5a279bcba4c5 button.colab-df-convert');\n",
              "      buttonEl.style.display =\n",
              "        google.colab.kernel.accessAllowed ? 'block' : 'none';\n",
              "\n",
              "      async function convertToInteractive(key) {\n",
              "        const element = document.querySelector('#df-2c88219f-8c44-4276-b3b0-5a279bcba4c5');\n",
              "        const dataTable =\n",
              "          await google.colab.kernel.invokeFunction('convertToInteractive',\n",
              "                                                    [key], {});\n",
              "        if (!dataTable) return;\n",
              "\n",
              "        const docLinkHtml = 'Like what you see? Visit the ' +\n",
              "          '<a target=\"_blank\" href=https://colab.research.google.com/notebooks/data_table.ipynb>data table notebook</a>'\n",
              "          + ' to learn more about interactive tables.';\n",
              "        element.innerHTML = '';\n",
              "        dataTable['output_type'] = 'display_data';\n",
              "        await google.colab.output.renderOutput(dataTable, element);\n",
              "        const docLink = document.createElement('div');\n",
              "        docLink.innerHTML = docLinkHtml;\n",
              "        element.appendChild(docLink);\n",
              "      }\n",
              "    </script>\n",
              "  </div>\n",
              "\n",
              "\n",
              "<div id=\"df-5b909b3a-b579-4586-a62f-b12d7371fbb5\">\n",
              "  <button class=\"colab-df-quickchart\" onclick=\"quickchart('df-5b909b3a-b579-4586-a62f-b12d7371fbb5')\"\n",
              "            title=\"Suggest charts\"\n",
              "            style=\"display:none;\">\n",
              "\n",
              "<svg xmlns=\"http://www.w3.org/2000/svg\" height=\"24px\"viewBox=\"0 0 24 24\"\n",
              "     width=\"24px\">\n",
              "    <g>\n",
              "        <path d=\"M19 3H5c-1.1 0-2 .9-2 2v14c0 1.1.9 2 2 2h14c1.1 0 2-.9 2-2V5c0-1.1-.9-2-2-2zM9 17H7v-7h2v7zm4 0h-2V7h2v10zm4 0h-2v-4h2v4z\"/>\n",
              "    </g>\n",
              "</svg>\n",
              "  </button>\n",
              "\n",
              "<style>\n",
              "  .colab-df-quickchart {\n",
              "      --bg-color: #E8F0FE;\n",
              "      --fill-color: #1967D2;\n",
              "      --hover-bg-color: #E2EBFA;\n",
              "      --hover-fill-color: #174EA6;\n",
              "      --disabled-fill-color: #AAA;\n",
              "      --disabled-bg-color: #DDD;\n",
              "  }\n",
              "\n",
              "  [theme=dark] .colab-df-quickchart {\n",
              "      --bg-color: #3B4455;\n",
              "      --fill-color: #D2E3FC;\n",
              "      --hover-bg-color: #434B5C;\n",
              "      --hover-fill-color: #FFFFFF;\n",
              "      --disabled-bg-color: #3B4455;\n",
              "      --disabled-fill-color: #666;\n",
              "  }\n",
              "\n",
              "  .colab-df-quickchart {\n",
              "    background-color: var(--bg-color);\n",
              "    border: none;\n",
              "    border-radius: 50%;\n",
              "    cursor: pointer;\n",
              "    display: none;\n",
              "    fill: var(--fill-color);\n",
              "    height: 32px;\n",
              "    padding: 0;\n",
              "    width: 32px;\n",
              "  }\n",
              "\n",
              "  .colab-df-quickchart:hover {\n",
              "    background-color: var(--hover-bg-color);\n",
              "    box-shadow: 0 1px 2px rgba(60, 64, 67, 0.3), 0 1px 3px 1px rgba(60, 64, 67, 0.15);\n",
              "    fill: var(--button-hover-fill-color);\n",
              "  }\n",
              "\n",
              "  .colab-df-quickchart-complete:disabled,\n",
              "  .colab-df-quickchart-complete:disabled:hover {\n",
              "    background-color: var(--disabled-bg-color);\n",
              "    fill: var(--disabled-fill-color);\n",
              "    box-shadow: none;\n",
              "  }\n",
              "\n",
              "  .colab-df-spinner {\n",
              "    border: 2px solid var(--fill-color);\n",
              "    border-color: transparent;\n",
              "    border-bottom-color: var(--fill-color);\n",
              "    animation:\n",
              "      spin 1s steps(1) infinite;\n",
              "  }\n",
              "\n",
              "  @keyframes spin {\n",
              "    0% {\n",
              "      border-color: transparent;\n",
              "      border-bottom-color: var(--fill-color);\n",
              "      border-left-color: var(--fill-color);\n",
              "    }\n",
              "    20% {\n",
              "      border-color: transparent;\n",
              "      border-left-color: var(--fill-color);\n",
              "      border-top-color: var(--fill-color);\n",
              "    }\n",
              "    30% {\n",
              "      border-color: transparent;\n",
              "      border-left-color: var(--fill-color);\n",
              "      border-top-color: var(--fill-color);\n",
              "      border-right-color: var(--fill-color);\n",
              "    }\n",
              "    40% {\n",
              "      border-color: transparent;\n",
              "      border-right-color: var(--fill-color);\n",
              "      border-top-color: var(--fill-color);\n",
              "    }\n",
              "    60% {\n",
              "      border-color: transparent;\n",
              "      border-right-color: var(--fill-color);\n",
              "    }\n",
              "    80% {\n",
              "      border-color: transparent;\n",
              "      border-right-color: var(--fill-color);\n",
              "      border-bottom-color: var(--fill-color);\n",
              "    }\n",
              "    90% {\n",
              "      border-color: transparent;\n",
              "      border-bottom-color: var(--fill-color);\n",
              "    }\n",
              "  }\n",
              "</style>\n",
              "\n",
              "  <script>\n",
              "    async function quickchart(key) {\n",
              "      const quickchartButtonEl =\n",
              "        document.querySelector('#' + key + ' button');\n",
              "      quickchartButtonEl.disabled = true;  // To prevent multiple clicks.\n",
              "      quickchartButtonEl.classList.add('colab-df-spinner');\n",
              "      try {\n",
              "        const charts = await google.colab.kernel.invokeFunction(\n",
              "            'suggestCharts', [key], {});\n",
              "      } catch (error) {\n",
              "        console.error('Error during call to suggestCharts:', error);\n",
              "      }\n",
              "      quickchartButtonEl.classList.remove('colab-df-spinner');\n",
              "      quickchartButtonEl.classList.add('colab-df-quickchart-complete');\n",
              "    }\n",
              "    (() => {\n",
              "      let quickchartButtonEl =\n",
              "        document.querySelector('#df-5b909b3a-b579-4586-a62f-b12d7371fbb5 button');\n",
              "      quickchartButtonEl.style.display =\n",
              "        google.colab.kernel.accessAllowed ? 'block' : 'none';\n",
              "    })();\n",
              "  </script>\n",
              "</div>\n",
              "    </div>\n",
              "  </div>\n"
            ],
            "application/vnd.google.colaboratory.intrinsic+json": {
              "type": "dataframe",
              "variable_name": "df",
              "summary": "{\n  \"name\": \"df\",\n  \"rows\": 3302,\n  \"fields\": [\n    {\n      \"column\": \"Unnamed: 0\",\n      \"properties\": {\n        \"dtype\": \"number\",\n        \"std\": 317,\n        \"min\": 0,\n        \"max\": 1210,\n        \"num_unique_values\": 1211,\n        \"samples\": [\n          101,\n          787,\n          899\n        ],\n        \"semantic_type\": \"\",\n        \"description\": \"\"\n      }\n    },\n    {\n      \"column\": \"title\",\n      \"properties\": {\n        \"dtype\": \"string\",\n        \"num_unique_values\": 3222,\n        \"samples\": [\n          \"So-so horror film\",\n          \"Well worth a watch\",\n          \"inedible cinematic food\"\n        ],\n        \"semantic_type\": \"\",\n        \"description\": \"\"\n      }\n    },\n    {\n      \"column\": \"review\",\n      \"properties\": {\n        \"dtype\": \"string\",\n        \"num_unique_values\": 3299,\n        \"samples\": [\n          \"it was the best horror film i've watched for a long time. For a very long time, there hasnt been a horror film which can make people be scared but this was really scary. every minute you should be ready for surprises thoughout the film.\",\n          \"Some tips on how to write a horror movie...All you need is a young hero or heroine who discovers some kind of cursed device is killing off all of their friends. The device may be anything, just as long as it's something we use everyday like a computer or something. After a group of the hero's faceless and underdeveloped friends die (The depiction of said deaths will depend on whether or not your film is PG-13 or R.), the hero must then team up with a second hero, and try to discover what's going on. After going through old files and visiting creepy old buildings that hold secrets of the past, the lead characters must discover that the cursed object is tied into some tragic past event, usually revolving around a spooky little girl. As the clock ticks down to the hero's own death, they must race to right the wrongs of the past. After the past has seemingly been corrected, the characters breathe a sigh of relief, only to discover that they were wrong, and that someone or something else is responsible for the evil.It is a formula that has been employed by numerous films, many originating in Japan or some other Asian country. One Missed Call follows this formula to the letter, right down to the originating in Japan part. The only problem is that it seems to know we've seen it all before. The actors sleepwalk through their dialogue, and many times the hero of the story - a college student named Beth Raymond (Shannyn Sossamon), forgets to even react to the deaths of her friends. You see, all of Beth's friends are being killed off by a cursed cell phone voice mail message. It appears on your phone, and when you play it back, you hear the exact moment of your death. The friends are haunted by spooky visions of ghouls and decaying people walking around in broad daylight, until the character suddenly meets an untimely end in some sort of \\\"accident\\\" that makes me think the evil ghost in this movie took lessons from the ghastly spirit in the Final Destination films, as its method of killing people is somewhat similar. The Final Destination villain is much more flashier and complex in its killings, but you have to remember, the ghost in this movie is working under a much more restricted PG-13 rating, so you can't really blame it if its kills are not as bloody or grand.Now, let me ask you something here. If you knew that people were dying because of a mysterious voice message that appears on your cell phone, wouldn't you just try not listening to the voice message in the first place? This never dawns on Beth or her friends. They try smashing their cell phones to pieces, but this doesn't seem to halt the killer spirit's advances. I don't know if not listening to the message would save your life or not, but I figure if all of my friends were being killed after listening to it, I'd be willing to give it a shot. The movie continues down the expected path, and introduces our second hero, a police detective named Jack Andrews (Edward Burns). He's the only person who believes Beth's story about the cursed voice mail message, because his sister was a victim of it, too. They join forces to discover the truth behind the curse, and the clues fall right into place, leading them to a hospital that burned down a while ago. Everything that we saw happen in films like The Ring, The Grudge, Dark Water, and the like happens, and not even the characters don't seem to be all that surprised. They go through the expected motions, and so does the movie itself.When I say One Missed Call follows a rigid path, I am dead serious. There's not one single moment we haven't seen in similar-themed movies. I have not seen the Japanese movie that inspired this remake, so I don't know if the original was as uninspired as this. I will give the original the benefit of the doubt that it had a lot more life and energy than this. The characters all seem to be walking a pre-determined path, and what's worse, they seem to know it. There's nothing worse than when the characters seem to be smarter than the movie they're in, but they're forced to act like idiots, because it's expected of them to do so. The movie doesn't even do a good job of explaining itself from time to time. I'm trying hard not to go into spoilers here, but should you see this movie (not that I'm recommending you do), ask yourself why the corpse they discover in the tunnels underneath the burnt hospital was there in the first place? Also ask yourself how many reality TV shows are filmed live? And wouldn't having someone die on your show live on national television kind of cause more attention than it seems to in this movie? My personal favorite moment of the movie actually comes early on, when the film's first victim meets an untimely end. The ghost then decides to not only kill her, but comes back for the victim's pet cat moments later. Did the cat get an eerie voice mail too? One Missed Call is the very definition of an early January release, a time of the year when the studios usually unload their stinkers that they don't know what to do with. The fact that it's the only new movie opening this weekend in wide release means that it will most likely find an audience with kids and teens looking for a cheap thrill. If you're bored this weekend, and actually consider this movie, please don't. This movie does not alleviate boredom, it only causes it.\",\n          \"Let me admit openly to you. I'm very surprised with The Uninvited. Given that Hollywood remakes of Asian horror films are almost universally unwatchable, I did not expect to enjoy this one at all. The Guard Brothers' film is more \\\"inspired\\\" by A Tale of Two Sisters, than it is a typical remake. Yes, our beloved South Korean masterpiece has been stripped of its unsettling presence and catered to pubescent boys. PG-13 terror sequences are spliced among teenage debauchery, but something of its parent remains. The original's method of framing hallucinations of dead people creeping out from furniture or down hallways still works. Still, as its sub-genre requires, a lot is left unexplained in The Uninvited. I don't mean good ambiguity. Think of King Kong's rampage through New York. Plot holes are that noticeable.The original film's story has been appropriately reworked, but the differences are rather pronounced. I'm still unsure about certain aspects of the plot. In this movie, there may actually be real ghosts. They appear to the younger sister this time, who is struggling over the older one's death. She convinces herself that her stepmother is a criminal who was never apprehended for previous crimes. Anna, the younger sister, repeatedly comforts herself with assurance that her older sister, Alex, is still alive. These scenes are directed well, and it isn't obvious to viewers that Alex is dead. The Uninvited is distinguished from its original film by its protagonist's motivation. Anna wants vengeance for her older sister's death, while Su-mi wants reconciliation for her inability to prevent her younger sister's death. One movie asks for sympathy with its main character, and the other one demands sympathy for supporting players. This is even more obvious because the stepmother really dies in this version.The Uninvited isn't the pinnacle of Hollywood remakes of Asian films. Too many egregious errors are obvious to anyone who has read a novel recently. Firstly, Anna confuses her stepmother for Mildred Kemp, a murderer who was never captured. The movie ends with Kemp confronting Anna, in a mental health clinic, about her experience. Anna also sees Kemp's victims' ghosts. OK, why would she do that? Unlike the first movie, most scary sequences are carried out by the ghosts. A Tale of Two Sisters infers that Su-yeon may be under the sink or in hutch. Alex, the imagined sister, is a harmless recreation that supports Anna in her revenge plot. I like the ambiguity created between ghosts and visions of deceased, but I don't think it's intentional. This movie copies its parent's greatest strengths by stumbling through an established model. It does work, but it's like listening to a backyard band sing a Beatles song and not sounding as bad as expected.A Tale of Two Sisters is a story that easily crosses cultural boundaries. I've conducted further online research since my original review and have discovered that director Kim Ji-woon based his film on a Korean folktale. In \\\"Janghwa Hongreyon jeon,\\\" a single father marries a new woman who argues with his daughters. \\\"Stepmother\\\" frames one of her stepdaughters of unchaste behavior and has her own son drown her. She also has her remaining stepdaughter killed via drowning. The spirits of the dead girls haunt local residents until someone proves they did not commit suicide.\"\n        ],\n        \"semantic_type\": \"\",\n        \"description\": \"\"\n      }\n    },\n    {\n      \"column\": \"rating\",\n      \"properties\": {\n        \"dtype\": \"category\",\n        \"num_unique_values\": 10,\n        \"samples\": [\n          \"2/10\",\n          \"9/10\",\n          \"5/10\"\n        ],\n        \"semantic_type\": \"\",\n        \"description\": \"\"\n      }\n    }\n  ]\n}"
            }
          },
          "metadata": {},
          "execution_count": 58
        }
      ]
    },
    {
      "cell_type": "code",
      "source": [
        "df = df.drop('Unnamed: 0', axis=1)"
      ],
      "metadata": {
        "id": "bejOtK0zO-xJ"
      },
      "execution_count": 59,
      "outputs": []
    },
    {
      "cell_type": "code",
      "source": [
        "df"
      ],
      "metadata": {
        "colab": {
          "base_uri": "https://localhost:8080/",
          "height": 423
        },
        "id": "9fDEaXLcQNit",
        "outputId": "649acc52-46a3-4701-8b75-a278e3d55ee7"
      },
      "execution_count": 60,
      "outputs": [
        {
          "output_type": "execute_result",
          "data": {
            "text/plain": [
              "                                                  title  \\\n",
              "0                                Creepy and atmospheric   \n",
              "1                                            Teenagers!   \n",
              "2       Pretty good with a great performance by Connely   \n",
              "3                                  Dark Water Has Depth   \n",
              "4     Good character-driven human drama; I blame the...   \n",
              "...                                                 ...   \n",
              "3297                                         Uninspired   \n",
              "3298  Great progress for further Asian remakes! The ...   \n",
              "3299  The ending makes it filled with flaws and conf...   \n",
              "3300        A knock off of \"The Other\" not half bad but   \n",
              "3301                                    TOO PREDICTABLE   \n",
              "\n",
              "                                                 review rating  \n",
              "0     The Hollywood version of 'Dark Water' is based...   8/10  \n",
              "1     Don't know about you all, but I've sort of had...   9/10  \n",
              "2     Dark Water is another one of those slow PG-13,...   8/10  \n",
              "3     Of all the recent remakes of Japanese horror f...   9/10  \n",
              "4     Once more, a great injustice has been done by ...   7/10  \n",
              "...                                                 ...    ...  \n",
              "3297  I haven't seen that many scary movies, but one...   7/10  \n",
              "3298  I came back from the 'The Uninvited' and I am ...   8/10  \n",
              "3299  I found The Uninvited on IMDb and saw it got a...   6/10  \n",
              "3300  A not bad, nifty thriller that unfortunately b...   5/10  \n",
              "3301  The story is just TOO PREDICTABLE. Plenty of u...   9/10  \n",
              "\n",
              "[3302 rows x 3 columns]"
            ],
            "text/html": [
              "\n",
              "  <div id=\"df-e4e14818-8e4a-4dda-b38a-8ee788e3ae7f\" class=\"colab-df-container\">\n",
              "    <div>\n",
              "<style scoped>\n",
              "    .dataframe tbody tr th:only-of-type {\n",
              "        vertical-align: middle;\n",
              "    }\n",
              "\n",
              "    .dataframe tbody tr th {\n",
              "        vertical-align: top;\n",
              "    }\n",
              "\n",
              "    .dataframe thead th {\n",
              "        text-align: right;\n",
              "    }\n",
              "</style>\n",
              "<table border=\"1\" class=\"dataframe\">\n",
              "  <thead>\n",
              "    <tr style=\"text-align: right;\">\n",
              "      <th></th>\n",
              "      <th>title</th>\n",
              "      <th>review</th>\n",
              "      <th>rating</th>\n",
              "    </tr>\n",
              "  </thead>\n",
              "  <tbody>\n",
              "    <tr>\n",
              "      <th>0</th>\n",
              "      <td>Creepy and atmospheric</td>\n",
              "      <td>The Hollywood version of 'Dark Water' is based...</td>\n",
              "      <td>8/10</td>\n",
              "    </tr>\n",
              "    <tr>\n",
              "      <th>1</th>\n",
              "      <td>Teenagers!</td>\n",
              "      <td>Don't know about you all, but I've sort of had...</td>\n",
              "      <td>9/10</td>\n",
              "    </tr>\n",
              "    <tr>\n",
              "      <th>2</th>\n",
              "      <td>Pretty good with a great performance by Connely</td>\n",
              "      <td>Dark Water is another one of those slow PG-13,...</td>\n",
              "      <td>8/10</td>\n",
              "    </tr>\n",
              "    <tr>\n",
              "      <th>3</th>\n",
              "      <td>Dark Water Has Depth</td>\n",
              "      <td>Of all the recent remakes of Japanese horror f...</td>\n",
              "      <td>9/10</td>\n",
              "    </tr>\n",
              "    <tr>\n",
              "      <th>4</th>\n",
              "      <td>Good character-driven human drama; I blame the...</td>\n",
              "      <td>Once more, a great injustice has been done by ...</td>\n",
              "      <td>7/10</td>\n",
              "    </tr>\n",
              "    <tr>\n",
              "      <th>...</th>\n",
              "      <td>...</td>\n",
              "      <td>...</td>\n",
              "      <td>...</td>\n",
              "    </tr>\n",
              "    <tr>\n",
              "      <th>3297</th>\n",
              "      <td>Uninspired</td>\n",
              "      <td>I haven't seen that many scary movies, but one...</td>\n",
              "      <td>7/10</td>\n",
              "    </tr>\n",
              "    <tr>\n",
              "      <th>3298</th>\n",
              "      <td>Great progress for further Asian remakes! The ...</td>\n",
              "      <td>I came back from the 'The Uninvited' and I am ...</td>\n",
              "      <td>8/10</td>\n",
              "    </tr>\n",
              "    <tr>\n",
              "      <th>3299</th>\n",
              "      <td>The ending makes it filled with flaws and conf...</td>\n",
              "      <td>I found The Uninvited on IMDb and saw it got a...</td>\n",
              "      <td>6/10</td>\n",
              "    </tr>\n",
              "    <tr>\n",
              "      <th>3300</th>\n",
              "      <td>A knock off of \"The Other\" not half bad but</td>\n",
              "      <td>A not bad, nifty thriller that unfortunately b...</td>\n",
              "      <td>5/10</td>\n",
              "    </tr>\n",
              "    <tr>\n",
              "      <th>3301</th>\n",
              "      <td>TOO PREDICTABLE</td>\n",
              "      <td>The story is just TOO PREDICTABLE. Plenty of u...</td>\n",
              "      <td>9/10</td>\n",
              "    </tr>\n",
              "  </tbody>\n",
              "</table>\n",
              "<p>3302 rows × 3 columns</p>\n",
              "</div>\n",
              "    <div class=\"colab-df-buttons\">\n",
              "\n",
              "  <div class=\"colab-df-container\">\n",
              "    <button class=\"colab-df-convert\" onclick=\"convertToInteractive('df-e4e14818-8e4a-4dda-b38a-8ee788e3ae7f')\"\n",
              "            title=\"Convert this dataframe to an interactive table.\"\n",
              "            style=\"display:none;\">\n",
              "\n",
              "  <svg xmlns=\"http://www.w3.org/2000/svg\" height=\"24px\" viewBox=\"0 -960 960 960\">\n",
              "    <path d=\"M120-120v-720h720v720H120Zm60-500h600v-160H180v160Zm220 220h160v-160H400v160Zm0 220h160v-160H400v160ZM180-400h160v-160H180v160Zm440 0h160v-160H620v160ZM180-180h160v-160H180v160Zm440 0h160v-160H620v160Z\"/>\n",
              "  </svg>\n",
              "    </button>\n",
              "\n",
              "  <style>\n",
              "    .colab-df-container {\n",
              "      display:flex;\n",
              "      gap: 12px;\n",
              "    }\n",
              "\n",
              "    .colab-df-convert {\n",
              "      background-color: #E8F0FE;\n",
              "      border: none;\n",
              "      border-radius: 50%;\n",
              "      cursor: pointer;\n",
              "      display: none;\n",
              "      fill: #1967D2;\n",
              "      height: 32px;\n",
              "      padding: 0 0 0 0;\n",
              "      width: 32px;\n",
              "    }\n",
              "\n",
              "    .colab-df-convert:hover {\n",
              "      background-color: #E2EBFA;\n",
              "      box-shadow: 0px 1px 2px rgba(60, 64, 67, 0.3), 0px 1px 3px 1px rgba(60, 64, 67, 0.15);\n",
              "      fill: #174EA6;\n",
              "    }\n",
              "\n",
              "    .colab-df-buttons div {\n",
              "      margin-bottom: 4px;\n",
              "    }\n",
              "\n",
              "    [theme=dark] .colab-df-convert {\n",
              "      background-color: #3B4455;\n",
              "      fill: #D2E3FC;\n",
              "    }\n",
              "\n",
              "    [theme=dark] .colab-df-convert:hover {\n",
              "      background-color: #434B5C;\n",
              "      box-shadow: 0px 1px 3px 1px rgba(0, 0, 0, 0.15);\n",
              "      filter: drop-shadow(0px 1px 2px rgba(0, 0, 0, 0.3));\n",
              "      fill: #FFFFFF;\n",
              "    }\n",
              "  </style>\n",
              "\n",
              "    <script>\n",
              "      const buttonEl =\n",
              "        document.querySelector('#df-e4e14818-8e4a-4dda-b38a-8ee788e3ae7f button.colab-df-convert');\n",
              "      buttonEl.style.display =\n",
              "        google.colab.kernel.accessAllowed ? 'block' : 'none';\n",
              "\n",
              "      async function convertToInteractive(key) {\n",
              "        const element = document.querySelector('#df-e4e14818-8e4a-4dda-b38a-8ee788e3ae7f');\n",
              "        const dataTable =\n",
              "          await google.colab.kernel.invokeFunction('convertToInteractive',\n",
              "                                                    [key], {});\n",
              "        if (!dataTable) return;\n",
              "\n",
              "        const docLinkHtml = 'Like what you see? Visit the ' +\n",
              "          '<a target=\"_blank\" href=https://colab.research.google.com/notebooks/data_table.ipynb>data table notebook</a>'\n",
              "          + ' to learn more about interactive tables.';\n",
              "        element.innerHTML = '';\n",
              "        dataTable['output_type'] = 'display_data';\n",
              "        await google.colab.output.renderOutput(dataTable, element);\n",
              "        const docLink = document.createElement('div');\n",
              "        docLink.innerHTML = docLinkHtml;\n",
              "        element.appendChild(docLink);\n",
              "      }\n",
              "    </script>\n",
              "  </div>\n",
              "\n",
              "\n",
              "<div id=\"df-ccb2a0f6-c191-4757-ba11-be21a2574a50\">\n",
              "  <button class=\"colab-df-quickchart\" onclick=\"quickchart('df-ccb2a0f6-c191-4757-ba11-be21a2574a50')\"\n",
              "            title=\"Suggest charts\"\n",
              "            style=\"display:none;\">\n",
              "\n",
              "<svg xmlns=\"http://www.w3.org/2000/svg\" height=\"24px\"viewBox=\"0 0 24 24\"\n",
              "     width=\"24px\">\n",
              "    <g>\n",
              "        <path d=\"M19 3H5c-1.1 0-2 .9-2 2v14c0 1.1.9 2 2 2h14c1.1 0 2-.9 2-2V5c0-1.1-.9-2-2-2zM9 17H7v-7h2v7zm4 0h-2V7h2v10zm4 0h-2v-4h2v4z\"/>\n",
              "    </g>\n",
              "</svg>\n",
              "  </button>\n",
              "\n",
              "<style>\n",
              "  .colab-df-quickchart {\n",
              "      --bg-color: #E8F0FE;\n",
              "      --fill-color: #1967D2;\n",
              "      --hover-bg-color: #E2EBFA;\n",
              "      --hover-fill-color: #174EA6;\n",
              "      --disabled-fill-color: #AAA;\n",
              "      --disabled-bg-color: #DDD;\n",
              "  }\n",
              "\n",
              "  [theme=dark] .colab-df-quickchart {\n",
              "      --bg-color: #3B4455;\n",
              "      --fill-color: #D2E3FC;\n",
              "      --hover-bg-color: #434B5C;\n",
              "      --hover-fill-color: #FFFFFF;\n",
              "      --disabled-bg-color: #3B4455;\n",
              "      --disabled-fill-color: #666;\n",
              "  }\n",
              "\n",
              "  .colab-df-quickchart {\n",
              "    background-color: var(--bg-color);\n",
              "    border: none;\n",
              "    border-radius: 50%;\n",
              "    cursor: pointer;\n",
              "    display: none;\n",
              "    fill: var(--fill-color);\n",
              "    height: 32px;\n",
              "    padding: 0;\n",
              "    width: 32px;\n",
              "  }\n",
              "\n",
              "  .colab-df-quickchart:hover {\n",
              "    background-color: var(--hover-bg-color);\n",
              "    box-shadow: 0 1px 2px rgba(60, 64, 67, 0.3), 0 1px 3px 1px rgba(60, 64, 67, 0.15);\n",
              "    fill: var(--button-hover-fill-color);\n",
              "  }\n",
              "\n",
              "  .colab-df-quickchart-complete:disabled,\n",
              "  .colab-df-quickchart-complete:disabled:hover {\n",
              "    background-color: var(--disabled-bg-color);\n",
              "    fill: var(--disabled-fill-color);\n",
              "    box-shadow: none;\n",
              "  }\n",
              "\n",
              "  .colab-df-spinner {\n",
              "    border: 2px solid var(--fill-color);\n",
              "    border-color: transparent;\n",
              "    border-bottom-color: var(--fill-color);\n",
              "    animation:\n",
              "      spin 1s steps(1) infinite;\n",
              "  }\n",
              "\n",
              "  @keyframes spin {\n",
              "    0% {\n",
              "      border-color: transparent;\n",
              "      border-bottom-color: var(--fill-color);\n",
              "      border-left-color: var(--fill-color);\n",
              "    }\n",
              "    20% {\n",
              "      border-color: transparent;\n",
              "      border-left-color: var(--fill-color);\n",
              "      border-top-color: var(--fill-color);\n",
              "    }\n",
              "    30% {\n",
              "      border-color: transparent;\n",
              "      border-left-color: var(--fill-color);\n",
              "      border-top-color: var(--fill-color);\n",
              "      border-right-color: var(--fill-color);\n",
              "    }\n",
              "    40% {\n",
              "      border-color: transparent;\n",
              "      border-right-color: var(--fill-color);\n",
              "      border-top-color: var(--fill-color);\n",
              "    }\n",
              "    60% {\n",
              "      border-color: transparent;\n",
              "      border-right-color: var(--fill-color);\n",
              "    }\n",
              "    80% {\n",
              "      border-color: transparent;\n",
              "      border-right-color: var(--fill-color);\n",
              "      border-bottom-color: var(--fill-color);\n",
              "    }\n",
              "    90% {\n",
              "      border-color: transparent;\n",
              "      border-bottom-color: var(--fill-color);\n",
              "    }\n",
              "  }\n",
              "</style>\n",
              "\n",
              "  <script>\n",
              "    async function quickchart(key) {\n",
              "      const quickchartButtonEl =\n",
              "        document.querySelector('#' + key + ' button');\n",
              "      quickchartButtonEl.disabled = true;  // To prevent multiple clicks.\n",
              "      quickchartButtonEl.classList.add('colab-df-spinner');\n",
              "      try {\n",
              "        const charts = await google.colab.kernel.invokeFunction(\n",
              "            'suggestCharts', [key], {});\n",
              "      } catch (error) {\n",
              "        console.error('Error during call to suggestCharts:', error);\n",
              "      }\n",
              "      quickchartButtonEl.classList.remove('colab-df-spinner');\n",
              "      quickchartButtonEl.classList.add('colab-df-quickchart-complete');\n",
              "    }\n",
              "    (() => {\n",
              "      let quickchartButtonEl =\n",
              "        document.querySelector('#df-ccb2a0f6-c191-4757-ba11-be21a2574a50 button');\n",
              "      quickchartButtonEl.style.display =\n",
              "        google.colab.kernel.accessAllowed ? 'block' : 'none';\n",
              "    })();\n",
              "  </script>\n",
              "</div>\n",
              "    </div>\n",
              "  </div>\n"
            ],
            "application/vnd.google.colaboratory.intrinsic+json": {
              "type": "dataframe",
              "variable_name": "df",
              "summary": "{\n  \"name\": \"df\",\n  \"rows\": 3302,\n  \"fields\": [\n    {\n      \"column\": \"title\",\n      \"properties\": {\n        \"dtype\": \"string\",\n        \"num_unique_values\": 3222,\n        \"samples\": [\n          \"So-so horror film\",\n          \"Well worth a watch\",\n          \"inedible cinematic food\"\n        ],\n        \"semantic_type\": \"\",\n        \"description\": \"\"\n      }\n    },\n    {\n      \"column\": \"review\",\n      \"properties\": {\n        \"dtype\": \"string\",\n        \"num_unique_values\": 3299,\n        \"samples\": [\n          \"it was the best horror film i've watched for a long time. For a very long time, there hasnt been a horror film which can make people be scared but this was really scary. every minute you should be ready for surprises thoughout the film.\",\n          \"Some tips on how to write a horror movie...All you need is a young hero or heroine who discovers some kind of cursed device is killing off all of their friends. The device may be anything, just as long as it's something we use everyday like a computer or something. After a group of the hero's faceless and underdeveloped friends die (The depiction of said deaths will depend on whether or not your film is PG-13 or R.), the hero must then team up with a second hero, and try to discover what's going on. After going through old files and visiting creepy old buildings that hold secrets of the past, the lead characters must discover that the cursed object is tied into some tragic past event, usually revolving around a spooky little girl. As the clock ticks down to the hero's own death, they must race to right the wrongs of the past. After the past has seemingly been corrected, the characters breathe a sigh of relief, only to discover that they were wrong, and that someone or something else is responsible for the evil.It is a formula that has been employed by numerous films, many originating in Japan or some other Asian country. One Missed Call follows this formula to the letter, right down to the originating in Japan part. The only problem is that it seems to know we've seen it all before. The actors sleepwalk through their dialogue, and many times the hero of the story - a college student named Beth Raymond (Shannyn Sossamon), forgets to even react to the deaths of her friends. You see, all of Beth's friends are being killed off by a cursed cell phone voice mail message. It appears on your phone, and when you play it back, you hear the exact moment of your death. The friends are haunted by spooky visions of ghouls and decaying people walking around in broad daylight, until the character suddenly meets an untimely end in some sort of \\\"accident\\\" that makes me think the evil ghost in this movie took lessons from the ghastly spirit in the Final Destination films, as its method of killing people is somewhat similar. The Final Destination villain is much more flashier and complex in its killings, but you have to remember, the ghost in this movie is working under a much more restricted PG-13 rating, so you can't really blame it if its kills are not as bloody or grand.Now, let me ask you something here. If you knew that people were dying because of a mysterious voice message that appears on your cell phone, wouldn't you just try not listening to the voice message in the first place? This never dawns on Beth or her friends. They try smashing their cell phones to pieces, but this doesn't seem to halt the killer spirit's advances. I don't know if not listening to the message would save your life or not, but I figure if all of my friends were being killed after listening to it, I'd be willing to give it a shot. The movie continues down the expected path, and introduces our second hero, a police detective named Jack Andrews (Edward Burns). He's the only person who believes Beth's story about the cursed voice mail message, because his sister was a victim of it, too. They join forces to discover the truth behind the curse, and the clues fall right into place, leading them to a hospital that burned down a while ago. Everything that we saw happen in films like The Ring, The Grudge, Dark Water, and the like happens, and not even the characters don't seem to be all that surprised. They go through the expected motions, and so does the movie itself.When I say One Missed Call follows a rigid path, I am dead serious. There's not one single moment we haven't seen in similar-themed movies. I have not seen the Japanese movie that inspired this remake, so I don't know if the original was as uninspired as this. I will give the original the benefit of the doubt that it had a lot more life and energy than this. The characters all seem to be walking a pre-determined path, and what's worse, they seem to know it. There's nothing worse than when the characters seem to be smarter than the movie they're in, but they're forced to act like idiots, because it's expected of them to do so. The movie doesn't even do a good job of explaining itself from time to time. I'm trying hard not to go into spoilers here, but should you see this movie (not that I'm recommending you do), ask yourself why the corpse they discover in the tunnels underneath the burnt hospital was there in the first place? Also ask yourself how many reality TV shows are filmed live? And wouldn't having someone die on your show live on national television kind of cause more attention than it seems to in this movie? My personal favorite moment of the movie actually comes early on, when the film's first victim meets an untimely end. The ghost then decides to not only kill her, but comes back for the victim's pet cat moments later. Did the cat get an eerie voice mail too? One Missed Call is the very definition of an early January release, a time of the year when the studios usually unload their stinkers that they don't know what to do with. The fact that it's the only new movie opening this weekend in wide release means that it will most likely find an audience with kids and teens looking for a cheap thrill. If you're bored this weekend, and actually consider this movie, please don't. This movie does not alleviate boredom, it only causes it.\",\n          \"Let me admit openly to you. I'm very surprised with The Uninvited. Given that Hollywood remakes of Asian horror films are almost universally unwatchable, I did not expect to enjoy this one at all. The Guard Brothers' film is more \\\"inspired\\\" by A Tale of Two Sisters, than it is a typical remake. Yes, our beloved South Korean masterpiece has been stripped of its unsettling presence and catered to pubescent boys. PG-13 terror sequences are spliced among teenage debauchery, but something of its parent remains. The original's method of framing hallucinations of dead people creeping out from furniture or down hallways still works. Still, as its sub-genre requires, a lot is left unexplained in The Uninvited. I don't mean good ambiguity. Think of King Kong's rampage through New York. Plot holes are that noticeable.The original film's story has been appropriately reworked, but the differences are rather pronounced. I'm still unsure about certain aspects of the plot. In this movie, there may actually be real ghosts. They appear to the younger sister this time, who is struggling over the older one's death. She convinces herself that her stepmother is a criminal who was never apprehended for previous crimes. Anna, the younger sister, repeatedly comforts herself with assurance that her older sister, Alex, is still alive. These scenes are directed well, and it isn't obvious to viewers that Alex is dead. The Uninvited is distinguished from its original film by its protagonist's motivation. Anna wants vengeance for her older sister's death, while Su-mi wants reconciliation for her inability to prevent her younger sister's death. One movie asks for sympathy with its main character, and the other one demands sympathy for supporting players. This is even more obvious because the stepmother really dies in this version.The Uninvited isn't the pinnacle of Hollywood remakes of Asian films. Too many egregious errors are obvious to anyone who has read a novel recently. Firstly, Anna confuses her stepmother for Mildred Kemp, a murderer who was never captured. The movie ends with Kemp confronting Anna, in a mental health clinic, about her experience. Anna also sees Kemp's victims' ghosts. OK, why would she do that? Unlike the first movie, most scary sequences are carried out by the ghosts. A Tale of Two Sisters infers that Su-yeon may be under the sink or in hutch. Alex, the imagined sister, is a harmless recreation that supports Anna in her revenge plot. I like the ambiguity created between ghosts and visions of deceased, but I don't think it's intentional. This movie copies its parent's greatest strengths by stumbling through an established model. It does work, but it's like listening to a backyard band sing a Beatles song and not sounding as bad as expected.A Tale of Two Sisters is a story that easily crosses cultural boundaries. I've conducted further online research since my original review and have discovered that director Kim Ji-woon based his film on a Korean folktale. In \\\"Janghwa Hongreyon jeon,\\\" a single father marries a new woman who argues with his daughters. \\\"Stepmother\\\" frames one of her stepdaughters of unchaste behavior and has her own son drown her. She also has her remaining stepdaughter killed via drowning. The spirits of the dead girls haunt local residents until someone proves they did not commit suicide.\"\n        ],\n        \"semantic_type\": \"\",\n        \"description\": \"\"\n      }\n    },\n    {\n      \"column\": \"rating\",\n      \"properties\": {\n        \"dtype\": \"category\",\n        \"num_unique_values\": 10,\n        \"samples\": [\n          \"2/10\",\n          \"9/10\",\n          \"5/10\"\n        ],\n        \"semantic_type\": \"\",\n        \"description\": \"\"\n      }\n    }\n  ]\n}"
            }
          },
          "metadata": {},
          "execution_count": 60
        }
      ]
    },
    {
      "cell_type": "code",
      "source": [
        "df['review'][88]"
      ],
      "metadata": {
        "colab": {
          "base_uri": "https://localhost:8080/",
          "height": 140
        },
        "id": "kX5zWJ0QtMHT",
        "outputId": "55c465b5-3902-4287-a0e8-7efd32764569"
      },
      "execution_count": 61,
      "outputs": [
        {
          "output_type": "execute_result",
          "data": {
            "text/plain": [
              "'Oh boy.First of all I\\'d like to say I\\'m not against remakes in general. The remake has a very big disadvantage since it will doubtlessly be compared to the original (which has to be somewhat good, otherwise he wouldn\\'t inspire the remake) so it\\'s not really fair to be too hard on it. Besides, if you\\'d loved the original it\\'s always fun to look how other director/cast interpreted the thing.What I DO hate is when movie people start \"improving\" the original, putting in all sorts of their ideas and solutions in order to 1) distance themselves from the original and 2) make the movie more suited for intended audience. Perhaps some directors can pull this off, but usually (and especially when it is the case of American remakes) the \"improving\" consists of heavy overexplaining of the plot and augmented use of special effects. I don\\'t get this - does Hollywood really think American audience is soo stupid they must be led by hand the entire movie, and God forbid something ambiguous was left at the ending? Or that without \"extra\" special effects average American will not be able to sit tight for an hour and a half? Geez.Japanese \"Dark Water\" wasn\\'t a great flick, but it worked on some key levels. It was a moody story about mother and child living in haunted apartment. For the most part it didn\\'t have many scares, but a few motifs were used beautifully (the bag, yellow raincoat). And much like Ringu, the creepiest stuff happened in the end when your defenses were more or less down which for me, well, worked.Enter the American version. If they remade it scene by scene it would be unimaginative, but it might have worked. Yet, they opined for a different path, which obviously consisted of identifying all the elements of the original that worked, and then replacing them with other elements which are more or less pointless.First of all there\\'s that dreaded overexplaining and overexpositioning. OK, Dahlia\\'s mother was alcoholic, WE GET IT, enough with the flashbacks already. Then there\\'s some added material for some supporting roles which serves absolutely no purpose. Tim Roth for instance has some scenes that are there only so he can get some more screen time.But what is most unforgivable is what they did to the whole \"creepiness\" of the story. When you go to see a horror/suspense/thriller movie, you are in for the thrills. Yet in \"Dark Water\" there are is absolutely nothing remotely scary or creepy except the blue hue the movie was shot in. Let me reiterate this - there is NOTHING SCARY in this movie. There\\'s just lots and lots and lots of water and many scenes of flooded apartments.As I\\'ve already mentioned, the original went something like moody-creepy-moody-creepy-OHHELLNOWTHATSCREEPY-moody. The remake is moody-moody-wet-wet-wet-moody. The scenes which should scare us are at best - confusing. Instead of being thrilled or scared, you\\'ll have either a confused or \"get on with it already\" look on your face.If I started dissecting what they did wrong in the movie, the list would never end. Here are just some of the things. There are basically three key child actors in this movie (I won\\'t say more to avoid spoilers) yet all three of them are so similar it is really hard to discern them - which is bad, since this is the key for following the plot or *ahem* being scared in a few scenes. What is worse, this was obviously an intentional decision, since even their clothing is almost identical. The director must have tried to put some point across, but what he achieved is needless confusion. Furthermore, all the potentially scary motifs are gone except for the water. Message for the director: WATER IS NOT CREEPY, AND ADDING MORE WATER DOES NOT MAKE IT CREEPIER. I don\\'t know what he was thinking, probably the test audience consisted of a bunch of aquaphobics.I could go on and on but I will finish with the thing what bothered me the most: the ending. I didn\\'t like the original ending, but it kinda worked, and I was interested in the remake mostly because I wanted to see a reinterpretation of that few key horrifying scenes near the end. Boy, was I in for a treat. The remake went for a thematically similar but really a totally different ending, with NO SCARY SCENES at all, except it went nuts with amounts of, yes you guessed it, WATER. So much for getting my money\\'s worth.Anyway, the bottom line is this is not just a bad remake but a bad sample of the genre. You will be bored and just perhaps slightly moved (the daughter is cute and you kinda care what happens to her) but you won\\'t be scared and you definitely won\\'t be satisfied.Except you are really scared of water, then this will be a true ride of terror.4/10'"
            ],
            "application/vnd.google.colaboratory.intrinsic+json": {
              "type": "string"
            }
          },
          "metadata": {},
          "execution_count": 61
        }
      ]
    },
    {
      "cell_type": "code",
      "source": [
        "import re\n",
        "import string\n",
        "import nltk\n",
        "from nltk.corpus import stopwords\n",
        "from nltk.stem import WordNetLemmatizer\n",
        "from nltk.stem.porter import *\n",
        "from tqdm import tqdm\n",
        "from nltk import sent_tokenize,word_tokenize\n",
        "\n",
        "nltk.download('stopwords')\n",
        "nltk.download('punkt')\n",
        "nltk.download('wordnet')\n",
        "nltk.download('omw-1.4')"
      ],
      "metadata": {
        "colab": {
          "base_uri": "https://localhost:8080/"
        },
        "id": "s9jktLj0RE2K",
        "outputId": "71ee01a0-fd00-4e1a-ad75-bc29959e1164"
      },
      "execution_count": 62,
      "outputs": [
        {
          "output_type": "stream",
          "name": "stderr",
          "text": [
            "[nltk_data] Downloading package stopwords to /root/nltk_data...\n",
            "[nltk_data]   Package stopwords is already up-to-date!\n",
            "[nltk_data] Downloading package punkt to /root/nltk_data...\n",
            "[nltk_data]   Package punkt is already up-to-date!\n",
            "[nltk_data] Downloading package wordnet to /root/nltk_data...\n",
            "[nltk_data]   Package wordnet is already up-to-date!\n",
            "[nltk_data] Downloading package omw-1.4 to /root/nltk_data...\n",
            "[nltk_data]   Package omw-1.4 is already up-to-date!\n"
          ]
        },
        {
          "output_type": "execute_result",
          "data": {
            "text/plain": [
              "True"
            ]
          },
          "metadata": {},
          "execution_count": 62
        }
      ]
    },
    {
      "cell_type": "code",
      "source": [
        "main = []\n",
        "\n",
        "# Storing all punctuations using RE library like !;,\"% etc\n",
        "re_puncs = re.compile('[%s]' % re.escape(string.punctuation))\n",
        "# Storing all stop words like a, an, the, when, there, this etc\n",
        "stop_word  = set(stopwords.words('english'))\n",
        "stop_word.add(\"im\")\n",
        "# print(stop_word)\n"
      ],
      "metadata": {
        "id": "unexSO72RQiG"
      },
      "execution_count": 63,
      "outputs": []
    },
    {
      "cell_type": "code",
      "source": [
        "sentences_listed = [line.split(\" \") for line in df['review']]\n",
        "\n",
        "import gensim\n",
        "\n",
        "word_model = gensim.models.Word2Vec(sentences = sentences_listed, vector_size = 100)\n",
        "words = list(word_model.wv.key_to_index)\n",
        "print(len(words))"
      ],
      "metadata": {
        "colab": {
          "base_uri": "https://localhost:8080/"
        },
        "id": "uLp5QsLaRdVz",
        "outputId": "10f7e51c-cdac-4e17-d8a6-26e4421fe087"
      },
      "execution_count": 64,
      "outputs": [
        {
          "output_type": "stream",
          "name": "stdout",
          "text": [
            "8729\n"
          ]
        }
      ]
    },
    {
      "cell_type": "code",
      "source": [
        "!pip install gensim"
      ],
      "metadata": {
        "colab": {
          "base_uri": "https://localhost:8080/"
        },
        "id": "3G34SZxiRjNl",
        "outputId": "7df0a9c8-9508-4b39-87f7-d5b07df65ead"
      },
      "execution_count": 65,
      "outputs": [
        {
          "output_type": "stream",
          "name": "stdout",
          "text": [
            "Requirement already satisfied: gensim in /usr/local/lib/python3.10/dist-packages (4.3.2)\n",
            "Requirement already satisfied: numpy>=1.18.5 in /usr/local/lib/python3.10/dist-packages (from gensim) (1.25.2)\n",
            "Requirement already satisfied: scipy>=1.7.0 in /usr/local/lib/python3.10/dist-packages (from gensim) (1.11.4)\n",
            "Requirement already satisfied: smart-open>=1.8.1 in /usr/local/lib/python3.10/dist-packages (from gensim) (6.4.0)\n"
          ]
        }
      ]
    },
    {
      "cell_type": "code",
      "source": [
        "word_model.wv.most_similar(\"actress\")"
      ],
      "metadata": {
        "colab": {
          "base_uri": "https://localhost:8080/"
        },
        "id": "GPgFjxCBRnhF",
        "outputId": "ab00b94c-06f0-4807-ea8a-e2995d4c866d"
      },
      "execution_count": 66,
      "outputs": [
        {
          "output_type": "execute_result",
          "data": {
            "text/plain": [
              "[('role', 0.930316686630249),\n",
              " ('actress,', 0.9255497455596924),\n",
              " ('performance', 0.9204145669937134),\n",
              " ('actor', 0.893725574016571),\n",
              " ('plays', 0.8878854513168335),\n",
              " ('Connelly', 0.8864920735359192),\n",
              " ('lead,', 0.8788108825683594),\n",
              " ('actress.', 0.878707230091095),\n",
              " ('Emily', 0.8781460523605347),\n",
              " ('Dorfman', 0.8764450550079346)]"
            ]
          },
          "metadata": {},
          "execution_count": 66
        }
      ]
    },
    {
      "cell_type": "code",
      "source": [
        "word_model.wv.most_similar(\"death\")"
      ],
      "metadata": {
        "colab": {
          "base_uri": "https://localhost:8080/"
        },
        "id": "A6IfkeLNRqFA",
        "outputId": "6af7a67a-6703-4ea3-914a-6a10bba0131e"
      },
      "execution_count": 67,
      "outputs": [
        {
          "output_type": "execute_result",
          "data": {
            "text/plain": [
              "[('spirit', 0.9410275220870972),\n",
              " ('house', 0.9261094927787781),\n",
              " ('mother', 0.9227659702301025),\n",
              " ('body', 0.9194740056991577),\n",
              " ('woman', 0.918242335319519),\n",
              " ('cursed', 0.9178704619407654),\n",
              " ('Dahlia', 0.9173790812492371),\n",
              " ('husband', 0.915257453918457),\n",
              " ('living', 0.9152496457099915),\n",
              " ('daughter', 0.9146366119384766)]"
            ]
          },
          "metadata": {},
          "execution_count": 67
        }
      ]
    },
    {
      "cell_type": "code",
      "source": [
        "word_model.wv.most_similar(\"scary\")"
      ],
      "metadata": {
        "colab": {
          "base_uri": "https://localhost:8080/"
        },
        "id": "aHYhXMc0RvDF",
        "outputId": "ae79c0a9-942e-41e9-be00-9d0bbb749c8d"
      },
      "execution_count": 68,
      "outputs": [
        {
          "output_type": "execute_result",
          "data": {
            "text/plain": [
              "[('bad', 0.909307599067688),\n",
              " ('good', 0.8006821274757385),\n",
              " ('scary,', 0.7488455176353455),\n",
              " ('truly', 0.7389134764671326),\n",
              " ('scary.', 0.7292941808700562),\n",
              " ('quite', 0.7193005084991455),\n",
              " ('Not', 0.7153157591819763),\n",
              " ('bad,', 0.7132468819618225),\n",
              " ('all,', 0.7007725238800049),\n",
              " ('really', 0.6968408823013306)]"
            ]
          },
          "metadata": {},
          "execution_count": 68
        }
      ]
    },
    {
      "cell_type": "code",
      "source": [
        "# Making Lemmatizing object\n",
        "lem = WordNetLemmatizer()\n",
        "# Using Porter Stemmer\n",
        "p_stem = PorterStemmer()\n",
        "\n",
        "# Traversing whole dataset\n",
        "for i in tqdm(range(len(df['review']))):\n",
        "    # Tokenization\n",
        "    tokens = word_tokenize(str(df['review'][i]))\n",
        "    # Converting all characters to lower case\n",
        "    tokens = [w.lower() for w in tokens]\n",
        "    # Remove all punctuations from sentenses\n",
        "    tokens = [re_puncs.sub('', w) for w in tokens]\n",
        "    # Checking all words is alphabets or not\n",
        "    tokens = [i for i in tokens if i.isalpha()]\n",
        "    # Removing all stop words from the sentenses\n",
        "    tokens = [w for w in tokens if w not in stop_word]\n",
        "    # Doing Lemmatizing of words\n",
        "    tokens = [lem.lemmatize(w) for w in tokens]\n",
        "    # Stemming process\n",
        "    tokens = [p_stem.stem(w) for w in tokens]\n",
        "    # Finally convert to string\n",
        "    r = ' '.join(tokens)\n",
        "    # Storing the final string into main list\n",
        "    main.append(r)\n"
      ],
      "metadata": {
        "colab": {
          "base_uri": "https://localhost:8080/"
        },
        "id": "R7A1wClxRzER",
        "outputId": "3f72b1ea-c375-4c39-8137-4a11e3f6d7a9"
      },
      "execution_count": 69,
      "outputs": [
        {
          "output_type": "stream",
          "name": "stderr",
          "text": [
            "100%|██████████| 3302/3302 [00:31<00:00, 106.20it/s]\n"
          ]
        }
      ]
    },
    {
      "cell_type": "code",
      "source": [
        "df['translated'] = main"
      ],
      "metadata": {
        "id": "IIIkhxzKXEwI"
      },
      "execution_count": 70,
      "outputs": []
    },
    {
      "cell_type": "code",
      "source": [
        "df"
      ],
      "metadata": {
        "colab": {
          "base_uri": "https://localhost:8080/",
          "height": 510
        },
        "id": "mhxJj5zWXYiC",
        "outputId": "514879af-8955-4a69-c168-7cca5e36664a"
      },
      "execution_count": 71,
      "outputs": [
        {
          "output_type": "execute_result",
          "data": {
            "text/plain": [
              "                                                  title  \\\n",
              "0                                Creepy and atmospheric   \n",
              "1                                            Teenagers!   \n",
              "2       Pretty good with a great performance by Connely   \n",
              "3                                  Dark Water Has Depth   \n",
              "4     Good character-driven human drama; I blame the...   \n",
              "...                                                 ...   \n",
              "3297                                         Uninspired   \n",
              "3298  Great progress for further Asian remakes! The ...   \n",
              "3299  The ending makes it filled with flaws and conf...   \n",
              "3300        A knock off of \"The Other\" not half bad but   \n",
              "3301                                    TOO PREDICTABLE   \n",
              "\n",
              "                                                 review rating  \\\n",
              "0     The Hollywood version of 'Dark Water' is based...   8/10   \n",
              "1     Don't know about you all, but I've sort of had...   9/10   \n",
              "2     Dark Water is another one of those slow PG-13,...   8/10   \n",
              "3     Of all the recent remakes of Japanese horror f...   9/10   \n",
              "4     Once more, a great injustice has been done by ...   7/10   \n",
              "...                                                 ...    ...   \n",
              "3297  I haven't seen that many scary movies, but one...   7/10   \n",
              "3298  I came back from the 'The Uninvited' and I am ...   8/10   \n",
              "3299  I found The Uninvited on IMDb and saw it got a...   6/10   \n",
              "3300  A not bad, nifty thriller that unfortunately b...   5/10   \n",
              "3301  The story is just TOO PREDICTABLE. Plenty of u...   9/10   \n",
              "\n",
              "                                             translated  \n",
              "0     hollywood version dark water base japanes horr...  \n",
              "1     nt know sort teenag walter sall dark water flo...  \n",
              "2     dark water anoth one slow atmospher creepi gho...  \n",
              "3     recent remak japanes horror film say dark wate...  \n",
              "4     great injustic done imdb voter dark water curr...  \n",
              "...                                                 ...  \n",
              "3297  nt seen mani scari movi one thing know sure mo...  \n",
              "3298  came back uninvit surpris horror fanat everi h...  \n",
              "3299  found uninvit imdb saw got okay rate horrorsus...  \n",
              "3300  bad nifti thriller unfortun break rule ca nt t...  \n",
              "3301  stori predict plenti unnecessari scene sens su...  \n",
              "\n",
              "[3302 rows x 4 columns]"
            ],
            "text/html": [
              "\n",
              "  <div id=\"df-52f3fd24-58f9-487b-bf15-e026c4596660\" class=\"colab-df-container\">\n",
              "    <div>\n",
              "<style scoped>\n",
              "    .dataframe tbody tr th:only-of-type {\n",
              "        vertical-align: middle;\n",
              "    }\n",
              "\n",
              "    .dataframe tbody tr th {\n",
              "        vertical-align: top;\n",
              "    }\n",
              "\n",
              "    .dataframe thead th {\n",
              "        text-align: right;\n",
              "    }\n",
              "</style>\n",
              "<table border=\"1\" class=\"dataframe\">\n",
              "  <thead>\n",
              "    <tr style=\"text-align: right;\">\n",
              "      <th></th>\n",
              "      <th>title</th>\n",
              "      <th>review</th>\n",
              "      <th>rating</th>\n",
              "      <th>translated</th>\n",
              "    </tr>\n",
              "  </thead>\n",
              "  <tbody>\n",
              "    <tr>\n",
              "      <th>0</th>\n",
              "      <td>Creepy and atmospheric</td>\n",
              "      <td>The Hollywood version of 'Dark Water' is based...</td>\n",
              "      <td>8/10</td>\n",
              "      <td>hollywood version dark water base japanes horr...</td>\n",
              "    </tr>\n",
              "    <tr>\n",
              "      <th>1</th>\n",
              "      <td>Teenagers!</td>\n",
              "      <td>Don't know about you all, but I've sort of had...</td>\n",
              "      <td>9/10</td>\n",
              "      <td>nt know sort teenag walter sall dark water flo...</td>\n",
              "    </tr>\n",
              "    <tr>\n",
              "      <th>2</th>\n",
              "      <td>Pretty good with a great performance by Connely</td>\n",
              "      <td>Dark Water is another one of those slow PG-13,...</td>\n",
              "      <td>8/10</td>\n",
              "      <td>dark water anoth one slow atmospher creepi gho...</td>\n",
              "    </tr>\n",
              "    <tr>\n",
              "      <th>3</th>\n",
              "      <td>Dark Water Has Depth</td>\n",
              "      <td>Of all the recent remakes of Japanese horror f...</td>\n",
              "      <td>9/10</td>\n",
              "      <td>recent remak japanes horror film say dark wate...</td>\n",
              "    </tr>\n",
              "    <tr>\n",
              "      <th>4</th>\n",
              "      <td>Good character-driven human drama; I blame the...</td>\n",
              "      <td>Once more, a great injustice has been done by ...</td>\n",
              "      <td>7/10</td>\n",
              "      <td>great injustic done imdb voter dark water curr...</td>\n",
              "    </tr>\n",
              "    <tr>\n",
              "      <th>...</th>\n",
              "      <td>...</td>\n",
              "      <td>...</td>\n",
              "      <td>...</td>\n",
              "      <td>...</td>\n",
              "    </tr>\n",
              "    <tr>\n",
              "      <th>3297</th>\n",
              "      <td>Uninspired</td>\n",
              "      <td>I haven't seen that many scary movies, but one...</td>\n",
              "      <td>7/10</td>\n",
              "      <td>nt seen mani scari movi one thing know sure mo...</td>\n",
              "    </tr>\n",
              "    <tr>\n",
              "      <th>3298</th>\n",
              "      <td>Great progress for further Asian remakes! The ...</td>\n",
              "      <td>I came back from the 'The Uninvited' and I am ...</td>\n",
              "      <td>8/10</td>\n",
              "      <td>came back uninvit surpris horror fanat everi h...</td>\n",
              "    </tr>\n",
              "    <tr>\n",
              "      <th>3299</th>\n",
              "      <td>The ending makes it filled with flaws and conf...</td>\n",
              "      <td>I found The Uninvited on IMDb and saw it got a...</td>\n",
              "      <td>6/10</td>\n",
              "      <td>found uninvit imdb saw got okay rate horrorsus...</td>\n",
              "    </tr>\n",
              "    <tr>\n",
              "      <th>3300</th>\n",
              "      <td>A knock off of \"The Other\" not half bad but</td>\n",
              "      <td>A not bad, nifty thriller that unfortunately b...</td>\n",
              "      <td>5/10</td>\n",
              "      <td>bad nifti thriller unfortun break rule ca nt t...</td>\n",
              "    </tr>\n",
              "    <tr>\n",
              "      <th>3301</th>\n",
              "      <td>TOO PREDICTABLE</td>\n",
              "      <td>The story is just TOO PREDICTABLE. Plenty of u...</td>\n",
              "      <td>9/10</td>\n",
              "      <td>stori predict plenti unnecessari scene sens su...</td>\n",
              "    </tr>\n",
              "  </tbody>\n",
              "</table>\n",
              "<p>3302 rows × 4 columns</p>\n",
              "</div>\n",
              "    <div class=\"colab-df-buttons\">\n",
              "\n",
              "  <div class=\"colab-df-container\">\n",
              "    <button class=\"colab-df-convert\" onclick=\"convertToInteractive('df-52f3fd24-58f9-487b-bf15-e026c4596660')\"\n",
              "            title=\"Convert this dataframe to an interactive table.\"\n",
              "            style=\"display:none;\">\n",
              "\n",
              "  <svg xmlns=\"http://www.w3.org/2000/svg\" height=\"24px\" viewBox=\"0 -960 960 960\">\n",
              "    <path d=\"M120-120v-720h720v720H120Zm60-500h600v-160H180v160Zm220 220h160v-160H400v160Zm0 220h160v-160H400v160ZM180-400h160v-160H180v160Zm440 0h160v-160H620v160ZM180-180h160v-160H180v160Zm440 0h160v-160H620v160Z\"/>\n",
              "  </svg>\n",
              "    </button>\n",
              "\n",
              "  <style>\n",
              "    .colab-df-container {\n",
              "      display:flex;\n",
              "      gap: 12px;\n",
              "    }\n",
              "\n",
              "    .colab-df-convert {\n",
              "      background-color: #E8F0FE;\n",
              "      border: none;\n",
              "      border-radius: 50%;\n",
              "      cursor: pointer;\n",
              "      display: none;\n",
              "      fill: #1967D2;\n",
              "      height: 32px;\n",
              "      padding: 0 0 0 0;\n",
              "      width: 32px;\n",
              "    }\n",
              "\n",
              "    .colab-df-convert:hover {\n",
              "      background-color: #E2EBFA;\n",
              "      box-shadow: 0px 1px 2px rgba(60, 64, 67, 0.3), 0px 1px 3px 1px rgba(60, 64, 67, 0.15);\n",
              "      fill: #174EA6;\n",
              "    }\n",
              "\n",
              "    .colab-df-buttons div {\n",
              "      margin-bottom: 4px;\n",
              "    }\n",
              "\n",
              "    [theme=dark] .colab-df-convert {\n",
              "      background-color: #3B4455;\n",
              "      fill: #D2E3FC;\n",
              "    }\n",
              "\n",
              "    [theme=dark] .colab-df-convert:hover {\n",
              "      background-color: #434B5C;\n",
              "      box-shadow: 0px 1px 3px 1px rgba(0, 0, 0, 0.15);\n",
              "      filter: drop-shadow(0px 1px 2px rgba(0, 0, 0, 0.3));\n",
              "      fill: #FFFFFF;\n",
              "    }\n",
              "  </style>\n",
              "\n",
              "    <script>\n",
              "      const buttonEl =\n",
              "        document.querySelector('#df-52f3fd24-58f9-487b-bf15-e026c4596660 button.colab-df-convert');\n",
              "      buttonEl.style.display =\n",
              "        google.colab.kernel.accessAllowed ? 'block' : 'none';\n",
              "\n",
              "      async function convertToInteractive(key) {\n",
              "        const element = document.querySelector('#df-52f3fd24-58f9-487b-bf15-e026c4596660');\n",
              "        const dataTable =\n",
              "          await google.colab.kernel.invokeFunction('convertToInteractive',\n",
              "                                                    [key], {});\n",
              "        if (!dataTable) return;\n",
              "\n",
              "        const docLinkHtml = 'Like what you see? Visit the ' +\n",
              "          '<a target=\"_blank\" href=https://colab.research.google.com/notebooks/data_table.ipynb>data table notebook</a>'\n",
              "          + ' to learn more about interactive tables.';\n",
              "        element.innerHTML = '';\n",
              "        dataTable['output_type'] = 'display_data';\n",
              "        await google.colab.output.renderOutput(dataTable, element);\n",
              "        const docLink = document.createElement('div');\n",
              "        docLink.innerHTML = docLinkHtml;\n",
              "        element.appendChild(docLink);\n",
              "      }\n",
              "    </script>\n",
              "  </div>\n",
              "\n",
              "\n",
              "<div id=\"df-38f80e59-f3dd-4eb8-8f0c-46bc73ad97f6\">\n",
              "  <button class=\"colab-df-quickchart\" onclick=\"quickchart('df-38f80e59-f3dd-4eb8-8f0c-46bc73ad97f6')\"\n",
              "            title=\"Suggest charts\"\n",
              "            style=\"display:none;\">\n",
              "\n",
              "<svg xmlns=\"http://www.w3.org/2000/svg\" height=\"24px\"viewBox=\"0 0 24 24\"\n",
              "     width=\"24px\">\n",
              "    <g>\n",
              "        <path d=\"M19 3H5c-1.1 0-2 .9-2 2v14c0 1.1.9 2 2 2h14c1.1 0 2-.9 2-2V5c0-1.1-.9-2-2-2zM9 17H7v-7h2v7zm4 0h-2V7h2v10zm4 0h-2v-4h2v4z\"/>\n",
              "    </g>\n",
              "</svg>\n",
              "  </button>\n",
              "\n",
              "<style>\n",
              "  .colab-df-quickchart {\n",
              "      --bg-color: #E8F0FE;\n",
              "      --fill-color: #1967D2;\n",
              "      --hover-bg-color: #E2EBFA;\n",
              "      --hover-fill-color: #174EA6;\n",
              "      --disabled-fill-color: #AAA;\n",
              "      --disabled-bg-color: #DDD;\n",
              "  }\n",
              "\n",
              "  [theme=dark] .colab-df-quickchart {\n",
              "      --bg-color: #3B4455;\n",
              "      --fill-color: #D2E3FC;\n",
              "      --hover-bg-color: #434B5C;\n",
              "      --hover-fill-color: #FFFFFF;\n",
              "      --disabled-bg-color: #3B4455;\n",
              "      --disabled-fill-color: #666;\n",
              "  }\n",
              "\n",
              "  .colab-df-quickchart {\n",
              "    background-color: var(--bg-color);\n",
              "    border: none;\n",
              "    border-radius: 50%;\n",
              "    cursor: pointer;\n",
              "    display: none;\n",
              "    fill: var(--fill-color);\n",
              "    height: 32px;\n",
              "    padding: 0;\n",
              "    width: 32px;\n",
              "  }\n",
              "\n",
              "  .colab-df-quickchart:hover {\n",
              "    background-color: var(--hover-bg-color);\n",
              "    box-shadow: 0 1px 2px rgba(60, 64, 67, 0.3), 0 1px 3px 1px rgba(60, 64, 67, 0.15);\n",
              "    fill: var(--button-hover-fill-color);\n",
              "  }\n",
              "\n",
              "  .colab-df-quickchart-complete:disabled,\n",
              "  .colab-df-quickchart-complete:disabled:hover {\n",
              "    background-color: var(--disabled-bg-color);\n",
              "    fill: var(--disabled-fill-color);\n",
              "    box-shadow: none;\n",
              "  }\n",
              "\n",
              "  .colab-df-spinner {\n",
              "    border: 2px solid var(--fill-color);\n",
              "    border-color: transparent;\n",
              "    border-bottom-color: var(--fill-color);\n",
              "    animation:\n",
              "      spin 1s steps(1) infinite;\n",
              "  }\n",
              "\n",
              "  @keyframes spin {\n",
              "    0% {\n",
              "      border-color: transparent;\n",
              "      border-bottom-color: var(--fill-color);\n",
              "      border-left-color: var(--fill-color);\n",
              "    }\n",
              "    20% {\n",
              "      border-color: transparent;\n",
              "      border-left-color: var(--fill-color);\n",
              "      border-top-color: var(--fill-color);\n",
              "    }\n",
              "    30% {\n",
              "      border-color: transparent;\n",
              "      border-left-color: var(--fill-color);\n",
              "      border-top-color: var(--fill-color);\n",
              "      border-right-color: var(--fill-color);\n",
              "    }\n",
              "    40% {\n",
              "      border-color: transparent;\n",
              "      border-right-color: var(--fill-color);\n",
              "      border-top-color: var(--fill-color);\n",
              "    }\n",
              "    60% {\n",
              "      border-color: transparent;\n",
              "      border-right-color: var(--fill-color);\n",
              "    }\n",
              "    80% {\n",
              "      border-color: transparent;\n",
              "      border-right-color: var(--fill-color);\n",
              "      border-bottom-color: var(--fill-color);\n",
              "    }\n",
              "    90% {\n",
              "      border-color: transparent;\n",
              "      border-bottom-color: var(--fill-color);\n",
              "    }\n",
              "  }\n",
              "</style>\n",
              "\n",
              "  <script>\n",
              "    async function quickchart(key) {\n",
              "      const quickchartButtonEl =\n",
              "        document.querySelector('#' + key + ' button');\n",
              "      quickchartButtonEl.disabled = true;  // To prevent multiple clicks.\n",
              "      quickchartButtonEl.classList.add('colab-df-spinner');\n",
              "      try {\n",
              "        const charts = await google.colab.kernel.invokeFunction(\n",
              "            'suggestCharts', [key], {});\n",
              "      } catch (error) {\n",
              "        console.error('Error during call to suggestCharts:', error);\n",
              "      }\n",
              "      quickchartButtonEl.classList.remove('colab-df-spinner');\n",
              "      quickchartButtonEl.classList.add('colab-df-quickchart-complete');\n",
              "    }\n",
              "    (() => {\n",
              "      let quickchartButtonEl =\n",
              "        document.querySelector('#df-38f80e59-f3dd-4eb8-8f0c-46bc73ad97f6 button');\n",
              "      quickchartButtonEl.style.display =\n",
              "        google.colab.kernel.accessAllowed ? 'block' : 'none';\n",
              "    })();\n",
              "  </script>\n",
              "</div>\n",
              "    </div>\n",
              "  </div>\n"
            ],
            "application/vnd.google.colaboratory.intrinsic+json": {
              "type": "dataframe",
              "variable_name": "df",
              "summary": "{\n  \"name\": \"df\",\n  \"rows\": 3302,\n  \"fields\": [\n    {\n      \"column\": \"title\",\n      \"properties\": {\n        \"dtype\": \"string\",\n        \"num_unique_values\": 3222,\n        \"samples\": [\n          \"So-so horror film\",\n          \"Well worth a watch\",\n          \"inedible cinematic food\"\n        ],\n        \"semantic_type\": \"\",\n        \"description\": \"\"\n      }\n    },\n    {\n      \"column\": \"review\",\n      \"properties\": {\n        \"dtype\": \"string\",\n        \"num_unique_values\": 3299,\n        \"samples\": [\n          \"it was the best horror film i've watched for a long time. For a very long time, there hasnt been a horror film which can make people be scared but this was really scary. every minute you should be ready for surprises thoughout the film.\",\n          \"Some tips on how to write a horror movie...All you need is a young hero or heroine who discovers some kind of cursed device is killing off all of their friends. The device may be anything, just as long as it's something we use everyday like a computer or something. After a group of the hero's faceless and underdeveloped friends die (The depiction of said deaths will depend on whether or not your film is PG-13 or R.), the hero must then team up with a second hero, and try to discover what's going on. After going through old files and visiting creepy old buildings that hold secrets of the past, the lead characters must discover that the cursed object is tied into some tragic past event, usually revolving around a spooky little girl. As the clock ticks down to the hero's own death, they must race to right the wrongs of the past. After the past has seemingly been corrected, the characters breathe a sigh of relief, only to discover that they were wrong, and that someone or something else is responsible for the evil.It is a formula that has been employed by numerous films, many originating in Japan or some other Asian country. One Missed Call follows this formula to the letter, right down to the originating in Japan part. The only problem is that it seems to know we've seen it all before. The actors sleepwalk through their dialogue, and many times the hero of the story - a college student named Beth Raymond (Shannyn Sossamon), forgets to even react to the deaths of her friends. You see, all of Beth's friends are being killed off by a cursed cell phone voice mail message. It appears on your phone, and when you play it back, you hear the exact moment of your death. The friends are haunted by spooky visions of ghouls and decaying people walking around in broad daylight, until the character suddenly meets an untimely end in some sort of \\\"accident\\\" that makes me think the evil ghost in this movie took lessons from the ghastly spirit in the Final Destination films, as its method of killing people is somewhat similar. The Final Destination villain is much more flashier and complex in its killings, but you have to remember, the ghost in this movie is working under a much more restricted PG-13 rating, so you can't really blame it if its kills are not as bloody or grand.Now, let me ask you something here. If you knew that people were dying because of a mysterious voice message that appears on your cell phone, wouldn't you just try not listening to the voice message in the first place? This never dawns on Beth or her friends. They try smashing their cell phones to pieces, but this doesn't seem to halt the killer spirit's advances. I don't know if not listening to the message would save your life or not, but I figure if all of my friends were being killed after listening to it, I'd be willing to give it a shot. The movie continues down the expected path, and introduces our second hero, a police detective named Jack Andrews (Edward Burns). He's the only person who believes Beth's story about the cursed voice mail message, because his sister was a victim of it, too. They join forces to discover the truth behind the curse, and the clues fall right into place, leading them to a hospital that burned down a while ago. Everything that we saw happen in films like The Ring, The Grudge, Dark Water, and the like happens, and not even the characters don't seem to be all that surprised. They go through the expected motions, and so does the movie itself.When I say One Missed Call follows a rigid path, I am dead serious. There's not one single moment we haven't seen in similar-themed movies. I have not seen the Japanese movie that inspired this remake, so I don't know if the original was as uninspired as this. I will give the original the benefit of the doubt that it had a lot more life and energy than this. The characters all seem to be walking a pre-determined path, and what's worse, they seem to know it. There's nothing worse than when the characters seem to be smarter than the movie they're in, but they're forced to act like idiots, because it's expected of them to do so. The movie doesn't even do a good job of explaining itself from time to time. I'm trying hard not to go into spoilers here, but should you see this movie (not that I'm recommending you do), ask yourself why the corpse they discover in the tunnels underneath the burnt hospital was there in the first place? Also ask yourself how many reality TV shows are filmed live? And wouldn't having someone die on your show live on national television kind of cause more attention than it seems to in this movie? My personal favorite moment of the movie actually comes early on, when the film's first victim meets an untimely end. The ghost then decides to not only kill her, but comes back for the victim's pet cat moments later. Did the cat get an eerie voice mail too? One Missed Call is the very definition of an early January release, a time of the year when the studios usually unload their stinkers that they don't know what to do with. The fact that it's the only new movie opening this weekend in wide release means that it will most likely find an audience with kids and teens looking for a cheap thrill. If you're bored this weekend, and actually consider this movie, please don't. This movie does not alleviate boredom, it only causes it.\",\n          \"Let me admit openly to you. I'm very surprised with The Uninvited. Given that Hollywood remakes of Asian horror films are almost universally unwatchable, I did not expect to enjoy this one at all. The Guard Brothers' film is more \\\"inspired\\\" by A Tale of Two Sisters, than it is a typical remake. Yes, our beloved South Korean masterpiece has been stripped of its unsettling presence and catered to pubescent boys. PG-13 terror sequences are spliced among teenage debauchery, but something of its parent remains. The original's method of framing hallucinations of dead people creeping out from furniture or down hallways still works. Still, as its sub-genre requires, a lot is left unexplained in The Uninvited. I don't mean good ambiguity. Think of King Kong's rampage through New York. Plot holes are that noticeable.The original film's story has been appropriately reworked, but the differences are rather pronounced. I'm still unsure about certain aspects of the plot. In this movie, there may actually be real ghosts. They appear to the younger sister this time, who is struggling over the older one's death. She convinces herself that her stepmother is a criminal who was never apprehended for previous crimes. Anna, the younger sister, repeatedly comforts herself with assurance that her older sister, Alex, is still alive. These scenes are directed well, and it isn't obvious to viewers that Alex is dead. The Uninvited is distinguished from its original film by its protagonist's motivation. Anna wants vengeance for her older sister's death, while Su-mi wants reconciliation for her inability to prevent her younger sister's death. One movie asks for sympathy with its main character, and the other one demands sympathy for supporting players. This is even more obvious because the stepmother really dies in this version.The Uninvited isn't the pinnacle of Hollywood remakes of Asian films. Too many egregious errors are obvious to anyone who has read a novel recently. Firstly, Anna confuses her stepmother for Mildred Kemp, a murderer who was never captured. The movie ends with Kemp confronting Anna, in a mental health clinic, about her experience. Anna also sees Kemp's victims' ghosts. OK, why would she do that? Unlike the first movie, most scary sequences are carried out by the ghosts. A Tale of Two Sisters infers that Su-yeon may be under the sink or in hutch. Alex, the imagined sister, is a harmless recreation that supports Anna in her revenge plot. I like the ambiguity created between ghosts and visions of deceased, but I don't think it's intentional. This movie copies its parent's greatest strengths by stumbling through an established model. It does work, but it's like listening to a backyard band sing a Beatles song and not sounding as bad as expected.A Tale of Two Sisters is a story that easily crosses cultural boundaries. I've conducted further online research since my original review and have discovered that director Kim Ji-woon based his film on a Korean folktale. In \\\"Janghwa Hongreyon jeon,\\\" a single father marries a new woman who argues with his daughters. \\\"Stepmother\\\" frames one of her stepdaughters of unchaste behavior and has her own son drown her. She also has her remaining stepdaughter killed via drowning. The spirits of the dead girls haunt local residents until someone proves they did not commit suicide.\"\n        ],\n        \"semantic_type\": \"\",\n        \"description\": \"\"\n      }\n    },\n    {\n      \"column\": \"rating\",\n      \"properties\": {\n        \"dtype\": \"category\",\n        \"num_unique_values\": 10,\n        \"samples\": [\n          \"2/10\",\n          \"9/10\",\n          \"5/10\"\n        ],\n        \"semantic_type\": \"\",\n        \"description\": \"\"\n      }\n    },\n    {\n      \"column\": \"translated\",\n      \"properties\": {\n        \"dtype\": \"string\",\n        \"num_unique_values\": 3299,\n        \"samples\": [\n          \"best horror film watch long time long time hasnt horror film make peopl scare realli scari everi minut readi surpris thoughout film\",\n          \"tip write horror movi need young hero heroin discov kind curs devic kill friend devic may anyth long someth use everyday like comput someth group hero faceless underdevelop friend die depict said death depend whether film r hero must team second hero tri discov go go old file visit creepi old build hold secret past lead charact must discov curs object tie tragic past event usual revolv around spooki littl girl clock tick hero death must race right wrong past past seemingli correct charact breath sigh relief discov wrong someon someth els respons evilit formula employ numer film mani origin japan asian countri one miss call follow formula letter right origin japan part problem seem know seen actor sleepwalk dialogu mani time hero stori colleg student name beth raymond shannyn sossamon forget even react death friend see beth friend kill curs cell phone voic mail messag appear phone play back hear exact moment death friend haunt spooki vision ghoul decay peopl walk around broad daylight charact suddenli meet untim end sort accid make think evil ghost movi took lesson ghastli spirit final destin film method kill peopl somewhat similar final destin villain much flashier complex kill rememb ghost movi work much restrict rate ca nt realli blame kill bloodi grandnow let ask someth knew peopl die mysteri voic messag appear cell phone would nt tri listen voic messag first place never dawn beth friend tri smash cell phone piec nt seem halt killer spirit advanc nt know listen messag would save life figur friend kill listen will give shot movi continu expect path introduc second hero polic detect name jack andrew edward burn person belief beth stori curs voic mail messag sister victim join forc discov truth behind curs clue fall right place lead hospit burn ago everyth saw happen film like ring grudg dark water like happen even charact nt seem surpris go expect motion movi itselfwhen say one miss call follow rigid path dead seriou one singl moment nt seen similarthem movi seen japanes movi inspir remak nt know origin uninspir give origin benefit doubt lot life energi charact seem walk predetermin path wors seem know noth wors charact seem smarter movi forc act like idiot expect movi nt even good job explain time time tri hard go spoiler see movi recommend ask corps discov tunnel underneath burnt hospit first place also ask mani realiti tv show film live would nt someon die show live nation televis kind caus attent seem movi person favorit moment movi actual come earli film first victim meet untim end ghost decid kill come back victim pet cat moment later cat get eeri voic mail one miss call definit earli januari releas time year studio usual unload stinker nt know fact new movi open weekend wide releas mean like find audienc kid teen look cheap thrill bore weekend actual consid movi pleas nt movi allevi boredom caus\",\n          \"let admit openli surpris uninvit given hollywood remak asian horror film almost univers unwatch expect enjoy one guard brother film inspir tale two sister typic remak ye belov south korean masterpiec strip unsettl presenc cater pubesc boy terror sequenc splice among teenag debaucheri someth parent remain origin method frame hallucin dead peopl creep furnitur hallway still work still subgenr requir lot left unexplain uninvit nt mean good ambigu think king kong rampag new york plot hole noticeableth origin film stori appropri rework differ rather pronounc still unsur certain aspect plot movi may actual real ghost appear younger sister time struggl older one death convinc stepmoth crimin never apprehend previou crime anna younger sister repeatedli comfort assur older sister alex still aliv scene direct well nt obviou viewer alex dead uninvit distinguish origin film protagonist motiv anna want vengeanc older sister death sumi want reconcili inabl prevent younger sister death one movi ask sympathi main charact one demand sympathi support player even obviou stepmoth realli dy versionth uninvit nt pinnacl hollywood remak asian film mani egregi error obviou anyon read novel recent firstli anna confus stepmoth mildr kemp murder never captur movi end kemp confront anna mental health clinic experi anna also see kemp victim ghost ok would unlik first movi scari sequenc carri ghost tale two sister infer suyeon may sink hutch alex imagin sister harmless recreat support anna reveng plot like ambigu creat ghost vision deceas nt think intent movi copi parent greatest strength stumbl establish model work like listen backyard band sing beatl song sound bad expecteda tale two sister stori easili cross cultur boundari conduct onlin research sinc origin review discov director kim jiwoon base film korean folktal janghwa hongreyon jeon singl father marri new woman argu daughter stepmoth frame one stepdaught unchast behavior son drown also remain stepdaught kill via drown spirit dead girl haunt local resid someon prof commit suicid\"\n        ],\n        \"semantic_type\": \"\",\n        \"description\": \"\"\n      }\n    }\n  ]\n}"
            }
          },
          "metadata": {},
          "execution_count": 71
        }
      ]
    },
    {
      "cell_type": "code",
      "source": [
        "#df['translated'][88]"
      ],
      "metadata": {
        "id": "fgyUvMFjXZNf"
      },
      "execution_count": 72,
      "outputs": []
    },
    {
      "cell_type": "code",
      "source": [
        "from tensorflow.keras.preprocessing.text import Tokenizer\n",
        "tokenizer = Tokenizer()\n",
        "tokenizer.fit_on_texts(df['translated'])"
      ],
      "metadata": {
        "id": "1hbFw70fXgkf"
      },
      "execution_count": 73,
      "outputs": []
    },
    {
      "cell_type": "code",
      "source": [
        "print(len(tokenizer.word_counts))"
      ],
      "metadata": {
        "colab": {
          "base_uri": "https://localhost:8080/"
        },
        "id": "8G3f1_VWXnW7",
        "outputId": "cb09cb88-8939-4429-c5d3-e1f232ec3e1a"
      },
      "execution_count": 74,
      "outputs": [
        {
          "output_type": "stream",
          "name": "stdout",
          "text": [
            "17869\n"
          ]
        }
      ]
    },
    {
      "cell_type": "code",
      "source": [
        "counter = 0\n",
        "for key, value in tokenizer.word_counts.items():\n",
        "    if value > 2400:\n",
        "        print(key, value)\n",
        "        counter+=1\n",
        "\n",
        "print(counter)"
      ],
      "metadata": {
        "colab": {
          "base_uri": "https://localhost:8080/"
        },
        "id": "4dQJQs2_XqfK",
        "outputId": "993f85da-9413-4832-defa-7e0662b64aa5"
      },
      "execution_count": 75,
      "outputs": [
        {
          "output_type": "stream",
          "name": "stdout",
          "text": [
            "horror 3659\n",
            "film 6132\n",
            "nt 5906\n",
            "ring 2443\n",
            "good 2610\n",
            "one 3182\n",
            "watch 2558\n",
            "like 3149\n",
            "movi 9678\n",
            "see 2647\n",
            "10\n"
          ]
        }
      ]
    },
    {
      "cell_type": "markdown",
      "source": [
        "**grupa 1** scary/scared, afraid, fright(ened), alarmed, shocked, horror/horrified, threatening, hair-rising, horrendous"
      ],
      "metadata": {
        "id": "L4BmL1Vgy071"
      }
    },
    {
      "cell_type": "code",
      "source": [
        "count1 = 0\n",
        "num=tokenizer.word_counts['scari']\n",
        "print(num)\n",
        "count1+=num"
      ],
      "metadata": {
        "colab": {
          "base_uri": "https://localhost:8080/"
        },
        "id": "rlwjuQAZwA43",
        "outputId": "d0019b0d-2db0-43d0-cc03-3b6bb4a879ce"
      },
      "execution_count": 76,
      "outputs": [
        {
          "output_type": "stream",
          "name": "stdout",
          "text": [
            "1958\n"
          ]
        }
      ]
    },
    {
      "cell_type": "code",
      "source": [
        "num=tokenizer.word_counts['scare']\n",
        "print(num)\n",
        "count1+=num"
      ],
      "metadata": {
        "colab": {
          "base_uri": "https://localhost:8080/"
        },
        "id": "SwcI0o3-xsxX",
        "outputId": "0fdbae37-2daf-4113-a72a-c5a28aab8407"
      },
      "execution_count": 77,
      "outputs": [
        {
          "output_type": "stream",
          "name": "stdout",
          "text": [
            "1763\n"
          ]
        }
      ]
    },
    {
      "cell_type": "code",
      "source": [
        "num=tokenizer.word_counts['afraid']\n",
        "print(num)\n",
        "count1+=num"
      ],
      "metadata": {
        "colab": {
          "base_uri": "https://localhost:8080/"
        },
        "id": "SNLEwCVIx998",
        "outputId": "27fef30a-da0d-471f-fde3-38fc91bf925f"
      },
      "execution_count": 78,
      "outputs": [
        {
          "output_type": "stream",
          "name": "stdout",
          "text": [
            "85\n"
          ]
        }
      ]
    },
    {
      "cell_type": "code",
      "source": [
        "num=tokenizer.word_counts['fright']\n",
        "print(num)\n",
        "count1+=num"
      ],
      "metadata": {
        "colab": {
          "base_uri": "https://localhost:8080/"
        },
        "id": "ZK1_JbpyzaNW",
        "outputId": "be359ee3-d8a3-4087-984f-8421eb431e4a"
      },
      "execution_count": 79,
      "outputs": [
        {
          "output_type": "stream",
          "name": "stdout",
          "text": [
            "81\n"
          ]
        }
      ]
    },
    {
      "cell_type": "code",
      "source": [
        "num=tokenizer.word_counts['frighten']\n",
        "print(num)\n",
        "count1+=num"
      ],
      "metadata": {
        "colab": {
          "base_uri": "https://localhost:8080/"
        },
        "id": "bmwClQWuzlur",
        "outputId": "c4db66e2-2291-4887-c0a2-5ff3dc2afd6b"
      },
      "execution_count": 80,
      "outputs": [
        {
          "output_type": "stream",
          "name": "stdout",
          "text": [
            "308\n"
          ]
        }
      ]
    },
    {
      "cell_type": "code",
      "source": [
        "num=tokenizer.word_counts['alarm']\n",
        "print(num)\n",
        "count1+=num"
      ],
      "metadata": {
        "colab": {
          "base_uri": "https://localhost:8080/"
        },
        "id": "mLC0qs16zuh6",
        "outputId": "b169d4fa-7fcf-40b5-c428-eab52ca9b5f0"
      },
      "execution_count": 81,
      "outputs": [
        {
          "output_type": "stream",
          "name": "stdout",
          "text": [
            "8\n"
          ]
        }
      ]
    },
    {
      "cell_type": "code",
      "source": [
        "num=tokenizer.word_counts['shock']\n",
        "print(num)\n",
        "count1+=num"
      ],
      "metadata": {
        "colab": {
          "base_uri": "https://localhost:8080/"
        },
        "id": "FOS-Fucsz3yZ",
        "outputId": "16bfd275-8981-48ff-f213-181b5b12b469"
      },
      "execution_count": 82,
      "outputs": [
        {
          "output_type": "stream",
          "name": "stdout",
          "text": [
            "263\n"
          ]
        }
      ]
    },
    {
      "cell_type": "code",
      "source": [
        "num=tokenizer.word_counts['horrifi']\n",
        "print(num)\n",
        "count1+=num"
      ],
      "metadata": {
        "colab": {
          "base_uri": "https://localhost:8080/"
        },
        "id": "xYfuNhK_z7rr",
        "outputId": "8a5642c4-8343-438d-f106-e0e2a42f8927"
      },
      "execution_count": 83,
      "outputs": [
        {
          "output_type": "stream",
          "name": "stdout",
          "text": [
            "94\n"
          ]
        }
      ]
    },
    {
      "cell_type": "code",
      "source": [
        "num=tokenizer.word_counts['horrif']\n",
        "print(num)\n",
        "count1+=num"
      ],
      "metadata": {
        "colab": {
          "base_uri": "https://localhost:8080/"
        },
        "id": "mVj9X9vm0GNy",
        "outputId": "5997151c-0008-475e-82e9-e8d250c4cc6d"
      },
      "execution_count": 84,
      "outputs": [
        {
          "output_type": "stream",
          "name": "stdout",
          "text": [
            "57\n"
          ]
        }
      ]
    },
    {
      "cell_type": "code",
      "source": [
        "num=tokenizer.word_counts['threaten']\n",
        "print(num)\n",
        "count1+=num"
      ],
      "metadata": {
        "colab": {
          "base_uri": "https://localhost:8080/"
        },
        "id": "plytxXNS0R0L",
        "outputId": "749b6c23-a8d4-48e2-dc0c-45ac5aa7d44c"
      },
      "execution_count": 85,
      "outputs": [
        {
          "output_type": "stream",
          "name": "stdout",
          "text": [
            "26\n"
          ]
        }
      ]
    },
    {
      "cell_type": "code",
      "source": [
        "num=tokenizer.word_counts['horrend']\n",
        "print(num)\n",
        "count1+=num"
      ],
      "metadata": {
        "colab": {
          "base_uri": "https://localhost:8080/"
        },
        "id": "ujSY-2YX0fEm",
        "outputId": "3b6b1aac-160b-4f7d-b9b8-e18460fe91df"
      },
      "execution_count": 86,
      "outputs": [
        {
          "output_type": "stream",
          "name": "stdout",
          "text": [
            "12\n"
          ]
        }
      ]
    },
    {
      "cell_type": "code",
      "source": [
        "print('WYNIK DLA GRUPY PIERWSZEJ TOOOOO',count1)"
      ],
      "metadata": {
        "colab": {
          "base_uri": "https://localhost:8080/"
        },
        "id": "6QQyJQ8l0hHi",
        "outputId": "7928b567-1c67-44df-c244-1dec59165cb3"
      },
      "execution_count": 88,
      "outputs": [
        {
          "output_type": "stream",
          "name": "stdout",
          "text": [
            "WYNIK DLA GRUPY PIERWSZEJ TOOOOO 4674\n"
          ]
        }
      ]
    },
    {
      "cell_type": "markdown",
      "source": [
        "**grupa 2** fear, petrified, terror/terrified, distress, helpless(ness), anxiety/anxious, worried, apprehension, creepy, uneasy, disturbing, chilling, eerie, spooky(?), intimidating, overwhelming, unnerving"
      ],
      "metadata": {
        "id": "kXlSPtUN1OFf"
      }
    },
    {
      "cell_type": "code",
      "source": [
        "count2 = 0\n",
        "num=tokenizer.word_counts['fear']\n",
        "print(num)\n",
        "count2+=num"
      ],
      "metadata": {
        "colab": {
          "base_uri": "https://localhost:8080/"
        },
        "id": "mU95N0Mq024T",
        "outputId": "1d4ab8b5-0dc9-4e66-d1f9-625b31d5a6aa"
      },
      "execution_count": 89,
      "outputs": [
        {
          "output_type": "stream",
          "name": "stdout",
          "text": [
            "280\n"
          ]
        }
      ]
    },
    {
      "cell_type": "code",
      "source": [
        "num=tokenizer.word_counts['petrifi']\n",
        "print(num)\n",
        "count2+=num"
      ],
      "metadata": {
        "colab": {
          "base_uri": "https://localhost:8080/"
        },
        "id": "fNSGeGBs1ZOT",
        "outputId": "dadd502b-c91e-4270-9cda-7b46ac19b70e"
      },
      "execution_count": 90,
      "outputs": [
        {
          "output_type": "stream",
          "name": "stdout",
          "text": [
            "7\n"
          ]
        }
      ]
    },
    {
      "cell_type": "code",
      "source": [
        "num=tokenizer.word_counts['terror']\n",
        "print(num)\n",
        "count2+=num"
      ],
      "metadata": {
        "colab": {
          "base_uri": "https://localhost:8080/"
        },
        "id": "ZUcRFEzw1wIW",
        "outputId": "e616dbfb-f6e9-4c94-fdde-af11cfc786be"
      },
      "execution_count": 91,
      "outputs": [
        {
          "output_type": "stream",
          "name": "stdout",
          "text": [
            "153\n"
          ]
        }
      ]
    },
    {
      "cell_type": "code",
      "source": [
        "num=tokenizer.word_counts['terrifi']\n",
        "print(num)\n",
        "count2+=num"
      ],
      "metadata": {
        "colab": {
          "base_uri": "https://localhost:8080/"
        },
        "id": "PBsa91CU1Ymg",
        "outputId": "43e06a35-e471-40bd-deb1-779bd13f9053"
      },
      "execution_count": 92,
      "outputs": [
        {
          "output_type": "stream",
          "name": "stdout",
          "text": [
            "230\n"
          ]
        }
      ]
    },
    {
      "cell_type": "code",
      "source": [
        "num=tokenizer.word_counts['distress']\n",
        "print(num)\n",
        "count2+=num"
      ],
      "metadata": {
        "colab": {
          "base_uri": "https://localhost:8080/"
        },
        "id": "M2hiXKpu12rP",
        "outputId": "a2270a38-a726-4330-906d-e89c00a23f53"
      },
      "execution_count": 93,
      "outputs": [
        {
          "output_type": "stream",
          "name": "stdout",
          "text": [
            "13\n"
          ]
        }
      ]
    },
    {
      "cell_type": "code",
      "source": [
        "num=tokenizer.word_counts['helpless']\n",
        "print(num)\n",
        "count2+=num"
      ],
      "metadata": {
        "colab": {
          "base_uri": "https://localhost:8080/"
        },
        "id": "XGAea3D215JL",
        "outputId": "9dbd0851-e34e-4ce2-f107-56a229016551"
      },
      "execution_count": 94,
      "outputs": [
        {
          "output_type": "stream",
          "name": "stdout",
          "text": [
            "9\n"
          ]
        }
      ]
    },
    {
      "cell_type": "code",
      "source": [
        "num=tokenizer.word_counts['anxious']\n",
        "print(num)\n",
        "count2+=num"
      ],
      "metadata": {
        "colab": {
          "base_uri": "https://localhost:8080/"
        },
        "id": "dHpwoOL119Cp",
        "outputId": "c34e21a2-125e-4ae3-b355-7887d0fe292f"
      },
      "execution_count": 95,
      "outputs": [
        {
          "output_type": "stream",
          "name": "stdout",
          "text": [
            "2\n"
          ]
        }
      ]
    },
    {
      "cell_type": "code",
      "source": [
        "num=tokenizer.word_counts['worri']\n",
        "print(num)\n",
        "count2+=num"
      ],
      "metadata": {
        "colab": {
          "base_uri": "https://localhost:8080/"
        },
        "id": "VbwAT88i1_-6",
        "outputId": "5a0ebac2-f7d3-45f8-9bde-7ab48117bd9d"
      },
      "execution_count": 96,
      "outputs": [
        {
          "output_type": "stream",
          "name": "stdout",
          "text": [
            "43\n"
          ]
        }
      ]
    },
    {
      "cell_type": "code",
      "source": [
        "num=tokenizer.word_counts['creepy']\n",
        "print(num)\n",
        "count2+=num"
      ],
      "metadata": {
        "colab": {
          "base_uri": "https://localhost:8080/"
        },
        "id": "MGr5YmmV2HiS",
        "outputId": "c1ba698f-9c4c-4907-fbb9-e0be89bcae95"
      },
      "execution_count": 97,
      "outputs": [
        {
          "output_type": "stream",
          "name": "stdout",
          "text": [
            "2\n"
          ]
        }
      ]
    },
    {
      "cell_type": "code",
      "source": [
        "num=tokenizer.word_counts['creepi']\n",
        "print(num)\n",
        "count2+=num"
      ],
      "metadata": {
        "colab": {
          "base_uri": "https://localhost:8080/"
        },
        "id": "inytD3TE2MYc",
        "outputId": "6a01a297-c5e5-472e-f865-ab149c339d53"
      },
      "execution_count": 98,
      "outputs": [
        {
          "output_type": "stream",
          "name": "stdout",
          "text": [
            "950\n"
          ]
        }
      ]
    },
    {
      "cell_type": "code",
      "source": [
        "num=tokenizer.word_counts['uneasi']\n",
        "print(num)\n",
        "count2+=num"
      ],
      "metadata": {
        "colab": {
          "base_uri": "https://localhost:8080/"
        },
        "id": "fILf7ix02Uhc",
        "outputId": "cbabaaf0-e5a0-4fe1-aa29-7a39ab3eaeae"
      },
      "execution_count": 99,
      "outputs": [
        {
          "output_type": "stream",
          "name": "stdout",
          "text": [
            "24\n"
          ]
        }
      ]
    },
    {
      "cell_type": "code",
      "source": [
        "num=tokenizer.word_counts['disturb']\n",
        "print(num)\n",
        "count2+=num"
      ],
      "metadata": {
        "colab": {
          "base_uri": "https://localhost:8080/"
        },
        "id": "oRedor7a2ZP5",
        "outputId": "48f5b612-79c8-49c9-9bbb-f45005742fb6"
      },
      "execution_count": 100,
      "outputs": [
        {
          "output_type": "stream",
          "name": "stdout",
          "text": [
            "326\n"
          ]
        }
      ]
    },
    {
      "cell_type": "code",
      "source": [
        "num=tokenizer.word_counts['chilli']\n",
        "print(num)\n",
        "count2+=num"
      ],
      "metadata": {
        "colab": {
          "base_uri": "https://localhost:8080/"
        },
        "id": "lzagj3xj2eHf",
        "outputId": "7665c595-b10d-4dde-d5b6-2e2706a7e13d"
      },
      "execution_count": 101,
      "outputs": [
        {
          "output_type": "stream",
          "name": "stdout",
          "text": [
            "4\n"
          ]
        }
      ]
    },
    {
      "cell_type": "code",
      "source": [
        "num=tokenizer.word_counts['eeri']\n",
        "print(num)\n",
        "count2+=num"
      ],
      "metadata": {
        "colab": {
          "base_uri": "https://localhost:8080/"
        },
        "id": "9AZLqt0P2f6_",
        "outputId": "9c5d2711-a384-4971-f9a0-0666923a4d80"
      },
      "execution_count": 102,
      "outputs": [
        {
          "output_type": "stream",
          "name": "stdout",
          "text": [
            "159\n"
          ]
        }
      ]
    },
    {
      "cell_type": "code",
      "source": [
        "num=tokenizer.word_counts['overwhelm']\n",
        "print(num)\n",
        "count2+=num"
      ],
      "metadata": {
        "colab": {
          "base_uri": "https://localhost:8080/"
        },
        "id": "CTsgh3XS2lLL",
        "outputId": "4d14dde7-c03a-4928-b2f0-19dfc05c1584"
      },
      "execution_count": 103,
      "outputs": [
        {
          "output_type": "stream",
          "name": "stdout",
          "text": [
            "9\n"
          ]
        }
      ]
    },
    {
      "cell_type": "code",
      "source": [
        "num=tokenizer.word_counts['overwhelming']\n",
        "print(num)\n",
        "count2+=num"
      ],
      "metadata": {
        "colab": {
          "base_uri": "https://localhost:8080/"
        },
        "id": "-U5nt36W2p8r",
        "outputId": "69fa4725-1fa1-4e71-a8b7-e2c63cbad82b"
      },
      "execution_count": 104,
      "outputs": [
        {
          "output_type": "stream",
          "name": "stdout",
          "text": [
            "1\n"
          ]
        }
      ]
    },
    {
      "cell_type": "code",
      "source": [
        "print('WYNIK DLA GRUPY DRUGIEJ TOOOOO',count2)"
      ],
      "metadata": {
        "colab": {
          "base_uri": "https://localhost:8080/"
        },
        "id": "glE4IiZL200R",
        "outputId": "2a17e88c-36d4-4a27-fe41-9adf4a9a72cc"
      },
      "execution_count": 105,
      "outputs": [
        {
          "output_type": "stream",
          "name": "stdout",
          "text": [
            "WYNIK DLA GRUPY DRUGIEJ TOOOOO 2212\n"
          ]
        }
      ]
    },
    {
      "cell_type": "markdown",
      "source": [
        "**SKOJARZONKA**"
      ],
      "metadata": {
        "id": "o99qe4Z29ykK"
      }
    },
    {
      "cell_type": "code",
      "source": [
        "word_model.wv.most_similar(\"death\")"
      ],
      "metadata": {
        "colab": {
          "base_uri": "https://localhost:8080/"
        },
        "id": "mdKIZNvP7pb4",
        "outputId": "534b9318-3173-4eeb-f93f-d927f2c62688"
      },
      "execution_count": 110,
      "outputs": [
        {
          "output_type": "execute_result",
          "data": {
            "text/plain": [
              "[('spirit', 0.9410275220870972),\n",
              " ('house', 0.9261094927787781),\n",
              " ('mother', 0.9227659702301025),\n",
              " ('body', 0.9194740056991577),\n",
              " ('woman', 0.918242335319519),\n",
              " ('cursed', 0.9178704619407654),\n",
              " ('Dahlia', 0.9173790812492371),\n",
              " ('husband', 0.915257453918457),\n",
              " ('living', 0.9152496457099915),\n",
              " ('daughter', 0.9146366119384766)]"
            ]
          },
          "metadata": {},
          "execution_count": 110
        }
      ]
    },
    {
      "cell_type": "code",
      "source": [
        "word_model.wv.most_similar(\"ghost\")"
      ],
      "metadata": {
        "colab": {
          "base_uri": "https://localhost:8080/"
        },
        "id": "ddvqe7O-90MB",
        "outputId": "a5ba4cf4-a935-4b4f-fe4e-ce0a7b77b2fd"
      },
      "execution_count": 112,
      "outputs": [
        {
          "output_type": "execute_result",
          "data": {
            "text/plain": [
              "[('evil', 0.8381465077400208),\n",
              " ('quest', 0.8083985447883606),\n",
              " ('chunk', 0.8079286217689514),\n",
              " ('killer', 0.7935214042663574),\n",
              " ('haunting', 0.784801185131073),\n",
              " ('spirit', 0.782246470451355),\n",
              " ('videotape,', 0.7810903191566467),\n",
              " ('girl.', 0.780897319316864),\n",
              " ('mystery', 0.7798375487327576),\n",
              " ('haunted', 0.7791330218315125)]"
            ]
          },
          "metadata": {},
          "execution_count": 112
        }
      ]
    },
    {
      "cell_type": "code",
      "source": [
        "word_model.wv.most_similar(\"horror\")"
      ],
      "metadata": {
        "colab": {
          "base_uri": "https://localhost:8080/"
        },
        "id": "mvW0OWDa-Flp",
        "outputId": "0949a0e6-4eed-419b-f654-e9429d50c6b8"
      },
      "execution_count": 113,
      "outputs": [
        {
          "output_type": "execute_result",
          "data": {
            "text/plain": [
              "[('Horror', 0.7911938428878784),\n",
              " ('slasher', 0.7207719683647156),\n",
              " ('type', 0.6950723528862),\n",
              " ('fan', 0.6817806363105774),\n",
              " ('PG-13', 0.6753058433532715),\n",
              " ('Hollywood', 0.6732533574104309),\n",
              " ('foreign', 0.6661958694458008),\n",
              " ('Asian', 0.641019880771637),\n",
              " ('scariest', 0.6406490802764893),\n",
              " ('scary', 0.6337063312530518)]"
            ]
          },
          "metadata": {},
          "execution_count": 113
        }
      ]
    },
    {
      "cell_type": "code",
      "source": [
        "word_model.wv.most_similar(\"kill\")"
      ],
      "metadata": {
        "colab": {
          "base_uri": "https://localhost:8080/"
        },
        "id": "KinpCMTi-blV",
        "outputId": "2fde4cd3-8477-4341-cec8-0334105a8caa"
      },
      "execution_count": 114,
      "outputs": [
        {
          "output_type": "execute_result",
          "data": {
            "text/plain": [
              "[('die', 0.930810272693634),\n",
              " ('call', 0.9239935278892517),\n",
              " ('stop', 0.9234817028045654),\n",
              " ('live', 0.9173609018325806),\n",
              " ('show', 0.9056143164634705),\n",
              " ('save', 0.8955711722373962),\n",
              " ('die.', 0.8884414434432983),\n",
              " ('decide', 0.888350248336792),\n",
              " ('help', 0.8856567144393921),\n",
              " ('haunt', 0.8838581442832947)]"
            ]
          },
          "metadata": {},
          "execution_count": 114
        }
      ]
    },
    {
      "cell_type": "code",
      "source": [
        "word_model.wv.most_similar(\"place\")"
      ],
      "metadata": {
        "colab": {
          "base_uri": "https://localhost:8080/"
        },
        "id": "YLy7XpcB-mlv",
        "outputId": "5675d276-4bc8-4720-b72f-0a606cf46f18"
      },
      "execution_count": 115,
      "outputs": [
        {
          "output_type": "execute_result",
          "data": {
            "text/plain": [
              "[('curse', 0.8987290263175964),\n",
              " ('world', 0.8953240513801575),\n",
              " ('living', 0.8880655169487),\n",
              " ('virus', 0.8846330046653748),\n",
              " ('jumping', 0.8803708553314209),\n",
              " ('room', 0.8782447576522827),\n",
              " ('tv', 0.8755472302436829),\n",
              " ('move', 0.8730922341346741),\n",
              " ('TV', 0.8724016547203064),\n",
              " ('suddenly', 0.8717635869979858)]"
            ]
          },
          "metadata": {},
          "execution_count": 115
        }
      ]
    },
    {
      "cell_type": "code",
      "source": [
        "word_model.wv.most_similar(\"body\")"
      ],
      "metadata": {
        "colab": {
          "base_uri": "https://localhost:8080/"
        },
        "id": "dYGtYsxx_HIP",
        "outputId": "a3d1f288-8c82-472a-dfc9-d68f9e4a612c"
      },
      "execution_count": 116,
      "outputs": [
        {
          "output_type": "execute_result",
          "data": {
            "text/plain": [
              "[('walking', 0.9641663432121277),\n",
              " ('voice', 0.9612115025520325),\n",
              " ('suddenly', 0.9542981386184692),\n",
              " ('red', 0.9541471600532532),\n",
              " ('white', 0.9535545110702515),\n",
              " ('apartment,', 0.9535278081893921),\n",
              " ('custody', 0.9487176537513733),\n",
              " ('hospital', 0.9485521912574768),\n",
              " (\"Samara's\", 0.9468812346458435),\n",
              " ('water', 0.9448438286781311)]"
            ]
          },
          "metadata": {},
          "execution_count": 116
        }
      ]
    },
    {
      "cell_type": "code",
      "source": [
        "word_model.wv.most_similar(\"ending\")"
      ],
      "metadata": {
        "colab": {
          "base_uri": "https://localhost:8080/"
        },
        "id": "fqaL1sFx_QWw",
        "outputId": "5ea54890-309b-4f88-ad58-f0677bd61503"
      },
      "execution_count": 119,
      "outputs": [
        {
          "output_type": "execute_result",
          "data": {
            "text/plain": [
              "[('script', 0.808991551399231),\n",
              " ('plot', 0.7762845158576965),\n",
              " ('story', 0.7393538355827332),\n",
              " ('scary,', 0.7373859286308289),\n",
              " ('lame.', 0.7356363534927368),\n",
              " ('storyline', 0.7326868176460266),\n",
              " ('bad,', 0.7272818088531494),\n",
              " ('acting', 0.7260394096374512),\n",
              " ('ending.', 0.7228914499282837),\n",
              " ('scary.', 0.7219255566596985)]"
            ]
          },
          "metadata": {},
          "execution_count": 119
        }
      ]
    },
    {
      "cell_type": "code",
      "source": [
        "word_model.wv.most_similar(\"gore\")"
      ],
      "metadata": {
        "colab": {
          "base_uri": "https://localhost:8080/"
        },
        "id": "PBNoSzzm_dQD",
        "outputId": "47e3062c-2554-4394-e95d-33023ee7cf73"
      },
      "execution_count": 120,
      "outputs": [
        {
          "output_type": "execute_result",
          "data": {
            "text/plain": [
              "[('blood', 0.947770357131958),\n",
              " ('cheap', 0.8859180808067322),\n",
              " ('elements,', 0.8753091096878052),\n",
              " ('violence', 0.873715877532959),\n",
              " ('shock', 0.8672831654548645),\n",
              " ('guts', 0.8563405275344849),\n",
              " ('thrills', 0.8474271297454834),\n",
              " ('purpose,', 0.8467035293579102),\n",
              " ('scares,', 0.8417893052101135),\n",
              " ('tactics', 0.837113618850708)]"
            ]
          },
          "metadata": {},
          "execution_count": 120
        }
      ]
    },
    {
      "cell_type": "code",
      "source": [],
      "metadata": {
        "id": "qDeUv8GsBYTM"
      },
      "execution_count": null,
      "outputs": []
    }
  ]
}