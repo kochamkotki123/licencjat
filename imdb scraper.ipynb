{
  "nbformat": 4,
  "nbformat_minor": 0,
  "metadata": {
    "colab": {
      "provenance": []
    },
    "kernelspec": {
      "name": "python3",
      "display_name": "Python 3"
    },
    "language_info": {
      "name": "python"
    }
  },
  "cells": [
    {
      "cell_type": "code",
      "source": [
        "import pandas as pd\n",
        "import numpy as np\n",
        "import requests\n",
        "from bs4 import BeautifulSoup"
      ],
      "metadata": {
        "id": "GjyAVYzgFu8v"
      },
      "execution_count": null,
      "outputs": []
    },
    {
      "cell_type": "code",
      "source": [
        "#link do filmu - można podmienić tylko część /ttXXXXXXX/\n",
        "url = (\"https://www.imdb.com/title/tt15239678/reviews/_ajax?ref_=undefined&paginationKey={}\")\n",
        "#pagination key\n",
        "key = \"\"\n",
        "#slownik do kolekcjonowania zdobytych informacji\n",
        "data = {\"title\": [], \"review\": [],'rating':[]}"
      ],
      "metadata": {
        "id": "z_L02VK7f3Yx"
      },
      "execution_count": null,
      "outputs": []
    },
    {
      "cell_type": "code",
      "source": [
        "n = 0\n",
        "while n < 180:\n",
        "    response = requests.get(url.format(key))\n",
        "    soup = BeautifulSoup(response.content, \"html.parser\")\n",
        "    # Find the pagination key\n",
        "    pagination_key = soup.find(\"div\", class_=\"load-more-data\")\n",
        "    if not pagination_key:\n",
        "        break\n",
        "    # Update the `key` variable in-order to scrape more reviews\n",
        "    key = pagination_key[\"data-key\"]\n",
        "    for title, review,rating in zip(\n",
        "        soup.find_all(class_=\"title\"), soup.find_all(class_=\"text show-more__control\"),soup.find_all(class_=\"rating-other-user-rating\")\n",
        "    ):\n",
        "        data[\"title\"].append(title.get_text(strip=True))\n",
        "        data[\"review\"].append(review.get_text())\n",
        "        data[\"rating\"].append(rating.get_text(strip=True) if rating else \"N/A\")\n",
        "\n",
        "    n += 1"
      ],
      "metadata": {
        "id": "xmxn6y_hgJkc"
      },
      "execution_count": null,
      "outputs": []
    },
    {
      "cell_type": "code",
      "source": [
        "#przegląd\n",
        "df_review=pd.DataFrame(data)\n",
        "df_review.info()"
      ],
      "metadata": {
        "colab": {
          "base_uri": "https://localhost:8080/"
        },
        "id": "PibSC4B_gMAf",
        "outputId": "c14913d3-91a7-4c67-b0f1-2056ad41a50f"
      },
      "execution_count": null,
      "outputs": [
        {
          "output_type": "stream",
          "name": "stdout",
          "text": [
            "<class 'pandas.core.frame.DataFrame'>\n",
            "RangeIndex: 2391 entries, 0 to 2390\n",
            "Data columns (total 3 columns):\n",
            " #   Column  Non-Null Count  Dtype \n",
            "---  ------  --------------  ----- \n",
            " 0   title   2391 non-null   object\n",
            " 1   review  2391 non-null   object\n",
            " 2   rating  2391 non-null   object\n",
            "dtypes: object(3)\n",
            "memory usage: 56.2+ KB\n"
          ]
        }
      ]
    },
    {
      "cell_type": "code",
      "source": [
        "#OPCJONALNE !!!! jeśli chcę pobrać jedynie losowo wybrane n recenzji\n",
        "#df_review = df_review.sample(n=400, random_state=1)"
      ],
      "metadata": {
        "id": "sYYfjIEe-71L"
      },
      "execution_count": null,
      "outputs": []
    },
    {
      "cell_type": "code",
      "source": [
        "from google.colab import drive\n",
        "drive.mount('/content/drive')\n"
      ],
      "metadata": {
        "colab": {
          "base_uri": "https://localhost:8080/"
        },
        "id": "ao64FcoqzpM4",
        "outputId": "400aa656-9195-41ed-a704-d40e8d8e0d4f"
      },
      "execution_count": null,
      "outputs": [
        {
          "output_type": "stream",
          "name": "stdout",
          "text": [
            "Drive already mounted at /content/drive; to attempt to forcibly remount, call drive.mount(\"/content/drive\", force_remount=True).\n"
          ]
        }
      ]
    },
    {
      "cell_type": "code",
      "source": [
        "#zapis pliku\n",
        "df_review.to_csv(\"/content/drive/MyDrive/diuna2.csv\")"
      ],
      "metadata": {
        "id": "baaXtI-sz-Di"
      },
      "execution_count": null,
      "outputs": []
    }
  ]
}