{
  "cells": [
    {
      "cell_type": "code",
      "execution_count": 1,
      "metadata": {
        "id": "KbqWRaUE-hp8"
      },
      "outputs": [],
      "source": [
        "import numpy as np\n",
        "import matplotlib.pyplot as plt\n",
        "import tensorflow as tf\n",
        "import pandas as pd\n",
        "import os\n",
        "os.environ[\"KMP_DUPLICATE_LIB_OK\"]=\"TRUE\"\n",
        "os.environ['CUDA_VISIBLE_DEVICES'] = '-1'\n",
        "from tensorflow.keras.callbacks import EarlyStopping\n",
        "from tensorflow.keras.models import Sequential\n",
        "from tensorflow.keras.layers import Dense, Dropout\n",
        "from tensorflow.keras.layers import BatchNormalization\n",
        "\n",
        "es = EarlyStopping(monitor = \"val_loss\", mode = \"min\", patience = 5)\n",
        "\n",
        "EPOCHS = 1000"
      ]
    },
    {
      "cell_type": "code",
      "execution_count": 2,
      "metadata": {
        "id": "RIFh9K_JK_K5"
      },
      "outputs": [],
      "source": [
        "df = pd.read_csv('all_merged.csv', sep=\",\")"
      ]
    },
    {
      "cell_type": "code",
      "execution_count": 3,
      "metadata": {
        "colab": {
          "base_uri": "https://localhost:8080/",
          "height": 423
        },
        "id": "fDj5iUuPNdjm",
        "outputId": "fc7a2e53-a54a-4fa2-96d4-18a626db68da"
      },
      "outputs": [
        {
          "output_type": "execute_result",
          "data": {
            "text/plain": [
              "      Unnamed: 0                                              title  \\\n",
              "0              0        Occasionally awkward, but very good overall   \n",
              "1              1              Non-Linear, yet Effective and Creepy.   \n",
              "2              2                                        Pretty Good   \n",
              "3              3                   Very Scary Japanese Horror Movie   \n",
              "4              4  A genuinely creepy Japanese ghost story master...   \n",
              "...          ...                                                ...   \n",
              "4782         413  Japanese Horror Remakes... from this author it...   \n",
              "4783         414  I might have gotten startled ONCE during this ...   \n",
              "4784         415  That Movie Blew Harder than Yeltsin into a Bre...   \n",
              "4785         416     The \"Dark Water\" is really dark, for a reason.   \n",
              "4786         417                              What a waste of time!   \n",
              "\n",
              "                                                 review rating  \n",
              "0     Rika Nishina (Megumi Okina) works for a social...   9/10  \n",
              "1     Although the word \"grudge\" doesn't quite fit t...  10/10  \n",
              "2     \"Ju-On, The Grudge\" is not an easy movie to fi...   7/10  \n",
              "3     In Japan, when the volunteer social assistant ...   8/10  \n",
              "4     Following in the immensely successful footstep...  10/10  \n",
              "...                                                 ...    ...  \n",
              "4782  Now having seen both The Ring and Dark Water, ...   4/10  \n",
              "4783  THe movie is slow, grinding, and uneventful. A...   4/10  \n",
              "4784  I've never written comments on a movie before....   3/10  \n",
              "4785  I'm 47, married 26 years, four kids. I was rai...   1/10  \n",
              "4786  Boring, shallow and not scary at all.Another m...   1/10  \n",
              "\n",
              "[4787 rows x 4 columns]"
            ],
            "text/html": [
              "\n",
              "  <div id=\"df-7248e748-4e6b-47b9-8502-efecbc60a9a7\" class=\"colab-df-container\">\n",
              "    <div>\n",
              "<style scoped>\n",
              "    .dataframe tbody tr th:only-of-type {\n",
              "        vertical-align: middle;\n",
              "    }\n",
              "\n",
              "    .dataframe tbody tr th {\n",
              "        vertical-align: top;\n",
              "    }\n",
              "\n",
              "    .dataframe thead th {\n",
              "        text-align: right;\n",
              "    }\n",
              "</style>\n",
              "<table border=\"1\" class=\"dataframe\">\n",
              "  <thead>\n",
              "    <tr style=\"text-align: right;\">\n",
              "      <th></th>\n",
              "      <th>Unnamed: 0</th>\n",
              "      <th>title</th>\n",
              "      <th>review</th>\n",
              "      <th>rating</th>\n",
              "    </tr>\n",
              "  </thead>\n",
              "  <tbody>\n",
              "    <tr>\n",
              "      <th>0</th>\n",
              "      <td>0</td>\n",
              "      <td>Occasionally awkward, but very good overall</td>\n",
              "      <td>Rika Nishina (Megumi Okina) works for a social...</td>\n",
              "      <td>9/10</td>\n",
              "    </tr>\n",
              "    <tr>\n",
              "      <th>1</th>\n",
              "      <td>1</td>\n",
              "      <td>Non-Linear, yet Effective and Creepy.</td>\n",
              "      <td>Although the word \"grudge\" doesn't quite fit t...</td>\n",
              "      <td>10/10</td>\n",
              "    </tr>\n",
              "    <tr>\n",
              "      <th>2</th>\n",
              "      <td>2</td>\n",
              "      <td>Pretty Good</td>\n",
              "      <td>\"Ju-On, The Grudge\" is not an easy movie to fi...</td>\n",
              "      <td>7/10</td>\n",
              "    </tr>\n",
              "    <tr>\n",
              "      <th>3</th>\n",
              "      <td>3</td>\n",
              "      <td>Very Scary Japanese Horror Movie</td>\n",
              "      <td>In Japan, when the volunteer social assistant ...</td>\n",
              "      <td>8/10</td>\n",
              "    </tr>\n",
              "    <tr>\n",
              "      <th>4</th>\n",
              "      <td>4</td>\n",
              "      <td>A genuinely creepy Japanese ghost story master...</td>\n",
              "      <td>Following in the immensely successful footstep...</td>\n",
              "      <td>10/10</td>\n",
              "    </tr>\n",
              "    <tr>\n",
              "      <th>...</th>\n",
              "      <td>...</td>\n",
              "      <td>...</td>\n",
              "      <td>...</td>\n",
              "      <td>...</td>\n",
              "    </tr>\n",
              "    <tr>\n",
              "      <th>4782</th>\n",
              "      <td>413</td>\n",
              "      <td>Japanese Horror Remakes... from this author it...</td>\n",
              "      <td>Now having seen both The Ring and Dark Water, ...</td>\n",
              "      <td>4/10</td>\n",
              "    </tr>\n",
              "    <tr>\n",
              "      <th>4783</th>\n",
              "      <td>414</td>\n",
              "      <td>I might have gotten startled ONCE during this ...</td>\n",
              "      <td>THe movie is slow, grinding, and uneventful. A...</td>\n",
              "      <td>4/10</td>\n",
              "    </tr>\n",
              "    <tr>\n",
              "      <th>4784</th>\n",
              "      <td>415</td>\n",
              "      <td>That Movie Blew Harder than Yeltsin into a Bre...</td>\n",
              "      <td>I've never written comments on a movie before....</td>\n",
              "      <td>3/10</td>\n",
              "    </tr>\n",
              "    <tr>\n",
              "      <th>4785</th>\n",
              "      <td>416</td>\n",
              "      <td>The \"Dark Water\" is really dark, for a reason.</td>\n",
              "      <td>I'm 47, married 26 years, four kids. I was rai...</td>\n",
              "      <td>1/10</td>\n",
              "    </tr>\n",
              "    <tr>\n",
              "      <th>4786</th>\n",
              "      <td>417</td>\n",
              "      <td>What a waste of time!</td>\n",
              "      <td>Boring, shallow and not scary at all.Another m...</td>\n",
              "      <td>1/10</td>\n",
              "    </tr>\n",
              "  </tbody>\n",
              "</table>\n",
              "<p>4787 rows × 4 columns</p>\n",
              "</div>\n",
              "    <div class=\"colab-df-buttons\">\n",
              "\n",
              "  <div class=\"colab-df-container\">\n",
              "    <button class=\"colab-df-convert\" onclick=\"convertToInteractive('df-7248e748-4e6b-47b9-8502-efecbc60a9a7')\"\n",
              "            title=\"Convert this dataframe to an interactive table.\"\n",
              "            style=\"display:none;\">\n",
              "\n",
              "  <svg xmlns=\"http://www.w3.org/2000/svg\" height=\"24px\" viewBox=\"0 -960 960 960\">\n",
              "    <path d=\"M120-120v-720h720v720H120Zm60-500h600v-160H180v160Zm220 220h160v-160H400v160Zm0 220h160v-160H400v160ZM180-400h160v-160H180v160Zm440 0h160v-160H620v160ZM180-180h160v-160H180v160Zm440 0h160v-160H620v160Z\"/>\n",
              "  </svg>\n",
              "    </button>\n",
              "\n",
              "  <style>\n",
              "    .colab-df-container {\n",
              "      display:flex;\n",
              "      gap: 12px;\n",
              "    }\n",
              "\n",
              "    .colab-df-convert {\n",
              "      background-color: #E8F0FE;\n",
              "      border: none;\n",
              "      border-radius: 50%;\n",
              "      cursor: pointer;\n",
              "      display: none;\n",
              "      fill: #1967D2;\n",
              "      height: 32px;\n",
              "      padding: 0 0 0 0;\n",
              "      width: 32px;\n",
              "    }\n",
              "\n",
              "    .colab-df-convert:hover {\n",
              "      background-color: #E2EBFA;\n",
              "      box-shadow: 0px 1px 2px rgba(60, 64, 67, 0.3), 0px 1px 3px 1px rgba(60, 64, 67, 0.15);\n",
              "      fill: #174EA6;\n",
              "    }\n",
              "\n",
              "    .colab-df-buttons div {\n",
              "      margin-bottom: 4px;\n",
              "    }\n",
              "\n",
              "    [theme=dark] .colab-df-convert {\n",
              "      background-color: #3B4455;\n",
              "      fill: #D2E3FC;\n",
              "    }\n",
              "\n",
              "    [theme=dark] .colab-df-convert:hover {\n",
              "      background-color: #434B5C;\n",
              "      box-shadow: 0px 1px 3px 1px rgba(0, 0, 0, 0.15);\n",
              "      filter: drop-shadow(0px 1px 2px rgba(0, 0, 0, 0.3));\n",
              "      fill: #FFFFFF;\n",
              "    }\n",
              "  </style>\n",
              "\n",
              "    <script>\n",
              "      const buttonEl =\n",
              "        document.querySelector('#df-7248e748-4e6b-47b9-8502-efecbc60a9a7 button.colab-df-convert');\n",
              "      buttonEl.style.display =\n",
              "        google.colab.kernel.accessAllowed ? 'block' : 'none';\n",
              "\n",
              "      async function convertToInteractive(key) {\n",
              "        const element = document.querySelector('#df-7248e748-4e6b-47b9-8502-efecbc60a9a7');\n",
              "        const dataTable =\n",
              "          await google.colab.kernel.invokeFunction('convertToInteractive',\n",
              "                                                    [key], {});\n",
              "        if (!dataTable) return;\n",
              "\n",
              "        const docLinkHtml = 'Like what you see? Visit the ' +\n",
              "          '<a target=\"_blank\" href=https://colab.research.google.com/notebooks/data_table.ipynb>data table notebook</a>'\n",
              "          + ' to learn more about interactive tables.';\n",
              "        element.innerHTML = '';\n",
              "        dataTable['output_type'] = 'display_data';\n",
              "        await google.colab.output.renderOutput(dataTable, element);\n",
              "        const docLink = document.createElement('div');\n",
              "        docLink.innerHTML = docLinkHtml;\n",
              "        element.appendChild(docLink);\n",
              "      }\n",
              "    </script>\n",
              "  </div>\n",
              "\n",
              "\n",
              "<div id=\"df-5af68c8a-6a0a-4944-bb63-2bed2fce84e5\">\n",
              "  <button class=\"colab-df-quickchart\" onclick=\"quickchart('df-5af68c8a-6a0a-4944-bb63-2bed2fce84e5')\"\n",
              "            title=\"Suggest charts\"\n",
              "            style=\"display:none;\">\n",
              "\n",
              "<svg xmlns=\"http://www.w3.org/2000/svg\" height=\"24px\"viewBox=\"0 0 24 24\"\n",
              "     width=\"24px\">\n",
              "    <g>\n",
              "        <path d=\"M19 3H5c-1.1 0-2 .9-2 2v14c0 1.1.9 2 2 2h14c1.1 0 2-.9 2-2V5c0-1.1-.9-2-2-2zM9 17H7v-7h2v7zm4 0h-2V7h2v10zm4 0h-2v-4h2v4z\"/>\n",
              "    </g>\n",
              "</svg>\n",
              "  </button>\n",
              "\n",
              "<style>\n",
              "  .colab-df-quickchart {\n",
              "      --bg-color: #E8F0FE;\n",
              "      --fill-color: #1967D2;\n",
              "      --hover-bg-color: #E2EBFA;\n",
              "      --hover-fill-color: #174EA6;\n",
              "      --disabled-fill-color: #AAA;\n",
              "      --disabled-bg-color: #DDD;\n",
              "  }\n",
              "\n",
              "  [theme=dark] .colab-df-quickchart {\n",
              "      --bg-color: #3B4455;\n",
              "      --fill-color: #D2E3FC;\n",
              "      --hover-bg-color: #434B5C;\n",
              "      --hover-fill-color: #FFFFFF;\n",
              "      --disabled-bg-color: #3B4455;\n",
              "      --disabled-fill-color: #666;\n",
              "  }\n",
              "\n",
              "  .colab-df-quickchart {\n",
              "    background-color: var(--bg-color);\n",
              "    border: none;\n",
              "    border-radius: 50%;\n",
              "    cursor: pointer;\n",
              "    display: none;\n",
              "    fill: var(--fill-color);\n",
              "    height: 32px;\n",
              "    padding: 0;\n",
              "    width: 32px;\n",
              "  }\n",
              "\n",
              "  .colab-df-quickchart:hover {\n",
              "    background-color: var(--hover-bg-color);\n",
              "    box-shadow: 0 1px 2px rgba(60, 64, 67, 0.3), 0 1px 3px 1px rgba(60, 64, 67, 0.15);\n",
              "    fill: var(--button-hover-fill-color);\n",
              "  }\n",
              "\n",
              "  .colab-df-quickchart-complete:disabled,\n",
              "  .colab-df-quickchart-complete:disabled:hover {\n",
              "    background-color: var(--disabled-bg-color);\n",
              "    fill: var(--disabled-fill-color);\n",
              "    box-shadow: none;\n",
              "  }\n",
              "\n",
              "  .colab-df-spinner {\n",
              "    border: 2px solid var(--fill-color);\n",
              "    border-color: transparent;\n",
              "    border-bottom-color: var(--fill-color);\n",
              "    animation:\n",
              "      spin 1s steps(1) infinite;\n",
              "  }\n",
              "\n",
              "  @keyframes spin {\n",
              "    0% {\n",
              "      border-color: transparent;\n",
              "      border-bottom-color: var(--fill-color);\n",
              "      border-left-color: var(--fill-color);\n",
              "    }\n",
              "    20% {\n",
              "      border-color: transparent;\n",
              "      border-left-color: var(--fill-color);\n",
              "      border-top-color: var(--fill-color);\n",
              "    }\n",
              "    30% {\n",
              "      border-color: transparent;\n",
              "      border-left-color: var(--fill-color);\n",
              "      border-top-color: var(--fill-color);\n",
              "      border-right-color: var(--fill-color);\n",
              "    }\n",
              "    40% {\n",
              "      border-color: transparent;\n",
              "      border-right-color: var(--fill-color);\n",
              "      border-top-color: var(--fill-color);\n",
              "    }\n",
              "    60% {\n",
              "      border-color: transparent;\n",
              "      border-right-color: var(--fill-color);\n",
              "    }\n",
              "    80% {\n",
              "      border-color: transparent;\n",
              "      border-right-color: var(--fill-color);\n",
              "      border-bottom-color: var(--fill-color);\n",
              "    }\n",
              "    90% {\n",
              "      border-color: transparent;\n",
              "      border-bottom-color: var(--fill-color);\n",
              "    }\n",
              "  }\n",
              "</style>\n",
              "\n",
              "  <script>\n",
              "    async function quickchart(key) {\n",
              "      const quickchartButtonEl =\n",
              "        document.querySelector('#' + key + ' button');\n",
              "      quickchartButtonEl.disabled = true;  // To prevent multiple clicks.\n",
              "      quickchartButtonEl.classList.add('colab-df-spinner');\n",
              "      try {\n",
              "        const charts = await google.colab.kernel.invokeFunction(\n",
              "            'suggestCharts', [key], {});\n",
              "      } catch (error) {\n",
              "        console.error('Error during call to suggestCharts:', error);\n",
              "      }\n",
              "      quickchartButtonEl.classList.remove('colab-df-spinner');\n",
              "      quickchartButtonEl.classList.add('colab-df-quickchart-complete');\n",
              "    }\n",
              "    (() => {\n",
              "      let quickchartButtonEl =\n",
              "        document.querySelector('#df-5af68c8a-6a0a-4944-bb63-2bed2fce84e5 button');\n",
              "      quickchartButtonEl.style.display =\n",
              "        google.colab.kernel.accessAllowed ? 'block' : 'none';\n",
              "    })();\n",
              "  </script>\n",
              "</div>\n",
              "\n",
              "  <div id=\"id_48bf58a6-bd02-4580-a64b-49dbb65c852c\">\n",
              "    <style>\n",
              "      .colab-df-generate {\n",
              "        background-color: #E8F0FE;\n",
              "        border: none;\n",
              "        border-radius: 50%;\n",
              "        cursor: pointer;\n",
              "        display: none;\n",
              "        fill: #1967D2;\n",
              "        height: 32px;\n",
              "        padding: 0 0 0 0;\n",
              "        width: 32px;\n",
              "      }\n",
              "\n",
              "      .colab-df-generate:hover {\n",
              "        background-color: #E2EBFA;\n",
              "        box-shadow: 0px 1px 2px rgba(60, 64, 67, 0.3), 0px 1px 3px 1px rgba(60, 64, 67, 0.15);\n",
              "        fill: #174EA6;\n",
              "      }\n",
              "\n",
              "      [theme=dark] .colab-df-generate {\n",
              "        background-color: #3B4455;\n",
              "        fill: #D2E3FC;\n",
              "      }\n",
              "\n",
              "      [theme=dark] .colab-df-generate:hover {\n",
              "        background-color: #434B5C;\n",
              "        box-shadow: 0px 1px 3px 1px rgba(0, 0, 0, 0.15);\n",
              "        filter: drop-shadow(0px 1px 2px rgba(0, 0, 0, 0.3));\n",
              "        fill: #FFFFFF;\n",
              "      }\n",
              "    </style>\n",
              "    <button class=\"colab-df-generate\" onclick=\"generateWithVariable('df')\"\n",
              "            title=\"Generate code using this dataframe.\"\n",
              "            style=\"display:none;\">\n",
              "\n",
              "  <svg xmlns=\"http://www.w3.org/2000/svg\" height=\"24px\"viewBox=\"0 0 24 24\"\n",
              "       width=\"24px\">\n",
              "    <path d=\"M7,19H8.4L18.45,9,17,7.55,7,17.6ZM5,21V16.75L18.45,3.32a2,2,0,0,1,2.83,0l1.4,1.43a1.91,1.91,0,0,1,.58,1.4,1.91,1.91,0,0,1-.58,1.4L9.25,21ZM18.45,9,17,7.55Zm-12,3A5.31,5.31,0,0,0,4.9,8.1,5.31,5.31,0,0,0,1,6.5,5.31,5.31,0,0,0,4.9,4.9,5.31,5.31,0,0,0,6.5,1,5.31,5.31,0,0,0,8.1,4.9,5.31,5.31,0,0,0,12,6.5,5.46,5.46,0,0,0,6.5,12Z\"/>\n",
              "  </svg>\n",
              "    </button>\n",
              "    <script>\n",
              "      (() => {\n",
              "      const buttonEl =\n",
              "        document.querySelector('#id_48bf58a6-bd02-4580-a64b-49dbb65c852c button.colab-df-generate');\n",
              "      buttonEl.style.display =\n",
              "        google.colab.kernel.accessAllowed ? 'block' : 'none';\n",
              "\n",
              "      buttonEl.onclick = () => {\n",
              "        google.colab.notebook.generateWithVariable('df');\n",
              "      }\n",
              "      })();\n",
              "    </script>\n",
              "  </div>\n",
              "\n",
              "    </div>\n",
              "  </div>\n"
            ],
            "application/vnd.google.colaboratory.intrinsic+json": {
              "type": "dataframe",
              "variable_name": "df",
              "summary": "{\n  \"name\": \"df\",\n  \"rows\": 4787,\n  \"fields\": [\n    {\n      \"column\": \"Unnamed: 0\",\n      \"properties\": {\n        \"dtype\": \"number\",\n        \"std\": 289,\n        \"min\": 0,\n        \"max\": 1210,\n        \"num_unique_values\": 1211,\n        \"samples\": [\n          101,\n          787,\n          899\n        ],\n        \"semantic_type\": \"\",\n        \"description\": \"\"\n      }\n    },\n    {\n      \"column\": \"title\",\n      \"properties\": {\n        \"dtype\": \"string\",\n        \"num_unique_values\": 4641,\n        \"samples\": [\n          \"Made a mistake of\",\n          \"Knowing there's an original helps\",\n          \"slow and not really scary but very cool effects and visuals, when used\"\n        ],\n        \"semantic_type\": \"\",\n        \"description\": \"\"\n      }\n    },\n    {\n      \"column\": \"review\",\n      \"properties\": {\n        \"dtype\": \"string\",\n        \"num_unique_values\": 4784,\n        \"samples\": [\n          \"Just because Spielberg's DreamWorks made a horror movie (an American version of a Japanese hokey) doesn't mean it's better than the budget-challenged \\\"Nightmare on Elm Street\\\", \\\"Halloween\\\", the campy 1957 \\\"Voodoo Island\\\" or the maligned \\\"Abandon\\\".  The most dreadful thing about \\\"The Ring\\\" is its characters' lack of belief in and respect for themselves.  Thus, to me, this movie draws comparison to the equally-dreadful, boring and inane \\\"Blair Witch Project\\\".My neurotic and droll mind actually thought that DreamWorks' marketing funds generated (a) the good buzz on this movie from the starving media, (b) the bad buzz from the media on \\\"Abandon\\\" (another inane thriller movie which opened at the same time as \\\"The Ring\\\" on 10/18/02) (Translation:  No marketing funds from Paramount), and (c) the phony squeals, screams and applause from the Saturday night audience at Loews Cinema at Universal City in Los Angeles.In the end, it's all about money and good old-fashioned ballyhoo. DreamWorks produced another profitable movie that the public wants.  No argument there.  But for the media to say and the adoring public to start believing that \\\"The Ring\\\" is an intelligent and a genuine horror movie, now, that's a lot of croak.\",\n          \"Bust of the summer. Not a bad movie. Dark water's story drags, and not in a slow burn way, but in a bad movie way. Not scary, unless one finds a slow pace scary. The director still manages to keep the viewer interested in the story. I do not know if the story was lost in translation of the book to film, but the movie was lacking a push. The actors and director did well with what little meat the script provided. Too much fiber and not enough red meat for me. The end is like the ring 2 with the need for a mother in the film. A let down after watching the whole film. Watch it on video. Not bad for a late Friday night by yourself. Not a movie for a group. 6 out of 10. I bet the book was better and hard to put on screen.\",\n          \"although the plot is easy enough to go along with and the whole theme of the movie can be gripping at times, i couldn't help but feel the director tried to squeeze just too many jumps and scares into the movie, I mean come on let's face it, every tension-built scene is pretty predictable and just an excuse for a shock in most cases. however the scenes are still quite un-settling and definitely jumpy despite the fact you can tell what's coming. the movie relates to the ring in places (especially a certain staircase scene at the end) and definitely scarier and jumpier, and definitely worth going along to if you like constantly being on the edge of your seat and a good few jumps to get you laughing about afterwards!\"\n        ],\n        \"semantic_type\": \"\",\n        \"description\": \"\"\n      }\n    },\n    {\n      \"column\": \"rating\",\n      \"properties\": {\n        \"dtype\": \"category\",\n        \"num_unique_values\": 10,\n        \"samples\": [\n          \"2/10\",\n          \"10/10\",\n          \"6/10\"\n        ],\n        \"semantic_type\": \"\",\n        \"description\": \"\"\n      }\n    }\n  ]\n}"
            }
          },
          "metadata": {},
          "execution_count": 3
        }
      ],
      "source": [
        "df"
      ]
    },
    {
      "cell_type": "code",
      "execution_count": 4,
      "metadata": {
        "id": "bejOtK0zO-xJ"
      },
      "outputs": [],
      "source": [
        "df = df.drop('Unnamed: 0', axis=1)"
      ]
    },
    {
      "cell_type": "code",
      "execution_count": 5,
      "metadata": {
        "colab": {
          "base_uri": "https://localhost:8080/",
          "height": 423
        },
        "id": "9fDEaXLcQNit",
        "outputId": "f49b05b7-ca34-419d-b8cd-08e057cef853"
      },
      "outputs": [
        {
          "output_type": "execute_result",
          "data": {
            "text/plain": [
              "                                                  title  \\\n",
              "0           Occasionally awkward, but very good overall   \n",
              "1                 Non-Linear, yet Effective and Creepy.   \n",
              "2                                           Pretty Good   \n",
              "3                      Very Scary Japanese Horror Movie   \n",
              "4     A genuinely creepy Japanese ghost story master...   \n",
              "...                                                 ...   \n",
              "4782  Japanese Horror Remakes... from this author it...   \n",
              "4783  I might have gotten startled ONCE during this ...   \n",
              "4784  That Movie Blew Harder than Yeltsin into a Bre...   \n",
              "4785     The \"Dark Water\" is really dark, for a reason.   \n",
              "4786                              What a waste of time!   \n",
              "\n",
              "                                                 review rating  \n",
              "0     Rika Nishina (Megumi Okina) works for a social...   9/10  \n",
              "1     Although the word \"grudge\" doesn't quite fit t...  10/10  \n",
              "2     \"Ju-On, The Grudge\" is not an easy movie to fi...   7/10  \n",
              "3     In Japan, when the volunteer social assistant ...   8/10  \n",
              "4     Following in the immensely successful footstep...  10/10  \n",
              "...                                                 ...    ...  \n",
              "4782  Now having seen both The Ring and Dark Water, ...   4/10  \n",
              "4783  THe movie is slow, grinding, and uneventful. A...   4/10  \n",
              "4784  I've never written comments on a movie before....   3/10  \n",
              "4785  I'm 47, married 26 years, four kids. I was rai...   1/10  \n",
              "4786  Boring, shallow and not scary at all.Another m...   1/10  \n",
              "\n",
              "[4787 rows x 3 columns]"
            ],
            "text/html": [
              "\n",
              "  <div id=\"df-0c65eb0d-4b25-4bf1-8df6-da4a3696803b\" class=\"colab-df-container\">\n",
              "    <div>\n",
              "<style scoped>\n",
              "    .dataframe tbody tr th:only-of-type {\n",
              "        vertical-align: middle;\n",
              "    }\n",
              "\n",
              "    .dataframe tbody tr th {\n",
              "        vertical-align: top;\n",
              "    }\n",
              "\n",
              "    .dataframe thead th {\n",
              "        text-align: right;\n",
              "    }\n",
              "</style>\n",
              "<table border=\"1\" class=\"dataframe\">\n",
              "  <thead>\n",
              "    <tr style=\"text-align: right;\">\n",
              "      <th></th>\n",
              "      <th>title</th>\n",
              "      <th>review</th>\n",
              "      <th>rating</th>\n",
              "    </tr>\n",
              "  </thead>\n",
              "  <tbody>\n",
              "    <tr>\n",
              "      <th>0</th>\n",
              "      <td>Occasionally awkward, but very good overall</td>\n",
              "      <td>Rika Nishina (Megumi Okina) works for a social...</td>\n",
              "      <td>9/10</td>\n",
              "    </tr>\n",
              "    <tr>\n",
              "      <th>1</th>\n",
              "      <td>Non-Linear, yet Effective and Creepy.</td>\n",
              "      <td>Although the word \"grudge\" doesn't quite fit t...</td>\n",
              "      <td>10/10</td>\n",
              "    </tr>\n",
              "    <tr>\n",
              "      <th>2</th>\n",
              "      <td>Pretty Good</td>\n",
              "      <td>\"Ju-On, The Grudge\" is not an easy movie to fi...</td>\n",
              "      <td>7/10</td>\n",
              "    </tr>\n",
              "    <tr>\n",
              "      <th>3</th>\n",
              "      <td>Very Scary Japanese Horror Movie</td>\n",
              "      <td>In Japan, when the volunteer social assistant ...</td>\n",
              "      <td>8/10</td>\n",
              "    </tr>\n",
              "    <tr>\n",
              "      <th>4</th>\n",
              "      <td>A genuinely creepy Japanese ghost story master...</td>\n",
              "      <td>Following in the immensely successful footstep...</td>\n",
              "      <td>10/10</td>\n",
              "    </tr>\n",
              "    <tr>\n",
              "      <th>...</th>\n",
              "      <td>...</td>\n",
              "      <td>...</td>\n",
              "      <td>...</td>\n",
              "    </tr>\n",
              "    <tr>\n",
              "      <th>4782</th>\n",
              "      <td>Japanese Horror Remakes... from this author it...</td>\n",
              "      <td>Now having seen both The Ring and Dark Water, ...</td>\n",
              "      <td>4/10</td>\n",
              "    </tr>\n",
              "    <tr>\n",
              "      <th>4783</th>\n",
              "      <td>I might have gotten startled ONCE during this ...</td>\n",
              "      <td>THe movie is slow, grinding, and uneventful. A...</td>\n",
              "      <td>4/10</td>\n",
              "    </tr>\n",
              "    <tr>\n",
              "      <th>4784</th>\n",
              "      <td>That Movie Blew Harder than Yeltsin into a Bre...</td>\n",
              "      <td>I've never written comments on a movie before....</td>\n",
              "      <td>3/10</td>\n",
              "    </tr>\n",
              "    <tr>\n",
              "      <th>4785</th>\n",
              "      <td>The \"Dark Water\" is really dark, for a reason.</td>\n",
              "      <td>I'm 47, married 26 years, four kids. I was rai...</td>\n",
              "      <td>1/10</td>\n",
              "    </tr>\n",
              "    <tr>\n",
              "      <th>4786</th>\n",
              "      <td>What a waste of time!</td>\n",
              "      <td>Boring, shallow and not scary at all.Another m...</td>\n",
              "      <td>1/10</td>\n",
              "    </tr>\n",
              "  </tbody>\n",
              "</table>\n",
              "<p>4787 rows × 3 columns</p>\n",
              "</div>\n",
              "    <div class=\"colab-df-buttons\">\n",
              "\n",
              "  <div class=\"colab-df-container\">\n",
              "    <button class=\"colab-df-convert\" onclick=\"convertToInteractive('df-0c65eb0d-4b25-4bf1-8df6-da4a3696803b')\"\n",
              "            title=\"Convert this dataframe to an interactive table.\"\n",
              "            style=\"display:none;\">\n",
              "\n",
              "  <svg xmlns=\"http://www.w3.org/2000/svg\" height=\"24px\" viewBox=\"0 -960 960 960\">\n",
              "    <path d=\"M120-120v-720h720v720H120Zm60-500h600v-160H180v160Zm220 220h160v-160H400v160Zm0 220h160v-160H400v160ZM180-400h160v-160H180v160Zm440 0h160v-160H620v160ZM180-180h160v-160H180v160Zm440 0h160v-160H620v160Z\"/>\n",
              "  </svg>\n",
              "    </button>\n",
              "\n",
              "  <style>\n",
              "    .colab-df-container {\n",
              "      display:flex;\n",
              "      gap: 12px;\n",
              "    }\n",
              "\n",
              "    .colab-df-convert {\n",
              "      background-color: #E8F0FE;\n",
              "      border: none;\n",
              "      border-radius: 50%;\n",
              "      cursor: pointer;\n",
              "      display: none;\n",
              "      fill: #1967D2;\n",
              "      height: 32px;\n",
              "      padding: 0 0 0 0;\n",
              "      width: 32px;\n",
              "    }\n",
              "\n",
              "    .colab-df-convert:hover {\n",
              "      background-color: #E2EBFA;\n",
              "      box-shadow: 0px 1px 2px rgba(60, 64, 67, 0.3), 0px 1px 3px 1px rgba(60, 64, 67, 0.15);\n",
              "      fill: #174EA6;\n",
              "    }\n",
              "\n",
              "    .colab-df-buttons div {\n",
              "      margin-bottom: 4px;\n",
              "    }\n",
              "\n",
              "    [theme=dark] .colab-df-convert {\n",
              "      background-color: #3B4455;\n",
              "      fill: #D2E3FC;\n",
              "    }\n",
              "\n",
              "    [theme=dark] .colab-df-convert:hover {\n",
              "      background-color: #434B5C;\n",
              "      box-shadow: 0px 1px 3px 1px rgba(0, 0, 0, 0.15);\n",
              "      filter: drop-shadow(0px 1px 2px rgba(0, 0, 0, 0.3));\n",
              "      fill: #FFFFFF;\n",
              "    }\n",
              "  </style>\n",
              "\n",
              "    <script>\n",
              "      const buttonEl =\n",
              "        document.querySelector('#df-0c65eb0d-4b25-4bf1-8df6-da4a3696803b button.colab-df-convert');\n",
              "      buttonEl.style.display =\n",
              "        google.colab.kernel.accessAllowed ? 'block' : 'none';\n",
              "\n",
              "      async function convertToInteractive(key) {\n",
              "        const element = document.querySelector('#df-0c65eb0d-4b25-4bf1-8df6-da4a3696803b');\n",
              "        const dataTable =\n",
              "          await google.colab.kernel.invokeFunction('convertToInteractive',\n",
              "                                                    [key], {});\n",
              "        if (!dataTable) return;\n",
              "\n",
              "        const docLinkHtml = 'Like what you see? Visit the ' +\n",
              "          '<a target=\"_blank\" href=https://colab.research.google.com/notebooks/data_table.ipynb>data table notebook</a>'\n",
              "          + ' to learn more about interactive tables.';\n",
              "        element.innerHTML = '';\n",
              "        dataTable['output_type'] = 'display_data';\n",
              "        await google.colab.output.renderOutput(dataTable, element);\n",
              "        const docLink = document.createElement('div');\n",
              "        docLink.innerHTML = docLinkHtml;\n",
              "        element.appendChild(docLink);\n",
              "      }\n",
              "    </script>\n",
              "  </div>\n",
              "\n",
              "\n",
              "<div id=\"df-8fc37822-acda-4078-8f80-a523be6c2280\">\n",
              "  <button class=\"colab-df-quickchart\" onclick=\"quickchart('df-8fc37822-acda-4078-8f80-a523be6c2280')\"\n",
              "            title=\"Suggest charts\"\n",
              "            style=\"display:none;\">\n",
              "\n",
              "<svg xmlns=\"http://www.w3.org/2000/svg\" height=\"24px\"viewBox=\"0 0 24 24\"\n",
              "     width=\"24px\">\n",
              "    <g>\n",
              "        <path d=\"M19 3H5c-1.1 0-2 .9-2 2v14c0 1.1.9 2 2 2h14c1.1 0 2-.9 2-2V5c0-1.1-.9-2-2-2zM9 17H7v-7h2v7zm4 0h-2V7h2v10zm4 0h-2v-4h2v4z\"/>\n",
              "    </g>\n",
              "</svg>\n",
              "  </button>\n",
              "\n",
              "<style>\n",
              "  .colab-df-quickchart {\n",
              "      --bg-color: #E8F0FE;\n",
              "      --fill-color: #1967D2;\n",
              "      --hover-bg-color: #E2EBFA;\n",
              "      --hover-fill-color: #174EA6;\n",
              "      --disabled-fill-color: #AAA;\n",
              "      --disabled-bg-color: #DDD;\n",
              "  }\n",
              "\n",
              "  [theme=dark] .colab-df-quickchart {\n",
              "      --bg-color: #3B4455;\n",
              "      --fill-color: #D2E3FC;\n",
              "      --hover-bg-color: #434B5C;\n",
              "      --hover-fill-color: #FFFFFF;\n",
              "      --disabled-bg-color: #3B4455;\n",
              "      --disabled-fill-color: #666;\n",
              "  }\n",
              "\n",
              "  .colab-df-quickchart {\n",
              "    background-color: var(--bg-color);\n",
              "    border: none;\n",
              "    border-radius: 50%;\n",
              "    cursor: pointer;\n",
              "    display: none;\n",
              "    fill: var(--fill-color);\n",
              "    height: 32px;\n",
              "    padding: 0;\n",
              "    width: 32px;\n",
              "  }\n",
              "\n",
              "  .colab-df-quickchart:hover {\n",
              "    background-color: var(--hover-bg-color);\n",
              "    box-shadow: 0 1px 2px rgba(60, 64, 67, 0.3), 0 1px 3px 1px rgba(60, 64, 67, 0.15);\n",
              "    fill: var(--button-hover-fill-color);\n",
              "  }\n",
              "\n",
              "  .colab-df-quickchart-complete:disabled,\n",
              "  .colab-df-quickchart-complete:disabled:hover {\n",
              "    background-color: var(--disabled-bg-color);\n",
              "    fill: var(--disabled-fill-color);\n",
              "    box-shadow: none;\n",
              "  }\n",
              "\n",
              "  .colab-df-spinner {\n",
              "    border: 2px solid var(--fill-color);\n",
              "    border-color: transparent;\n",
              "    border-bottom-color: var(--fill-color);\n",
              "    animation:\n",
              "      spin 1s steps(1) infinite;\n",
              "  }\n",
              "\n",
              "  @keyframes spin {\n",
              "    0% {\n",
              "      border-color: transparent;\n",
              "      border-bottom-color: var(--fill-color);\n",
              "      border-left-color: var(--fill-color);\n",
              "    }\n",
              "    20% {\n",
              "      border-color: transparent;\n",
              "      border-left-color: var(--fill-color);\n",
              "      border-top-color: var(--fill-color);\n",
              "    }\n",
              "    30% {\n",
              "      border-color: transparent;\n",
              "      border-left-color: var(--fill-color);\n",
              "      border-top-color: var(--fill-color);\n",
              "      border-right-color: var(--fill-color);\n",
              "    }\n",
              "    40% {\n",
              "      border-color: transparent;\n",
              "      border-right-color: var(--fill-color);\n",
              "      border-top-color: var(--fill-color);\n",
              "    }\n",
              "    60% {\n",
              "      border-color: transparent;\n",
              "      border-right-color: var(--fill-color);\n",
              "    }\n",
              "    80% {\n",
              "      border-color: transparent;\n",
              "      border-right-color: var(--fill-color);\n",
              "      border-bottom-color: var(--fill-color);\n",
              "    }\n",
              "    90% {\n",
              "      border-color: transparent;\n",
              "      border-bottom-color: var(--fill-color);\n",
              "    }\n",
              "  }\n",
              "</style>\n",
              "\n",
              "  <script>\n",
              "    async function quickchart(key) {\n",
              "      const quickchartButtonEl =\n",
              "        document.querySelector('#' + key + ' button');\n",
              "      quickchartButtonEl.disabled = true;  // To prevent multiple clicks.\n",
              "      quickchartButtonEl.classList.add('colab-df-spinner');\n",
              "      try {\n",
              "        const charts = await google.colab.kernel.invokeFunction(\n",
              "            'suggestCharts', [key], {});\n",
              "      } catch (error) {\n",
              "        console.error('Error during call to suggestCharts:', error);\n",
              "      }\n",
              "      quickchartButtonEl.classList.remove('colab-df-spinner');\n",
              "      quickchartButtonEl.classList.add('colab-df-quickchart-complete');\n",
              "    }\n",
              "    (() => {\n",
              "      let quickchartButtonEl =\n",
              "        document.querySelector('#df-8fc37822-acda-4078-8f80-a523be6c2280 button');\n",
              "      quickchartButtonEl.style.display =\n",
              "        google.colab.kernel.accessAllowed ? 'block' : 'none';\n",
              "    })();\n",
              "  </script>\n",
              "</div>\n",
              "\n",
              "  <div id=\"id_0ca51185-ed9f-4518-b4a3-f4c316ec722c\">\n",
              "    <style>\n",
              "      .colab-df-generate {\n",
              "        background-color: #E8F0FE;\n",
              "        border: none;\n",
              "        border-radius: 50%;\n",
              "        cursor: pointer;\n",
              "        display: none;\n",
              "        fill: #1967D2;\n",
              "        height: 32px;\n",
              "        padding: 0 0 0 0;\n",
              "        width: 32px;\n",
              "      }\n",
              "\n",
              "      .colab-df-generate:hover {\n",
              "        background-color: #E2EBFA;\n",
              "        box-shadow: 0px 1px 2px rgba(60, 64, 67, 0.3), 0px 1px 3px 1px rgba(60, 64, 67, 0.15);\n",
              "        fill: #174EA6;\n",
              "      }\n",
              "\n",
              "      [theme=dark] .colab-df-generate {\n",
              "        background-color: #3B4455;\n",
              "        fill: #D2E3FC;\n",
              "      }\n",
              "\n",
              "      [theme=dark] .colab-df-generate:hover {\n",
              "        background-color: #434B5C;\n",
              "        box-shadow: 0px 1px 3px 1px rgba(0, 0, 0, 0.15);\n",
              "        filter: drop-shadow(0px 1px 2px rgba(0, 0, 0, 0.3));\n",
              "        fill: #FFFFFF;\n",
              "      }\n",
              "    </style>\n",
              "    <button class=\"colab-df-generate\" onclick=\"generateWithVariable('df')\"\n",
              "            title=\"Generate code using this dataframe.\"\n",
              "            style=\"display:none;\">\n",
              "\n",
              "  <svg xmlns=\"http://www.w3.org/2000/svg\" height=\"24px\"viewBox=\"0 0 24 24\"\n",
              "       width=\"24px\">\n",
              "    <path d=\"M7,19H8.4L18.45,9,17,7.55,7,17.6ZM5,21V16.75L18.45,3.32a2,2,0,0,1,2.83,0l1.4,1.43a1.91,1.91,0,0,1,.58,1.4,1.91,1.91,0,0,1-.58,1.4L9.25,21ZM18.45,9,17,7.55Zm-12,3A5.31,5.31,0,0,0,4.9,8.1,5.31,5.31,0,0,0,1,6.5,5.31,5.31,0,0,0,4.9,4.9,5.31,5.31,0,0,0,6.5,1,5.31,5.31,0,0,0,8.1,4.9,5.31,5.31,0,0,0,12,6.5,5.46,5.46,0,0,0,6.5,12Z\"/>\n",
              "  </svg>\n",
              "    </button>\n",
              "    <script>\n",
              "      (() => {\n",
              "      const buttonEl =\n",
              "        document.querySelector('#id_0ca51185-ed9f-4518-b4a3-f4c316ec722c button.colab-df-generate');\n",
              "      buttonEl.style.display =\n",
              "        google.colab.kernel.accessAllowed ? 'block' : 'none';\n",
              "\n",
              "      buttonEl.onclick = () => {\n",
              "        google.colab.notebook.generateWithVariable('df');\n",
              "      }\n",
              "      })();\n",
              "    </script>\n",
              "  </div>\n",
              "\n",
              "    </div>\n",
              "  </div>\n"
            ],
            "application/vnd.google.colaboratory.intrinsic+json": {
              "type": "dataframe",
              "variable_name": "df",
              "summary": "{\n  \"name\": \"df\",\n  \"rows\": 4787,\n  \"fields\": [\n    {\n      \"column\": \"title\",\n      \"properties\": {\n        \"dtype\": \"string\",\n        \"num_unique_values\": 4641,\n        \"samples\": [\n          \"Made a mistake of\",\n          \"Knowing there's an original helps\",\n          \"slow and not really scary but very cool effects and visuals, when used\"\n        ],\n        \"semantic_type\": \"\",\n        \"description\": \"\"\n      }\n    },\n    {\n      \"column\": \"review\",\n      \"properties\": {\n        \"dtype\": \"string\",\n        \"num_unique_values\": 4784,\n        \"samples\": [\n          \"Just because Spielberg's DreamWorks made a horror movie (an American version of a Japanese hokey) doesn't mean it's better than the budget-challenged \\\"Nightmare on Elm Street\\\", \\\"Halloween\\\", the campy 1957 \\\"Voodoo Island\\\" or the maligned \\\"Abandon\\\".  The most dreadful thing about \\\"The Ring\\\" is its characters' lack of belief in and respect for themselves.  Thus, to me, this movie draws comparison to the equally-dreadful, boring and inane \\\"Blair Witch Project\\\".My neurotic and droll mind actually thought that DreamWorks' marketing funds generated (a) the good buzz on this movie from the starving media, (b) the bad buzz from the media on \\\"Abandon\\\" (another inane thriller movie which opened at the same time as \\\"The Ring\\\" on 10/18/02) (Translation:  No marketing funds from Paramount), and (c) the phony squeals, screams and applause from the Saturday night audience at Loews Cinema at Universal City in Los Angeles.In the end, it's all about money and good old-fashioned ballyhoo. DreamWorks produced another profitable movie that the public wants.  No argument there.  But for the media to say and the adoring public to start believing that \\\"The Ring\\\" is an intelligent and a genuine horror movie, now, that's a lot of croak.\",\n          \"Bust of the summer. Not a bad movie. Dark water's story drags, and not in a slow burn way, but in a bad movie way. Not scary, unless one finds a slow pace scary. The director still manages to keep the viewer interested in the story. I do not know if the story was lost in translation of the book to film, but the movie was lacking a push. The actors and director did well with what little meat the script provided. Too much fiber and not enough red meat for me. The end is like the ring 2 with the need for a mother in the film. A let down after watching the whole film. Watch it on video. Not bad for a late Friday night by yourself. Not a movie for a group. 6 out of 10. I bet the book was better and hard to put on screen.\",\n          \"although the plot is easy enough to go along with and the whole theme of the movie can be gripping at times, i couldn't help but feel the director tried to squeeze just too many jumps and scares into the movie, I mean come on let's face it, every tension-built scene is pretty predictable and just an excuse for a shock in most cases. however the scenes are still quite un-settling and definitely jumpy despite the fact you can tell what's coming. the movie relates to the ring in places (especially a certain staircase scene at the end) and definitely scarier and jumpier, and definitely worth going along to if you like constantly being on the edge of your seat and a good few jumps to get you laughing about afterwards!\"\n        ],\n        \"semantic_type\": \"\",\n        \"description\": \"\"\n      }\n    },\n    {\n      \"column\": \"rating\",\n      \"properties\": {\n        \"dtype\": \"category\",\n        \"num_unique_values\": 10,\n        \"samples\": [\n          \"2/10\",\n          \"10/10\",\n          \"6/10\"\n        ],\n        \"semantic_type\": \"\",\n        \"description\": \"\"\n      }\n    }\n  ]\n}"
            }
          },
          "metadata": {},
          "execution_count": 5
        }
      ],
      "source": [
        "df"
      ]
    },
    {
      "cell_type": "code",
      "execution_count": 6,
      "metadata": {
        "colab": {
          "base_uri": "https://localhost:8080/",
          "height": 122
        },
        "id": "kX5zWJ0QtMHT",
        "outputId": "1e58810a-8e15-4fc3-dbbc-c45f82815576"
      },
      "outputs": [
        {
          "output_type": "execute_result",
          "data": {
            "text/plain": [
              "'The \"spirit\" in this movie was kind of creepy, but I felt like I wasted an afternoon watching this piece of pooh. It didn\\'t tie itself together very well, the acting was second rate and it was very slow. I thought there was a lot of potential with this, but they way it was done barely kept me awake. It would be very interesting to see someone take this story to another level. I\\'m not sure what else to say about this, but I want my post to make it online now that I have invested the time to review this lame movie. Sorry to be dragging on... but 10 lines of text are required. We\\'re almost there... Hang on... Wow! I feel like I\\'m creating a movie like the Grudge, now. Long, dull and a waste of time to deal with. Oh well, we\\'re done now!'"
            ],
            "application/vnd.google.colaboratory.intrinsic+json": {
              "type": "string"
            }
          },
          "metadata": {},
          "execution_count": 6
        }
      ],
      "source": [
        "df['review'][88]"
      ]
    },
    {
      "cell_type": "code",
      "execution_count": 7,
      "metadata": {
        "colab": {
          "base_uri": "https://localhost:8080/"
        },
        "id": "s9jktLj0RE2K",
        "outputId": "32b1a316-aa56-42d6-8732-804ad207ba17"
      },
      "outputs": [
        {
          "output_type": "stream",
          "name": "stderr",
          "text": [
            "[nltk_data] Downloading package stopwords to /root/nltk_data...\n",
            "[nltk_data]   Unzipping corpora/stopwords.zip.\n",
            "[nltk_data] Downloading package punkt to /root/nltk_data...\n",
            "[nltk_data]   Unzipping tokenizers/punkt.zip.\n",
            "[nltk_data] Downloading package wordnet to /root/nltk_data...\n",
            "[nltk_data] Downloading package omw-1.4 to /root/nltk_data...\n"
          ]
        },
        {
          "output_type": "execute_result",
          "data": {
            "text/plain": [
              "True"
            ]
          },
          "metadata": {},
          "execution_count": 7
        }
      ],
      "source": [
        "import re\n",
        "import string\n",
        "import nltk\n",
        "from nltk.corpus import stopwords\n",
        "from nltk.stem import WordNetLemmatizer\n",
        "from nltk.stem.porter import *\n",
        "from tqdm import tqdm\n",
        "from nltk import sent_tokenize,word_tokenize\n",
        "\n",
        "nltk.download('stopwords')\n",
        "nltk.download('punkt')\n",
        "nltk.download('wordnet')\n",
        "nltk.download('omw-1.4')"
      ]
    },
    {
      "cell_type": "code",
      "execution_count": 8,
      "metadata": {
        "id": "unexSO72RQiG"
      },
      "outputs": [],
      "source": [
        "main = []\n",
        "\n",
        "# Storing all punctuations using RE library like !;,\"% etc\n",
        "re_puncs = re.compile('[%s]' % re.escape(string.punctuation))\n",
        "# Storing all stop words like a, an, the, when, there, this etc\n",
        "stop_word  = set(stopwords.words('english'))\n",
        "stop_word.add(\"im\")\n",
        "# print(stop_word)\n"
      ]
    },
    {
      "cell_type": "code",
      "execution_count": 9,
      "metadata": {
        "colab": {
          "base_uri": "https://localhost:8080/"
        },
        "id": "uLp5QsLaRdVz",
        "outputId": "cd9e2152-4ab3-4185-a317-4dc566b515c0"
      },
      "outputs": [
        {
          "output_type": "stream",
          "name": "stdout",
          "text": [
            "11398\n"
          ]
        }
      ],
      "source": [
        "sentences_listed = [line.split(\" \") for line in df['review']]\n",
        "\n",
        "import gensim\n",
        "\n",
        "word_model = gensim.models.Word2Vec(sentences = sentences_listed, vector_size = 100)\n",
        "words = list(word_model.wv.key_to_index)\n",
        "print(len(words))"
      ]
    },
    {
      "cell_type": "code",
      "execution_count": 10,
      "metadata": {
        "colab": {
          "base_uri": "https://localhost:8080/"
        },
        "id": "3G34SZxiRjNl",
        "outputId": "595c7cbe-7db7-45d2-830b-16dec0ca0dfa"
      },
      "outputs": [
        {
          "output_type": "stream",
          "name": "stdout",
          "text": [
            "Requirement already satisfied: gensim in /usr/local/lib/python3.10/dist-packages (4.3.2)\n",
            "Requirement already satisfied: numpy>=1.18.5 in /usr/local/lib/python3.10/dist-packages (from gensim) (1.25.2)\n",
            "Requirement already satisfied: scipy>=1.7.0 in /usr/local/lib/python3.10/dist-packages (from gensim) (1.11.4)\n",
            "Requirement already satisfied: smart-open>=1.8.1 in /usr/local/lib/python3.10/dist-packages (from gensim) (7.0.4)\n",
            "Requirement already satisfied: wrapt in /usr/local/lib/python3.10/dist-packages (from smart-open>=1.8.1->gensim) (1.14.1)\n"
          ]
        }
      ],
      "source": [
        "!pip install gensim"
      ]
    },
    {
      "cell_type": "code",
      "execution_count": 11,
      "metadata": {
        "colab": {
          "base_uri": "https://localhost:8080/"
        },
        "id": "GPgFjxCBRnhF",
        "outputId": "cf9e419e-6c75-41bf-dbc2-805308607841"
      },
      "outputs": [
        {
          "output_type": "execute_result",
          "data": {
            "text/plain": [
              "[('role', 0.9090754389762878),\n",
              " ('performance', 0.904512882232666),\n",
              " ('Connelly', 0.8993149399757385),\n",
              " ('actress,', 0.88432377576828),\n",
              " ('Watts', 0.8794669508934021),\n",
              " ('Jennifer', 0.8657869696617126),\n",
              " ('beautiful', 0.8446453213691711),\n",
              " ('Browning', 0.839723527431488),\n",
              " ('journalist.', 0.8318081498146057),\n",
              " ('Naomi', 0.8311673402786255)]"
            ]
          },
          "metadata": {},
          "execution_count": 11
        }
      ],
      "source": [
        "word_model.wv.most_similar(\"actress\")"
      ]
    },
    {
      "cell_type": "code",
      "execution_count": 12,
      "metadata": {
        "colab": {
          "base_uri": "https://localhost:8080/"
        },
        "id": "A6IfkeLNRqFA",
        "outputId": "b648f97c-3f37-4bc1-c873-f4f09aee594a"
      },
      "outputs": [
        {
          "output_type": "execute_result",
          "data": {
            "text/plain": [
              "[('living', 0.9084473848342896),\n",
              " ('visions', 0.8978703022003174),\n",
              " ('spirit', 0.8877584934234619),\n",
              " ('father', 0.8806615471839905),\n",
              " ('victim', 0.8788247108459473),\n",
              " ('family', 0.8764746785163879),\n",
              " ('niece', 0.8754598498344421),\n",
              " ('body', 0.872402548789978),\n",
              " ('curse', 0.8700237274169922),\n",
              " ('murdered', 0.8697793483734131)]"
            ]
          },
          "metadata": {},
          "execution_count": 12
        }
      ],
      "source": [
        "word_model.wv.most_similar(\"death\")"
      ]
    },
    {
      "cell_type": "code",
      "execution_count": 13,
      "metadata": {
        "colab": {
          "base_uri": "https://localhost:8080/"
        },
        "id": "aHYhXMc0RvDF",
        "outputId": "238889fa-8cf1-4d66-f007-3ebad52363a7"
      },
      "outputs": [
        {
          "output_type": "execute_result",
          "data": {
            "text/plain": [
              "[('bad', 0.8252667784690857),\n",
              " ('good', 0.762544572353363),\n",
              " ('boring', 0.7020155787467957),\n",
              " ('scary,', 0.6929928064346313),\n",
              " ('scary.', 0.6781390905380249),\n",
              " ('frightening', 0.6706538796424866),\n",
              " ('fun', 0.6651389002799988),\n",
              " ('stupid', 0.6647598147392273),\n",
              " ('truly', 0.6292786598205566),\n",
              " ('bad,', 0.62757408618927)]"
            ]
          },
          "metadata": {},
          "execution_count": 13
        }
      ],
      "source": [
        "word_model.wv.most_similar(\"scary\")"
      ]
    },
    {
      "cell_type": "code",
      "execution_count": 14,
      "metadata": {
        "colab": {
          "base_uri": "https://localhost:8080/"
        },
        "id": "R7A1wClxRzER",
        "outputId": "6ea0d0ff-075e-48ac-8bb9-33f18189f70b"
      },
      "outputs": [
        {
          "output_type": "stream",
          "name": "stderr",
          "text": [
            "100%|██████████| 4787/4787 [00:39<00:00, 120.27it/s]\n"
          ]
        }
      ],
      "source": [
        "# Making Lemmatizing object\n",
        "lem = WordNetLemmatizer()\n",
        "# Using Porter Stemmer\n",
        "p_stem = PorterStemmer()\n",
        "\n",
        "# Traversing whole dataset\n",
        "for i in tqdm(range(len(df['review']))):\n",
        "    # Tokenization\n",
        "    tokens = word_tokenize(str(df['review'][i]))\n",
        "    # Converting all characters to lower case\n",
        "    tokens = [w.lower() for w in tokens]\n",
        "    # Remove all punctuations from sentenses\n",
        "    tokens = [re_puncs.sub('', w) for w in tokens]\n",
        "    # Checking all words is alphabets or not\n",
        "    tokens = [i for i in tokens if i.isalpha()]\n",
        "    # Removing all stop words from the sentenses\n",
        "    tokens = [w for w in tokens if w not in stop_word]\n",
        "    # Doing Lemmatizing of words\n",
        "    tokens = [lem.lemmatize(w) for w in tokens]\n",
        "    # Stemming process\n",
        "    tokens = [p_stem.stem(w) for w in tokens]\n",
        "    # Finally convert to string\n",
        "    r = ' '.join(tokens)\n",
        "    # Storing the final string into main list\n",
        "    main.append(r)\n"
      ]
    },
    {
      "cell_type": "code",
      "execution_count": 15,
      "metadata": {
        "id": "IIIkhxzKXEwI"
      },
      "outputs": [],
      "source": [
        "df['translated'] = main"
      ]
    },
    {
      "cell_type": "code",
      "execution_count": 16,
      "metadata": {
        "colab": {
          "base_uri": "https://localhost:8080/",
          "height": 475
        },
        "id": "mhxJj5zWXYiC",
        "outputId": "84fa8ac1-e9db-4cb3-a9ce-0e9166c0d68c"
      },
      "outputs": [
        {
          "output_type": "execute_result",
          "data": {
            "text/plain": [
              "                                                  title  \\\n",
              "0           Occasionally awkward, but very good overall   \n",
              "1                 Non-Linear, yet Effective and Creepy.   \n",
              "2                                           Pretty Good   \n",
              "3                      Very Scary Japanese Horror Movie   \n",
              "4     A genuinely creepy Japanese ghost story master...   \n",
              "...                                                 ...   \n",
              "4782  Japanese Horror Remakes... from this author it...   \n",
              "4783  I might have gotten startled ONCE during this ...   \n",
              "4784  That Movie Blew Harder than Yeltsin into a Bre...   \n",
              "4785     The \"Dark Water\" is really dark, for a reason.   \n",
              "4786                              What a waste of time!   \n",
              "\n",
              "                                                 review rating  \\\n",
              "0     Rika Nishina (Megumi Okina) works for a social...   9/10   \n",
              "1     Although the word \"grudge\" doesn't quite fit t...  10/10   \n",
              "2     \"Ju-On, The Grudge\" is not an easy movie to fi...   7/10   \n",
              "3     In Japan, when the volunteer social assistant ...   8/10   \n",
              "4     Following in the immensely successful footstep...  10/10   \n",
              "...                                                 ...    ...   \n",
              "4782  Now having seen both The Ring and Dark Water, ...   4/10   \n",
              "4783  THe movie is slow, grinding, and uneventful. A...   4/10   \n",
              "4784  I've never written comments on a movie before....   3/10   \n",
              "4785  I'm 47, married 26 years, four kids. I was rai...   1/10   \n",
              "4786  Boring, shallow and not scary at all.Another m...   1/10   \n",
              "\n",
              "                                             translated  \n",
              "0     rika nishina megumi okina work social servic a...  \n",
              "1     although word grudg nt quit fit bill part titl...  \n",
              "2     juon grudg easi movi find america least nt fir...  \n",
              "3     japan volunt social assist rika nishina megumi...  \n",
              "4     follow immens success footstep ring juon grudg...  \n",
              "...                                                 ...  \n",
              "4782  seen ring dark water begin wonder director com...  \n",
              "4783  movi slow grind unev first minut see first sec...  \n",
              "4784  never written comment movi never felt rob chea...  \n",
              "4785  marri year four kid rais watch televis movi sa...  \n",
              "4786  bore shallow scari allanoth movi lead nowher l...  \n",
              "\n",
              "[4787 rows x 4 columns]"
            ],
            "text/html": [
              "\n",
              "  <div id=\"df-bc0028bf-007e-48aa-bbe3-ea18cf10cfa1\" class=\"colab-df-container\">\n",
              "    <div>\n",
              "<style scoped>\n",
              "    .dataframe tbody tr th:only-of-type {\n",
              "        vertical-align: middle;\n",
              "    }\n",
              "\n",
              "    .dataframe tbody tr th {\n",
              "        vertical-align: top;\n",
              "    }\n",
              "\n",
              "    .dataframe thead th {\n",
              "        text-align: right;\n",
              "    }\n",
              "</style>\n",
              "<table border=\"1\" class=\"dataframe\">\n",
              "  <thead>\n",
              "    <tr style=\"text-align: right;\">\n",
              "      <th></th>\n",
              "      <th>title</th>\n",
              "      <th>review</th>\n",
              "      <th>rating</th>\n",
              "      <th>translated</th>\n",
              "    </tr>\n",
              "  </thead>\n",
              "  <tbody>\n",
              "    <tr>\n",
              "      <th>0</th>\n",
              "      <td>Occasionally awkward, but very good overall</td>\n",
              "      <td>Rika Nishina (Megumi Okina) works for a social...</td>\n",
              "      <td>9/10</td>\n",
              "      <td>rika nishina megumi okina work social servic a...</td>\n",
              "    </tr>\n",
              "    <tr>\n",
              "      <th>1</th>\n",
              "      <td>Non-Linear, yet Effective and Creepy.</td>\n",
              "      <td>Although the word \"grudge\" doesn't quite fit t...</td>\n",
              "      <td>10/10</td>\n",
              "      <td>although word grudg nt quit fit bill part titl...</td>\n",
              "    </tr>\n",
              "    <tr>\n",
              "      <th>2</th>\n",
              "      <td>Pretty Good</td>\n",
              "      <td>\"Ju-On, The Grudge\" is not an easy movie to fi...</td>\n",
              "      <td>7/10</td>\n",
              "      <td>juon grudg easi movi find america least nt fir...</td>\n",
              "    </tr>\n",
              "    <tr>\n",
              "      <th>3</th>\n",
              "      <td>Very Scary Japanese Horror Movie</td>\n",
              "      <td>In Japan, when the volunteer social assistant ...</td>\n",
              "      <td>8/10</td>\n",
              "      <td>japan volunt social assist rika nishina megumi...</td>\n",
              "    </tr>\n",
              "    <tr>\n",
              "      <th>4</th>\n",
              "      <td>A genuinely creepy Japanese ghost story master...</td>\n",
              "      <td>Following in the immensely successful footstep...</td>\n",
              "      <td>10/10</td>\n",
              "      <td>follow immens success footstep ring juon grudg...</td>\n",
              "    </tr>\n",
              "    <tr>\n",
              "      <th>...</th>\n",
              "      <td>...</td>\n",
              "      <td>...</td>\n",
              "      <td>...</td>\n",
              "      <td>...</td>\n",
              "    </tr>\n",
              "    <tr>\n",
              "      <th>4782</th>\n",
              "      <td>Japanese Horror Remakes... from this author it...</td>\n",
              "      <td>Now having seen both The Ring and Dark Water, ...</td>\n",
              "      <td>4/10</td>\n",
              "      <td>seen ring dark water begin wonder director com...</td>\n",
              "    </tr>\n",
              "    <tr>\n",
              "      <th>4783</th>\n",
              "      <td>I might have gotten startled ONCE during this ...</td>\n",
              "      <td>THe movie is slow, grinding, and uneventful. A...</td>\n",
              "      <td>4/10</td>\n",
              "      <td>movi slow grind unev first minut see first sec...</td>\n",
              "    </tr>\n",
              "    <tr>\n",
              "      <th>4784</th>\n",
              "      <td>That Movie Blew Harder than Yeltsin into a Bre...</td>\n",
              "      <td>I've never written comments on a movie before....</td>\n",
              "      <td>3/10</td>\n",
              "      <td>never written comment movi never felt rob chea...</td>\n",
              "    </tr>\n",
              "    <tr>\n",
              "      <th>4785</th>\n",
              "      <td>The \"Dark Water\" is really dark, for a reason.</td>\n",
              "      <td>I'm 47, married 26 years, four kids. I was rai...</td>\n",
              "      <td>1/10</td>\n",
              "      <td>marri year four kid rais watch televis movi sa...</td>\n",
              "    </tr>\n",
              "    <tr>\n",
              "      <th>4786</th>\n",
              "      <td>What a waste of time!</td>\n",
              "      <td>Boring, shallow and not scary at all.Another m...</td>\n",
              "      <td>1/10</td>\n",
              "      <td>bore shallow scari allanoth movi lead nowher l...</td>\n",
              "    </tr>\n",
              "  </tbody>\n",
              "</table>\n",
              "<p>4787 rows × 4 columns</p>\n",
              "</div>\n",
              "    <div class=\"colab-df-buttons\">\n",
              "\n",
              "  <div class=\"colab-df-container\">\n",
              "    <button class=\"colab-df-convert\" onclick=\"convertToInteractive('df-bc0028bf-007e-48aa-bbe3-ea18cf10cfa1')\"\n",
              "            title=\"Convert this dataframe to an interactive table.\"\n",
              "            style=\"display:none;\">\n",
              "\n",
              "  <svg xmlns=\"http://www.w3.org/2000/svg\" height=\"24px\" viewBox=\"0 -960 960 960\">\n",
              "    <path d=\"M120-120v-720h720v720H120Zm60-500h600v-160H180v160Zm220 220h160v-160H400v160Zm0 220h160v-160H400v160ZM180-400h160v-160H180v160Zm440 0h160v-160H620v160ZM180-180h160v-160H180v160Zm440 0h160v-160H620v160Z\"/>\n",
              "  </svg>\n",
              "    </button>\n",
              "\n",
              "  <style>\n",
              "    .colab-df-container {\n",
              "      display:flex;\n",
              "      gap: 12px;\n",
              "    }\n",
              "\n",
              "    .colab-df-convert {\n",
              "      background-color: #E8F0FE;\n",
              "      border: none;\n",
              "      border-radius: 50%;\n",
              "      cursor: pointer;\n",
              "      display: none;\n",
              "      fill: #1967D2;\n",
              "      height: 32px;\n",
              "      padding: 0 0 0 0;\n",
              "      width: 32px;\n",
              "    }\n",
              "\n",
              "    .colab-df-convert:hover {\n",
              "      background-color: #E2EBFA;\n",
              "      box-shadow: 0px 1px 2px rgba(60, 64, 67, 0.3), 0px 1px 3px 1px rgba(60, 64, 67, 0.15);\n",
              "      fill: #174EA6;\n",
              "    }\n",
              "\n",
              "    .colab-df-buttons div {\n",
              "      margin-bottom: 4px;\n",
              "    }\n",
              "\n",
              "    [theme=dark] .colab-df-convert {\n",
              "      background-color: #3B4455;\n",
              "      fill: #D2E3FC;\n",
              "    }\n",
              "\n",
              "    [theme=dark] .colab-df-convert:hover {\n",
              "      background-color: #434B5C;\n",
              "      box-shadow: 0px 1px 3px 1px rgba(0, 0, 0, 0.15);\n",
              "      filter: drop-shadow(0px 1px 2px rgba(0, 0, 0, 0.3));\n",
              "      fill: #FFFFFF;\n",
              "    }\n",
              "  </style>\n",
              "\n",
              "    <script>\n",
              "      const buttonEl =\n",
              "        document.querySelector('#df-bc0028bf-007e-48aa-bbe3-ea18cf10cfa1 button.colab-df-convert');\n",
              "      buttonEl.style.display =\n",
              "        google.colab.kernel.accessAllowed ? 'block' : 'none';\n",
              "\n",
              "      async function convertToInteractive(key) {\n",
              "        const element = document.querySelector('#df-bc0028bf-007e-48aa-bbe3-ea18cf10cfa1');\n",
              "        const dataTable =\n",
              "          await google.colab.kernel.invokeFunction('convertToInteractive',\n",
              "                                                    [key], {});\n",
              "        if (!dataTable) return;\n",
              "\n",
              "        const docLinkHtml = 'Like what you see? Visit the ' +\n",
              "          '<a target=\"_blank\" href=https://colab.research.google.com/notebooks/data_table.ipynb>data table notebook</a>'\n",
              "          + ' to learn more about interactive tables.';\n",
              "        element.innerHTML = '';\n",
              "        dataTable['output_type'] = 'display_data';\n",
              "        await google.colab.output.renderOutput(dataTable, element);\n",
              "        const docLink = document.createElement('div');\n",
              "        docLink.innerHTML = docLinkHtml;\n",
              "        element.appendChild(docLink);\n",
              "      }\n",
              "    </script>\n",
              "  </div>\n",
              "\n",
              "\n",
              "<div id=\"df-74b9d343-e1af-4f64-b220-3bca0faafcd9\">\n",
              "  <button class=\"colab-df-quickchart\" onclick=\"quickchart('df-74b9d343-e1af-4f64-b220-3bca0faafcd9')\"\n",
              "            title=\"Suggest charts\"\n",
              "            style=\"display:none;\">\n",
              "\n",
              "<svg xmlns=\"http://www.w3.org/2000/svg\" height=\"24px\"viewBox=\"0 0 24 24\"\n",
              "     width=\"24px\">\n",
              "    <g>\n",
              "        <path d=\"M19 3H5c-1.1 0-2 .9-2 2v14c0 1.1.9 2 2 2h14c1.1 0 2-.9 2-2V5c0-1.1-.9-2-2-2zM9 17H7v-7h2v7zm4 0h-2V7h2v10zm4 0h-2v-4h2v4z\"/>\n",
              "    </g>\n",
              "</svg>\n",
              "  </button>\n",
              "\n",
              "<style>\n",
              "  .colab-df-quickchart {\n",
              "      --bg-color: #E8F0FE;\n",
              "      --fill-color: #1967D2;\n",
              "      --hover-bg-color: #E2EBFA;\n",
              "      --hover-fill-color: #174EA6;\n",
              "      --disabled-fill-color: #AAA;\n",
              "      --disabled-bg-color: #DDD;\n",
              "  }\n",
              "\n",
              "  [theme=dark] .colab-df-quickchart {\n",
              "      --bg-color: #3B4455;\n",
              "      --fill-color: #D2E3FC;\n",
              "      --hover-bg-color: #434B5C;\n",
              "      --hover-fill-color: #FFFFFF;\n",
              "      --disabled-bg-color: #3B4455;\n",
              "      --disabled-fill-color: #666;\n",
              "  }\n",
              "\n",
              "  .colab-df-quickchart {\n",
              "    background-color: var(--bg-color);\n",
              "    border: none;\n",
              "    border-radius: 50%;\n",
              "    cursor: pointer;\n",
              "    display: none;\n",
              "    fill: var(--fill-color);\n",
              "    height: 32px;\n",
              "    padding: 0;\n",
              "    width: 32px;\n",
              "  }\n",
              "\n",
              "  .colab-df-quickchart:hover {\n",
              "    background-color: var(--hover-bg-color);\n",
              "    box-shadow: 0 1px 2px rgba(60, 64, 67, 0.3), 0 1px 3px 1px rgba(60, 64, 67, 0.15);\n",
              "    fill: var(--button-hover-fill-color);\n",
              "  }\n",
              "\n",
              "  .colab-df-quickchart-complete:disabled,\n",
              "  .colab-df-quickchart-complete:disabled:hover {\n",
              "    background-color: var(--disabled-bg-color);\n",
              "    fill: var(--disabled-fill-color);\n",
              "    box-shadow: none;\n",
              "  }\n",
              "\n",
              "  .colab-df-spinner {\n",
              "    border: 2px solid var(--fill-color);\n",
              "    border-color: transparent;\n",
              "    border-bottom-color: var(--fill-color);\n",
              "    animation:\n",
              "      spin 1s steps(1) infinite;\n",
              "  }\n",
              "\n",
              "  @keyframes spin {\n",
              "    0% {\n",
              "      border-color: transparent;\n",
              "      border-bottom-color: var(--fill-color);\n",
              "      border-left-color: var(--fill-color);\n",
              "    }\n",
              "    20% {\n",
              "      border-color: transparent;\n",
              "      border-left-color: var(--fill-color);\n",
              "      border-top-color: var(--fill-color);\n",
              "    }\n",
              "    30% {\n",
              "      border-color: transparent;\n",
              "      border-left-color: var(--fill-color);\n",
              "      border-top-color: var(--fill-color);\n",
              "      border-right-color: var(--fill-color);\n",
              "    }\n",
              "    40% {\n",
              "      border-color: transparent;\n",
              "      border-right-color: var(--fill-color);\n",
              "      border-top-color: var(--fill-color);\n",
              "    }\n",
              "    60% {\n",
              "      border-color: transparent;\n",
              "      border-right-color: var(--fill-color);\n",
              "    }\n",
              "    80% {\n",
              "      border-color: transparent;\n",
              "      border-right-color: var(--fill-color);\n",
              "      border-bottom-color: var(--fill-color);\n",
              "    }\n",
              "    90% {\n",
              "      border-color: transparent;\n",
              "      border-bottom-color: var(--fill-color);\n",
              "    }\n",
              "  }\n",
              "</style>\n",
              "\n",
              "  <script>\n",
              "    async function quickchart(key) {\n",
              "      const quickchartButtonEl =\n",
              "        document.querySelector('#' + key + ' button');\n",
              "      quickchartButtonEl.disabled = true;  // To prevent multiple clicks.\n",
              "      quickchartButtonEl.classList.add('colab-df-spinner');\n",
              "      try {\n",
              "        const charts = await google.colab.kernel.invokeFunction(\n",
              "            'suggestCharts', [key], {});\n",
              "      } catch (error) {\n",
              "        console.error('Error during call to suggestCharts:', error);\n",
              "      }\n",
              "      quickchartButtonEl.classList.remove('colab-df-spinner');\n",
              "      quickchartButtonEl.classList.add('colab-df-quickchart-complete');\n",
              "    }\n",
              "    (() => {\n",
              "      let quickchartButtonEl =\n",
              "        document.querySelector('#df-74b9d343-e1af-4f64-b220-3bca0faafcd9 button');\n",
              "      quickchartButtonEl.style.display =\n",
              "        google.colab.kernel.accessAllowed ? 'block' : 'none';\n",
              "    })();\n",
              "  </script>\n",
              "</div>\n",
              "\n",
              "  <div id=\"id_b2ac1386-9bdb-41b9-a93b-6c78cefdcef4\">\n",
              "    <style>\n",
              "      .colab-df-generate {\n",
              "        background-color: #E8F0FE;\n",
              "        border: none;\n",
              "        border-radius: 50%;\n",
              "        cursor: pointer;\n",
              "        display: none;\n",
              "        fill: #1967D2;\n",
              "        height: 32px;\n",
              "        padding: 0 0 0 0;\n",
              "        width: 32px;\n",
              "      }\n",
              "\n",
              "      .colab-df-generate:hover {\n",
              "        background-color: #E2EBFA;\n",
              "        box-shadow: 0px 1px 2px rgba(60, 64, 67, 0.3), 0px 1px 3px 1px rgba(60, 64, 67, 0.15);\n",
              "        fill: #174EA6;\n",
              "      }\n",
              "\n",
              "      [theme=dark] .colab-df-generate {\n",
              "        background-color: #3B4455;\n",
              "        fill: #D2E3FC;\n",
              "      }\n",
              "\n",
              "      [theme=dark] .colab-df-generate:hover {\n",
              "        background-color: #434B5C;\n",
              "        box-shadow: 0px 1px 3px 1px rgba(0, 0, 0, 0.15);\n",
              "        filter: drop-shadow(0px 1px 2px rgba(0, 0, 0, 0.3));\n",
              "        fill: #FFFFFF;\n",
              "      }\n",
              "    </style>\n",
              "    <button class=\"colab-df-generate\" onclick=\"generateWithVariable('df')\"\n",
              "            title=\"Generate code using this dataframe.\"\n",
              "            style=\"display:none;\">\n",
              "\n",
              "  <svg xmlns=\"http://www.w3.org/2000/svg\" height=\"24px\"viewBox=\"0 0 24 24\"\n",
              "       width=\"24px\">\n",
              "    <path d=\"M7,19H8.4L18.45,9,17,7.55,7,17.6ZM5,21V16.75L18.45,3.32a2,2,0,0,1,2.83,0l1.4,1.43a1.91,1.91,0,0,1,.58,1.4,1.91,1.91,0,0,1-.58,1.4L9.25,21ZM18.45,9,17,7.55Zm-12,3A5.31,5.31,0,0,0,4.9,8.1,5.31,5.31,0,0,0,1,6.5,5.31,5.31,0,0,0,4.9,4.9,5.31,5.31,0,0,0,6.5,1,5.31,5.31,0,0,0,8.1,4.9,5.31,5.31,0,0,0,12,6.5,5.46,5.46,0,0,0,6.5,12Z\"/>\n",
              "  </svg>\n",
              "    </button>\n",
              "    <script>\n",
              "      (() => {\n",
              "      const buttonEl =\n",
              "        document.querySelector('#id_b2ac1386-9bdb-41b9-a93b-6c78cefdcef4 button.colab-df-generate');\n",
              "      buttonEl.style.display =\n",
              "        google.colab.kernel.accessAllowed ? 'block' : 'none';\n",
              "\n",
              "      buttonEl.onclick = () => {\n",
              "        google.colab.notebook.generateWithVariable('df');\n",
              "      }\n",
              "      })();\n",
              "    </script>\n",
              "  </div>\n",
              "\n",
              "    </div>\n",
              "  </div>\n"
            ],
            "application/vnd.google.colaboratory.intrinsic+json": {
              "type": "dataframe",
              "variable_name": "df",
              "summary": "{\n  \"name\": \"df\",\n  \"rows\": 4787,\n  \"fields\": [\n    {\n      \"column\": \"title\",\n      \"properties\": {\n        \"dtype\": \"string\",\n        \"num_unique_values\": 4641,\n        \"samples\": [\n          \"Made a mistake of\",\n          \"Knowing there's an original helps\",\n          \"slow and not really scary but very cool effects and visuals, when used\"\n        ],\n        \"semantic_type\": \"\",\n        \"description\": \"\"\n      }\n    },\n    {\n      \"column\": \"review\",\n      \"properties\": {\n        \"dtype\": \"string\",\n        \"num_unique_values\": 4784,\n        \"samples\": [\n          \"Just because Spielberg's DreamWorks made a horror movie (an American version of a Japanese hokey) doesn't mean it's better than the budget-challenged \\\"Nightmare on Elm Street\\\", \\\"Halloween\\\", the campy 1957 \\\"Voodoo Island\\\" or the maligned \\\"Abandon\\\".  The most dreadful thing about \\\"The Ring\\\" is its characters' lack of belief in and respect for themselves.  Thus, to me, this movie draws comparison to the equally-dreadful, boring and inane \\\"Blair Witch Project\\\".My neurotic and droll mind actually thought that DreamWorks' marketing funds generated (a) the good buzz on this movie from the starving media, (b) the bad buzz from the media on \\\"Abandon\\\" (another inane thriller movie which opened at the same time as \\\"The Ring\\\" on 10/18/02) (Translation:  No marketing funds from Paramount), and (c) the phony squeals, screams and applause from the Saturday night audience at Loews Cinema at Universal City in Los Angeles.In the end, it's all about money and good old-fashioned ballyhoo. DreamWorks produced another profitable movie that the public wants.  No argument there.  But for the media to say and the adoring public to start believing that \\\"The Ring\\\" is an intelligent and a genuine horror movie, now, that's a lot of croak.\",\n          \"Bust of the summer. Not a bad movie. Dark water's story drags, and not in a slow burn way, but in a bad movie way. Not scary, unless one finds a slow pace scary. The director still manages to keep the viewer interested in the story. I do not know if the story was lost in translation of the book to film, but the movie was lacking a push. The actors and director did well with what little meat the script provided. Too much fiber and not enough red meat for me. The end is like the ring 2 with the need for a mother in the film. A let down after watching the whole film. Watch it on video. Not bad for a late Friday night by yourself. Not a movie for a group. 6 out of 10. I bet the book was better and hard to put on screen.\",\n          \"although the plot is easy enough to go along with and the whole theme of the movie can be gripping at times, i couldn't help but feel the director tried to squeeze just too many jumps and scares into the movie, I mean come on let's face it, every tension-built scene is pretty predictable and just an excuse for a shock in most cases. however the scenes are still quite un-settling and definitely jumpy despite the fact you can tell what's coming. the movie relates to the ring in places (especially a certain staircase scene at the end) and definitely scarier and jumpier, and definitely worth going along to if you like constantly being on the edge of your seat and a good few jumps to get you laughing about afterwards!\"\n        ],\n        \"semantic_type\": \"\",\n        \"description\": \"\"\n      }\n    },\n    {\n      \"column\": \"rating\",\n      \"properties\": {\n        \"dtype\": \"category\",\n        \"num_unique_values\": 10,\n        \"samples\": [\n          \"2/10\",\n          \"10/10\",\n          \"6/10\"\n        ],\n        \"semantic_type\": \"\",\n        \"description\": \"\"\n      }\n    },\n    {\n      \"column\": \"translated\",\n      \"properties\": {\n        \"dtype\": \"string\",\n        \"num_unique_values\": 4784,\n        \"samples\": [\n          \"spielberg dreamwork made horror movi american version japanes hokey nt mean better budgetchalleng nightmar elm street halloween campi voodoo island malign abandon dread thing ring charact lack belief respect thu movi draw comparison equallydread bore inan blair witch project neurot droll mind actual thought dreamwork market fund gener good buzz movi starv medium b bad buzz medium abandon anoth inan thriller movi open time ring translat market fund paramount c phoni squeal scream applaus saturday night audienc loew cinema univers citi lo angelesin end money good oldfashion ballyhoo dreamwork produc anoth profit movi public want argument medium say ador public start believ ring intellig genuin horror movi lot croak\",\n          \"bust summer bad movi dark water stori drag slow burn way bad movi way scari unless one find slow pace scari director still manag keep viewer interest stori know stori lost translat book film movi lack push actor director well littl meat script provid much fiber enough red meat end like ring need mother film let watch whole film watch video bad late friday night movi group bet book better hard put screen\",\n          \"although plot easi enough go along whole theme movi grip time could nt help feel director tri squeez mani jump scare movi mean come let face everi tensionbuilt scene pretti predict excus shock case howev scene still quit unsettl definit jumpi despit fact tell come movi relat ring place especi certain staircas scene end definit scarier jumpier definit worth go along like constantli edg seat good jump get laugh afterward\"\n        ],\n        \"semantic_type\": \"\",\n        \"description\": \"\"\n      }\n    }\n  ]\n}"
            }
          },
          "metadata": {},
          "execution_count": 16
        }
      ],
      "source": [
        "df"
      ]
    },
    {
      "cell_type": "code",
      "execution_count": 17,
      "metadata": {
        "id": "fgyUvMFjXZNf"
      },
      "outputs": [],
      "source": [
        "#df['translated'][88]"
      ]
    },
    {
      "cell_type": "code",
      "execution_count": 18,
      "metadata": {
        "id": "1hbFw70fXgkf"
      },
      "outputs": [],
      "source": [
        "from tensorflow.keras.preprocessing.text import Tokenizer\n",
        "tokenizer = Tokenizer()\n",
        "tokenizer.fit_on_texts(df['translated'])"
      ]
    },
    {
      "cell_type": "code",
      "execution_count": 19,
      "metadata": {
        "colab": {
          "base_uri": "https://localhost:8080/"
        },
        "id": "8G3f1_VWXnW7",
        "outputId": "9cfecd38-9118-4a61-e072-daf105e9254b"
      },
      "outputs": [
        {
          "output_type": "stream",
          "name": "stdout",
          "text": [
            "22923\n"
          ]
        }
      ],
      "source": [
        "print(len(tokenizer.word_counts))"
      ]
    },
    {
      "cell_type": "code",
      "execution_count": 20,
      "metadata": {
        "colab": {
          "base_uri": "https://localhost:8080/"
        },
        "id": "4dQJQs2_XqfK",
        "outputId": "b4b26c84-050a-41d5-cd10-948165ad48df"
      },
      "outputs": [
        {
          "output_type": "stream",
          "name": "stdout",
          "text": [
            "one 4912\n",
            "film 9819\n",
            "realli 3083\n",
            "nt 8349\n",
            "watch 3920\n",
            "good 3593\n",
            "get 2556\n",
            "stori 3056\n",
            "end 2875\n",
            "like 4527\n",
            "see 3767\n",
            "horror 6036\n",
            "well 2449\n",
            "make 3008\n",
            "movi 13409\n",
            "time 2782\n",
            "scare 2522\n",
            "scari 2650\n",
            "ring 3209\n",
            "go 2819\n",
            "origin 2743\n",
            "21\n"
          ]
        }
      ],
      "source": [
        "counter = 0\n",
        "for key, value in tokenizer.word_counts.items():\n",
        "    if value > 2400:\n",
        "        print(key, value)\n",
        "        counter+=1\n",
        "\n",
        "print(counter)"
      ]
    },
    {
      "cell_type": "markdown",
      "metadata": {
        "id": "L4BmL1Vgy071"
      },
      "source": [
        "**grupa 1** fright(ened), shocked/shocking, horror/horrified, horrendous, overwhelming, terror/terrified, disturbing, bloody, disgust(ing), brutal, gory/gore, barbarous, repulsed/-ing, gross(ed out)"
      ]
    },
    {
      "cell_type": "code",
      "execution_count": 21,
      "metadata": {
        "colab": {
          "base_uri": "https://localhost:8080/"
        },
        "id": "ZK1_JbpyzaNW",
        "outputId": "e43d4dad-3891-4569-d526-a55b0740ce1a"
      },
      "outputs": [
        {
          "output_type": "stream",
          "name": "stdout",
          "text": [
            "118\n"
          ]
        }
      ],
      "source": [
        "count1 = 0\n",
        "num=tokenizer.word_counts['fright']\n",
        "print(num)\n",
        "count1+=num"
      ]
    },
    {
      "cell_type": "code",
      "execution_count": 22,
      "metadata": {
        "colab": {
          "base_uri": "https://localhost:8080/"
        },
        "id": "bmwClQWuzlur",
        "outputId": "8b8c40af-f57f-497c-d60f-1a2cf0178fa2"
      },
      "outputs": [
        {
          "output_type": "stream",
          "name": "stdout",
          "text": [
            "518\n"
          ]
        }
      ],
      "source": [
        "num=tokenizer.word_counts['frighten']\n",
        "print(num)\n",
        "count1+=num"
      ]
    },
    {
      "cell_type": "code",
      "execution_count": 23,
      "metadata": {
        "colab": {
          "base_uri": "https://localhost:8080/"
        },
        "id": "FOS-Fucsz3yZ",
        "outputId": "da77647b-1595-439c-a682-7c4b4486cfdb"
      },
      "outputs": [
        {
          "output_type": "stream",
          "name": "stdout",
          "text": [
            "438\n"
          ]
        }
      ],
      "source": [
        "num=tokenizer.word_counts['shock']\n",
        "print(num)\n",
        "count1+=num"
      ]
    },
    {
      "cell_type": "code",
      "execution_count": 24,
      "metadata": {
        "colab": {
          "base_uri": "https://localhost:8080/"
        },
        "id": "xYfuNhK_z7rr",
        "outputId": "ea45d5c8-fb96-4e14-d0cd-ac37122d4a8c"
      },
      "outputs": [
        {
          "output_type": "stream",
          "name": "stdout",
          "text": [
            "140\n"
          ]
        }
      ],
      "source": [
        "num=tokenizer.word_counts['horrifi']\n",
        "print(num)\n",
        "count1+=num"
      ]
    },
    {
      "cell_type": "code",
      "execution_count": 25,
      "metadata": {
        "colab": {
          "base_uri": "https://localhost:8080/"
        },
        "id": "mVj9X9vm0GNy",
        "outputId": "531dc785-cfd4-4413-8ff0-b75b298a34d1"
      },
      "outputs": [
        {
          "output_type": "stream",
          "name": "stdout",
          "text": [
            "94\n"
          ]
        }
      ],
      "source": [
        "num=tokenizer.word_counts['horrif']\n",
        "print(num)\n",
        "count1+=num"
      ]
    },
    {
      "cell_type": "code",
      "execution_count": 26,
      "metadata": {
        "colab": {
          "base_uri": "https://localhost:8080/"
        },
        "id": "ujSY-2YX0fEm",
        "outputId": "d8909a7f-54fd-4dfa-d663-5283a7dabf59"
      },
      "outputs": [
        {
          "output_type": "stream",
          "name": "stdout",
          "text": [
            "15\n"
          ]
        }
      ],
      "source": [
        "num=tokenizer.word_counts['horrend']\n",
        "print(num)\n",
        "count1+=num"
      ]
    },
    {
      "cell_type": "code",
      "execution_count": 27,
      "metadata": {
        "colab": {
          "base_uri": "https://localhost:8080/"
        },
        "id": "YP98FM_gCwiS",
        "outputId": "61c7d5f9-6a54-4f43-e4d0-bd64dd2b670e"
      },
      "outputs": [
        {
          "output_type": "stream",
          "name": "stdout",
          "text": [
            "24\n"
          ]
        }
      ],
      "source": [
        "num=tokenizer.word_counts['overwhelm']\n",
        "print(num)\n",
        "count1+=num"
      ]
    },
    {
      "cell_type": "code",
      "execution_count": 28,
      "metadata": {
        "colab": {
          "base_uri": "https://localhost:8080/"
        },
        "id": "xH9zzR3wCxVP",
        "outputId": "1ad9f581-f2eb-4430-b54f-0ac54b8dae81"
      },
      "outputs": [
        {
          "output_type": "stream",
          "name": "stdout",
          "text": [
            "1\n"
          ]
        }
      ],
      "source": [
        "num=tokenizer.word_counts['overwhelming']\n",
        "print(num)\n",
        "count1+=num"
      ]
    },
    {
      "cell_type": "code",
      "execution_count": 29,
      "metadata": {
        "colab": {
          "base_uri": "https://localhost:8080/"
        },
        "id": "oRedor7a2ZP5",
        "outputId": "4d76e19a-0a3b-4c8b-a03e-1ec4c54d87a3"
      },
      "outputs": [
        {
          "output_type": "stream",
          "name": "stdout",
          "text": [
            "453\n"
          ]
        }
      ],
      "source": [
        "num=tokenizer.word_counts['disturb']\n",
        "print(num)\n",
        "count1+=num"
      ]
    },
    {
      "cell_type": "code",
      "execution_count": 30,
      "metadata": {
        "colab": {
          "base_uri": "https://localhost:8080/"
        },
        "id": "ZUcRFEzw1wIW",
        "outputId": "3fa57519-0361-44da-c6bb-48bd42f5f03e"
      },
      "outputs": [
        {
          "output_type": "stream",
          "name": "stdout",
          "text": [
            "267\n"
          ]
        }
      ],
      "source": [
        "num=tokenizer.word_counts['terror']\n",
        "print(num)\n",
        "count1+=num"
      ]
    },
    {
      "cell_type": "code",
      "execution_count": 31,
      "metadata": {
        "colab": {
          "base_uri": "https://localhost:8080/"
        },
        "id": "vuT7ghzaDHmn",
        "outputId": "d5b188ad-715d-4d1f-8c3e-95e9f82f8219"
      },
      "outputs": [
        {
          "output_type": "stream",
          "name": "stdout",
          "text": [
            "262\n"
          ]
        }
      ],
      "source": [
        "num=tokenizer.word_counts['blood']\n",
        "print(num)\n",
        "count1+=num"
      ]
    },
    {
      "cell_type": "code",
      "execution_count": 32,
      "metadata": {
        "colab": {
          "base_uri": "https://localhost:8080/"
        },
        "id": "mADGocFQDEUH",
        "outputId": "3fc267de-86bd-46a2-939f-3a1807666aa8"
      },
      "outputs": [
        {
          "output_type": "stream",
          "name": "stdout",
          "text": [
            "421\n"
          ]
        }
      ],
      "source": [
        "num=tokenizer.word_counts['terrifi']\n",
        "print(num)\n",
        "count1+=num"
      ]
    },
    {
      "cell_type": "code",
      "execution_count": 33,
      "metadata": {
        "colab": {
          "base_uri": "https://localhost:8080/"
        },
        "id": "AWUfMrTbDRK8",
        "outputId": "24ce5b20-65c7-4ca0-9923-a625284e37d2"
      },
      "outputs": [
        {
          "output_type": "stream",
          "name": "stdout",
          "text": [
            "34\n"
          ]
        }
      ],
      "source": [
        "num=tokenizer.word_counts['disgust']\n",
        "print(num)\n",
        "count1+=num"
      ]
    },
    {
      "cell_type": "code",
      "execution_count": 34,
      "metadata": {
        "colab": {
          "base_uri": "https://localhost:8080/"
        },
        "id": "ymqkT4I5DYr3",
        "outputId": "0a707ce9-2b0d-443a-ec56-ae466da43525"
      },
      "outputs": [
        {
          "output_type": "stream",
          "name": "stdout",
          "text": [
            "34\n"
          ]
        }
      ],
      "source": [
        "num=tokenizer.word_counts['brutal']\n",
        "print(num)\n",
        "count1+=num"
      ]
    },
    {
      "cell_type": "code",
      "execution_count": 35,
      "metadata": {
        "colab": {
          "base_uri": "https://localhost:8080/"
        },
        "id": "-va3hlEMDacf",
        "outputId": "7b45d267-a770-402d-f743-32f16f39f2c6"
      },
      "outputs": [
        {
          "output_type": "stream",
          "name": "stdout",
          "text": [
            "511\n"
          ]
        }
      ],
      "source": [
        "num=tokenizer.word_counts['gore']\n",
        "print(num)\n",
        "count1+=num"
      ]
    },
    {
      "cell_type": "code",
      "execution_count": 36,
      "metadata": {
        "colab": {
          "base_uri": "https://localhost:8080/"
        },
        "id": "qlpl2P0LDeUn",
        "outputId": "ebfcf5d9-d84a-4361-ef78-0a13e9b1140c"
      },
      "outputs": [
        {
          "output_type": "stream",
          "name": "stdout",
          "text": [
            "17\n"
          ]
        }
      ],
      "source": [
        "num=tokenizer.word_counts['repuls']\n",
        "print(num)\n",
        "count1+=num"
      ]
    },
    {
      "cell_type": "code",
      "execution_count": 37,
      "metadata": {
        "colab": {
          "base_uri": "https://localhost:8080/"
        },
        "id": "7S3MUgpnDoB-",
        "outputId": "265efb75-0b18-40a9-c191-1d78272d3e29"
      },
      "outputs": [
        {
          "output_type": "stream",
          "name": "stdout",
          "text": [
            "32\n"
          ]
        }
      ],
      "source": [
        "num=tokenizer.word_counts['gross']\n",
        "print(num)\n",
        "count1+=num"
      ]
    },
    {
      "cell_type": "code",
      "execution_count": 38,
      "metadata": {
        "colab": {
          "base_uri": "https://localhost:8080/"
        },
        "id": "6QQyJQ8l0hHi",
        "outputId": "8ca2e596-6b26-4688-ac55-b2e811e601c1"
      },
      "outputs": [
        {
          "output_type": "stream",
          "name": "stdout",
          "text": [
            "WYNIK DLA GRUPY PIERWSZEJ TOOOOO 3379\n"
          ]
        }
      ],
      "source": [
        "print('WYNIK DLA GRUPY PIERWSZEJ TOOOOO',count1)"
      ]
    },
    {
      "cell_type": "markdown",
      "metadata": {
        "id": "kXlSPtUN1OFf"
      },
      "source": [
        "**grupa 2** afraid, alarmed, threatening, hair-rising, distress, helpless(ness), anxiety/anxious, worried, apprehension, uneasy, chilling, eerie, intimidating, unnerving, appalling"
      ]
    },
    {
      "cell_type": "code",
      "execution_count": 43,
      "metadata": {
        "colab": {
          "base_uri": "https://localhost:8080/"
        },
        "id": "M2hiXKpu12rP",
        "outputId": "e50a31af-c066-4fbb-8f26-4ab9ed818684"
      },
      "outputs": [
        {
          "output_type": "stream",
          "name": "stdout",
          "text": [
            "18\n"
          ]
        }
      ],
      "source": [
        "count2=0\n",
        "num=tokenizer.word_counts['distress']\n",
        "print(num)\n",
        "count2+=num"
      ]
    },
    {
      "cell_type": "code",
      "execution_count": 44,
      "metadata": {
        "colab": {
          "base_uri": "https://localhost:8080/"
        },
        "id": "SNLEwCVIx998",
        "outputId": "ab5b688a-cbe9-4792-d9f2-1d6da4ea554d"
      },
      "outputs": [
        {
          "output_type": "stream",
          "name": "stdout",
          "text": [
            "129\n"
          ]
        }
      ],
      "source": [
        "num=tokenizer.word_counts['afraid']\n",
        "print(num)\n",
        "count2+=num"
      ]
    },
    {
      "cell_type": "code",
      "execution_count": 45,
      "metadata": {
        "colab": {
          "base_uri": "https://localhost:8080/"
        },
        "id": "mLC0qs16zuh6",
        "outputId": "c1a0e7ce-5ee8-494e-e5c8-b364c1c128ff"
      },
      "outputs": [
        {
          "output_type": "stream",
          "name": "stdout",
          "text": [
            "11\n"
          ]
        }
      ],
      "source": [
        "num=tokenizer.word_counts['alarm']\n",
        "print(num)\n",
        "count2+=num"
      ]
    },
    {
      "cell_type": "code",
      "execution_count": 46,
      "metadata": {
        "colab": {
          "base_uri": "https://localhost:8080/"
        },
        "id": "plytxXNS0R0L",
        "outputId": "7b6e63b3-8f64-47aa-bcbc-e203cb606756"
      },
      "outputs": [
        {
          "output_type": "stream",
          "name": "stdout",
          "text": [
            "47\n"
          ]
        }
      ],
      "source": [
        "num=tokenizer.word_counts['threaten']\n",
        "print(num)\n",
        "count2+=num"
      ]
    },
    {
      "cell_type": "code",
      "execution_count": 47,
      "metadata": {
        "colab": {
          "base_uri": "https://localhost:8080/"
        },
        "id": "dHpwoOL119Cp",
        "outputId": "2b744ca0-47f6-4e32-9e33-d41382c056f3"
      },
      "outputs": [
        {
          "output_type": "stream",
          "name": "stdout",
          "text": [
            "2\n"
          ]
        }
      ],
      "source": [
        "num=tokenizer.word_counts['anxious']\n",
        "print(num)\n",
        "count2+=num"
      ]
    },
    {
      "cell_type": "code",
      "execution_count": 48,
      "metadata": {
        "colab": {
          "base_uri": "https://localhost:8080/"
        },
        "id": "-tKswFRoHjWG",
        "outputId": "311ead81-3b78-4546-8490-ad392a65597f"
      },
      "outputs": [
        {
          "output_type": "stream",
          "name": "stdout",
          "text": [
            "27\n"
          ]
        }
      ],
      "source": [
        "num=tokenizer.word_counts['anxieti']\n",
        "print(num)\n",
        "count2+=num"
      ]
    },
    {
      "cell_type": "code",
      "execution_count": 49,
      "metadata": {
        "colab": {
          "base_uri": "https://localhost:8080/"
        },
        "id": "VbwAT88i1_-6",
        "outputId": "0ae39189-b772-42ce-a96c-cae801e6b77b"
      },
      "outputs": [
        {
          "output_type": "stream",
          "name": "stdout",
          "text": [
            "61\n"
          ]
        }
      ],
      "source": [
        "num=tokenizer.word_counts['worri']\n",
        "print(num)\n",
        "count2+=num"
      ]
    },
    {
      "cell_type": "code",
      "execution_count": 50,
      "metadata": {
        "colab": {
          "base_uri": "https://localhost:8080/"
        },
        "id": "hPASUg5lEWoA",
        "outputId": "88f4e61a-8596-41bc-e3c0-25b80b496fa6"
      },
      "outputs": [
        {
          "output_type": "stream",
          "name": "stdout",
          "text": [
            "3\n"
          ]
        }
      ],
      "source": [
        "num=tokenizer.word_counts['apprehens']\n",
        "print(num)\n",
        "count2+=num"
      ]
    },
    {
      "cell_type": "code",
      "execution_count": 51,
      "metadata": {
        "colab": {
          "base_uri": "https://localhost:8080/"
        },
        "id": "fILf7ix02Uhc",
        "outputId": "de3a9e6a-ec4e-46fb-9f55-205a4e28ad6c"
      },
      "outputs": [
        {
          "output_type": "stream",
          "name": "stdout",
          "text": [
            "54\n"
          ]
        }
      ],
      "source": [
        "num=tokenizer.word_counts['uneasi']\n",
        "print(num)\n",
        "count2+=num"
      ]
    },
    {
      "cell_type": "code",
      "execution_count": 52,
      "metadata": {
        "colab": {
          "base_uri": "https://localhost:8080/"
        },
        "id": "lzagj3xj2eHf",
        "outputId": "ef0d7c41-aaac-43e0-fe67-ede49976bde6"
      },
      "outputs": [
        {
          "output_type": "stream",
          "name": "stdout",
          "text": [
            "5\n"
          ]
        }
      ],
      "source": [
        "num=tokenizer.word_counts['chilli']\n",
        "print(num)\n",
        "count2+=num"
      ]
    },
    {
      "cell_type": "code",
      "execution_count": 53,
      "metadata": {
        "colab": {
          "base_uri": "https://localhost:8080/"
        },
        "id": "9AZLqt0P2f6_",
        "outputId": "854d048a-8a7f-4005-b224-6e3c23123398"
      },
      "outputs": [
        {
          "output_type": "stream",
          "name": "stdout",
          "text": [
            "276\n"
          ]
        }
      ],
      "source": [
        "num=tokenizer.word_counts['eeri']\n",
        "print(num)\n",
        "count2+=num"
      ]
    },
    {
      "cell_type": "code",
      "execution_count": 54,
      "metadata": {
        "colab": {
          "base_uri": "https://localhost:8080/"
        },
        "id": "XGAea3D215JL",
        "outputId": "312b8cfe-f012-4635-f27d-41f8d13c8031"
      },
      "outputs": [
        {
          "output_type": "stream",
          "name": "stdout",
          "text": [
            "19\n"
          ]
        }
      ],
      "source": [
        "num=tokenizer.word_counts['helpless']\n",
        "print(num)\n",
        "count2+=num"
      ]
    },
    {
      "cell_type": "code",
      "execution_count": 55,
      "metadata": {
        "colab": {
          "base_uri": "https://localhost:8080/"
        },
        "id": "AtDxCwIWEzCe",
        "outputId": "e9a073a0-5588-477c-a936-603d44702e3c"
      },
      "outputs": [
        {
          "output_type": "stream",
          "name": "stdout",
          "text": [
            "83\n"
          ]
        }
      ],
      "source": [
        "num=tokenizer.word_counts['unnerv']\n",
        "print(num)\n",
        "count2+=num"
      ]
    },
    {
      "cell_type": "code",
      "execution_count": 56,
      "metadata": {
        "colab": {
          "base_uri": "https://localhost:8080/"
        },
        "id": "aHfNxP9AE3-g",
        "outputId": "5df3dd5e-13bb-4495-8202-bf537ac52981"
      },
      "outputs": [
        {
          "output_type": "stream",
          "name": "stdout",
          "text": [
            "8\n"
          ]
        }
      ],
      "source": [
        "num=tokenizer.word_counts['appal']\n",
        "print(num)\n",
        "count2+=num"
      ]
    },
    {
      "cell_type": "code",
      "execution_count": 57,
      "metadata": {
        "colab": {
          "base_uri": "https://localhost:8080/"
        },
        "id": "mU95N0Mq024T",
        "outputId": "78ea2b04-7397-460e-e780-688f868e8c80"
      },
      "outputs": [
        {
          "output_type": "stream",
          "name": "stdout",
          "text": [
            "468\n"
          ]
        }
      ],
      "source": [
        "num=tokenizer.word_counts['fear']\n",
        "print(num)\n",
        "count2+=num"
      ]
    },
    {
      "cell_type": "code",
      "execution_count": 58,
      "metadata": {
        "colab": {
          "base_uri": "https://localhost:8080/"
        },
        "id": "glE4IiZL200R",
        "outputId": "393a4a0e-1de5-41a4-b0e6-f3319ff04abd"
      },
      "outputs": [
        {
          "output_type": "stream",
          "name": "stdout",
          "text": [
            "WYNIK DLA GRUPY DRUGIEJ TOOOOO 1211\n"
          ]
        }
      ],
      "source": [
        "print('WYNIK DLA GRUPY DRUGIEJ TOOOOO',count2)"
      ]
    },
    {
      "cell_type": "code",
      "execution_count": 58,
      "metadata": {
        "id": "IE1TDiTL28wI"
      },
      "outputs": [],
      "source": []
    }
  ],
  "metadata": {
    "colab": {
      "provenance": []
    },
    "kernelspec": {
      "display_name": "Python 3",
      "name": "python3"
    },
    "language_info": {
      "name": "python"
    }
  },
  "nbformat": 4,
  "nbformat_minor": 0
}