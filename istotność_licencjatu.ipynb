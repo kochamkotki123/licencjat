{
  "nbformat": 4,
  "nbformat_minor": 0,
  "metadata": {
    "colab": {
      "provenance": []
    },
    "kernelspec": {
      "name": "python3",
      "display_name": "Python 3"
    },
    "language_info": {
      "name": "python"
    }
  },
  "cells": [
    {
      "cell_type": "markdown",
      "source": [
        "PODZIAL 1"
      ],
      "metadata": {
        "id": "811uNEnEcn4o"
      }
    },
    {
      "cell_type": "code",
      "execution_count": null,
      "metadata": {
        "colab": {
          "base_uri": "https://localhost:8080/"
        },
        "id": "iuAKzmJ4cQms",
        "outputId": "35a627e6-94eb-4e4a-c919-3137001ec2c6"
      },
      "outputs": [
        {
          "output_type": "stream",
          "name": "stdout",
          "text": [
            "Statystyka chi-kwadrat: 53.60376117016874\n",
            "Wartość p: 2.452893599818049e-13\n"
          ]
        }
      ],
      "source": [
        "import scipy.stats as stats\n",
        "\n",
        "#Dane\n",
        "amerykanskie = [4655, 2212]\n",
        "azjatyckie = [2028, 1328]\n",
        "\n",
        "# Przeprowadzenie testu chi-kwadrat\n",
        "chi2, p, dof, ex = stats.chi2_contingency([amerykanskie, azjatyckie])\n",
        "\n",
        "print(f\"Statystyka chi-kwadrat: {chi2}\")\n",
        "print(f\"Wartość p: {p}\")\n"
      ]
    },
    {
      "cell_type": "markdown",
      "source": [
        "PODZIAL 2"
      ],
      "metadata": {
        "id": "BDKJEC_yfcl8"
      }
    },
    {
      "cell_type": "code",
      "source": [
        "amerykanskie2 = [2170, 724]\n",
        "azjatyckie2 = [1209, 487]\n",
        "\n",
        "# Przeprowadzenie testu chi-kwadrat\n",
        "chi2, p, dof, ex = stats.chi2_contingency([amerykanskie2, azjatyckie2])\n",
        "\n",
        "print(f\"Statystyka chi-kwadrat: {chi2}\")\n",
        "print(f\"Wartość p: {p}\")"
      ],
      "metadata": {
        "colab": {
          "base_uri": "https://localhost:8080/"
        },
        "id": "RYV3uCtEcsMm",
        "outputId": "a3cd2ff7-270a-4994-88a7-98d5bb39ba60"
      },
      "execution_count": null,
      "outputs": [
        {
          "output_type": "stream",
          "name": "stdout",
          "text": [
            "Statystyka chi-kwadrat: 7.337197219919473\n",
            "Wartość p: 0.006754206851029854\n"
          ]
        }
      ]
    },
    {
      "cell_type": "markdown",
      "source": [
        "POROWNAWCZE"
      ],
      "metadata": {
        "id": "YghCk__WqQC3"
      }
    },
    {
      "cell_type": "code",
      "source": [
        "podzial1 = [464,664]\n",
        "podzial2 = [754,1064]\n",
        "\n",
        "# Przeprowadzenie testu chi-kwadrat\n",
        "chi2, p, dof, ex = stats.chi2_contingency([podzial1, podzial2])\n",
        "\n",
        "print(f\"Statystyka chi-kwadrat: {chi2}\")\n",
        "print(f\"Wartość p: {p}\")"
      ],
      "metadata": {
        "colab": {
          "base_uri": "https://localhost:8080/"
        },
        "id": "ZhuimYaAfsOw",
        "outputId": "b8f7410d-ab96-47b8-df65-69fd78b44091"
      },
      "execution_count": null,
      "outputs": [
        {
          "output_type": "stream",
          "name": "stdout",
          "text": [
            "Statystyka chi-kwadrat: 0.02054985008318257\n",
            "Wartość p: 0.8860120405682704\n"
          ]
        }
      ]
    },
    {
      "cell_type": "markdown",
      "source": [
        "podzial 1 vs 2 - tylko azjatyckie"
      ],
      "metadata": {
        "id": "UHdyCyfUrDho"
      }
    },
    {
      "cell_type": "code",
      "source": [
        "podzial1 = [2028,1328]\n",
        "podzial2 = [1209,487]\n",
        "\n",
        "# Przeprowadzenie testu chi-kwadrat\n",
        "chi2, p, dof, ex = stats.chi2_contingency([podzial1, podzial2])\n",
        "\n",
        "print(f\"Statystyka chi-kwadrat: {chi2}\")\n",
        "print(f\"Wartość p: {p}\")"
      ],
      "metadata": {
        "colab": {
          "base_uri": "https://localhost:8080/"
        },
        "id": "3PtEk7rZq6QL",
        "outputId": "d6dcc930-a17b-4943-96e1-74a233f0ac1d"
      },
      "execution_count": null,
      "outputs": [
        {
          "output_type": "stream",
          "name": "stdout",
          "text": [
            "Statystyka chi-kwadrat: 57.21331111966664\n",
            "Wartość p: 3.9101574905330954e-14\n"
          ]
        }
      ]
    },
    {
      "cell_type": "markdown",
      "source": [
        "podzial 1 vs 2 - tylko amerykanskie"
      ],
      "metadata": {
        "id": "ZGBSFPnDrobZ"
      }
    },
    {
      "cell_type": "code",
      "source": [
        "podzial1 = [4655,2212]\n",
        "podzial2 = [2170,724]\n",
        "\n",
        "# Przeprowadzenie testu chi-kwadrat\n",
        "chi2, p, dof, ex = stats.chi2_contingency([podzial1, podzial2])\n",
        "\n",
        "print(f\"Statystyka chi-kwadrat: {chi2}\")\n",
        "print(f\"Wartość p: {p}\")"
      ],
      "metadata": {
        "colab": {
          "base_uri": "https://localhost:8080/"
        },
        "id": "b2YfzvDSrSBB",
        "outputId": "5035b0cf-4abb-47c0-d657-4f12b9e8bb57"
      },
      "execution_count": null,
      "outputs": [
        {
          "output_type": "stream",
          "name": "stdout",
          "text": [
            "Statystyka chi-kwadrat: 49.76945472243548\n",
            "Wartość p: 1.7291508878737336e-12\n"
          ]
        }
      ]
    },
    {
      "cell_type": "markdown",
      "source": [
        "porównawcze vs właściwe"
      ],
      "metadata": {
        "id": "jNrXp_c75akR"
      }
    },
    {
      "cell_type": "code",
      "source": [
        "#PODZIAL PIERWSZY\n",
        "ogolne1 = [464,664]\n",
        "horrory1 = [6709,3540]\n",
        "\n",
        "# Przeprowadzenie testu chi-kwadrat\n",
        "chi2, p, dof, ex = stats.chi2_contingency([ogolne1, horrory1])\n",
        "\n",
        "print(f\"Statystyka chi-kwadrat: {chi2}\")\n",
        "print(f\"Wartość p: {p}\")"
      ],
      "metadata": {
        "id": "05pe4Fm9ry2y",
        "colab": {
          "base_uri": "https://localhost:8080/"
        },
        "outputId": "cdf93f54-ffd1-4100-d732-dca969b17d70"
      },
      "execution_count": null,
      "outputs": [
        {
          "output_type": "stream",
          "name": "stdout",
          "text": [
            "Statystyka chi-kwadrat: 257.0468174891502\n",
            "Wartość p: 7.555327669751879e-58\n"
          ]
        }
      ]
    },
    {
      "cell_type": "code",
      "source": [
        "#PODZIAL DRUGI\n",
        "ogolne2 = [754,1064]\n",
        "horrory2 = [3379,1211]\n",
        "\n",
        "# Przeprowadzenie testu chi-kwadrat\n",
        "chi2, p, dof, ex = stats.chi2_contingency([ogolne2, horrory2])\n",
        "\n",
        "print(f\"Statystyka chi-kwadrat: {chi2}\")\n",
        "print(f\"Wartość p: {p}\")"
      ],
      "metadata": {
        "colab": {
          "base_uri": "https://localhost:8080/"
        },
        "id": "IHHEBhVX9Yby",
        "outputId": "467e91fc-ce39-42aa-9bf8-977ab9ff0be7"
      },
      "execution_count": null,
      "outputs": [
        {
          "output_type": "stream",
          "name": "stdout",
          "text": [
            "Statystyka chi-kwadrat: 586.1394361283121\n",
            "Wartość p: 1.732369047822554e-129\n"
          ]
        }
      ]
    },
    {
      "cell_type": "markdown",
      "source": [
        "zmiana podstawowego slownika na horrorowaty"
      ],
      "metadata": {
        "id": "f_Vv83gCc6UC"
      }
    },
    {
      "cell_type": "code",
      "source": [
        "#wlozenie danych do tabelki\n",
        "import pandas as pd\n",
        "\n",
        "data = {\n",
        "    'Slownik': ['Basic','Basic','Basic', 'Horror','Horror','Horror'],\n",
        "    'Sentiment': ['Pozytywne', 'Neutralne', 'Negatywne', 'Pozytywne', 'Neutralne', 'Negatywne'],\n",
        "    'Count': [2260,230,2297,3185,203,1399]\n",
        "}\n",
        "\n",
        "df = pd.DataFrame(data)\n",
        "\n",
        "contingency_table = pd.pivot_table(df, values='Count', index='Slownik', columns='Sentiment')\n",
        "\n",
        "print(contingency_table)\n"
      ],
      "metadata": {
        "colab": {
          "base_uri": "https://localhost:8080/"
        },
        "id": "f6SDjZWI9vSb",
        "outputId": "58df8237-1449-477b-f454-92f8565ad4f5"
      },
      "execution_count": null,
      "outputs": [
        {
          "output_type": "stream",
          "name": "stdout",
          "text": [
            "Sentiment  Negatywne  Neutralne  Pozytywne\n",
            "Slownik                                   \n",
            "Basic           2297        230       2260\n",
            "Horror          1399        203       3185\n"
          ]
        }
      ]
    },
    {
      "cell_type": "code",
      "source": [
        "from scipy.stats import chi2_contingency\n",
        "\n",
        "chi2, p, dof, expected = chi2_contingency(contingency_table)\n",
        "\n",
        "print(f\"Statystyka chi-kwadrat: {chi2}\")\n",
        "print(f\"Wartość p: {p}\")\n",
        "print(f\"Liczba stopni swobody: {dof}\")\n"
      ],
      "metadata": {
        "colab": {
          "base_uri": "https://localhost:8080/"
        },
        "id": "tcP4wxeWeZ1r",
        "outputId": "de6d8297-23af-4f36-df2d-51bde98d75af"
      },
      "execution_count": null,
      "outputs": [
        {
          "output_type": "stream",
          "name": "stdout",
          "text": [
            "Statystyka chi-kwadrat: 377.006080798386\n",
            "Wartość p: 1.3619768715179206e-82\n",
            "Liczba stopni swobody: 2\n"
          ]
        }
      ]
    },
    {
      "cell_type": "markdown",
      "source": [
        "segmentacja vs brak"
      ],
      "metadata": {
        "id": "8ApxSYb-wxYk"
      }
    },
    {
      "cell_type": "code",
      "source": [
        "#wlozenie danych do tabelki\n",
        "import pandas as pd\n",
        "\n",
        "data = {\n",
        "    'Vader': ['Segmented','Segmented','Segmented', 'Horror','Horror','Horror'],\n",
        "    'Sentiment': ['Pozytywne', 'Neutralne', 'Negatywne', 'Pozytywne', 'Neutralne', 'Negatywne'],\n",
        "    'Count': [1546,2856,385,3185,203,1399]\n",
        "}\n",
        "\n",
        "df = pd.DataFrame(data)\n",
        "\n",
        "contingency_table = pd.pivot_table(df, values='Count', index='Vader', columns='Sentiment')\n",
        "\n",
        "print(contingency_table)\n"
      ],
      "metadata": {
        "colab": {
          "base_uri": "https://localhost:8080/"
        },
        "id": "Kt-8j4gwerHU",
        "outputId": "bf69bdca-3562-4d5b-9e53-22eab2617d27"
      },
      "execution_count": null,
      "outputs": [
        {
          "output_type": "stream",
          "name": "stdout",
          "text": [
            "Sentiment  Negatywne  Neutralne  Pozytywne\n",
            "Vader                                     \n",
            "Horror          1399        203       3185\n",
            "Segmented        385       2856       1546\n"
          ]
        }
      ]
    },
    {
      "cell_type": "code",
      "source": [
        "from scipy.stats import chi2_contingency\n",
        "\n",
        "chi2, p, dof, expected = chi2_contingency(contingency_table)\n",
        "\n",
        "print(f\"Statystyka chi-kwadrat: {chi2}\")\n",
        "print(f\"Wartość p: {p}\")\n",
        "print(f\"Liczba stopni swobody: {dof}\")"
      ],
      "metadata": {
        "id": "Xm-qCtXtxH8k",
        "outputId": "2e0cd1ce-21b5-4c98-8774-0151dfa76c79",
        "colab": {
          "base_uri": "https://localhost:8080/"
        }
      },
      "execution_count": null,
      "outputs": [
        {
          "output_type": "stream",
          "name": "stdout",
          "text": [
            "Statystyka chi-kwadrat: 3445.04114606212\n",
            "Wartość p: 0.0\n",
            "Liczba stopni swobody: 2\n"
          ]
        }
      ]
    },
    {
      "cell_type": "code",
      "source": [],
      "metadata": {
        "id": "KB4ziBZqxMhJ"
      },
      "execution_count": null,
      "outputs": []
    }
  ]
}